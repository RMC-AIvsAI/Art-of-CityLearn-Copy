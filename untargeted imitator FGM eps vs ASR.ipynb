{
 "cells": [
  {
   "cell_type": "markdown",
   "metadata": {},
   "source": [
    "# Copy instead of modifying to preserve attack parameters"
   ]
  },
  {
   "cell_type": "code",
   "execution_count": 1,
   "metadata": {},
   "outputs": [],
   "source": [
    "AGENT_NAME = '20 bin PPO 500 results\\default_PPO_citylearn_challenge_2022_phase_2_Building_6_20_bins_500.zip'\n",
    "DATASET_NAME = 'citylearn_challenge_2022_phase_2' #only action is electrical storage\n",
    "SURROGATE_PATH = '20 bin PPO 500 results\\surrogates\\imitator.pth'\n",
    "#RUNS = 5\n",
    "TRIAL = 'toggle bifurcated DL loss'\n",
    "SAVE_DIR = '20 bin PPO 500 results\\multi eps vs asr for imitator FGM' + '/'"
   ]
  },
  {
   "cell_type": "code",
   "execution_count": 2,
   "metadata": {},
   "outputs": [],
   "source": [
    "from stable_baselines3 import PPO\n",
    "\n",
    "from citylearn.data import DataSet\n",
    "\n",
    "from art.estimators.classification import PyTorchClassifier as classifier\n",
    "from art.attacks.evasion import FastGradientMethod as FGM\n",
    "\n",
    "import pandas as pd\n",
    "import numpy as np\n",
    "#import os\n",
    "import torch\n",
    "#from torch.nn import CrossEntropyLoss\n",
    "\n",
    "import KBMproject.utilities as utils\n",
    "\n",
    "from joblib import Parallel, delayed\n",
    "\n",
    "%matplotlib inline"
   ]
  },
  {
   "cell_type": "code",
   "execution_count": 3,
   "metadata": {},
   "outputs": [],
   "source": [
    "schema = DataSet.get_schema(DATASET_NAME)"
   ]
  },
  {
   "cell_type": "code",
   "execution_count": 4,
   "metadata": {},
   "outputs": [],
   "source": [
    "testilons = np.arange(0.02, 0.21, 0.01)\n",
    "RUNS = len(testilons)"
   ]
  },
  {
   "cell_type": "markdown",
   "metadata": {},
   "source": [
    "Define RL agent"
   ]
  },
  {
   "cell_type": "code",
   "execution_count": 5,
   "metadata": {},
   "outputs": [],
   "source": [
    "agents = []\n",
    "for _ in range (RUNS):\n",
    "    agents.append(PPO.load(AGENT_NAME))"
   ]
  },
  {
   "cell_type": "markdown",
   "metadata": {},
   "source": [
    "Create environments"
   ]
  },
  {
   "cell_type": "code",
   "execution_count": 6,
   "metadata": {},
   "outputs": [],
   "source": [
    "envs = []\n",
    "for _ in range (RUNS):\n",
    "    envs.append(utils.make_discrete_env(schema=schema,  \n",
    "                            action_bins=agents[0].action_space[0].n,\n",
    "                            seed=42))"
   ]
  },
  {
   "cell_type": "code",
   "execution_count": 7,
   "metadata": {},
   "outputs": [],
   "source": [
    "cols = utils.make_discrete_env(schema=schema,  \n",
    "                            action_bins=agents[0].action_space[0].n,\n",
    "                            seed=42).observation_names"
   ]
  },
  {
   "cell_type": "code",
   "execution_count": 8,
   "metadata": {},
   "outputs": [],
   "source": [
    "imitator = torch.load(SURROGATE_PATH)"
   ]
  },
  {
   "cell_type": "code",
   "execution_count": 9,
   "metadata": {},
   "outputs": [
    {
     "name": "stdout",
     "output_type": "stream",
     "text": [
      "masked features:\n"
     ]
    },
    {
     "data": {
      "text/plain": [
       "['month_cos',\n",
       " 'month_sin',\n",
       " 'day_type_cos',\n",
       " 'day_type_sin',\n",
       " 'hour_cos',\n",
       " 'hour_sin']"
      ]
     },
     "execution_count": 9,
     "metadata": {},
     "output_type": "execute_result"
    }
   ],
   "source": [
    "observation_masks = np.ones(agents[0].observation_space.shape)\n",
    "observation_masks[0:6] = 0 #mask time features\n",
    "print('masked features:')\n",
    "cols[0][0:6]"
   ]
  },
  {
   "cell_type": "code",
   "execution_count": 10,
   "metadata": {},
   "outputs": [],
   "source": [
    "kwargs = dict(norm=np.inf,\n",
    "              targeted=True, #for toggle targeted attack\n",
    "        #eps=0.05,\n",
    "        #num_random_init=2,\n",
    "        )\n",
    "attacks =[]\n",
    "for run in range(RUNS):\n",
    "    attacks.append(FGM(estimator=classifier(\n",
    "                                        model=utils.MaximumBifuricationWrapper(imitator), #add MaximumBifuricationWrapper?\n",
    "                                        loss=utils.CWLoss(),\n",
    "                                        #nb_classes=agents[run].action_space[0].n, \n",
    "                                        nb_classes=2,\n",
    "                                        input_shape=agents[run].observation_space.shape,\n",
    "                                        device_type='gpu',\n",
    "                                        clip_values = (agents[run].observation_space.low.min(),\n",
    "                                                       agents[run].observation_space.high.max()),\n",
    "                                        ),\n",
    "                        eps=testilons[run],\n",
    "                        **kwargs))"
   ]
  },
  {
   "cell_type": "code",
   "execution_count": 11,
   "metadata": {},
   "outputs": [
    {
     "name": "stdout",
     "output_type": "stream",
     "text": [
      "CPU times: total: 5min 35s\n",
      "Wall time: 17min 25s\n"
     ]
    }
   ],
   "source": [
    "%%time\n",
    "%%capture\n",
    "results = Parallel(n_jobs=RUNS, verbose=10, prefer='threads')(delayed(\n",
    "    utils.eval_toggle_targeted_attack)(agent, env, attack) for agent, env, attack in zip(agents, envs, attacks)) \n"
   ]
  },
  {
   "cell_type": "markdown",
   "metadata": {},
   "source": [
    "Results is a list of tupples for each run, of the format(KPIs, observations, perturbed observations, epsilons)"
   ]
  },
  {
   "cell_type": "code",
   "execution_count": 12,
   "metadata": {},
   "outputs": [],
   "source": [
    "kpis = [results[i][0] for i in range(len(results))]\n",
    "df_kpis = pd.concat(kpis, axis='columns',keys=testilons)"
   ]
  },
  {
   "cell_type": "code",
   "execution_count": 13,
   "metadata": {},
   "outputs": [],
   "source": [
    "#df_kpis[['mean', 'std', 'variance']] = df_kpis.agg(['mean','std', 'var'], axis='columns')"
   ]
  },
  {
   "cell_type": "code",
   "execution_count": 14,
   "metadata": {},
   "outputs": [
    {
     "data": {
      "text/html": [
       "<div>\n",
       "<style scoped>\n",
       "    .dataframe tbody tr th:only-of-type {\n",
       "        vertical-align: middle;\n",
       "    }\n",
       "\n",
       "    .dataframe tbody tr th {\n",
       "        vertical-align: top;\n",
       "    }\n",
       "\n",
       "    .dataframe thead th {\n",
       "        text-align: right;\n",
       "    }\n",
       "</style>\n",
       "<table border=\"1\" class=\"dataframe\">\n",
       "  <thead>\n",
       "    <tr style=\"text-align: right;\">\n",
       "      <th></th>\n",
       "      <th>0.02</th>\n",
       "      <th>0.03</th>\n",
       "      <th>0.04</th>\n",
       "      <th>0.05</th>\n",
       "      <th>0.06</th>\n",
       "      <th>0.07</th>\n",
       "      <th>0.08</th>\n",
       "      <th>0.09</th>\n",
       "      <th>0.10</th>\n",
       "      <th>0.11</th>\n",
       "      <th>0.12</th>\n",
       "      <th>0.13</th>\n",
       "      <th>0.14</th>\n",
       "      <th>0.15</th>\n",
       "      <th>0.16</th>\n",
       "      <th>0.17</th>\n",
       "      <th>0.18</th>\n",
       "      <th>0.19</th>\n",
       "      <th>0.20</th>\n",
       "    </tr>\n",
       "    <tr>\n",
       "      <th>cost_function</th>\n",
       "      <th></th>\n",
       "      <th></th>\n",
       "      <th></th>\n",
       "      <th></th>\n",
       "      <th></th>\n",
       "      <th></th>\n",
       "      <th></th>\n",
       "      <th></th>\n",
       "      <th></th>\n",
       "      <th></th>\n",
       "      <th></th>\n",
       "      <th></th>\n",
       "      <th></th>\n",
       "      <th></th>\n",
       "      <th></th>\n",
       "      <th></th>\n",
       "      <th></th>\n",
       "      <th></th>\n",
       "      <th></th>\n",
       "    </tr>\n",
       "  </thead>\n",
       "  <tbody>\n",
       "    <tr>\n",
       "      <th>annual_peak_average</th>\n",
       "      <td>1.009338</td>\n",
       "      <td>1.009338</td>\n",
       "      <td>1.009338</td>\n",
       "      <td>1.037420</td>\n",
       "      <td>1.037393</td>\n",
       "      <td>1.037361</td>\n",
       "      <td>1.241576</td>\n",
       "      <td>1.342564</td>\n",
       "      <td>1.176343</td>\n",
       "      <td>1.176310</td>\n",
       "      <td>1.176254</td>\n",
       "      <td>1.158283</td>\n",
       "      <td>1.034155</td>\n",
       "      <td>1.158283</td>\n",
       "      <td>1.287562</td>\n",
       "      <td>1.287562</td>\n",
       "      <td>1.287562</td>\n",
       "      <td>1.287562</td>\n",
       "      <td>1.225536</td>\n",
       "    </tr>\n",
       "    <tr>\n",
       "      <th>carbon_emissions_total</th>\n",
       "      <td>0.876263</td>\n",
       "      <td>0.880781</td>\n",
       "      <td>0.884486</td>\n",
       "      <td>0.891711</td>\n",
       "      <td>0.900988</td>\n",
       "      <td>0.910214</td>\n",
       "      <td>0.920135</td>\n",
       "      <td>0.931527</td>\n",
       "      <td>0.938889</td>\n",
       "      <td>0.946875</td>\n",
       "      <td>0.961298</td>\n",
       "      <td>0.973406</td>\n",
       "      <td>0.981754</td>\n",
       "      <td>0.999288</td>\n",
       "      <td>1.011297</td>\n",
       "      <td>1.028492</td>\n",
       "      <td>1.042561</td>\n",
       "      <td>1.057012</td>\n",
       "      <td>1.068697</td>\n",
       "    </tr>\n",
       "    <tr>\n",
       "      <th>cost_total</th>\n",
       "      <td>0.794713</td>\n",
       "      <td>0.801355</td>\n",
       "      <td>0.806567</td>\n",
       "      <td>0.820862</td>\n",
       "      <td>0.832464</td>\n",
       "      <td>0.846085</td>\n",
       "      <td>0.860040</td>\n",
       "      <td>0.875884</td>\n",
       "      <td>0.886932</td>\n",
       "      <td>0.899968</td>\n",
       "      <td>0.917252</td>\n",
       "      <td>0.933194</td>\n",
       "      <td>0.944130</td>\n",
       "      <td>0.965590</td>\n",
       "      <td>0.982131</td>\n",
       "      <td>0.999073</td>\n",
       "      <td>1.013719</td>\n",
       "      <td>1.032331</td>\n",
       "      <td>1.047008</td>\n",
       "    </tr>\n",
       "    <tr>\n",
       "      <th>daily_one_minus_load_factor_average</th>\n",
       "      <td>1.075350</td>\n",
       "      <td>1.063876</td>\n",
       "      <td>1.071858</td>\n",
       "      <td>1.068670</td>\n",
       "      <td>1.032892</td>\n",
       "      <td>0.997187</td>\n",
       "      <td>0.987693</td>\n",
       "      <td>0.989346</td>\n",
       "      <td>0.983365</td>\n",
       "      <td>0.979007</td>\n",
       "      <td>0.976165</td>\n",
       "      <td>0.968801</td>\n",
       "      <td>0.971541</td>\n",
       "      <td>0.970573</td>\n",
       "      <td>0.973616</td>\n",
       "      <td>0.972197</td>\n",
       "      <td>0.971335</td>\n",
       "      <td>0.971097</td>\n",
       "      <td>0.971573</td>\n",
       "    </tr>\n",
       "    <tr>\n",
       "      <th>daily_peak_average</th>\n",
       "      <td>0.903369</td>\n",
       "      <td>0.915465</td>\n",
       "      <td>0.921102</td>\n",
       "      <td>0.950269</td>\n",
       "      <td>0.977014</td>\n",
       "      <td>1.013005</td>\n",
       "      <td>1.041031</td>\n",
       "      <td>1.085523</td>\n",
       "      <td>1.103913</td>\n",
       "      <td>1.133522</td>\n",
       "      <td>1.158801</td>\n",
       "      <td>1.186268</td>\n",
       "      <td>1.202036</td>\n",
       "      <td>1.241405</td>\n",
       "      <td>1.293272</td>\n",
       "      <td>1.317741</td>\n",
       "      <td>1.352546</td>\n",
       "      <td>1.366861</td>\n",
       "      <td>1.367306</td>\n",
       "    </tr>\n",
       "    <tr>\n",
       "      <th>electricity_consumption_total</th>\n",
       "      <td>0.886466</td>\n",
       "      <td>0.890253</td>\n",
       "      <td>0.893837</td>\n",
       "      <td>0.899920</td>\n",
       "      <td>0.907971</td>\n",
       "      <td>0.915762</td>\n",
       "      <td>0.924381</td>\n",
       "      <td>0.934064</td>\n",
       "      <td>0.940604</td>\n",
       "      <td>0.947598</td>\n",
       "      <td>0.959943</td>\n",
       "      <td>0.972190</td>\n",
       "      <td>0.980665</td>\n",
       "      <td>0.997824</td>\n",
       "      <td>1.009559</td>\n",
       "      <td>1.026790</td>\n",
       "      <td>1.039901</td>\n",
       "      <td>1.053526</td>\n",
       "      <td>1.064835</td>\n",
       "    </tr>\n",
       "    <tr>\n",
       "      <th>monthly_one_minus_load_factor_average</th>\n",
       "      <td>0.975979</td>\n",
       "      <td>0.975868</td>\n",
       "      <td>0.975680</td>\n",
       "      <td>0.987737</td>\n",
       "      <td>0.989718</td>\n",
       "      <td>0.992146</td>\n",
       "      <td>0.996427</td>\n",
       "      <td>0.999321</td>\n",
       "      <td>0.991126</td>\n",
       "      <td>0.994470</td>\n",
       "      <td>0.993610</td>\n",
       "      <td>0.998416</td>\n",
       "      <td>0.996453</td>\n",
       "      <td>0.998924</td>\n",
       "      <td>1.006946</td>\n",
       "      <td>1.006160</td>\n",
       "      <td>1.007985</td>\n",
       "      <td>1.007616</td>\n",
       "      <td>1.011074</td>\n",
       "    </tr>\n",
       "    <tr>\n",
       "      <th>ramping_average</th>\n",
       "      <td>1.141118</td>\n",
       "      <td>1.167647</td>\n",
       "      <td>1.202078</td>\n",
       "      <td>1.266443</td>\n",
       "      <td>1.320452</td>\n",
       "      <td>1.394736</td>\n",
       "      <td>1.466110</td>\n",
       "      <td>1.538377</td>\n",
       "      <td>1.601698</td>\n",
       "      <td>1.675659</td>\n",
       "      <td>1.770372</td>\n",
       "      <td>1.859683</td>\n",
       "      <td>1.920178</td>\n",
       "      <td>2.034144</td>\n",
       "      <td>2.131163</td>\n",
       "      <td>2.239348</td>\n",
       "      <td>2.315974</td>\n",
       "      <td>2.412207</td>\n",
       "      <td>2.472087</td>\n",
       "    </tr>\n",
       "    <tr>\n",
       "      <th>zero_net_energy</th>\n",
       "      <td>1.108449</td>\n",
       "      <td>1.109574</td>\n",
       "      <td>1.110783</td>\n",
       "      <td>1.113532</td>\n",
       "      <td>1.115522</td>\n",
       "      <td>1.117939</td>\n",
       "      <td>1.120688</td>\n",
       "      <td>1.124189</td>\n",
       "      <td>1.126234</td>\n",
       "      <td>1.128731</td>\n",
       "      <td>1.131841</td>\n",
       "      <td>1.134339</td>\n",
       "      <td>1.136648</td>\n",
       "      <td>1.139774</td>\n",
       "      <td>1.142837</td>\n",
       "      <td>1.145514</td>\n",
       "      <td>1.147729</td>\n",
       "      <td>1.151485</td>\n",
       "      <td>1.152944</td>\n",
       "    </tr>\n",
       "  </tbody>\n",
       "</table>\n",
       "</div>"
      ],
      "text/plain": [
       "                                           0.02      0.03      0.04      0.05  \\\n",
       "cost_function                                                                   \n",
       "annual_peak_average                    1.009338  1.009338  1.009338  1.037420   \n",
       "carbon_emissions_total                 0.876263  0.880781  0.884486  0.891711   \n",
       "cost_total                             0.794713  0.801355  0.806567  0.820862   \n",
       "daily_one_minus_load_factor_average    1.075350  1.063876  1.071858  1.068670   \n",
       "daily_peak_average                     0.903369  0.915465  0.921102  0.950269   \n",
       "electricity_consumption_total          0.886466  0.890253  0.893837  0.899920   \n",
       "monthly_one_minus_load_factor_average  0.975979  0.975868  0.975680  0.987737   \n",
       "ramping_average                        1.141118  1.167647  1.202078  1.266443   \n",
       "zero_net_energy                        1.108449  1.109574  1.110783  1.113532   \n",
       "\n",
       "                                           0.06      0.07      0.08      0.09  \\\n",
       "cost_function                                                                   \n",
       "annual_peak_average                    1.037393  1.037361  1.241576  1.342564   \n",
       "carbon_emissions_total                 0.900988  0.910214  0.920135  0.931527   \n",
       "cost_total                             0.832464  0.846085  0.860040  0.875884   \n",
       "daily_one_minus_load_factor_average    1.032892  0.997187  0.987693  0.989346   \n",
       "daily_peak_average                     0.977014  1.013005  1.041031  1.085523   \n",
       "electricity_consumption_total          0.907971  0.915762  0.924381  0.934064   \n",
       "monthly_one_minus_load_factor_average  0.989718  0.992146  0.996427  0.999321   \n",
       "ramping_average                        1.320452  1.394736  1.466110  1.538377   \n",
       "zero_net_energy                        1.115522  1.117939  1.120688  1.124189   \n",
       "\n",
       "                                           0.10      0.11      0.12      0.13  \\\n",
       "cost_function                                                                   \n",
       "annual_peak_average                    1.176343  1.176310  1.176254  1.158283   \n",
       "carbon_emissions_total                 0.938889  0.946875  0.961298  0.973406   \n",
       "cost_total                             0.886932  0.899968  0.917252  0.933194   \n",
       "daily_one_minus_load_factor_average    0.983365  0.979007  0.976165  0.968801   \n",
       "daily_peak_average                     1.103913  1.133522  1.158801  1.186268   \n",
       "electricity_consumption_total          0.940604  0.947598  0.959943  0.972190   \n",
       "monthly_one_minus_load_factor_average  0.991126  0.994470  0.993610  0.998416   \n",
       "ramping_average                        1.601698  1.675659  1.770372  1.859683   \n",
       "zero_net_energy                        1.126234  1.128731  1.131841  1.134339   \n",
       "\n",
       "                                           0.14      0.15      0.16      0.17  \\\n",
       "cost_function                                                                   \n",
       "annual_peak_average                    1.034155  1.158283  1.287562  1.287562   \n",
       "carbon_emissions_total                 0.981754  0.999288  1.011297  1.028492   \n",
       "cost_total                             0.944130  0.965590  0.982131  0.999073   \n",
       "daily_one_minus_load_factor_average    0.971541  0.970573  0.973616  0.972197   \n",
       "daily_peak_average                     1.202036  1.241405  1.293272  1.317741   \n",
       "electricity_consumption_total          0.980665  0.997824  1.009559  1.026790   \n",
       "monthly_one_minus_load_factor_average  0.996453  0.998924  1.006946  1.006160   \n",
       "ramping_average                        1.920178  2.034144  2.131163  2.239348   \n",
       "zero_net_energy                        1.136648  1.139774  1.142837  1.145514   \n",
       "\n",
       "                                           0.18      0.19      0.20  \n",
       "cost_function                                                        \n",
       "annual_peak_average                    1.287562  1.287562  1.225536  \n",
       "carbon_emissions_total                 1.042561  1.057012  1.068697  \n",
       "cost_total                             1.013719  1.032331  1.047008  \n",
       "daily_one_minus_load_factor_average    0.971335  0.971097  0.971573  \n",
       "daily_peak_average                     1.352546  1.366861  1.367306  \n",
       "electricity_consumption_total          1.039901  1.053526  1.064835  \n",
       "monthly_one_minus_load_factor_average  1.007985  1.007616  1.011074  \n",
       "ramping_average                        2.315974  2.412207  2.472087  \n",
       "zero_net_energy                        1.147729  1.151485  1.152944  "
      ]
     },
     "execution_count": 14,
     "metadata": {},
     "output_type": "execute_result"
    }
   ],
   "source": [
    "df_kpis"
   ]
  },
  {
   "cell_type": "code",
   "execution_count": 15,
   "metadata": {},
   "outputs": [],
   "source": [
    "df_kpis.to_csv(SAVE_DIR + f'{RUNS} run KPIs {TRIAL}.csv')"
   ]
  },
  {
   "cell_type": "markdown",
   "metadata": {},
   "source": [
    "FGSM using the same parameters in a whitebox attack has an ASR of 0.7.\n",
    "\n",
    "Increasing the number of restarts decreases the ASR, likely because of differences between the surrogate and vicitm models"
   ]
  },
  {
   "cell_type": "code",
   "execution_count": 16,
   "metadata": {},
   "outputs": [],
   "source": [
    "ASRs = [results[i][3] for i in range(len(results))]\n",
    "#print(f'For 5 runs of the random attack \\nthe mean ASR is: {np.mean(ASRs):.3f}\\nthe STD is: {np.std(ASRs):.3f}')"
   ]
  },
  {
   "cell_type": "code",
   "execution_count": 17,
   "metadata": {},
   "outputs": [
    {
     "data": {
      "text/plain": [
       "[0.17479164288160748,\n",
       " 0.24123758419910948,\n",
       " 0.292727480305971,\n",
       " 0.3395364767667542,\n",
       " 0.37812535677588766,\n",
       " 0.41020664459413175,\n",
       " 0.4401187350154127,\n",
       " 0.46603493549491953,\n",
       " 0.48669939490809455,\n",
       " 0.5067930129010161,\n",
       " 0.5309966891197625,\n",
       " 0.55040529740838,\n",
       " 0.5675305400159836,\n",
       " 0.5797465464094075,\n",
       " 0.5993834912661262,\n",
       " 0.617193743578034,\n",
       " 0.6305514328119648,\n",
       " 0.6429957757734901,\n",
       " 0.6549834455988126]"
      ]
     },
     "execution_count": 17,
     "metadata": {},
     "output_type": "execute_result"
    }
   ],
   "source": [
    "ASRs"
   ]
  },
  {
   "cell_type": "code",
   "execution_count": 18,
   "metadata": {},
   "outputs": [],
   "source": [
    "pd.DataFrame({'ASRs':ASRs}, index=testilons,).to_csv(SAVE_DIR + f'ASR for varied epsilons {TRIAL}.csv')"
   ]
  },
  {
   "cell_type": "code",
   "execution_count": 19,
   "metadata": {},
   "outputs": [],
   "source": [
    "for run in range(RUNS):\n",
    "        pd.DataFrame(results[run][1],columns=cols,).to_csv(SAVE_DIR+f'run {run} obs {TRIAL}.csv',)\n",
    "        pd.DataFrame(results[run][2],columns=cols,).to_csv(SAVE_DIR+f'run {run} adv obs {TRIAL}.csv')"
   ]
  }
 ],
 "metadata": {
  "kernelspec": {
   "display_name": "CityLearnART",
   "language": "python",
   "name": "python3"
  },
  "language_info": {
   "codemirror_mode": {
    "name": "ipython",
    "version": 3
   },
   "file_extension": ".py",
   "mimetype": "text/x-python",
   "name": "python",
   "nbconvert_exporter": "python",
   "pygments_lexer": "ipython3",
   "version": "3.10.12"
  }
 },
 "nbformat": 4,
 "nbformat_minor": 2
}
