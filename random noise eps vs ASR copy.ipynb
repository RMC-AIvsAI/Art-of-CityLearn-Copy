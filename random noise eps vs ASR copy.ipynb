{
 "cells": [
  {
   "cell_type": "markdown",
   "metadata": {},
   "source": [
    "# Copy instead of modifying to preserve attack parameters"
   ]
  },
  {
   "cell_type": "code",
   "execution_count": 17,
   "metadata": {},
   "outputs": [],
   "source": [
    "AGENT_NAME = '20 bin PPO 500 results\\default_PPO_citylearn_challenge_2022_phase_2_Building_6_20_bins_500.zip'\n",
    "DATASET_NAME = 'citylearn_challenge_2022_phase_2' #only action is electrical storage\n",
    "#RUNS = 5\n",
    "TRIAL = 1\n",
    "SAVE_DIR = r'20 bin PPO 500 results\\random noise eps vs ASR results' + '/'"
   ]
  },
  {
   "cell_type": "code",
   "execution_count": 2,
   "metadata": {},
   "outputs": [],
   "source": [
    "from stable_baselines3 import PPO\n",
    "\n",
    "from citylearn.data import DataSet\n",
    "\n",
    "import pandas as pd\n",
    "import numpy as np\n",
    "\n",
    "\n",
    "import KBMproject.utilities as utils\n",
    "\n",
    "from joblib import Parallel, delayed\n",
    "\n",
    "%matplotlib inline"
   ]
  },
  {
   "cell_type": "code",
   "execution_count": 3,
   "metadata": {},
   "outputs": [],
   "source": [
    "schema = DataSet.get_schema(DATASET_NAME)"
   ]
  },
  {
   "cell_type": "code",
   "execution_count": 4,
   "metadata": {},
   "outputs": [],
   "source": [
    "testilons = np.arange(0.02, 0.21, 0.01)\n",
    "RUNS = len(testilons)"
   ]
  },
  {
   "cell_type": "markdown",
   "metadata": {},
   "source": [
    "Define RL agent"
   ]
  },
  {
   "cell_type": "code",
   "execution_count": 5,
   "metadata": {},
   "outputs": [],
   "source": [
    "agents = []\n",
    "for _ in range (RUNS):\n",
    "    agents.append(PPO.load(AGENT_NAME))"
   ]
  },
  {
   "cell_type": "markdown",
   "metadata": {},
   "source": [
    "Create environments"
   ]
  },
  {
   "cell_type": "code",
   "execution_count": 6,
   "metadata": {},
   "outputs": [],
   "source": [
    "envs = []\n",
    "for _ in range (RUNS):\n",
    "    envs.append(utils.make_discrete_env(schema=schema,  \n",
    "                            action_bins=agents[0].action_space[0].n,\n",
    "                            seed=42))"
   ]
  },
  {
   "cell_type": "code",
   "execution_count": 7,
   "metadata": {},
   "outputs": [],
   "source": [
    "cols = utils.make_discrete_env(schema=schema,  \n",
    "                            action_bins=agents[0].action_space[0].n,\n",
    "                            seed=42).observation_names"
   ]
  },
  {
   "cell_type": "code",
   "execution_count": 8,
   "metadata": {},
   "outputs": [
    {
     "name": "stdout",
     "output_type": "stream",
     "text": [
      "masked features:\n"
     ]
    },
    {
     "data": {
      "text/plain": [
       "['month_cos',\n",
       " 'month_sin',\n",
       " 'day_type_cos',\n",
       " 'day_type_sin',\n",
       " 'hour_cos',\n",
       " 'hour_sin']"
      ]
     },
     "execution_count": 8,
     "metadata": {},
     "output_type": "execute_result"
    }
   ],
   "source": [
    "observation_masks = np.ones(agents[0].observation_space.shape)\n",
    "observation_masks[0:6] = 0 #mask time features\n",
    "print('masked features:')\n",
    "cols[0][0:6]"
   ]
  },
  {
   "cell_type": "code",
   "execution_count": 9,
   "metadata": {},
   "outputs": [
    {
     "name": "stdout",
     "output_type": "stream",
     "text": [
      "CPU times: total: 23min 8s\n",
      "Wall time: 13min 24s\n"
     ]
    }
   ],
   "source": [
    "%%time\n",
    "%%capture\n",
    "results = Parallel(n_jobs=RUNS, verbose=10, prefer='threads')(delayed(\n",
    "    utils.eval_rand_attack)(agent, env, eps) for agent, env, eps in zip(agents, envs, testilons)) \n"
   ]
  },
  {
   "cell_type": "markdown",
   "metadata": {},
   "source": [
    "Results is a list of tupples for each run, of the format(KPIs, observations, perturbed observations, epsilons)"
   ]
  },
  {
   "cell_type": "code",
   "execution_count": 10,
   "metadata": {},
   "outputs": [],
   "source": [
    "kpis = [results[i][0] for i in range(len(results))]\n",
    "df_kpis = pd.concat(kpis, axis='columns',keys=testilons)"
   ]
  },
  {
   "cell_type": "code",
   "execution_count": 11,
   "metadata": {},
   "outputs": [],
   "source": [
    "#df_kpis[['mean', 'std', 'variance']] = df_kpis.agg(['mean','std', 'var'], axis='columns')"
   ]
  },
  {
   "cell_type": "code",
   "execution_count": 12,
   "metadata": {},
   "outputs": [
    {
     "data": {
      "text/html": [
       "<div>\n",
       "<style scoped>\n",
       "    .dataframe tbody tr th:only-of-type {\n",
       "        vertical-align: middle;\n",
       "    }\n",
       "\n",
       "    .dataframe tbody tr th {\n",
       "        vertical-align: top;\n",
       "    }\n",
       "\n",
       "    .dataframe thead th {\n",
       "        text-align: right;\n",
       "    }\n",
       "</style>\n",
       "<table border=\"1\" class=\"dataframe\">\n",
       "  <thead>\n",
       "    <tr style=\"text-align: right;\">\n",
       "      <th></th>\n",
       "      <th>0.02</th>\n",
       "      <th>0.03</th>\n",
       "      <th>0.04</th>\n",
       "      <th>0.05</th>\n",
       "      <th>0.06</th>\n",
       "      <th>0.07</th>\n",
       "      <th>0.08</th>\n",
       "      <th>0.09</th>\n",
       "      <th>0.10</th>\n",
       "      <th>0.11</th>\n",
       "      <th>0.12</th>\n",
       "      <th>0.13</th>\n",
       "      <th>0.14</th>\n",
       "      <th>0.15</th>\n",
       "      <th>0.16</th>\n",
       "      <th>0.17</th>\n",
       "      <th>0.18</th>\n",
       "      <th>0.19</th>\n",
       "      <th>0.20</th>\n",
       "    </tr>\n",
       "    <tr>\n",
       "      <th>cost_function</th>\n",
       "      <th></th>\n",
       "      <th></th>\n",
       "      <th></th>\n",
       "      <th></th>\n",
       "      <th></th>\n",
       "      <th></th>\n",
       "      <th></th>\n",
       "      <th></th>\n",
       "      <th></th>\n",
       "      <th></th>\n",
       "      <th></th>\n",
       "      <th></th>\n",
       "      <th></th>\n",
       "      <th></th>\n",
       "      <th></th>\n",
       "      <th></th>\n",
       "      <th></th>\n",
       "      <th></th>\n",
       "      <th></th>\n",
       "    </tr>\n",
       "  </thead>\n",
       "  <tbody>\n",
       "    <tr>\n",
       "      <th>annual_peak_average</th>\n",
       "      <td>1.009338</td>\n",
       "      <td>1.100310</td>\n",
       "      <td>1.022187</td>\n",
       "      <td>1.009338</td>\n",
       "      <td>1.009338</td>\n",
       "      <td>1.009338</td>\n",
       "      <td>1.258521</td>\n",
       "      <td>1.258520</td>\n",
       "      <td>1.258523</td>\n",
       "      <td>1.102279</td>\n",
       "      <td>1.258526</td>\n",
       "      <td>1.063141</td>\n",
       "      <td>1.009338</td>\n",
       "      <td>1.044878</td>\n",
       "      <td>1.034155</td>\n",
       "      <td>1.063142</td>\n",
       "      <td>1.027269</td>\n",
       "      <td>1.258519</td>\n",
       "      <td>1.009338</td>\n",
       "    </tr>\n",
       "    <tr>\n",
       "      <th>carbon_emissions_total</th>\n",
       "      <td>0.869291</td>\n",
       "      <td>0.869456</td>\n",
       "      <td>0.869764</td>\n",
       "      <td>0.871023</td>\n",
       "      <td>0.872081</td>\n",
       "      <td>0.873338</td>\n",
       "      <td>0.871641</td>\n",
       "      <td>0.873836</td>\n",
       "      <td>0.873605</td>\n",
       "      <td>0.872991</td>\n",
       "      <td>0.874863</td>\n",
       "      <td>0.875812</td>\n",
       "      <td>0.875577</td>\n",
       "      <td>0.876364</td>\n",
       "      <td>0.878422</td>\n",
       "      <td>0.879065</td>\n",
       "      <td>0.878182</td>\n",
       "      <td>0.880392</td>\n",
       "      <td>0.880601</td>\n",
       "    </tr>\n",
       "    <tr>\n",
       "      <th>cost_total</th>\n",
       "      <td>0.786721</td>\n",
       "      <td>0.786682</td>\n",
       "      <td>0.786108</td>\n",
       "      <td>0.788184</td>\n",
       "      <td>0.788692</td>\n",
       "      <td>0.788831</td>\n",
       "      <td>0.786811</td>\n",
       "      <td>0.789103</td>\n",
       "      <td>0.789127</td>\n",
       "      <td>0.788254</td>\n",
       "      <td>0.789706</td>\n",
       "      <td>0.790473</td>\n",
       "      <td>0.790993</td>\n",
       "      <td>0.792339</td>\n",
       "      <td>0.791756</td>\n",
       "      <td>0.793283</td>\n",
       "      <td>0.793391</td>\n",
       "      <td>0.794458</td>\n",
       "      <td>0.794217</td>\n",
       "    </tr>\n",
       "    <tr>\n",
       "      <th>daily_one_minus_load_factor_average</th>\n",
       "      <td>1.088789</td>\n",
       "      <td>1.092079</td>\n",
       "      <td>1.094508</td>\n",
       "      <td>1.115129</td>\n",
       "      <td>1.086207</td>\n",
       "      <td>1.085199</td>\n",
       "      <td>1.079234</td>\n",
       "      <td>1.084362</td>\n",
       "      <td>1.067334</td>\n",
       "      <td>1.100333</td>\n",
       "      <td>1.122169</td>\n",
       "      <td>1.088168</td>\n",
       "      <td>1.103053</td>\n",
       "      <td>1.089385</td>\n",
       "      <td>1.064829</td>\n",
       "      <td>1.076129</td>\n",
       "      <td>1.192223</td>\n",
       "      <td>1.074436</td>\n",
       "      <td>1.105581</td>\n",
       "    </tr>\n",
       "    <tr>\n",
       "      <th>daily_peak_average</th>\n",
       "      <td>0.891380</td>\n",
       "      <td>0.892572</td>\n",
       "      <td>0.890590</td>\n",
       "      <td>0.898505</td>\n",
       "      <td>0.899425</td>\n",
       "      <td>0.901592</td>\n",
       "      <td>0.898813</td>\n",
       "      <td>0.903778</td>\n",
       "      <td>0.902117</td>\n",
       "      <td>0.908287</td>\n",
       "      <td>0.912164</td>\n",
       "      <td>0.907634</td>\n",
       "      <td>0.905140</td>\n",
       "      <td>0.919626</td>\n",
       "      <td>0.903852</td>\n",
       "      <td>0.915595</td>\n",
       "      <td>0.923988</td>\n",
       "      <td>0.927165</td>\n",
       "      <td>0.923519</td>\n",
       "    </tr>\n",
       "    <tr>\n",
       "      <th>electricity_consumption_total</th>\n",
       "      <td>0.879570</td>\n",
       "      <td>0.879497</td>\n",
       "      <td>0.880311</td>\n",
       "      <td>0.881323</td>\n",
       "      <td>0.882245</td>\n",
       "      <td>0.883534</td>\n",
       "      <td>0.882493</td>\n",
       "      <td>0.883975</td>\n",
       "      <td>0.884529</td>\n",
       "      <td>0.884212</td>\n",
       "      <td>0.886087</td>\n",
       "      <td>0.887224</td>\n",
       "      <td>0.886768</td>\n",
       "      <td>0.887289</td>\n",
       "      <td>0.889908</td>\n",
       "      <td>0.890430</td>\n",
       "      <td>0.890084</td>\n",
       "      <td>0.892706</td>\n",
       "      <td>0.892528</td>\n",
       "    </tr>\n",
       "    <tr>\n",
       "      <th>monthly_one_minus_load_factor_average</th>\n",
       "      <td>0.981439</td>\n",
       "      <td>0.986953</td>\n",
       "      <td>0.985185</td>\n",
       "      <td>0.977918</td>\n",
       "      <td>0.982898</td>\n",
       "      <td>0.971843</td>\n",
       "      <td>0.986605</td>\n",
       "      <td>0.986324</td>\n",
       "      <td>0.990302</td>\n",
       "      <td>0.990457</td>\n",
       "      <td>0.994079</td>\n",
       "      <td>0.974196</td>\n",
       "      <td>0.979635</td>\n",
       "      <td>0.984337</td>\n",
       "      <td>0.983827</td>\n",
       "      <td>0.987470</td>\n",
       "      <td>0.979061</td>\n",
       "      <td>0.994840</td>\n",
       "      <td>0.983533</td>\n",
       "    </tr>\n",
       "    <tr>\n",
       "      <th>ramping_average</th>\n",
       "      <td>1.099021</td>\n",
       "      <td>1.099375</td>\n",
       "      <td>1.101486</td>\n",
       "      <td>1.106716</td>\n",
       "      <td>1.106670</td>\n",
       "      <td>1.112332</td>\n",
       "      <td>1.110655</td>\n",
       "      <td>1.112969</td>\n",
       "      <td>1.118226</td>\n",
       "      <td>1.118907</td>\n",
       "      <td>1.121835</td>\n",
       "      <td>1.126019</td>\n",
       "      <td>1.127060</td>\n",
       "      <td>1.131485</td>\n",
       "      <td>1.128311</td>\n",
       "      <td>1.150000</td>\n",
       "      <td>1.145033</td>\n",
       "      <td>1.157108</td>\n",
       "      <td>1.144700</td>\n",
       "    </tr>\n",
       "    <tr>\n",
       "      <th>zero_net_energy</th>\n",
       "      <td>1.107648</td>\n",
       "      <td>1.107684</td>\n",
       "      <td>1.107821</td>\n",
       "      <td>1.107800</td>\n",
       "      <td>1.107947</td>\n",
       "      <td>1.108162</td>\n",
       "      <td>1.108216</td>\n",
       "      <td>1.108169</td>\n",
       "      <td>1.108417</td>\n",
       "      <td>1.108269</td>\n",
       "      <td>1.108140</td>\n",
       "      <td>1.108020</td>\n",
       "      <td>1.108154</td>\n",
       "      <td>1.107868</td>\n",
       "      <td>1.107489</td>\n",
       "      <td>1.107702</td>\n",
       "      <td>1.107686</td>\n",
       "      <td>1.108318</td>\n",
       "      <td>1.108701</td>\n",
       "    </tr>\n",
       "  </tbody>\n",
       "</table>\n",
       "</div>"
      ],
      "text/plain": [
       "                                           0.02      0.03      0.04      0.05  \\\n",
       "cost_function                                                                   \n",
       "annual_peak_average                    1.009338  1.100310  1.022187  1.009338   \n",
       "carbon_emissions_total                 0.869291  0.869456  0.869764  0.871023   \n",
       "cost_total                             0.786721  0.786682  0.786108  0.788184   \n",
       "daily_one_minus_load_factor_average    1.088789  1.092079  1.094508  1.115129   \n",
       "daily_peak_average                     0.891380  0.892572  0.890590  0.898505   \n",
       "electricity_consumption_total          0.879570  0.879497  0.880311  0.881323   \n",
       "monthly_one_minus_load_factor_average  0.981439  0.986953  0.985185  0.977918   \n",
       "ramping_average                        1.099021  1.099375  1.101486  1.106716   \n",
       "zero_net_energy                        1.107648  1.107684  1.107821  1.107800   \n",
       "\n",
       "                                           0.06      0.07      0.08      0.09  \\\n",
       "cost_function                                                                   \n",
       "annual_peak_average                    1.009338  1.009338  1.258521  1.258520   \n",
       "carbon_emissions_total                 0.872081  0.873338  0.871641  0.873836   \n",
       "cost_total                             0.788692  0.788831  0.786811  0.789103   \n",
       "daily_one_minus_load_factor_average    1.086207  1.085199  1.079234  1.084362   \n",
       "daily_peak_average                     0.899425  0.901592  0.898813  0.903778   \n",
       "electricity_consumption_total          0.882245  0.883534  0.882493  0.883975   \n",
       "monthly_one_minus_load_factor_average  0.982898  0.971843  0.986605  0.986324   \n",
       "ramping_average                        1.106670  1.112332  1.110655  1.112969   \n",
       "zero_net_energy                        1.107947  1.108162  1.108216  1.108169   \n",
       "\n",
       "                                           0.10      0.11      0.12      0.13  \\\n",
       "cost_function                                                                   \n",
       "annual_peak_average                    1.258523  1.102279  1.258526  1.063141   \n",
       "carbon_emissions_total                 0.873605  0.872991  0.874863  0.875812   \n",
       "cost_total                             0.789127  0.788254  0.789706  0.790473   \n",
       "daily_one_minus_load_factor_average    1.067334  1.100333  1.122169  1.088168   \n",
       "daily_peak_average                     0.902117  0.908287  0.912164  0.907634   \n",
       "electricity_consumption_total          0.884529  0.884212  0.886087  0.887224   \n",
       "monthly_one_minus_load_factor_average  0.990302  0.990457  0.994079  0.974196   \n",
       "ramping_average                        1.118226  1.118907  1.121835  1.126019   \n",
       "zero_net_energy                        1.108417  1.108269  1.108140  1.108020   \n",
       "\n",
       "                                           0.14      0.15      0.16      0.17  \\\n",
       "cost_function                                                                   \n",
       "annual_peak_average                    1.009338  1.044878  1.034155  1.063142   \n",
       "carbon_emissions_total                 0.875577  0.876364  0.878422  0.879065   \n",
       "cost_total                             0.790993  0.792339  0.791756  0.793283   \n",
       "daily_one_minus_load_factor_average    1.103053  1.089385  1.064829  1.076129   \n",
       "daily_peak_average                     0.905140  0.919626  0.903852  0.915595   \n",
       "electricity_consumption_total          0.886768  0.887289  0.889908  0.890430   \n",
       "monthly_one_minus_load_factor_average  0.979635  0.984337  0.983827  0.987470   \n",
       "ramping_average                        1.127060  1.131485  1.128311  1.150000   \n",
       "zero_net_energy                        1.108154  1.107868  1.107489  1.107702   \n",
       "\n",
       "                                           0.18      0.19      0.20  \n",
       "cost_function                                                        \n",
       "annual_peak_average                    1.027269  1.258519  1.009338  \n",
       "carbon_emissions_total                 0.878182  0.880392  0.880601  \n",
       "cost_total                             0.793391  0.794458  0.794217  \n",
       "daily_one_minus_load_factor_average    1.192223  1.074436  1.105581  \n",
       "daily_peak_average                     0.923988  0.927165  0.923519  \n",
       "electricity_consumption_total          0.890084  0.892706  0.892528  \n",
       "monthly_one_minus_load_factor_average  0.979061  0.994840  0.983533  \n",
       "ramping_average                        1.145033  1.157108  1.144700  \n",
       "zero_net_energy                        1.107686  1.108318  1.108701  "
      ]
     },
     "execution_count": 12,
     "metadata": {},
     "output_type": "execute_result"
    }
   ],
   "source": [
    "df_kpis"
   ]
  },
  {
   "cell_type": "code",
   "execution_count": 18,
   "metadata": {},
   "outputs": [],
   "source": [
    "df_kpis.to_csv(SAVE_DIR + f'{RUNS} run KPIs {TRIAL}.csv')"
   ]
  },
  {
   "cell_type": "markdown",
   "metadata": {},
   "source": [
    "FGSM using the same parameters in a whitebox attack has an ASR of 0.7.\n",
    "\n",
    "Increasing the number of restarts decreases the ASR, likely because of differences between the surrogate and vicitm models"
   ]
  },
  {
   "cell_type": "code",
   "execution_count": 19,
   "metadata": {},
   "outputs": [],
   "source": [
    "ASRs = [results[i][3] for i in range(len(results))]\n",
    "#print(f'For 5 runs of the random attack \\nthe mean ASR is: {np.mean(ASRs):.3f}\\nthe STD is: {np.std(ASRs):.3f}')"
   ]
  },
  {
   "cell_type": "code",
   "execution_count": 20,
   "metadata": {},
   "outputs": [
    {
     "data": {
      "text/plain": [
       "[0.053767123287671234,\n",
       " 0.08184931506849315,\n",
       " 0.10308219178082192,\n",
       " 0.12488584474885844,\n",
       " 0.1517123287671233,\n",
       " 0.17294520547945205,\n",
       " 0.19429223744292237,\n",
       " 0.21244292237442922,\n",
       " 0.2408675799086758,\n",
       " 0.2536529680365297,\n",
       " 0.2737442922374429,\n",
       " 0.2863013698630137,\n",
       " 0.30468036529680365,\n",
       " 0.32054794520547947,\n",
       " 0.33550228310502284,\n",
       " 0.3487442922374429,\n",
       " 0.35924657534246573,\n",
       " 0.3817351598173516,\n",
       " 0.3863013698630137]"
      ]
     },
     "execution_count": 20,
     "metadata": {},
     "output_type": "execute_result"
    }
   ],
   "source": [
    "ASRs"
   ]
  },
  {
   "cell_type": "code",
   "execution_count": 21,
   "metadata": {},
   "outputs": [],
   "source": [
    "pd.DataFrame({'ASRs':ASRs}, index=testilons,).to_csv(SAVE_DIR + f'ASR for varied epsilons {TRIAL}.csv')"
   ]
  },
  {
   "cell_type": "code",
   "execution_count": 22,
   "metadata": {},
   "outputs": [
    {
     "ename": "ValueError",
     "evalue": "Shape of passed values is (8759, 1), indices imply (8759, 31)",
     "output_type": "error",
     "traceback": [
      "\u001b[1;31m---------------------------------------------------------------------------\u001b[0m",
      "\u001b[1;31mValueError\u001b[0m                                Traceback (most recent call last)",
      "Cell \u001b[1;32mIn[22], line 3\u001b[0m\n\u001b[0;32m      1\u001b[0m \u001b[38;5;28;01mfor\u001b[39;00m run \u001b[38;5;129;01min\u001b[39;00m \u001b[38;5;28mrange\u001b[39m(RUNS):\n\u001b[0;32m      2\u001b[0m         pd\u001b[38;5;241m.\u001b[39mDataFrame(results[run][\u001b[38;5;241m1\u001b[39m],columns\u001b[38;5;241m=\u001b[39mcols,)\u001b[38;5;241m.\u001b[39mto_csv(SAVE_DIR\u001b[38;5;241m+\u001b[39m\u001b[38;5;124mf\u001b[39m\u001b[38;5;124m'\u001b[39m\u001b[38;5;124mrun \u001b[39m\u001b[38;5;132;01m{\u001b[39;00mrun\u001b[38;5;132;01m}\u001b[39;00m\u001b[38;5;124m obs \u001b[39m\u001b[38;5;132;01m{\u001b[39;00mTRIAL\u001b[38;5;132;01m}\u001b[39;00m\u001b[38;5;124m.csv\u001b[39m\u001b[38;5;124m'\u001b[39m,)\n\u001b[1;32m----> 3\u001b[0m         \u001b[43mpd\u001b[49m\u001b[38;5;241;43m.\u001b[39;49m\u001b[43mDataFrame\u001b[49m\u001b[43m(\u001b[49m\u001b[43mresults\u001b[49m\u001b[43m[\u001b[49m\u001b[43mrun\u001b[49m\u001b[43m]\u001b[49m\u001b[43m[\u001b[49m\u001b[38;5;241;43m2\u001b[39;49m\u001b[43m]\u001b[49m\u001b[43m,\u001b[49m\u001b[43mcolumns\u001b[49m\u001b[38;5;241;43m=\u001b[39;49m\u001b[43mcols\u001b[49m\u001b[43m,\u001b[49m\u001b[43m)\u001b[49m\u001b[38;5;241m.\u001b[39mto_csv(SAVE_DIR\u001b[38;5;241m+\u001b[39m\u001b[38;5;124mf\u001b[39m\u001b[38;5;124m'\u001b[39m\u001b[38;5;124mrun \u001b[39m\u001b[38;5;132;01m{\u001b[39;00mrun\u001b[38;5;132;01m}\u001b[39;00m\u001b[38;5;124m adv obs \u001b[39m\u001b[38;5;132;01m{\u001b[39;00mTRIAL\u001b[38;5;132;01m}\u001b[39;00m\u001b[38;5;124m.csv\u001b[39m\u001b[38;5;124m'\u001b[39m)\n",
      "File \u001b[1;32mc:\\Users\\Broda-Milian\\anaconda3\\envs\\CityLearnART\\lib\\site-packages\\pandas\\core\\frame.py:672\u001b[0m, in \u001b[0;36mDataFrame.__init__\u001b[1;34m(self, data, index, columns, dtype, copy)\u001b[0m\n\u001b[0;32m    662\u001b[0m         mgr \u001b[38;5;241m=\u001b[39m dict_to_mgr(\n\u001b[0;32m    663\u001b[0m             \u001b[38;5;66;03m# error: Item \"ndarray\" of \"Union[ndarray, Series, Index]\" has no\u001b[39;00m\n\u001b[0;32m    664\u001b[0m             \u001b[38;5;66;03m# attribute \"name\"\u001b[39;00m\n\u001b[1;32m   (...)\u001b[0m\n\u001b[0;32m    669\u001b[0m             typ\u001b[38;5;241m=\u001b[39mmanager,\n\u001b[0;32m    670\u001b[0m         )\n\u001b[0;32m    671\u001b[0m     \u001b[38;5;28;01melse\u001b[39;00m:\n\u001b[1;32m--> 672\u001b[0m         mgr \u001b[38;5;241m=\u001b[39m \u001b[43mndarray_to_mgr\u001b[49m\u001b[43m(\u001b[49m\n\u001b[0;32m    673\u001b[0m \u001b[43m            \u001b[49m\u001b[43mdata\u001b[49m\u001b[43m,\u001b[49m\n\u001b[0;32m    674\u001b[0m \u001b[43m            \u001b[49m\u001b[43mindex\u001b[49m\u001b[43m,\u001b[49m\n\u001b[0;32m    675\u001b[0m \u001b[43m            \u001b[49m\u001b[43mcolumns\u001b[49m\u001b[43m,\u001b[49m\n\u001b[0;32m    676\u001b[0m \u001b[43m            \u001b[49m\u001b[43mdtype\u001b[49m\u001b[38;5;241;43m=\u001b[39;49m\u001b[43mdtype\u001b[49m\u001b[43m,\u001b[49m\n\u001b[0;32m    677\u001b[0m \u001b[43m            \u001b[49m\u001b[43mcopy\u001b[49m\u001b[38;5;241;43m=\u001b[39;49m\u001b[43mcopy\u001b[49m\u001b[43m,\u001b[49m\n\u001b[0;32m    678\u001b[0m \u001b[43m            \u001b[49m\u001b[43mtyp\u001b[49m\u001b[38;5;241;43m=\u001b[39;49m\u001b[43mmanager\u001b[49m\u001b[43m,\u001b[49m\n\u001b[0;32m    679\u001b[0m \u001b[43m        \u001b[49m\u001b[43m)\u001b[49m\n\u001b[0;32m    681\u001b[0m \u001b[38;5;66;03m# For data is list-like, or Iterable (will consume into list)\u001b[39;00m\n\u001b[0;32m    682\u001b[0m \u001b[38;5;28;01melif\u001b[39;00m is_list_like(data):\n",
      "File \u001b[1;32mc:\\Users\\Broda-Milian\\anaconda3\\envs\\CityLearnART\\lib\\site-packages\\pandas\\core\\internals\\construction.py:324\u001b[0m, in \u001b[0;36mndarray_to_mgr\u001b[1;34m(values, index, columns, dtype, copy, typ)\u001b[0m\n\u001b[0;32m    319\u001b[0m \u001b[38;5;66;03m# _prep_ndarray ensures that values.ndim == 2 at this point\u001b[39;00m\n\u001b[0;32m    320\u001b[0m index, columns \u001b[38;5;241m=\u001b[39m _get_axes(\n\u001b[0;32m    321\u001b[0m     values\u001b[38;5;241m.\u001b[39mshape[\u001b[38;5;241m0\u001b[39m], values\u001b[38;5;241m.\u001b[39mshape[\u001b[38;5;241m1\u001b[39m], index\u001b[38;5;241m=\u001b[39mindex, columns\u001b[38;5;241m=\u001b[39mcolumns\n\u001b[0;32m    322\u001b[0m )\n\u001b[1;32m--> 324\u001b[0m \u001b[43m_check_values_indices_shape_match\u001b[49m\u001b[43m(\u001b[49m\u001b[43mvalues\u001b[49m\u001b[43m,\u001b[49m\u001b[43m \u001b[49m\u001b[43mindex\u001b[49m\u001b[43m,\u001b[49m\u001b[43m \u001b[49m\u001b[43mcolumns\u001b[49m\u001b[43m)\u001b[49m\n\u001b[0;32m    326\u001b[0m \u001b[38;5;28;01mif\u001b[39;00m typ \u001b[38;5;241m==\u001b[39m \u001b[38;5;124m\"\u001b[39m\u001b[38;5;124marray\u001b[39m\u001b[38;5;124m\"\u001b[39m:\n\u001b[0;32m    328\u001b[0m     \u001b[38;5;28;01mif\u001b[39;00m \u001b[38;5;28missubclass\u001b[39m(values\u001b[38;5;241m.\u001b[39mdtype\u001b[38;5;241m.\u001b[39mtype, \u001b[38;5;28mstr\u001b[39m):\n",
      "File \u001b[1;32mc:\\Users\\Broda-Milian\\anaconda3\\envs\\CityLearnART\\lib\\site-packages\\pandas\\core\\internals\\construction.py:393\u001b[0m, in \u001b[0;36m_check_values_indices_shape_match\u001b[1;34m(values, index, columns)\u001b[0m\n\u001b[0;32m    391\u001b[0m passed \u001b[38;5;241m=\u001b[39m values\u001b[38;5;241m.\u001b[39mshape\n\u001b[0;32m    392\u001b[0m implied \u001b[38;5;241m=\u001b[39m (\u001b[38;5;28mlen\u001b[39m(index), \u001b[38;5;28mlen\u001b[39m(columns))\n\u001b[1;32m--> 393\u001b[0m \u001b[38;5;28;01mraise\u001b[39;00m \u001b[38;5;167;01mValueError\u001b[39;00m(\u001b[38;5;124mf\u001b[39m\u001b[38;5;124m\"\u001b[39m\u001b[38;5;124mShape of passed values is \u001b[39m\u001b[38;5;132;01m{\u001b[39;00mpassed\u001b[38;5;132;01m}\u001b[39;00m\u001b[38;5;124m, indices imply \u001b[39m\u001b[38;5;132;01m{\u001b[39;00mimplied\u001b[38;5;132;01m}\u001b[39;00m\u001b[38;5;124m\"\u001b[39m)\n",
      "\u001b[1;31mValueError\u001b[0m: Shape of passed values is (8759, 1), indices imply (8759, 31)"
     ]
    }
   ],
   "source": [
    "for run in range(RUNS):\n",
    "        pd.DataFrame(results[run][1],columns=cols,).to_csv(SAVE_DIR+f'run {run} obs {TRIAL}.csv',)\n",
    "        pd.DataFrame(results[run][2],columns=cols,).to_csv(SAVE_DIR+f'run {run} adv obs {TRIAL}.csv')"
   ]
  }
 ],
 "metadata": {
  "kernelspec": {
   "display_name": "CityLearnART",
   "language": "python",
   "name": "python3"
  },
  "language_info": {
   "codemirror_mode": {
    "name": "ipython",
    "version": 3
   },
   "file_extension": ".py",
   "mimetype": "text/x-python",
   "name": "python",
   "nbconvert_exporter": "python",
   "pygments_lexer": "ipython3",
   "version": "3.10.12"
  }
 },
 "nbformat": 4,
 "nbformat_minor": 2
}
