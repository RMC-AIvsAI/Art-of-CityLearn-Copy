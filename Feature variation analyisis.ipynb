{
 "cells": [
  {
   "cell_type": "code",
   "execution_count": 1,
   "metadata": {},
   "outputs": [],
   "source": [
    "import pandas as pd"
   ]
  },
  {
   "cell_type": "markdown",
   "metadata": {},
   "source": [
    "##### General notes:\n",
    "- Solar generation is not normalized, with a max clean value of 0.04, so eps should be 0.0001 or something super small\n",
    "- I suspect there's a similar issue with net comsumption, since it seems to be the sum of solar generation and non shitable load (and the battery). from the analysis stuck on my rmc machine...\n",
    "- net_electricity_consumption 0.016, so eps should be ~0.03 of this.\n",
    "- Price is time based (difference if often 0), so perturbations are obvious, this is not the case for realtime pricing\n",
    "- Larger changes to SoC can result from attack actions"
   ]
  },
  {
   "cell_type": "markdown",
   "metadata": {},
   "source": [
    "##### Load data"
   ]
  },
  {
   "cell_type": "code",
   "execution_count": 2,
   "metadata": {},
   "outputs": [],
   "source": [
    "df_variation = pd.DataFrame({})\n",
    "df_variation['PPO_baseline'] = pd.read_csv('20 bin PPO 500 results/baseline_obs.csv',\n",
    "                                            index_col=0,\n",
    "                                            ).diff().mean()\n",
    "df_variation['dynamic_uACG'] = pd.read_csv(r'20 bin PPO 500 results\\adv_perturbed_obs.csv',\n",
    "                                            index_col=0,\n",
    "                                            ).diff().mean()\n",
    "df_variation['PPO_bifurcated_myPGD_05'] = pd.read_csv(r'20 bin PPO 500 results\\untargeted_binary_myPGD_05_adv_obs-a.csv',\n",
    "                                            index_col=0,\n",
    "                                            usecols = lambda x: x != 'a', #excludes a col\n",
    "                                            ).diff().mean()\n",
    "df_variation['PPO_bifurcated_ACG_05'] = pd.read_csv(r'20 bin PPO 500 results\\binary classifier uACG results\\uACG DLloss 05 eps adv a-obs.csv',\n",
    "                                                                index_col=0,\n",
    "                                                                usecols = lambda x: x != 'a', #excludes a col\n",
    "                                                                ).diff().mean() \n",
    "df_variation['PPO_myPGD_05'] = pd.read_csv(r'20 bin PPO 500 results\\untargeted_myPGD_05_adv_obs-a.csv',\n",
    "                                            index_col=0,\n",
    "                                            usecols = lambda x: x != 'a', #excludes a col\n",
    "                                            ).diff().mean()\n",
    "df_variation['PPO_bifurcated_myPGD_03_mask_time'] = pd.read_csv(r'20 bin PPO 500 results\\untargeted_binary_myPGD_03_mask_time_adv_obs-a.csv',\n",
    "                                                                index_col=0,\n",
    "                                                                usecols = lambda x: x != 'a', #excludes a col\n",
    "                                                                ).diff().mean()\n",
    "df_variation['PPO_bifurcated_myPGD_03_mask_time_time_scale_solar_and_consumption_eps'] = pd.read_csv(\n",
    "                                                                r'20 bin PPO 500 results\\untargeted_binary_myPGD_03_mask_time_scale_solar_and_consumption_eps_adv_obs-a.csv',\n",
    "                                                                index_col=0,\n",
    "                                                                usecols = lambda x: x != 'a', #excludes a col\n",
    "                                                                ).diff().mean()\n",
    "df_variation['PPO_bifurcated_ACG_03_mask_solar_time_and_consumption_adv_obs'] = pd.read_csv(\n",
    "                                                                r'20 bin PPO 500 results\\binary classifier uACG results\\bifurcated_uACG_DLloss_03_mask_time_solar_and_consumption adv a-obs.csv',\n",
    "                                                                index_col=0,\n",
    "                                                                usecols = lambda x: x != 'a', #excludes a col\n",
    "                                                                ).diff().mean()\n",
    "df_variation['SAC_baseline'] = pd.read_csv(r'default SAC 500 norm space results\\baseline_obs-a.csv',\n",
    "                                            index_col=0,\n",
    "                                            usecols = lambda x: x != 'a', #excludes a col\n",
    "                                            ).diff().mean()                                          \n",
    "df_variation['SAC_bifurcated_myPGD_03_mask_time'] = pd.read_csv(r'default SAC 500 norm space results\\untargeted_binary_myPGD_03_mask_time_adv_obs-a.csv',\n",
    "                                                                index_col=0,\n",
    "                                                                usecols = lambda x: x != 'a', #excludes a col\n",
    "                                                                ).diff().mean()\n",
    "df_variation['SAC_bifurcated_myPGD_03_mask_time_time_scale_solar_and_consumption_eps'] = pd.read_csv(\n",
    "                                                                r'default SAC 500 norm space results\\untargeted_binary_myPGD_03_mask_time_scale_solar_and_consumption_eps_adv_obs-a.csv',\n",
    "                                                                index_col=0,\n",
    "                                                                usecols = lambda x: x != 'a', #excludes a col\n",
    "                                                                ).diff().mean()\n",
    "df_variation['SAC_bifurcated_myPGD_03_mask_solar_and_time_scale_consumption_eps_clipped_adv_obs'] = pd.read_csv(\n",
    "                                                                r'default SAC 500 norm space results\\untargeted_binary_myPGD_03_mask_solar_and_time_scale_consumption_eps_clipped_adv_obs_adv_obs-a.csv',\n",
    "                                                                index_col=0,\n",
    "                                                                usecols = lambda x: x != 'a', #excludes a col\n",
    "                                                                ).diff().mean()               \n",
    "df_variation['SAC_bifurcated_ACG_03_mask_solar_time_and_consumption_adv_obs'] = pd.read_csv(\n",
    "                                                                r'default SAC 500 norm space results\\bifurcated_uACG_DLloss_03_mask_time_solar_and_consumption adv a-obs.csv',\n",
    "                                                                index_col=0,\n",
    "                                                                usecols = lambda x: x != 'a', #excludes a col\n",
    "                                                                ).diff().mean()        \n",
    "df_variation['SAC_toggle_bifurcated_myPGD_03_mask_time'] = pd.read_csv(r'default SAC 500 norm space results\\toggle_binary_myPGD_03_mask_time_adv_obs-a.csv',\n",
    "                                                                index_col=0,\n",
    "                                                                usecols = lambda x: x != 'a', #excludes a col\n",
    "                                                                ).diff().mean()      \n",
    "df_variation['SAC_toggle_bifurcated_myPGD_03_mask_solar_and_time_scale_consumption_eps_clipped_adv_obs'] = pd.read_csv(\n",
    "                                                                r'default SAC 500 norm space results\\toggle_binary_myPGD_03_mask_time_and_solar_scale_consumption_eps_clipped_adv_obs-a.csv',\n",
    "                                                                index_col=0,\n",
    "                                                                usecols = lambda x: x != 'a', #excludes a col\n",
    "                                                                ).diff().mean() "
   ]
  },
  {
   "cell_type": "markdown",
   "metadata": {},
   "source": [
    "Load the spread for non prediction or temporal observations"
   ]
  },
  {
   "cell_type": "code",
   "execution_count": 3,
   "metadata": {},
   "outputs": [],
   "source": [
    "obs_spread = pd.read_csv('citylearn_challenge_2022_phase_2 spread.csv',\n",
    "                            index_col=0)"
   ]
  },
  {
   "cell_type": "markdown",
   "metadata": {},
   "source": [
    "##### Analyze Dynamic uACG"
   ]
  },
  {
   "cell_type": "markdown",
   "metadata": {},
   "source": [
    "Notice how bother SoC's and net consumption's variation are orders of magnitude above the others, perhaps the epsilon should be reduced? Or is the net consumption just affected by the SoC/the attack? The only features with significant variations are related to the agent's actions which the attack is meant to change"
   ]
  },
  {
   "cell_type": "code",
   "execution_count": 4,
   "metadata": {},
   "outputs": [
    {
     "data": {
      "text/plain": [
       "electricity_pricing                           4.567253e-06\n",
       "electricity_pricing_predicted_12h             4.567253e-06\n",
       "direct_solar_irradiance_predicted_24h         4.567253e-06\n",
       "outdoor_dry_bulb_temperature_predicted_6h     4.567253e-06\n",
       "outdoor_dry_bulb_temperature                  4.567253e-06\n",
       "outdoor_relative_humidity_predicted_12h       4.567249e-06\n",
       "diffuse_solar_irradiance_predicted_12h        4.567249e-06\n",
       "outdoor_relative_humidity                     4.567248e-06\n",
       "direct_solar_irradiance_predicted_12h         4.567246e-06\n",
       "electrical_storage_soc                        4.538504e-06\n",
       "month_sin                                     4.501137e-06\n",
       "non_shiftable_load                            4.359615e-06\n",
       "outdoor_dry_bulb_temperature_predicted_24h    4.341459e-06\n",
       "solar_generation                              4.334776e-06\n",
       "day_type_sin                                  4.201804e-06\n",
       "diffuse_solar_irradiance_predicted_6h         3.888882e-06\n",
       "net_electricity_consumption                   2.738522e-06\n",
       "direct_solar_irradiance_predicted_6h          2.283627e-06\n",
       "carbon_intensity                              2.283626e-06\n",
       "diffuse_solar_irradiance_predicted_24h        2.283626e-06\n",
       "electricity_pricing_predicted_6h              2.283626e-06\n",
       "electricity_pricing_predicted_24h             2.283626e-06\n",
       "outdoor_relative_humidity_predicted_6h        2.283621e-06\n",
       "outdoor_relative_humidity_predicted_24h       2.283620e-06\n",
       "direct_solar_irradiance                       1.868659e-06\n",
       "outdoor_dry_bulb_temperature_predicted_12h    1.721946e-06\n",
       "diffuse_solar_irradiance                      1.259851e-06\n",
       "hour_sin                                      9.538239e-07\n",
       "day_type_cos                                  4.547328e-07\n",
       "hour_cos                                      3.441539e-07\n",
       "month_cos                                     3.308746e-08\n",
       "dtype: float64"
      ]
     },
     "execution_count": 4,
     "metadata": {},
     "output_type": "execute_result"
    }
   ],
   "source": [
    "abs(df_variation['dynamic_uACG'] - df_variation['PPO_baseline']).sort_values(ascending=False)"
   ]
  },
  {
   "cell_type": "markdown",
   "metadata": {},
   "source": [
    "##### Analyze bifurcated myPDG $\\epsilon = 0.05$ for the discrete PPO"
   ]
  },
  {
   "cell_type": "code",
   "execution_count": 12,
   "metadata": {},
   "outputs": [
    {
     "data": {
      "text/plain": [
       "outdoor_relative_humidity_predicted_24h       1.141813e-05\n",
       "direct_solar_irradiance_predicted_12h         1.127541e-05\n",
       "month_sin                                     1.127541e-05\n",
       "direct_solar_irradiance_predicted_24h         1.127541e-05\n",
       "outdoor_relative_humidity_predicted_12h       1.113268e-05\n",
       "outdoor_relative_humidity                     1.113268e-05\n",
       "electricity_pricing                           1.113268e-05\n",
       "electricity_pricing_predicted_6h              1.113268e-05\n",
       "day_type_cos                                  1.041905e-05\n",
       "outdoor_dry_bulb_temperature_predicted_6h     9.848139e-06\n",
       "carbon_intensity                              9.491322e-06\n",
       "outdoor_relative_humidity_predicted_6h        9.419955e-06\n",
       "net_electricity_consumption                   9.418114e-06\n",
       "diffuse_solar_irradiance_predicted_12h        9.277227e-06\n",
       "electricity_pricing_predicted_24h             8.849052e-06\n",
       "electricity_pricing_predicted_12h             8.278146e-06\n",
       "direct_solar_irradiance                       6.708151e-06\n",
       "outdoor_dry_bulb_temperature_predicted_12h    6.565429e-06\n",
       "month_cos                                     6.137246e-06\n",
       "direct_solar_irradiance_predicted_6h          5.994519e-06\n",
       "diffuse_solar_irradiance_predicted_24h        4.424526e-06\n",
       "hour_sin                                      3.710893e-06\n",
       "electrical_storage_soc                        2.454438e-06\n",
       "day_type_sin                                  2.140900e-06\n",
       "non_shiftable_load                            1.855446e-06\n",
       "diffuse_solar_irradiance_predicted_6h         1.427267e-06\n",
       "hour_cos                                      1.427266e-06\n",
       "solar_generation                              2.854533e-07\n",
       "outdoor_dry_bulb_temperature_predicted_24h    3.425440e-12\n",
       "diffuse_solar_irradiance                      1.568738e-19\n",
       "outdoor_dry_bulb_temperature                  6.776264e-21\n",
       "dtype: float64"
      ]
     },
     "execution_count": 12,
     "metadata": {},
     "output_type": "execute_result"
    }
   ],
   "source": [
    "abs(df_variation['PPO_bifurcated_myPGD_05'] - df_variation['PPO_baseline']).sort_values(ascending=False)"
   ]
  },
  {
   "cell_type": "markdown",
   "metadata": {},
   "source": [
    "##### Analyze myPDG $\\epsilon = 0.05$ for the discrete PPO"
   ]
  },
  {
   "cell_type": "markdown",
   "metadata": {},
   "source": [
    "Deviation in mean feature variation from baseline"
   ]
  },
  {
   "cell_type": "code",
   "execution_count": 13,
   "metadata": {},
   "outputs": [
    {
     "data": {
      "text/plain": [
       "carbon_intensity                              1.141813e-05\n",
       "electricity_pricing_predicted_24h             1.141813e-05\n",
       "outdoor_relative_humidity_predicted_24h       1.141813e-05\n",
       "electricity_pricing_predicted_6h              1.141813e-05\n",
       "day_type_sin                                  1.141813e-05\n",
       "solar_generation                              9.848140e-06\n",
       "diffuse_solar_irradiance_predicted_6h         9.705412e-06\n",
       "day_type_cos                                  5.280886e-06\n",
       "direct_solar_irradiance_predicted_6h          2.997260e-06\n",
       "electrical_storage_soc                        1.800645e-06\n",
       "net_electricity_consumption                   1.200148e-07\n",
       "hour_cos                                      4.567253e-12\n",
       "outdoor_dry_bulb_temperature_predicted_12h    4.567253e-12\n",
       "outdoor_dry_bulb_temperature                  3.425440e-12\n",
       "outdoor_relative_humidity_predicted_6h        3.425440e-12\n",
       "diffuse_solar_irradiance_predicted_12h        3.425439e-12\n",
       "direct_solar_irradiance_predicted_12h         3.425439e-12\n",
       "outdoor_relative_humidity_predicted_12h       2.283627e-12\n",
       "outdoor_relative_humidity                     2.283627e-12\n",
       "non_shiftable_load                            1.598538e-12\n",
       "outdoor_dry_bulb_temperature_predicted_24h    1.141813e-12\n",
       "electricity_pricing_predicted_12h             1.254991e-18\n",
       "electricity_pricing                           5.070669e-19\n",
       "hour_sin                                      4.573978e-19\n",
       "direct_solar_irradiance                       3.581160e-19\n",
       "outdoor_dry_bulb_temperature_predicted_6h     1.520424e-19\n",
       "diffuse_solar_irradiance_predicted_24h        1.362742e-19\n",
       "direct_solar_irradiance_predicted_24h         1.299359e-19\n",
       "diffuse_solar_irradiance                      1.426126e-20\n",
       "month_sin                                     1.267667e-20\n",
       "month_cos                                     0.000000e+00\n",
       "dtype: float64"
      ]
     },
     "execution_count": 13,
     "metadata": {},
     "output_type": "execute_result"
    }
   ],
   "source": [
    "abs(df_variation['PPO_myPGD_05'] - df_variation['PPO_baseline']).sort_values(ascending=False)"
   ]
  },
  {
   "cell_type": "markdown",
   "metadata": {},
   "source": [
    "The variation is many orders of magnetude lower for some feautres compared to any other attack, but this is not replication in the absolute variation. Is this because the attack is not bifurcated or masked? Top features variation is an OoM higher than most other attacks too"
   ]
  },
  {
   "cell_type": "markdown",
   "metadata": {},
   "source": [
    "##### Analyze bifurcated myPDG $\\epsilon = 0.03$ with time mask for the discrete PPO"
   ]
  },
  {
   "cell_type": "code",
   "execution_count": 14,
   "metadata": {},
   "outputs": [
    {
     "data": {
      "text/plain": [
       "electricity_pricing                           6.850879e-06\n",
       "electricity_pricing_predicted_24h             6.850879e-06\n",
       "electricity_pricing_predicted_6h              6.850879e-06\n",
       "direct_solar_irradiance                       6.850879e-06\n",
       "diffuse_solar_irradiance_predicted_24h        6.850879e-06\n",
       "direct_solar_irradiance_predicted_24h         6.850879e-06\n",
       "outdoor_relative_humidity_predicted_12h       6.850876e-06\n",
       "carbon_intensity                              6.850873e-06\n",
       "outdoor_relative_humidity_predicted_24h       6.850872e-06\n",
       "diffuse_solar_irradiance_predicted_12h        6.850872e-06\n",
       "outdoor_relative_humidity                     6.850870e-06\n",
       "direct_solar_irradiance_predicted_12h         6.850870e-06\n",
       "outdoor_relative_humidity_predicted_6h        6.850869e-06\n",
       "net_electricity_consumption                   6.711770e-06\n",
       "outdoor_dry_bulb_temperature                  6.708153e-06\n",
       "outdoor_dry_bulb_temperature_predicted_6h     6.708153e-06\n",
       "diffuse_solar_irradiance                      6.708152e-06\n",
       "electricity_pricing_predicted_12h             6.708152e-06\n",
       "non_shiftable_load                            5.851793e-06\n",
       "outdoor_dry_bulb_temperature_predicted_12h    5.423616e-06\n",
       "outdoor_dry_bulb_temperature_predicted_24h    4.424528e-06\n",
       "direct_solar_irradiance_predicted_6h          2.426354e-06\n",
       "electrical_storage_soc                        2.229779e-06\n",
       "diffuse_solar_irradiance_predicted_6h         4.567270e-14\n",
       "solar_generation                              6.088269e-20\n",
       "month_sin                                     0.000000e+00\n",
       "hour_sin                                      0.000000e+00\n",
       "hour_cos                                      0.000000e+00\n",
       "day_type_sin                                  0.000000e+00\n",
       "day_type_cos                                  0.000000e+00\n",
       "month_cos                                     0.000000e+00\n",
       "dtype: float64"
      ]
     },
     "execution_count": 14,
     "metadata": {},
     "output_type": "execute_result"
    }
   ],
   "source": [
    "abs(df_variation['PPO_bifurcated_myPGD_03_mask_time'] - df_variation['PPO_baseline']).sort_values(ascending=False)"
   ]
  },
  {
   "cell_type": "markdown",
   "metadata": {},
   "source": [
    "##### Analyze bifurcated myPDG $\\epsilon = 0.03$ with time mask for the discrete SAC"
   ]
  },
  {
   "cell_type": "code",
   "execution_count": 15,
   "metadata": {},
   "outputs": [
    {
     "data": {
      "text/plain": [
       "outdoor_dry_bulb_temperature_predicted_12h    6.850879e-06\n",
       "direct_solar_irradiance_predicted_6h          6.850879e-06\n",
       "outdoor_relative_humidity_predicted_12h       6.850871e-06\n",
       "outdoor_dry_bulb_temperature_predicted_6h     5.851793e-06\n",
       "electricity_pricing_predicted_12h             5.566339e-06\n",
       "diffuse_solar_irradiance                      4.995433e-06\n",
       "direct_solar_irradiance                       4.709979e-06\n",
       "electricity_pricing_predicted_6h              3.996346e-06\n",
       "direct_solar_irradiance_predicted_12h         3.568166e-06\n",
       "electricity_pricing                           3.568166e-06\n",
       "diffuse_solar_irradiance_predicted_12h        3.282716e-06\n",
       "outdoor_dry_bulb_temperature                  3.282713e-06\n",
       "diffuse_solar_irradiance_predicted_24h        3.282713e-06\n",
       "direct_solar_irradiance_predicted_24h         3.282713e-06\n",
       "diffuse_solar_irradiance_predicted_6h         2.997259e-06\n",
       "outdoor_relative_humidity_predicted_24h       2.569083e-06\n",
       "outdoor_relative_humidity_predicted_6h        1.569983e-06\n",
       "electricity_pricing_predicted_24h             1.284540e-06\n",
       "solar_generation                              2.854535e-07\n",
       "electrical_storage_soc                        2.173732e-07\n",
       "net_electricity_consumption                   1.282325e-07\n",
       "outdoor_relative_humidity                     2.283626e-12\n",
       "non_shiftable_load                            5.709069e-13\n",
       "outdoor_dry_bulb_temperature_predicted_24h    9.529121e-20\n",
       "carbon_intensity                              4.065758e-20\n",
       "month_sin                                     0.000000e+00\n",
       "hour_sin                                      0.000000e+00\n",
       "hour_cos                                      0.000000e+00\n",
       "day_type_sin                                  0.000000e+00\n",
       "day_type_cos                                  0.000000e+00\n",
       "month_cos                                     0.000000e+00\n",
       "dtype: float64"
      ]
     },
     "execution_count": 15,
     "metadata": {},
     "output_type": "execute_result"
    }
   ],
   "source": [
    "abs(df_variation['SAC_bifurcated_myPGD_03_mask_time'] - df_variation['SAC_baseline']).sort_values(ascending=False)"
   ]
  },
  {
   "cell_type": "markdown",
   "metadata": {},
   "source": [
    "##### Analyze bifurcated myPGD $\\epsilon = 0.03$ with time mask and scaling $\\epsilon$ for solar generation and net consumption for the discrete PPO"
   ]
  },
  {
   "cell_type": "code",
   "execution_count": 16,
   "metadata": {},
   "outputs": [
    {
     "data": {
      "text/plain": [
       "electricity_pricing                           6.850879e-06\n",
       "electricity_pricing_predicted_24h             6.850879e-06\n",
       "electricity_pricing_predicted_6h              6.850879e-06\n",
       "diffuse_solar_irradiance_predicted_24h        6.850879e-06\n",
       "direct_solar_irradiance                       6.850879e-06\n",
       "direct_solar_irradiance_predicted_24h         6.850879e-06\n",
       "outdoor_relative_humidity_predicted_12h       6.850876e-06\n",
       "carbon_intensity                              6.850873e-06\n",
       "outdoor_relative_humidity_predicted_24h       6.850872e-06\n",
       "diffuse_solar_irradiance_predicted_12h        6.850872e-06\n",
       "outdoor_relative_humidity                     6.850870e-06\n",
       "direct_solar_irradiance_predicted_12h         6.850870e-06\n",
       "outdoor_relative_humidity_predicted_6h        6.850869e-06\n",
       "electricity_pricing_predicted_12h             6.708152e-06\n",
       "outdoor_dry_bulb_temperature                  6.422699e-06\n",
       "outdoor_dry_bulb_temperature_predicted_6h     6.422699e-06\n",
       "diffuse_solar_irradiance                      6.422699e-06\n",
       "non_shiftable_load                            5.994521e-06\n",
       "outdoor_dry_bulb_temperature_predicted_12h    5.423616e-06\n",
       "outdoor_dry_bulb_temperature_predicted_24h    4.139075e-06\n",
       "direct_solar_irradiance_predicted_6h          2.711807e-06\n",
       "electrical_storage_soc                        4.390643e-07\n",
       "diffuse_solar_irradiance_predicted_6h         1.427267e-07\n",
       "net_electricity_consumption                   1.088856e-07\n",
       "solar_generation                              3.169168e-21\n",
       "month_sin                                     0.000000e+00\n",
       "hour_sin                                      0.000000e+00\n",
       "hour_cos                                      0.000000e+00\n",
       "day_type_sin                                  0.000000e+00\n",
       "day_type_cos                                  0.000000e+00\n",
       "month_cos                                     0.000000e+00\n",
       "dtype: float64"
      ]
     },
     "execution_count": 16,
     "metadata": {},
     "output_type": "execute_result"
    }
   ],
   "source": [
    "abs(df_variation['PPO_bifurcated_myPGD_03_mask_time_time_scale_solar_and_consumption_eps'] - df_variation['SAC_baseline']).sort_values(ascending=False)"
   ]
  },
  {
   "cell_type": "markdown",
   "metadata": {},
   "source": [
    "##### Analyze bifurcated myPDG $\\epsilon = 0.03$ with time mask and scaling $\\epsilon$ for solar generation and net consumption for the SAC"
   ]
  },
  {
   "cell_type": "code",
   "execution_count": 19,
   "metadata": {},
   "outputs": [
    {
     "data": {
      "text/plain": [
       "electricity_pricing_predicted_12h             6.850879e-06\n",
       "outdoor_dry_bulb_temperature_predicted_6h     6.850879e-06\n",
       "direct_solar_irradiance_predicted_6h          6.850879e-06\n",
       "outdoor_relative_humidity_predicted_12h       6.850871e-06\n",
       "diffuse_solar_irradiance_predicted_24h        6.779516e-06\n",
       "direct_solar_irradiance                       6.708152e-06\n",
       "outdoor_relative_humidity                     6.422697e-06\n",
       "outdoor_relative_humidity_predicted_24h       6.422692e-06\n",
       "outdoor_dry_bulb_temperature_predicted_12h    5.851793e-06\n",
       "direct_solar_irradiance_predicted_12h         5.280885e-06\n",
       "outdoor_dry_bulb_temperature_predicted_24h    3.425436e-06\n",
       "electrical_storage_soc                        3.411562e-06\n",
       "electricity_pricing_predicted_6h              2.854533e-06\n",
       "diffuse_solar_irradiance                      2.140900e-06\n",
       "electricity_pricing                           1.284540e-06\n",
       "non_shiftable_load                            1.213178e-06\n",
       "diffuse_solar_irradiance_predicted_12h        9.990900e-07\n",
       "diffuse_solar_irradiance_predicted_6h         7.136337e-07\n",
       "direct_solar_irradiance_predicted_24h         1.427269e-07\n",
       "electricity_pricing_predicted_24h             7.136326e-08\n",
       "net_electricity_consumption                   1.044074e-08\n",
       "outdoor_dry_bulb_temperature                  3.425440e-12\n",
       "outdoor_relative_humidity_predicted_6h        3.425440e-12\n",
       "carbon_intensity                              1.829591e-19\n",
       "solar_generation                              1.807416e-21\n",
       "month_sin                                     0.000000e+00\n",
       "hour_sin                                      0.000000e+00\n",
       "hour_cos                                      0.000000e+00\n",
       "day_type_sin                                  0.000000e+00\n",
       "day_type_cos                                  0.000000e+00\n",
       "month_cos                                     0.000000e+00\n",
       "dtype: float64"
      ]
     },
     "execution_count": 19,
     "metadata": {},
     "output_type": "execute_result"
    }
   ],
   "source": [
    "abs(df_variation['SAC_bifurcated_myPGD_03_mask_time_time_scale_solar_and_consumption_eps'] - df_variation['SAC_baseline']).sort_values(ascending=False)"
   ]
  },
  {
   "cell_type": "markdown",
   "metadata": {},
   "source": [
    "Variation in net consumption might be related to SoC, which is the attacks goal"
   ]
  },
  {
   "cell_type": "markdown",
   "metadata": {},
   "source": [
    "##### Analyze SAC bifurcated myPDG $\\epsilon = 0.03$ with:\n",
    "- solar generation and time mask\n",
    "- scaling $\\epsilon$ for net consumption, and\n",
    "- clipped adversarial observations"
   ]
  },
  {
   "cell_type": "code",
   "execution_count": 20,
   "metadata": {},
   "outputs": [
    {
     "data": {
      "text/plain": [
       "electricity_pricing_predicted_12h             6.850879e-06\n",
       "outdoor_relative_humidity_predicted_6h        6.850876e-06\n",
       "outdoor_relative_humidity_predicted_12h       6.850871e-06\n",
       "outdoor_relative_humidity                     6.850870e-06\n",
       "outdoor_dry_bulb_temperature_predicted_6h     6.779516e-06\n",
       "outdoor_dry_bulb_temperature_predicted_24h    6.422699e-06\n",
       "outdoor_relative_humidity_predicted_24h       6.279966e-06\n",
       "diffuse_solar_irradiance_predicted_6h         4.709979e-06\n",
       "direct_solar_irradiance_predicted_12h         4.424525e-06\n",
       "electricity_pricing                           3.996346e-06\n",
       "outdoor_dry_bulb_temperature_predicted_12h    3.853624e-06\n",
       "direct_solar_irradiance                       3.425440e-06\n",
       "direct_solar_irradiance_predicted_6h          3.425439e-06\n",
       "diffuse_solar_irradiance_predicted_24h        3.282713e-06\n",
       "diffuse_solar_irradiance_predicted_12h        1.998170e-06\n",
       "electrical_storage_soc                        1.992600e-06\n",
       "non_shiftable_load                            1.569993e-06\n",
       "direct_solar_irradiance_predicted_24h         1.141813e-06\n",
       "electricity_pricing_predicted_6h              9.990865e-07\n",
       "outdoor_dry_bulb_temperature                  1.427266e-07\n",
       "diffuse_solar_irradiance                      1.427266e-07\n",
       "net_electricity_consumption                   8.124800e-08\n",
       "electricity_pricing_predicted_24h             7.136326e-08\n",
       "carbon_intensity                              3.726945e-20\n",
       "solar_generation                              0.000000e+00\n",
       "month_sin                                     0.000000e+00\n",
       "hour_sin                                      0.000000e+00\n",
       "hour_cos                                      0.000000e+00\n",
       "day_type_sin                                  0.000000e+00\n",
       "day_type_cos                                  0.000000e+00\n",
       "month_cos                                     0.000000e+00\n",
       "dtype: float64"
      ]
     },
     "execution_count": 20,
     "metadata": {},
     "output_type": "execute_result"
    }
   ],
   "source": [
    "abs(df_variation['SAC_bifurcated_myPGD_03_mask_solar_and_time_scale_consumption_eps_clipped_adv_obs'] - df_variation['SAC_baseline']).sort_values(ascending=False)"
   ]
  },
  {
   "cell_type": "markdown",
   "metadata": {},
   "source": [
    "##### Analyze bifurcated ACG $\\epsilon = 0.03$ masking time, solar generation and net consumption for the SAC"
   ]
  },
  {
   "cell_type": "code",
   "execution_count": 21,
   "metadata": {},
   "outputs": [
    {
     "data": {
      "text/plain": [
       "electricity_pricing_predicted_24h             0.046665\n",
       "electricity_pricing                           0.044899\n",
       "electricity_pricing_predicted_6h              0.036767\n",
       "electricity_pricing_predicted_12h             0.032924\n",
       "hour_sin                                      0.031521\n",
       "diffuse_solar_irradiance_predicted_24h        0.016108\n",
       "diffuse_solar_irradiance                      0.016089\n",
       "electrical_storage_soc                        0.014769\n",
       "diffuse_solar_irradiance_predicted_6h         0.010154\n",
       "outdoor_dry_bulb_temperature_predicted_12h    0.009364\n",
       "outdoor_dry_bulb_temperature_predicted_6h     0.008768\n",
       "direct_solar_irradiance_predicted_24h         0.008707\n",
       "diffuse_solar_irradiance_predicted_12h        0.005737\n",
       "carbon_intensity                              0.005183\n",
       "outdoor_relative_humidity_predicted_6h        0.004909\n",
       "hour_cos                                      0.004717\n",
       "direct_solar_irradiance_predicted_12h         0.002965\n",
       "direct_solar_irradiance                       0.002604\n",
       "outdoor_dry_bulb_temperature                  0.001967\n",
       "outdoor_relative_humidity_predicted_24h       0.001797\n",
       "outdoor_dry_bulb_temperature_predicted_24h    0.001794\n",
       "day_type_cos                                  0.001633\n",
       "outdoor_relative_humidity                     0.001565\n",
       "non_shiftable_load                            0.001441\n",
       "month_cos                                     0.001313\n",
       "month_sin                                     0.000808\n",
       "outdoor_relative_humidity_predicted_12h       0.000567\n",
       "net_electricity_consumption                   0.000417\n",
       "day_type_sin                                  0.000381\n",
       "direct_solar_irradiance_predicted_6h          0.000253\n",
       "solar_generation                              0.000124\n",
       "dtype: float64"
      ]
     },
     "execution_count": 21,
     "metadata": {},
     "output_type": "execute_result"
    }
   ],
   "source": [
    "abs(df_variation['PPO_bifurcated_ACG_03_mask_solar_time_and_consumption_adv_obs'] - df_variation['SAC_baseline']).sort_values(ascending=False)"
   ]
  },
  {
   "cell_type": "markdown",
   "metadata": {},
   "source": [
    "Smaller adv regret and variation in net consumption, suggesting the two are related"
   ]
  },
  {
   "cell_type": "markdown",
   "metadata": {},
   "source": [
    "##### Analyze bifurcated ACG $\\epsilon = 0.03$ masking time, solar generation and net consumption for the SAC"
   ]
  },
  {
   "cell_type": "code",
   "execution_count": 22,
   "metadata": {},
   "outputs": [
    {
     "data": {
      "text/plain": [
       "non_shiftable_load                            6.850881e-06\n",
       "day_type_cos                                  6.850875e-06\n",
       "outdoor_relative_humidity                     5.964300e-06\n",
       "electricity_pricing_predicted_24h             5.152778e-06\n",
       "diffuse_solar_irradiance_predicted_6h         4.002420e-06\n",
       "outdoor_relative_humidity_predicted_12h       3.978123e-06\n",
       "electricity_pricing_predicted_12h             3.722854e-06\n",
       "outdoor_relative_humidity_predicted_24h       3.671756e-06\n",
       "direct_solar_irradiance_predicted_24h         3.425440e-06\n",
       "outdoor_dry_bulb_temperature                  3.315990e-06\n",
       "direct_solar_irradiance_predicted_6h          3.268645e-06\n",
       "direct_solar_irradiance                       3.212179e-06\n",
       "net_electricity_consumption                   2.921514e-06\n",
       "carbon_intensity                              2.693236e-06\n",
       "outdoor_dry_bulb_temperature_predicted_6h     2.565000e-06\n",
       "electricity_pricing                           1.971250e-06\n",
       "hour_cos                                      1.945638e-06\n",
       "diffuse_solar_irradiance                      1.737082e-06\n",
       "outdoor_dry_bulb_temperature_predicted_24h    1.556402e-06\n",
       "solar_generation                              1.355174e-06\n",
       "electricity_pricing_predicted_6h              1.354427e-06\n",
       "outdoor_relative_humidity_predicted_6h        1.292712e-06\n",
       "electrical_storage_soc                        1.272495e-06\n",
       "hour_sin                                      1.223785e-06\n",
       "outdoor_dry_bulb_temperature_predicted_12h    7.854076e-07\n",
       "day_type_sin                                  6.276399e-07\n",
       "month_sin                                     1.614547e-07\n",
       "month_cos                                     2.023750e-08\n",
       "diffuse_solar_irradiance_predicted_12h        3.425440e-12\n",
       "direct_solar_irradiance_predicted_12h         2.283626e-12\n",
       "diffuse_solar_irradiance_predicted_24h        3.042402e-19\n",
       "dtype: float64"
      ]
     },
     "execution_count": 22,
     "metadata": {},
     "output_type": "execute_result"
    }
   ],
   "source": [
    "abs(df_variation['SAC_bifurcated_ACG_03_mask_solar_time_and_consumption_adv_obs'] - df_variation['SAC_baseline']).sort_values(ascending=False)"
   ]
  },
  {
   "cell_type": "markdown",
   "metadata": {},
   "source": [
    "##### Analyze toggle bifurcated myPGD $\\epsilon = 0.03$ masking time"
   ]
  },
  {
   "cell_type": "code",
   "execution_count": 23,
   "metadata": {},
   "outputs": [
    {
     "data": {
      "text/plain": [
       "direct_solar_irradiance_predicted_6h          6.850880e-06\n",
       "electricity_pricing_predicted_6h              6.850879e-06\n",
       "electricity_pricing_predicted_12h             6.850879e-06\n",
       "electricity_pricing                           6.850879e-06\n",
       "diffuse_solar_irradiance_predicted_24h        6.850879e-06\n",
       "direct_solar_irradiance_predicted_24h         6.850879e-06\n",
       "diffuse_solar_irradiance_predicted_6h         6.850879e-06\n",
       "outdoor_dry_bulb_temperature_predicted_24h    6.850876e-06\n",
       "outdoor_relative_humidity_predicted_12h       6.850876e-06\n",
       "outdoor_relative_humidity_predicted_24h       6.850875e-06\n",
       "outdoor_relative_humidity                     6.850870e-06\n",
       "outdoor_relative_humidity_predicted_6h        6.850869e-06\n",
       "direct_solar_irradiance_predicted_12h         6.850869e-06\n",
       "outdoor_dry_bulb_temperature_predicted_12h    6.850867e-06\n",
       "carbon_intensity                              6.779517e-06\n",
       "net_electricity_consumption                   6.753873e-06\n",
       "electrical_storage_soc                        6.313511e-06\n",
       "non_shiftable_load                            4.709981e-06\n",
       "diffuse_solar_irradiance                      3.211350e-06\n",
       "electricity_pricing_predicted_24h             2.854532e-06\n",
       "outdoor_dry_bulb_temperature                  2.283626e-06\n",
       "direct_solar_irradiance                       1.569993e-06\n",
       "solar_generation                              2.854531e-07\n",
       "outdoor_dry_bulb_temperature_predicted_6h     7.136332e-08\n",
       "diffuse_solar_irradiance_predicted_12h        1.389134e-19\n",
       "month_sin                                     0.000000e+00\n",
       "hour_sin                                      0.000000e+00\n",
       "hour_cos                                      0.000000e+00\n",
       "day_type_sin                                  0.000000e+00\n",
       "day_type_cos                                  0.000000e+00\n",
       "month_cos                                     0.000000e+00\n",
       "dtype: float64"
      ]
     },
     "execution_count": 23,
     "metadata": {},
     "output_type": "execute_result"
    }
   ],
   "source": [
    "abs(df_variation['SAC_toggle_bifurcated_myPGD_03_mask_time'] - df_variation['SAC_baseline']).sort_values(ascending=False)"
   ]
  },
  {
   "cell_type": "markdown",
   "metadata": {},
   "source": [
    "##### Analyze toggle bifurcated myPGD $\\epsilon = 0.03$ masking time, solar generation and net consumption for the SAC\n",
    "\n",
    "This has a lower adv regret than the corresponding bifurcation attack"
   ]
  },
  {
   "cell_type": "code",
   "execution_count": 24,
   "metadata": {},
   "outputs": [
    {
     "data": {
      "text/plain": [
       "direct_solar_irradiance_predicted_6h          6.850880e-06\n",
       "electricity_pricing_predicted_6h              6.850879e-06\n",
       "electricity_pricing_predicted_24h             6.850879e-06\n",
       "electricity_pricing                           6.850879e-06\n",
       "electricity_pricing_predicted_12h             6.850879e-06\n",
       "outdoor_relative_humidity_predicted_12h       6.850876e-06\n",
       "outdoor_relative_humidity                     6.850870e-06\n",
       "outdoor_relative_humidity_predicted_6h        6.850869e-06\n",
       "outdoor_dry_bulb_temperature_predicted_12h    6.850867e-06\n",
       "direct_solar_irradiance_predicted_12h         6.708147e-06\n",
       "diffuse_solar_irradiance_predicted_6h         6.089530e-06\n",
       "outdoor_dry_bulb_temperature                  5.709066e-06\n",
       "electrical_storage_soc                        3.643102e-06\n",
       "diffuse_solar_irradiance_predicted_24h        3.425440e-06\n",
       "diffuse_solar_irradiance                      3.425440e-06\n",
       "direct_solar_irradiance                       5.709066e-07\n",
       "carbon_intensity                              5.709055e-07\n",
       "direct_solar_irradiance_predicted_24h         1.427266e-07\n",
       "outdoor_dry_bulb_temperature_predicted_24h    1.427232e-07\n",
       "net_electricity_consumption                   9.831811e-08\n",
       "non_shiftable_load                            1.141814e-12\n",
       "diffuse_solar_irradiance_predicted_12h        1.287490e-19\n",
       "outdoor_relative_humidity_predicted_24h       6.606857e-20\n",
       "outdoor_dry_bulb_temperature_predicted_6h     1.567011e-20\n",
       "hour_sin                                      0.000000e+00\n",
       "month_sin                                     0.000000e+00\n",
       "solar_generation                              0.000000e+00\n",
       "hour_cos                                      0.000000e+00\n",
       "day_type_sin                                  0.000000e+00\n",
       "day_type_cos                                  0.000000e+00\n",
       "month_cos                                     0.000000e+00\n",
       "dtype: float64"
      ]
     },
     "execution_count": 24,
     "metadata": {},
     "output_type": "execute_result"
    }
   ],
   "source": [
    "abs(df_variation['SAC_toggle_bifurcated_myPGD_03_mask_solar_and_time_scale_consumption_eps_clipped_adv_obs'] - df_variation['SAC_baseline']).sort_values(ascending=False)"
   ]
  },
  {
   "cell_type": "markdown",
   "metadata": {},
   "source": [
    "By multipling select feature variations by their spread, we no have the variations in their original units"
   ]
  },
  {
   "cell_type": "code",
   "execution_count": 25,
   "metadata": {},
   "outputs": [
    {
     "data": {
      "text/html": [
       "<div>\n",
       "<style scoped>\n",
       "    .dataframe tbody tr th:only-of-type {\n",
       "        vertical-align: middle;\n",
       "    }\n",
       "\n",
       "    .dataframe tbody tr th {\n",
       "        vertical-align: top;\n",
       "    }\n",
       "\n",
       "    .dataframe thead th {\n",
       "        text-align: right;\n",
       "    }\n",
       "</style>\n",
       "<table border=\"1\" class=\"dataframe\">\n",
       "  <thead>\n",
       "    <tr style=\"text-align: right;\">\n",
       "      <th></th>\n",
       "      <th>spread</th>\n",
       "    </tr>\n",
       "  </thead>\n",
       "  <tbody>\n",
       "    <tr>\n",
       "      <th>carbon_intensity</th>\n",
       "      <td>7.879259e-21</td>\n",
       "    </tr>\n",
       "    <tr>\n",
       "      <th>day_type_cos</th>\n",
       "      <td>NaN</td>\n",
       "    </tr>\n",
       "    <tr>\n",
       "      <th>day_type_sin</th>\n",
       "      <td>NaN</td>\n",
       "    </tr>\n",
       "    <tr>\n",
       "      <th>diffuse_solar_irradiance</th>\n",
       "      <td>1.451530e-04</td>\n",
       "    </tr>\n",
       "    <tr>\n",
       "      <th>diffuse_solar_irradiance_predicted_12h</th>\n",
       "      <td>2.032139e-03</td>\n",
       "    </tr>\n",
       "    <tr>\n",
       "      <th>diffuse_solar_irradiance_predicted_24h</th>\n",
       "      <td>3.338519e-03</td>\n",
       "    </tr>\n",
       "    <tr>\n",
       "      <th>diffuse_solar_irradiance_predicted_6h</th>\n",
       "      <td>4.790049e-03</td>\n",
       "    </tr>\n",
       "    <tr>\n",
       "      <th>direct_solar_irradiance</th>\n",
       "      <td>3.264444e-03</td>\n",
       "    </tr>\n",
       "    <tr>\n",
       "      <th>direct_solar_irradiance_predicted_12h</th>\n",
       "      <td>4.216572e-03</td>\n",
       "    </tr>\n",
       "    <tr>\n",
       "      <th>direct_solar_irradiance_predicted_24h</th>\n",
       "      <td>1.088148e-03</td>\n",
       "    </tr>\n",
       "    <tr>\n",
       "      <th>direct_solar_irradiance_predicted_6h</th>\n",
       "      <td>3.264444e-03</td>\n",
       "    </tr>\n",
       "    <tr>\n",
       "      <th>electrical_storage_soc</th>\n",
       "      <td>1.992600e-06</td>\n",
       "    </tr>\n",
       "    <tr>\n",
       "      <th>electricity_pricing</th>\n",
       "      <td>1.318794e-06</td>\n",
       "    </tr>\n",
       "    <tr>\n",
       "      <th>electricity_pricing_predicted_12h</th>\n",
       "      <td>2.260790e-06</td>\n",
       "    </tr>\n",
       "    <tr>\n",
       "      <th>electricity_pricing_predicted_24h</th>\n",
       "      <td>2.354988e-08</td>\n",
       "    </tr>\n",
       "    <tr>\n",
       "      <th>electricity_pricing_predicted_6h</th>\n",
       "      <td>3.296986e-07</td>\n",
       "    </tr>\n",
       "    <tr>\n",
       "      <th>hour_cos</th>\n",
       "      <td>NaN</td>\n",
       "    </tr>\n",
       "    <tr>\n",
       "      <th>hour_sin</th>\n",
       "      <td>NaN</td>\n",
       "    </tr>\n",
       "    <tr>\n",
       "      <th>month_cos</th>\n",
       "      <td>NaN</td>\n",
       "    </tr>\n",
       "    <tr>\n",
       "      <th>month_sin</th>\n",
       "      <td>NaN</td>\n",
       "    </tr>\n",
       "    <tr>\n",
       "      <th>net_electricity_consumption</th>\n",
       "      <td>7.279069e-05</td>\n",
       "    </tr>\n",
       "    <tr>\n",
       "      <th>non_shiftable_load</th>\n",
       "      <td>1.066125e-05</td>\n",
       "    </tr>\n",
       "    <tr>\n",
       "      <th>outdoor_dry_bulb_temperature</th>\n",
       "      <td>3.796529e-06</td>\n",
       "    </tr>\n",
       "    <tr>\n",
       "      <th>outdoor_dry_bulb_temperature_predicted_12h</th>\n",
       "      <td>1.025064e-04</td>\n",
       "    </tr>\n",
       "    <tr>\n",
       "      <th>outdoor_dry_bulb_temperature_predicted_24h</th>\n",
       "      <td>1.708438e-04</td>\n",
       "    </tr>\n",
       "    <tr>\n",
       "      <th>outdoor_dry_bulb_temperature_predicted_6h</th>\n",
       "      <td>1.803351e-04</td>\n",
       "    </tr>\n",
       "    <tr>\n",
       "      <th>outdoor_relative_humidity</th>\n",
       "      <td>6.165783e-04</td>\n",
       "    </tr>\n",
       "    <tr>\n",
       "      <th>outdoor_relative_humidity_predicted_12h</th>\n",
       "      <td>6.165784e-04</td>\n",
       "    </tr>\n",
       "    <tr>\n",
       "      <th>outdoor_relative_humidity_predicted_24h</th>\n",
       "      <td>5.651969e-04</td>\n",
       "    </tr>\n",
       "    <tr>\n",
       "      <th>outdoor_relative_humidity_predicted_6h</th>\n",
       "      <td>6.165788e-04</td>\n",
       "    </tr>\n",
       "    <tr>\n",
       "      <th>solar_generation</th>\n",
       "      <td>0.000000e+00</td>\n",
       "    </tr>\n",
       "  </tbody>\n",
       "</table>\n",
       "</div>"
      ],
      "text/plain": [
       "                                                  spread\n",
       "carbon_intensity                            7.879259e-21\n",
       "day_type_cos                                         NaN\n",
       "day_type_sin                                         NaN\n",
       "diffuse_solar_irradiance                    1.451530e-04\n",
       "diffuse_solar_irradiance_predicted_12h      2.032139e-03\n",
       "diffuse_solar_irradiance_predicted_24h      3.338519e-03\n",
       "diffuse_solar_irradiance_predicted_6h       4.790049e-03\n",
       "direct_solar_irradiance                     3.264444e-03\n",
       "direct_solar_irradiance_predicted_12h       4.216572e-03\n",
       "direct_solar_irradiance_predicted_24h       1.088148e-03\n",
       "direct_solar_irradiance_predicted_6h        3.264444e-03\n",
       "electrical_storage_soc                      1.992600e-06\n",
       "electricity_pricing                         1.318794e-06\n",
       "electricity_pricing_predicted_12h           2.260790e-06\n",
       "electricity_pricing_predicted_24h           2.354988e-08\n",
       "electricity_pricing_predicted_6h            3.296986e-07\n",
       "hour_cos                                             NaN\n",
       "hour_sin                                             NaN\n",
       "month_cos                                            NaN\n",
       "month_sin                                            NaN\n",
       "net_electricity_consumption                 7.279069e-05\n",
       "non_shiftable_load                          1.066125e-05\n",
       "outdoor_dry_bulb_temperature                3.796529e-06\n",
       "outdoor_dry_bulb_temperature_predicted_12h  1.025064e-04\n",
       "outdoor_dry_bulb_temperature_predicted_24h  1.708438e-04\n",
       "outdoor_dry_bulb_temperature_predicted_6h   1.803351e-04\n",
       "outdoor_relative_humidity                   6.165783e-04\n",
       "outdoor_relative_humidity_predicted_12h     6.165784e-04\n",
       "outdoor_relative_humidity_predicted_24h     5.651969e-04\n",
       "outdoor_relative_humidity_predicted_6h      6.165788e-04\n",
       "solar_generation                            0.000000e+00"
      ]
     },
     "execution_count": 25,
     "metadata": {},
     "output_type": "execute_result"
    }
   ],
   "source": [
    "(abs(df_variation['SAC_bifurcated_myPGD_03_mask_solar_and_time_scale_consumption_eps_clipped_adv_obs'] - df_variation['SAC_baseline']).mul(obs_spread.T)).T"
   ]
  },
  {
   "cell_type": "markdown",
   "metadata": {},
   "source": [
    "For this attack, the effect on the mean variation is negligable."
   ]
  },
  {
   "cell_type": "code",
   "execution_count": null,
   "metadata": {},
   "outputs": [],
   "source": []
  }
 ],
 "metadata": {
  "kernelspec": {
   "display_name": "CityLearnART",
   "language": "python",
   "name": "python3"
  },
  "language_info": {
   "codemirror_mode": {
    "name": "ipython",
    "version": 3
   },
   "file_extension": ".py",
   "mimetype": "text/x-python",
   "name": "python",
   "nbconvert_exporter": "python",
   "pygments_lexer": "ipython3",
   "version": "3.10.12"
  }
 },
 "nbformat": 4,
 "nbformat_minor": 2
}
