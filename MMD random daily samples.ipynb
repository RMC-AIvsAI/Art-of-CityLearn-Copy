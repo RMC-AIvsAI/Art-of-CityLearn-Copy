{
 "cells": [
  {
   "cell_type": "markdown",
   "metadata": {},
   "source": [
    "Tutorial for MMD with the TorchDrift library: https://towardsai.net/p/machine-learning/drift-detection-using-torchdrift-for-tabular-and-time-series-data\n",
    "\n",
    "more documentation on TorchDrift MMD: https://torchdrift.org/notebooks/note_on_mmd.html"
   ]
  },
  {
   "cell_type": "code",
   "execution_count": 1,
   "metadata": {},
   "outputs": [],
   "source": [
    "import pandas as pd\n",
    "import torch\n",
    "import torchdrift.detectors as detectors"
   ]
  },
  {
   "cell_type": "code",
   "execution_count": 2,
   "metadata": {},
   "outputs": [],
   "source": [
    "SAMPLE = r'default SAC 500 norm space results\\baseline_obs-a.csv'\n",
    "SAVE_DIR = r'default SAC 500 norm space results' + '/'\n",
    "ATK_NAME = 'MMD_baseline_random_daily_samples_2'"
   ]
  },
  {
   "cell_type": "markdown",
   "metadata": {},
   "source": [
    "##### On the (Statistical) Detection of Adversarial Examples\n",
    "\n",
    "**Two-sample hypothesis testing** — As stated before, the test we chose is appropriate to handle high dimensional inputs and small sample sizes. We compute the biased estimate of MMD using a **Gaussian kernel**, and then apply **10 000 bootstrapping iterations** to estimate the distributions. Based on this, we compute the **pvalue** and compare it to the threshold, in our experiments **0.05**. For samples of **legitimate data, the observed p-value should always be very high**, whereas for sample sets containing adversarial examples, we expect it to be low—since they are sampled from a different distribution and thus the hypothesis should be rejected. The test is more likely to detect a difference in two distributions when it considers samples of large size (i.e., the sample contains more inputs from the distribution)."
   ]
  },
  {
   "cell_type": "code",
   "execution_count": 3,
   "metadata": {},
   "outputs": [],
   "source": [
    "BOOTSTRAP = 10_000\n",
    "PVAL = 0.05\n",
    "kernel = detectors.mmd.GaussianKernel()"
   ]
  },
  {
   "cell_type": "markdown",
   "metadata": {},
   "source": [
    "Because our dataset is a time series, we will use MMD on different time segments rather than shuffling the dataset"
   ]
  },
  {
   "cell_type": "markdown",
   "metadata": {},
   "source": [
    "Load unperturbed observations from untargeted adversarial attack"
   ]
  },
  {
   "cell_type": "code",
   "execution_count": 4,
   "metadata": {},
   "outputs": [],
   "source": [
    "df_obs = pd.read_csv(SAMPLE, \n",
    "                        index_col=0,\n",
    "                        dtype='float32',\n",
    "                        )\n",
    "df_obs.set_index(df_obs.index.astype(int), inplace=True) #all data is loaded as float32, but the index should be an int"
   ]
  },
  {
   "cell_type": "markdown",
   "metadata": {},
   "source": [
    "Remove actions if stored in df"
   ]
  },
  {
   "cell_type": "code",
   "execution_count": 5,
   "metadata": {},
   "outputs": [],
   "source": [
    "if 'a' in df_obs.columns:\n",
    "    df_obs.drop(columns=['a'], inplace=True)\n",
    "elif 'actions' in df_obs.columns:\n",
    "    df_obs.drop(columns=['actions'], inplace=True)"
   ]
  },
  {
   "cell_type": "code",
   "execution_count": 6,
   "metadata": {},
   "outputs": [],
   "source": [
    "samples_per_day = 24\n",
    "# Split the DataFrame into two equal parts day by day\n",
    "df1 = pd.DataFrame()\n",
    "df2 = pd.DataFrame()\n",
    "\n",
    "for i in range(0, len(df_obs), samples_per_day):\n",
    "    daily_samples = df_obs.iloc[i:i+samples_per_day]\n",
    "    daily_samples = daily_samples.sample(frac=1)  # shuffle the daily samples\n",
    "    df1 = df1.append(daily_samples.iloc[:samples_per_day//2])\n",
    "    df2 = df2.append(daily_samples.iloc[samples_per_day//2:])\n",
    "\n",
    "df1 = df1.reset_index(drop=True)\n",
    "df2 = df2.reset_index(drop=True)"
   ]
  },
  {
   "cell_type": "code",
   "execution_count": 7,
   "metadata": {},
   "outputs": [
    {
     "name": "stdout",
     "output_type": "stream",
     "text": [
      "mmd:0.0003371238708496094, p-value:0.9971999526023865\n"
     ]
    }
   ],
   "source": [
    "result = detectors.kernel_mmd(torch.from_numpy(df1.values).to('cuda'), #clean obs from adv trace\n",
    "                                  torch.from_numpy(df2.values).to('cuda'), #perturbed obs from adv trace\n",
    "                                  n_perm=BOOTSTRAP,\n",
    "                                  kernel=kernel)\n",
    "torch.cuda.empty_cache() #free gpu memory\n",
    "print(f'mmd:{result[0]}, p-value:{result[1]}')"
   ]
  },
  {
   "cell_type": "markdown",
   "metadata": {},
   "source": [
    "convert cuda tensors to numpy"
   ]
  },
  {
   "cell_type": "code",
   "execution_count": 8,
   "metadata": {},
   "outputs": [],
   "source": [
    "cpu_result = [tensor.item() for tensor in result]"
   ]
  },
  {
   "cell_type": "code",
   "execution_count": 9,
   "metadata": {},
   "outputs": [
    {
     "name": "stdout",
     "output_type": "stream",
     "text": [
      "default SAC 500 norm space results/MMDs.csv updated\n"
     ]
    }
   ],
   "source": [
    "mmd_savename = SAVE_DIR+'MMDs.csv'\n",
    "try:\n",
    "    df_mmd = pd.read_csv(mmd_savename,\n",
    "                         index_col=0)\n",
    "    df_mmd = df_mmd.append(\n",
    "                pd.Series(cpu_result,\n",
    "                        index=df_mmd.columns,\n",
    "                        name=ATK_NAME,),\n",
    "            )\n",
    "    #df_mmd.loc[ATK_NAME] = cpu_result\n",
    "    df_mmd.to_csv(mmd_savename)\n",
    "    print(f'{mmd_savename} updated')\n",
    "except:\n",
    "    df_mmd = pd.DataFrame([cpu_result],\n",
    "                      columns=['MMD','p_value'],\n",
    "                      index=[ATK_NAME])\n",
    "    df_mmd.to_csv(mmd_savename)\n",
    "    print(f'{mmd_savename} created')"
   ]
  },
  {
   "cell_type": "code",
   "execution_count": null,
   "metadata": {},
   "outputs": [],
   "source": []
  }
 ],
 "metadata": {
  "kernelspec": {
   "display_name": "CityLearnART",
   "language": "python",
   "name": "python3"
  },
  "language_info": {
   "codemirror_mode": {
    "name": "ipython",
    "version": 3
   },
   "file_extension": ".py",
   "mimetype": "text/x-python",
   "name": "python",
   "nbconvert_exporter": "python",
   "pygments_lexer": "ipython3",
   "version": "3.10.12"
  }
 },
 "nbformat": 4,
 "nbformat_minor": 2
}
