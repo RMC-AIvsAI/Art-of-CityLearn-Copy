{
 "cells": [
  {
   "cell_type": "code",
   "execution_count": 17,
   "metadata": {},
   "outputs": [],
   "source": [
    "AGENT_NAME = 'Models/ATLA/PPO agent 100 alts over 0+500 1-17-21.zip'\n",
    "DATASET_NAME = 'citylearn_challenge_2022_phase_2' #only action is electrical storage\n",
    "SURROGATE = 'PPO agent 100 alts over 0+500 1-17-21 results/surrogates/imitator.pth'\n",
    "SAVE_DIR = 'PPO agent 100 alts over 0+500 1-17-21 results' + '/'\n",
    "TEST_NAME = 'FGM_5%'"
   ]
  },
  {
   "cell_type": "code",
   "execution_count": 2,
   "metadata": {},
   "outputs": [],
   "source": [
    "from stable_baselines3 import PPO\n",
    "\n",
    "from citylearn.data import DataSet\n",
    "\n",
    "from art.estimators.classification import PyTorchClassifier as classifier\n",
    "\n",
    "from art.attacks.evasion import FastGradientMethod as FGM\n",
    "\n",
    "import logging\n",
    "import pandas as pd\n",
    "import numpy as np\n",
    "import torch\n",
    "from torch.nn import CrossEntropyLoss\n",
    "\n",
    "import KBMproject.utilities as utils\n",
    "\n",
    "%matplotlib inline"
   ]
  },
  {
   "cell_type": "code",
   "execution_count": 3,
   "metadata": {},
   "outputs": [],
   "source": [
    "schema = DataSet.get_schema(DATASET_NAME)"
   ]
  },
  {
   "cell_type": "code",
   "execution_count": 4,
   "metadata": {},
   "outputs": [
    {
     "name": "stdout",
     "output_type": "stream",
     "text": [
      "Model loaded from storage\n"
     ]
    }
   ],
   "source": [
    "agent = PPO.load(path=f\"{AGENT_NAME}\")\n",
    "print('Model loaded from storage')"
   ]
  },
  {
   "cell_type": "code",
   "execution_count": 7,
   "metadata": {},
   "outputs": [],
   "source": [
    "bins = agent.action_space[0].n\n",
    "env = utils.make_discrete_env(schema=schema,  \n",
    "                        action_bins=bins,\n",
    "                        seed=42,\n",
    "                        )\n",
    "cols =  env.observation_names"
   ]
  },
  {
   "cell_type": "code",
   "execution_count": null,
   "metadata": {},
   "outputs": [],
   "source": []
  },
  {
   "cell_type": "code",
   "execution_count": 9,
   "metadata": {},
   "outputs": [
    {
     "name": "stdout",
     "output_type": "stream",
     "text": [
      "masked features:\n"
     ]
    },
    {
     "data": {
      "text/plain": [
       "['month_cos',\n",
       " 'month_sin',\n",
       " 'day_type_cos',\n",
       " 'day_type_sin',\n",
       " 'hour_cos',\n",
       " 'hour_sin']"
      ]
     },
     "execution_count": 9,
     "metadata": {},
     "output_type": "execute_result"
    }
   ],
   "source": [
    "observation_masks = np.ones(agent.observation_space.shape)\n",
    "observation_masks[0:6] = 0 #mask time features\n",
    "print('masked features:')\n",
    "cols[0][0:6]"
   ]
  },
  {
   "cell_type": "code",
   "execution_count": 19,
   "metadata": {},
   "outputs": [],
   "source": [
    "kwargs = dict(norm=np.inf,\n",
    "        eps=0.05,\n",
    "        #num_random_init=0,\n",
    "        #targeted=False,\n",
    "        #minimal=False\n",
    "        )\n",
    "attack = FGM(estimator=classifier(\n",
    "                        model=torch.load(SURROGATE),\n",
    "                        loss=CrossEntropyLoss(), \n",
    "                        nb_classes=agent.action_space[0].n, \n",
    "                        input_shape=agent.observation_space.shape,\n",
    "                        device_type='gpu',\n",
    "                        clip_values = (agent.observation_space.low.min(),agent.observation_space.high.max())\n",
    "                        ),\n",
    "            **kwargs\n",
    "             )"
   ]
  },
  {
   "cell_type": "code",
   "execution_count": 20,
   "metadata": {},
   "outputs": [
    {
     "name": "stderr",
     "output_type": "stream",
     "text": [
      "100%|█████████▉| 8758/8759 [01:23<00:00, 105.44it/s] ASR=0.528]\n",
      "100%|██████████| 8759/8759 [01:23<00:00, 105.45it/s, ASR=0.528]\n"
     ]
    }
   ],
   "source": [
    "logging.basicConfig(level=logging.WARN)\n",
    "kpi, obs, adv_obs, asr = utils.eval_untargeted_attack(agent, env, attack,\n",
    "                                                      mask=observation_masks,\n",
    "                                                      time_steps=None)"
   ]
  },
  {
   "cell_type": "code",
   "execution_count": 13,
   "metadata": {},
   "outputs": [
    {
     "data": {
      "text/plain": [
       "cost_function\n",
       "annual_peak_average                      1.027318\n",
       "carbon_emissions_total                   0.915260\n",
       "cost_total                               0.822845\n",
       "daily_one_minus_load_factor_average      1.216850\n",
       "daily_peak_average                       0.964038\n",
       "electricity_consumption_total            0.927147\n",
       "monthly_one_minus_load_factor_average    0.993826\n",
       "ramping_average                          1.234974\n",
       "zero_net_energy                          1.104975\n",
       "Name: District, dtype: float64"
      ]
     },
     "metadata": {},
     "output_type": "display_data"
    }
   ],
   "source": [
    "display(kpi)"
   ]
  },
  {
   "cell_type": "code",
   "execution_count": 18,
   "metadata": {},
   "outputs": [
    {
     "name": "stdout",
     "output_type": "stream",
     "text": [
      "PPO agent 100 alts over 0+500 1-17-21 results/KPIs.csv updated\n"
     ]
    }
   ],
   "source": [
    "kpi_savename = SAVE_DIR+'KPIs.csv'\n",
    "try:\n",
    "    df_kpis = pd.read_csv(kpi_savename, \n",
    "                          index_col=0)\n",
    "    df_kpis[TEST_NAME] = kpi.values\n",
    "    df_kpis.to_csv(kpi_savename)\n",
    "    print(f'{kpi_savename} updated')\n",
    "except:\n",
    "    kpi.name = TEST_NAME\n",
    "    kpi.to_csv(kpi_savename)\n",
    "    print(f'{kpi_savename} created')"
   ]
  },
  {
   "cell_type": "code",
   "execution_count": null,
   "metadata": {},
   "outputs": [],
   "source": []
  }
 ],
 "metadata": {
  "kernelspec": {
   "display_name": "CityLearnART",
   "language": "python",
   "name": "python3"
  },
  "language_info": {
   "codemirror_mode": {
    "name": "ipython",
    "version": 3
   },
   "file_extension": ".py",
   "mimetype": "text/x-python",
   "name": "python",
   "nbconvert_exporter": "python",
   "pygments_lexer": "ipython3",
   "version": "3.10.12"
  }
 },
 "nbformat": 4,
 "nbformat_minor": 2
}
