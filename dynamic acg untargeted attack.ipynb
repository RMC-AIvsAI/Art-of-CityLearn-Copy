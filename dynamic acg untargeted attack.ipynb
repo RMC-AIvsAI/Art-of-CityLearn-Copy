{
 "cells": [
  {
   "cell_type": "markdown",
   "metadata": {},
   "source": [
    "Results for:"
   ]
  },
  {
   "cell_type": "code",
   "execution_count": 12,
   "metadata": {},
   "outputs": [],
   "source": [
    "AGENT_NAME = r'Models\\ATLA\\PPO agent 100 alts over 1000+200 2-3-21.zip'\n",
    "#DATASET_NAME = '19 feature 300 episodes results\\schema.json'\n",
    "DATASET_NAME = 'citylearn_challenge_2022_phase_2'\n",
    "SAVE_DIR = 'PPO agent 100 alts over 1000+200 2-3-21 results' + '/'\n",
    "ATK_NAME = 'dynamic_untargeted_acg'"
   ]
  },
  {
   "cell_type": "code",
   "execution_count": 2,
   "metadata": {},
   "outputs": [],
   "source": [
    "from stable_baselines3 import PPO\n",
    "\n",
    "from citylearn.data import DataSet\n",
    "\n",
    "from art.attacks.evasion import AutoConjugateGradient as ACG\n",
    "\n",
    "import pandas as pd\n",
    "import numpy as np\n",
    "import json\n",
    "\n",
    "import KBMproject.utilities as utils\n",
    "\n",
    "%matplotlib inline"
   ]
  },
  {
   "cell_type": "code",
   "execution_count": 3,
   "metadata": {},
   "outputs": [],
   "source": [
    "try: #try to load CityLearn schema\n",
    "    schema = DataSet.get_schema(DATASET_NAME)\n",
    "except: #load saved schema otherwise\n",
    "    with open(DATASET_NAME, 'r') as file:\n",
    "        schema = json.load(file)"
   ]
  },
  {
   "cell_type": "markdown",
   "metadata": {},
   "source": [
    "Define RL agent"
   ]
  },
  {
   "cell_type": "code",
   "execution_count": 4,
   "metadata": {},
   "outputs": [
    {
     "name": "stdout",
     "output_type": "stream",
     "text": [
      "== CURRENT SYSTEM INFO ==\n",
      "- OS: Windows-10-10.0.19045-SP0 10.0.19045\n",
      "- Python: 3.10.12\n",
      "- Stable-Baselines3: 1.8.0\n",
      "- PyTorch: 1.12.1\n",
      "- GPU Enabled: True\n",
      "- Numpy: 1.23.5\n",
      "- Gym: 0.21.0\n",
      "\n",
      "== SAVED MODEL SYSTEM INFO ==\n",
      "- OS: Windows-10-10.0.22631-SP0 10.0.22631\n",
      "- Python: 3.10.12\n",
      "- Stable-Baselines3: 1.8.0\n",
      "- PyTorch: 1.12.1\n",
      "- GPU Enabled: True\n",
      "- Numpy: 1.25.1\n",
      "- Gym: 0.21.0\n",
      "\n"
     ]
    },
    {
     "name": "stderr",
     "output_type": "stream",
     "text": [
      "c:\\Users\\Broda-Milian\\anaconda3\\envs\\CityLearnART\\lib\\site-packages\\stable_baselines3\\common\\save_util.py:166: UserWarning: Could not deserialize object lr_schedule. Consider using `custom_objects` argument to replace this object.\n",
      "Exception: Can't get attribute '_function_setstate' on <module 'cloudpickle.cloudpickle' from 'c:\\\\Users\\\\Broda-Milian\\\\anaconda3\\\\envs\\\\CityLearnART\\\\lib\\\\site-packages\\\\cloudpickle\\\\cloudpickle.py'>\n",
      "  warnings.warn(\n",
      "c:\\Users\\Broda-Milian\\anaconda3\\envs\\CityLearnART\\lib\\site-packages\\stable_baselines3\\common\\save_util.py:166: UserWarning: Could not deserialize object clip_range. Consider using `custom_objects` argument to replace this object.\n",
      "Exception: Can't get attribute '_function_setstate' on <module 'cloudpickle.cloudpickle' from 'c:\\\\Users\\\\Broda-Milian\\\\anaconda3\\\\envs\\\\CityLearnART\\\\lib\\\\site-packages\\\\cloudpickle\\\\cloudpickle.py'>\n",
      "  warnings.warn(\n"
     ]
    },
    {
     "name": "stdout",
     "output_type": "stream",
     "text": [
      "Model loaded from storage\n"
     ]
    }
   ],
   "source": [
    "agent = PPO.load(path=f\"{AGENT_NAME}\",\n",
    "                 print_system_info=True)\n",
    "print('Model loaded from storage')"
   ]
  },
  {
   "cell_type": "code",
   "execution_count": 5,
   "metadata": {},
   "outputs": [],
   "source": [
    "bins = agent.action_space[0].n\n",
    "env = utils.make_discrete_env(schema=schema,  \n",
    "                        action_bins=bins,\n",
    "                        seed=42)"
   ]
  },
  {
   "cell_type": "code",
   "execution_count": 6,
   "metadata": {},
   "outputs": [],
   "source": [
    "cols = env.observation_names"
   ]
  },
  {
   "cell_type": "code",
   "execution_count": 7,
   "metadata": {},
   "outputs": [],
   "source": [
    "observation_masks = np.ones(agent.observation_space.shape)\n",
    "observation_masks[0:6] = 0 #mask time features"
   ]
  },
  {
   "cell_type": "code",
   "execution_count": 8,
   "metadata": {},
   "outputs": [],
   "source": [
    "init = 50\n",
    "iter = int(500/init)\n",
    "ACG_parameters = dict(\n",
    "    loss_type='difference_logits_ratio', \n",
    "    batch_size=1,\n",
    "    nb_random_init=init, #5, lower values speed crafting\n",
    "    max_iter=iter, #iterations per restart\n",
    "    norm='inf', #->l2 ->l1 most restrictive \n",
    ")\n",
    "eps_list = [0.01, 0.03, 0.05, 0.07]"
   ]
  },
  {
   "cell_type": "code",
   "execution_count": 9,
   "metadata": {},
   "outputs": [
    {
     "name": "stderr",
     "output_type": "stream",
     "text": [
      "100%|█████████▉| 8758/8759 [3:19:29<00:01,  1.37s/it]  \n"
     ]
    },
    {
     "name": "stdout",
     "output_type": "stream",
     "text": [
      "The Adversarial success rate is: 0.9899531910035392\n",
      "The average distance between optinmal and adversarial actions is: 2.5317958671081238\n",
      "CPU times: total: 3h 19min 17s\n",
      "Wall time: 3h 19min 31s\n"
     ]
    }
   ],
   "source": [
    "%%time\n",
    "#%%capture\n",
    "#attack = utils.define_attack(agent, ACG)\n",
    "kpi, obs, adv_obs, eps = utils.eval_untargeted_dynamic_distortion_attack(agent,\n",
    "                                                        env,\n",
    "                                                        ART_atk=ACG,\n",
    "                                                        ART_atk_kwargs=ACG_parameters,\n",
    "                                                        eps_candidates=eps_list,\n",
    "                                                        time_steps=None,\n",
    "                                                        mask=observation_masks)"
   ]
  },
  {
   "cell_type": "markdown",
   "metadata": {},
   "source": [
    "calculate asr from eps"
   ]
  },
  {
   "cell_type": "markdown",
   "metadata": {},
   "source": [
    "KPIs <=1 are win, since we aren't worse off using a DRL controller in the worst case attack"
   ]
  },
  {
   "cell_type": "code",
   "execution_count": 10,
   "metadata": {},
   "outputs": [
    {
     "data": {
      "text/plain": [
       "cost_function\n",
       "annual_peak_average                      1.009986\n",
       "carbon_emissions_total                   0.906728\n",
       "cost_total                               0.799590\n",
       "daily_one_minus_load_factor_average      1.024541\n",
       "daily_peak_average                       0.954933\n",
       "electricity_consumption_total            0.924883\n",
       "monthly_one_minus_load_factor_average    0.989035\n",
       "ramping_average                          1.213821\n",
       "zero_net_energy                          1.105068\n",
       "Name: District, dtype: float64"
      ]
     },
     "execution_count": 10,
     "metadata": {},
     "output_type": "execute_result"
    }
   ],
   "source": [
    "kpi"
   ]
  },
  {
   "cell_type": "code",
   "execution_count": 13,
   "metadata": {},
   "outputs": [
    {
     "name": "stdout",
     "output_type": "stream",
     "text": [
      "PPO agent 100 alts over 1000+200 2-3-21 results/KPIs.csv updated\n"
     ]
    }
   ],
   "source": [
    "kpi_savename = SAVE_DIR+'KPIs.csv'\n",
    "try:\n",
    "    df_kpis = pd.read_csv(kpi_savename, index_col=0)\n",
    "    df_kpis[ATK_NAME] = kpi.values\n",
    "    df_kpis.to_csv(kpi_savename)\n",
    "    print(f'{kpi_savename} updated')\n",
    "except:\n",
    "    kpi.name = ATK_NAME\n",
    "    kpi.to_csv(kpi_savename)\n",
    "    print(f'{kpi_savename} created')"
   ]
  },
  {
   "cell_type": "code",
   "execution_count": 14,
   "metadata": {},
   "outputs": [],
   "source": [
    "df_obs = pd.DataFrame(obs)\n",
    "df_obs.columns = cols\n",
    "df_obs.to_csv(SAVE_DIR+ATK_NAME+'_obs.csv')"
   ]
  },
  {
   "cell_type": "code",
   "execution_count": 15,
   "metadata": {},
   "outputs": [],
   "source": [
    "df_obs = pd.DataFrame(adv_obs)\n",
    "df_obs.columns = cols\n",
    "df_obs.to_csv(SAVE_DIR+ATK_NAME+'_adv_obs.csv')"
   ]
  },
  {
   "cell_type": "code",
   "execution_count": 16,
   "metadata": {},
   "outputs": [
    {
     "name": "stdout",
     "output_type": "stream",
     "text": [
      "PPO agent 100 alts over 1000+200 2-3-21 results/epsilons.csv created\n"
     ]
    }
   ],
   "source": [
    "eps = pd.Series(eps)\n",
    "eps_savename = SAVE_DIR+'epsilons.csv'\n",
    "try:\n",
    "    df_eps = pd.read_csv(eps_savename)\n",
    "    df_eps[ATK_NAME] = eps.values\n",
    "    df_eps.to_csv(eps_savename)\n",
    "    print(f'{eps_savename} updated')\n",
    "except:\n",
    "    eps.name = ATK_NAME\n",
    "    eps.to_csv(eps_savename)\n",
    "    print(f'{eps_savename} created')"
   ]
  },
  {
   "cell_type": "code",
   "execution_count": 17,
   "metadata": {},
   "outputs": [
    {
     "name": "stdout",
     "output_type": "stream",
     "text": [
      "PPO agent 100 alts over 1000+200 2-3-21 results/ASRs.csv created\n"
     ]
    }
   ],
   "source": [
    "asr = eps.notna().mean()\n",
    "asr_savename = SAVE_DIR+'ASRs.csv'\n",
    "try:\n",
    "    df_asrs = pd.read_csv(asr_savename)\n",
    "    df_asrs[ATK_NAME] = asr\n",
    "    df_asrs.to_csv(asr_savename)\n",
    "    print(f'{asr_savename} updated')\n",
    "except:\n",
    "    asr = pd.Series([asr])\n",
    "    asr.name = ATK_NAME\n",
    "    asr.to_csv(asr_savename)\n",
    "    print(f'{asr_savename} created')"
   ]
  },
  {
   "cell_type": "code",
   "execution_count": null,
   "metadata": {},
   "outputs": [],
   "source": []
  }
 ],
 "metadata": {
  "kernelspec": {
   "display_name": "CityLearnART",
   "language": "python",
   "name": "python3"
  },
  "language_info": {
   "codemirror_mode": {
    "name": "ipython",
    "version": 3
   },
   "file_extension": ".py",
   "mimetype": "text/x-python",
   "name": "python",
   "nbconvert_exporter": "python",
   "pygments_lexer": "ipython3",
   "version": "3.10.12"
  }
 },
 "nbformat": 4,
 "nbformat_minor": 2
}
