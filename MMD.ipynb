{
 "cells": [
  {
   "cell_type": "markdown",
   "metadata": {},
   "source": [
    "Tutorial for MMD with the TorchDrift library: https://towardsai.net/p/machine-learning/drift-detection-using-torchdrift-for-tabular-and-time-series-data\n",
    "\n",
    "more documentation on TorchDrift MMD: https://torchdrift.org/notebooks/note_on_mmd.html"
   ]
  },
  {
   "cell_type": "code",
   "execution_count": 1,
   "metadata": {},
   "outputs": [],
   "source": [
    "import pandas as pd\n",
    "import torch\n",
    "import torchdrift.detectors as detectors"
   ]
  },
  {
   "cell_type": "code",
   "execution_count": 2,
   "metadata": {},
   "outputs": [
    {
     "name": "stderr",
     "output_type": "stream",
     "text": [
      "<>:11: SyntaxWarning: assertion is always true, perhaps remove parentheses?\n",
      "<>:11: SyntaxWarning: assertion is always true, perhaps remove parentheses?\n",
      "C:\\Users\\kbrod\\AppData\\Local\\Temp\\ipykernel_21084\\3679586233.py:11: SyntaxWarning: assertion is always true, perhaps remove parentheses?\n",
      "  assert(FILNA != NOTNA, ' Why would you use both?!')\n"
     ]
    }
   ],
   "source": [
    "SAMPLE1 = r'PPO agent 100 alts over 1000+200 2-3-21 results\\untargeted_binary_myPGD_03_mask_time_scale_solar_and_consumption_eps_adv_obs-a.csv'\n",
    "SAMPLE2 = r'PPO agent 100 alts over 1000+200 2-3-21 results\\untargeted_binary_myPGD_03_mask_time_scale_solar_and_consumption_eps_adv_obs-a.csv'\n",
    "SAVE_DIR = r'PPO agent 100 alts over 1000+200 2-3-21 results' + '/'\n",
    "FILNA = False\n",
    "NOTNA = False\n",
    "ATK_NAME = 'untargeted_binary_myPGD_03_mask_time_scale_solar_and_consumption_eps'\n",
    "if FILNA:\n",
    "    ATK_NAME += '_fillna'\n",
    "if NOTNA:\n",
    "    ATK_NAME += '_notna'\n",
    "assert(FILNA != NOTNA, ' Why would you use both?!')"
   ]
  },
  {
   "cell_type": "markdown",
   "metadata": {},
   "source": [
    "##### On the (Statistical) Detection of Adversarial Examples\n",
    "\n",
    "**Two-sample hypothesis testing** — As stated before, the test we chose is appropriate to handle high dimensional inputs and small sample sizes. We compute the biased estimate of MMD using a **Gaussian kernel**, and then apply **10 000 bootstrapping iterations** to estimate the distributions. Based on this, we compute the **pvalue** and compare it to the threshold, in our experiments **0.05**. For samples of **legitimate data, the observed p-value should always be very high**, whereas for sample sets containing adversarial examples, we expect it to be low—since they are sampled from a different distribution and thus the hypothesis should be rejected. The test is more likely to detect a difference in two distributions when it considers samples of large size (i.e., the sample contains more inputs from the distribution)."
   ]
  },
  {
   "cell_type": "code",
   "execution_count": 3,
   "metadata": {},
   "outputs": [],
   "source": [
    "BOOTSTRAP = 10_000\n",
    "PVAL = 0.05\n",
    "kernel = detectors.mmd.GaussianKernel()"
   ]
  },
  {
   "cell_type": "markdown",
   "metadata": {},
   "source": [
    "Because our dataset is a time series, we will use MMD on different time segments rather than shuffling the dataset"
   ]
  },
  {
   "cell_type": "markdown",
   "metadata": {},
   "source": [
    "Load unperturbed observations from untargeted adversarial attack"
   ]
  },
  {
   "cell_type": "code",
   "execution_count": 4,
   "metadata": {},
   "outputs": [],
   "source": [
    "df_adv_obs = pd.read_csv(SAMPLE1, \n",
    "                        index_col=0,\n",
    "                        dtype='float32',\n",
    "                        )\n",
    "df_adv_obs.set_index(df_adv_obs.index.astype(int), inplace=True) #all data is loaded as float32, but the index should be an int"
   ]
  },
  {
   "cell_type": "markdown",
   "metadata": {},
   "source": [
    "Remove actions if stored in df"
   ]
  },
  {
   "cell_type": "code",
   "execution_count": 5,
   "metadata": {},
   "outputs": [],
   "source": [
    "if 'a' in df_adv_obs.columns:\n",
    "    df_adv_obs.drop(columns=['a'], inplace=True)"
   ]
  },
  {
   "cell_type": "markdown",
   "metadata": {},
   "source": [
    "Load perturbed observations from untargeted adversarial attack (100% adversarial)"
   ]
  },
  {
   "cell_type": "code",
   "execution_count": 6,
   "metadata": {},
   "outputs": [],
   "source": [
    "df_adv_perturbed_obs = pd.read_csv(SAMPLE2,\n",
    "                                   index_col=0,\n",
    "                                   dtype='float32')\n",
    "df_adv_perturbed_obs.set_index(df_adv_perturbed_obs.index.astype(int), inplace=True) "
   ]
  },
  {
   "cell_type": "code",
   "execution_count": 7,
   "metadata": {},
   "outputs": [],
   "source": [
    "if 'a' in df_adv_perturbed_obs.columns:\n",
    "    df_adv_perturbed_obs.drop(columns=['a'], inplace=True)"
   ]
  },
  {
   "cell_type": "markdown",
   "metadata": {},
   "source": [
    "Replace the nan, where there was no successful adv sample, with the clean samples. This does change the result, as the test can detect pure adv samples when not diluted with clean ones"
   ]
  },
  {
   "cell_type": "code",
   "execution_count": 8,
   "metadata": {},
   "outputs": [],
   "source": [
    "if FILNA:\n",
    "    df_adv_perturbed_obs.fillna(df_adv_obs, inplace=True)"
   ]
  },
  {
   "cell_type": "markdown",
   "metadata": {},
   "source": [
    "index of the valid entries in the adv observations, used to get the corresponding values from the clean obs"
   ]
  },
  {
   "cell_type": "code",
   "execution_count": 9,
   "metadata": {},
   "outputs": [],
   "source": [
    "valid_adv_mask = df_adv_perturbed_obs.dropna().index"
   ]
  },
  {
   "cell_type": "code",
   "execution_count": 10,
   "metadata": {},
   "outputs": [],
   "source": [
    "if NOTNA: #only use clean samples with corresponding adv sample\n",
    "    valid_adv_mask = df_adv_perturbed_obs.dropna().index\n",
    "else: #same as dropna, and MMD doesn't handle NaNs anyway\n",
    "    valid_adv_mask = df_adv_obs.dropna().index"
   ]
  },
  {
   "cell_type": "markdown",
   "metadata": {},
   "source": [
    "to use mask: df_adv_obs.loc[valid_adv_mask] below"
   ]
  },
  {
   "cell_type": "code",
   "execution_count": 11,
   "metadata": {},
   "outputs": [
    {
     "name": "stdout",
     "output_type": "stream",
     "text": [
      "mmd:0.0001423358917236328, p-value:1.0\n"
     ]
    }
   ],
   "source": [
    "result = detectors.kernel_mmd(torch.from_numpy(df_adv_obs.loc[valid_adv_mask].values).to('cuda'), #clean obs from adv trace\n",
    "                                  torch.from_numpy(df_adv_perturbed_obs.dropna().values).to('cuda'), #perturbed obs from adv trace\n",
    "                                  n_perm=BOOTSTRAP,\n",
    "                                  kernel=kernel)\n",
    "torch.cuda.empty_cache() #free gpu memory\n",
    "print(f'mmd:{result[0]}, p-value:{result[1]}')"
   ]
  },
  {
   "cell_type": "markdown",
   "metadata": {},
   "source": [
    "convert cuda tensors to numpy"
   ]
  },
  {
   "cell_type": "code",
   "execution_count": 12,
   "metadata": {},
   "outputs": [],
   "source": [
    "cpu_result = [tensor.item() for tensor in result]"
   ]
  },
  {
   "cell_type": "code",
   "execution_count": 13,
   "metadata": {},
   "outputs": [
    {
     "name": "stdout",
     "output_type": "stream",
     "text": [
      "PPO agent 100 alts over 1000+200 2-3-21 results/MMDs.csv created\n"
     ]
    }
   ],
   "source": [
    "mmd_savename = SAVE_DIR+'MMDs.csv'\n",
    "try:\n",
    "    df_mmd = pd.read_csv(mmd_savename,\n",
    "                         index_col=0)\n",
    "    df_mmd = df_mmd.append(\n",
    "                pd.Series(cpu_result,\n",
    "                        index=df_mmd.columns,\n",
    "                        name=ATK_NAME,),\n",
    "            )\n",
    "    #df_mmd.loc[ATK_NAME] = cpu_result\n",
    "    df_mmd.to_csv(mmd_savename)\n",
    "    print(f'{mmd_savename} updated')\n",
    "except:\n",
    "    df_mmd = pd.DataFrame([cpu_result],\n",
    "                      columns=['MMD','p_value'],\n",
    "                      index=[ATK_NAME])\n",
    "    df_mmd.to_csv(mmd_savename)\n",
    "    print(f'{mmd_savename} created')"
   ]
  },
  {
   "cell_type": "markdown",
   "metadata": {},
   "source": [
    "Does removing the SOC value change the MMD result?"
   ]
  },
  {
   "cell_type": "code",
   "execution_count": 16,
   "metadata": {},
   "outputs": [
    {
     "name": "stdout",
     "output_type": "stream",
     "text": [
      "mmd:0.0007879734039306641, p-value:0.9835000038146973\n"
     ]
    }
   ],
   "source": [
    "result = detectors.kernel_mmd(torch.from_numpy(df_adv_obs.loc[valid_adv_mask].drop(columns='electrical_storage_soc').values).to('cuda'), #clean obs from adv trace\n",
    "                                  torch.from_numpy(df_adv_perturbed_obs.drop(columns='electrical_storage_soc').dropna().values).to('cuda'), #perturbed obs from adv trace\n",
    "                                  n_perm=BOOTSTRAP,\n",
    "                                  kernel=kernel)\n",
    "torch.cuda.empty_cache() #free gpu memory\n",
    "print(f'mmd:{result[0]}, p-value:{result[1]}')"
   ]
  },
  {
   "cell_type": "markdown",
   "metadata": {},
   "source": [
    "Nope"
   ]
  },
  {
   "cell_type": "code",
   "execution_count": null,
   "metadata": {},
   "outputs": [],
   "source": []
  }
 ],
 "metadata": {
  "kernelspec": {
   "display_name": "CityLearnART",
   "language": "python",
   "name": "python3"
  },
  "language_info": {
   "codemirror_mode": {
    "name": "ipython",
    "version": 3
   },
   "file_extension": ".py",
   "mimetype": "text/x-python",
   "name": "python",
   "nbconvert_exporter": "python",
   "pygments_lexer": "ipython3",
   "version": "3.10.12"
  }
 },
 "nbformat": 4,
 "nbformat_minor": 2
}
