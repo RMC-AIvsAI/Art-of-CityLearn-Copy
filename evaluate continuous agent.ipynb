{
 "cells": [
  {
   "cell_type": "code",
   "execution_count": 7,
   "metadata": {},
   "outputs": [],
   "source": [
    "AGENT_NAME = r\"Models\\Victim\\3-5-8_PPOc_study 107 trial 22_resumed_550.zip\"\n",
    "DATASET_NAME = 'citylearn_challenge_2022_phase_2' #only action is electrical storage\n",
    "#SAVE_DIR = '2-19-10 SAC agent 30 alts over 1010+120 results' + '/'"
   ]
  },
  {
   "cell_type": "code",
   "execution_count": 8,
   "metadata": {},
   "outputs": [],
   "source": [
    "from stable_baselines3 import SAC, PPO\n",
    "from citylearn.data import DataSet\n",
    "import KBMproject.utilities as utils\n",
    "import pandas as pd"
   ]
  },
  {
   "cell_type": "code",
   "execution_count": 9,
   "metadata": {},
   "outputs": [
    {
     "name": "stdout",
     "output_type": "stream",
     "text": [
      "== CURRENT SYSTEM INFO ==\n",
      "- OS: Windows-10-10.0.22631-SP0 10.0.22631\n",
      "- Python: 3.10.12\n",
      "- Stable-Baselines3: 1.8.0\n",
      "- PyTorch: 1.12.1\n",
      "- GPU Enabled: True\n",
      "- Numpy: 1.25.1\n",
      "- Gym: 0.21.0\n",
      "\n",
      "== SAVED MODEL SYSTEM INFO ==\n",
      "- OS: Windows-10-10.0.19045-SP0 10.0.19045\n",
      "- Python: 3.10.12\n",
      "- Stable-Baselines3: 1.8.0\n",
      "- PyTorch: 1.12.1\n",
      "- GPU Enabled: True\n",
      "- Numpy: 1.23.5\n",
      "- Gym: 0.21.0\n",
      "\n"
     ]
    }
   ],
   "source": [
    "agent = PPO.load(path=f\"{AGENT_NAME}\",\n",
    "                 print_system_info=True,)\n",
    "\n",
    "schema = DataSet.get_schema(DATASET_NAME)\n",
    "env = utils.make_continuous_env(schema=schema,  \n",
    "                                seed=42)"
   ]
  },
  {
   "cell_type": "code",
   "execution_count": 10,
   "metadata": {},
   "outputs": [],
   "source": [
    "cols = env.observation_names"
   ]
  },
  {
   "cell_type": "code",
   "execution_count": 11,
   "metadata": {},
   "outputs": [
    {
     "data": {
      "text/plain": [
       "Box([0.], [1.], (1,), float32)"
      ]
     },
     "execution_count": 11,
     "metadata": {},
     "output_type": "execute_result"
    }
   ],
   "source": [
    "agent.action_space"
   ]
  },
  {
   "cell_type": "code",
   "execution_count": 12,
   "metadata": {},
   "outputs": [
    {
     "data": {
      "text/plain": [
       "cost_function\n",
       "annual_peak_average                      1.000000\n",
       "carbon_emissions_total                   1.021275\n",
       "cost_total                               1.007260\n",
       "daily_one_minus_load_factor_average      0.965427\n",
       "daily_peak_average                       1.136114\n",
       "electricity_consumption_total            1.023505\n",
       "monthly_one_minus_load_factor_average    0.983950\n",
       "ramping_average                          1.217704\n",
       "zero_net_energy                          1.016541\n",
       "Name: District, dtype: float64"
      ]
     },
     "metadata": {},
     "output_type": "display_data"
    }
   ],
   "source": [
    "baseline_kpis, baseline_obs, baseline_a = utils.eval_agent(env,agent)\n",
    "display(baseline_kpis)"
   ]
  },
  {
   "cell_type": "code",
   "execution_count": null,
   "metadata": {},
   "outputs": [
    {
     "data": {
      "text/plain": [
       "cost_function\n",
       "annual_peak_average                      1.000000\n",
       "carbon_emissions_total                   1.006312\n",
       "cost_total                               0.995452\n",
       "daily_one_minus_load_factor_average      0.983881\n",
       "daily_peak_average                       1.056502\n",
       "electricity_consumption_total            1.008064\n",
       "monthly_one_minus_load_factor_average    0.985972\n",
       "ramping_average                          1.106017\n",
       "zero_net_energy                          1.008719\n",
       "Name: District, dtype: float64"
      ]
     },
     "metadata": {},
     "output_type": "display_data"
    }
   ],
   "source": [
    "baseline_kpis, baseline_obs, baseline_a = utils.eval_agent(env,agent)\n",
    "display(baseline_kpis)"
   ]
  },
  {
   "cell_type": "code",
   "execution_count": null,
   "metadata": {},
   "outputs": [
    {
     "data": {
      "text/plain": [
       "cost_function\n",
       "annual_peak_average                      1.000000\n",
       "carbon_emissions_total                   1.002744\n",
       "cost_total                               0.996725\n",
       "daily_one_minus_load_factor_average      0.988399\n",
       "daily_peak_average                       1.030240\n",
       "electricity_consumption_total            1.002908\n",
       "monthly_one_minus_load_factor_average    0.992885\n",
       "ramping_average                          1.112120\n",
       "zero_net_energy                          1.008761\n",
       "Name: District, dtype: float64"
      ]
     },
     "metadata": {},
     "output_type": "display_data"
    }
   ],
   "source": [
    "baseline_kpis, baseline_obs, baseline_a = utils.eval_agent(env,agent)\n",
    "display(baseline_kpis)"
   ]
  },
  {
   "cell_type": "code",
   "execution_count": null,
   "metadata": {},
   "outputs": [
    {
     "data": {
      "text/plain": [
       "cost_function\n",
       "annual_peak_average                      1.000000\n",
       "carbon_emissions_total                   1.006312\n",
       "cost_total                               0.995452\n",
       "daily_one_minus_load_factor_average      0.983881\n",
       "daily_peak_average                       1.056502\n",
       "electricity_consumption_total            1.008064\n",
       "monthly_one_minus_load_factor_average    0.985972\n",
       "ramping_average                          1.106017\n",
       "zero_net_energy                          1.008719\n",
       "Name: District, dtype: float64"
      ]
     },
     "metadata": {},
     "output_type": "display_data"
    }
   ],
   "source": [
    "baseline_kpis, baseline_obs, baseline_a = utils.eval_agent(env,agent)\n",
    "display(baseline_kpis)"
   ]
  },
  {
   "cell_type": "code",
   "execution_count": null,
   "metadata": {},
   "outputs": [
    {
     "data": {
      "text/plain": [
       "cost_function\n",
       "annual_peak_average                      1.000000\n",
       "carbon_emissions_total                   1.004050\n",
       "cost_total                               0.993553\n",
       "daily_one_minus_load_factor_average      0.992560\n",
       "daily_peak_average                       1.039810\n",
       "electricity_consumption_total            1.004952\n",
       "monthly_one_minus_load_factor_average    0.985718\n",
       "ramping_average                          1.104766\n",
       "zero_net_energy                          1.008585\n",
       "Name: District, dtype: float64"
      ]
     },
     "metadata": {},
     "output_type": "display_data"
    }
   ],
   "source": [
    "baseline_kpis, baseline_obs, baseline_a = utils.eval_agent(env,agent)\n",
    "display(baseline_kpis)"
   ]
  },
  {
   "cell_type": "code",
   "execution_count": null,
   "metadata": {},
   "outputs": [
    {
     "data": {
      "text/plain": [
       "cost_function\n",
       "annual_peak_average                      1.000000\n",
       "carbon_emissions_total                   1.001835\n",
       "cost_total                               0.991643\n",
       "daily_one_minus_load_factor_average      0.996083\n",
       "daily_peak_average                       1.025478\n",
       "electricity_consumption_total            1.002574\n",
       "monthly_one_minus_load_factor_average    0.991729\n",
       "ramping_average                          1.105119\n",
       "zero_net_energy                          1.008991\n",
       "Name: District, dtype: float64"
      ]
     },
     "metadata": {},
     "output_type": "display_data"
    }
   ],
   "source": [
    "baseline_kpis, baseline_obs, baseline_a = utils.eval_agent(env,agent)\n",
    "display(baseline_kpis)"
   ]
  },
  {
   "cell_type": "code",
   "execution_count": null,
   "metadata": {},
   "outputs": [
    {
     "data": {
      "text/plain": [
       "cost_function\n",
       "annual_peak_average                      1.276332\n",
       "carbon_emissions_total                   1.006855\n",
       "cost_total                               1.002278\n",
       "daily_one_minus_load_factor_average      0.995542\n",
       "daily_peak_average                       1.057592\n",
       "electricity_consumption_total            1.009997\n",
       "monthly_one_minus_load_factor_average    0.992644\n",
       "ramping_average                          1.063482\n",
       "zero_net_energy                          1.004826\n",
       "Name: District, dtype: float64"
      ]
     },
     "metadata": {},
     "output_type": "display_data"
    }
   ],
   "source": [
    "baseline_kpis, baseline_obs, baseline_a = utils.eval_agent(env,agent)\n",
    "display(baseline_kpis)"
   ]
  },
  {
   "cell_type": "code",
   "execution_count": null,
   "metadata": {},
   "outputs": [
    {
     "data": {
      "text/plain": [
       "cost_function\n",
       "annual_peak_average                      1.000000\n",
       "carbon_emissions_total                   1.003236\n",
       "cost_total                               0.992326\n",
       "daily_one_minus_load_factor_average      0.990897\n",
       "daily_peak_average                       1.034134\n",
       "electricity_consumption_total            1.003599\n",
       "monthly_one_minus_load_factor_average    0.987064\n",
       "ramping_average                          1.111359\n",
       "zero_net_energy                          1.008959\n",
       "Name: District, dtype: float64"
      ]
     },
     "metadata": {},
     "output_type": "display_data"
    }
   ],
   "source": [
    "baseline_kpis, baseline_obs, baseline_a = utils.eval_agent(env,agent)\n",
    "display(baseline_kpis)"
   ]
  },
  {
   "cell_type": "code",
   "execution_count": null,
   "metadata": {},
   "outputs": [
    {
     "data": {
      "text/plain": [
       "cost_function\n",
       "annual_peak_average                      1.235401\n",
       "carbon_emissions_total                   1.011669\n",
       "cost_total                               0.999541\n",
       "daily_one_minus_load_factor_average      0.960984\n",
       "daily_peak_average                       1.086910\n",
       "electricity_consumption_total            1.012049\n",
       "monthly_one_minus_load_factor_average    0.986254\n",
       "ramping_average                          1.183492\n",
       "zero_net_energy                          1.014105\n",
       "Name: District, dtype: float64"
      ]
     },
     "metadata": {},
     "output_type": "display_data"
    }
   ],
   "source": [
    "baseline_kpis, baseline_obs, baseline_a = utils.eval_agent(env,agent)\n",
    "display(baseline_kpis)"
   ]
  },
  {
   "cell_type": "code",
   "execution_count": null,
   "metadata": {},
   "outputs": [
    {
     "data": {
      "text/plain": [
       "cost_function\n",
       "annual_peak_average                      1.000000\n",
       "carbon_emissions_total                   1.024355\n",
       "cost_total                               1.000190\n",
       "daily_one_minus_load_factor_average      1.010688\n",
       "daily_peak_average                       1.173316\n",
       "electricity_consumption_total            1.027011\n",
       "monthly_one_minus_load_factor_average    0.984185\n",
       "ramping_average                          1.266607\n",
       "zero_net_energy                          1.020958\n",
       "Name: District, dtype: float64"
      ]
     },
     "metadata": {},
     "output_type": "display_data"
    }
   ],
   "source": [
    "baseline_kpis, baseline_obs, baseline_a = utils.eval_agent(env,agent)\n",
    "display(baseline_kpis)"
   ]
  },
  {
   "cell_type": "code",
   "execution_count": 8,
   "metadata": {},
   "outputs": [
    {
     "name": "stdout",
     "output_type": "stream",
     "text": [
      "2-19-10 SAC agent 30 alts over 1010+120 results/KPIs.csv created\n"
     ]
    }
   ],
   "source": [
    "kpi_savename = SAVE_DIR+'KPIs.csv'\n",
    "try:\n",
    "    df_kpis = pd.read_csv(kpi_savename,\n",
    "                          index_col=0)\n",
    "    df_kpis['baseline'] = baseline_kpis.values\n",
    "    df_kpis.to_csv(kpi_savename)\n",
    "    print(f'{kpi_savename} updated')\n",
    "except:\n",
    "    baseline_kpis.name = 'baseline'\n",
    "    baseline_kpis.to_csv(kpi_savename)\n",
    "    print(f'{kpi_savename} created')"
   ]
  },
  {
   "cell_type": "code",
   "execution_count": 9,
   "metadata": {},
   "outputs": [],
   "source": [
    "df_sa = pd.DataFrame(baseline_obs)\n",
    "df_sa.columns = cols\n",
    "df_sa['actions'] = baseline_a"
   ]
  },
  {
   "cell_type": "code",
   "execution_count": 10,
   "metadata": {},
   "outputs": [],
   "source": [
    "df_sa.to_csv(SAVE_DIR+'baseline_obs-a.csv')"
   ]
  },
  {
   "cell_type": "code",
   "execution_count": null,
   "metadata": {},
   "outputs": [],
   "source": []
  }
 ],
 "metadata": {
  "kernelspec": {
   "display_name": "CityLearnART",
   "language": "python",
   "name": "python3"
  },
  "language_info": {
   "codemirror_mode": {
    "name": "ipython",
    "version": 3
   },
   "file_extension": ".py",
   "mimetype": "text/x-python",
   "name": "python",
   "nbconvert_exporter": "python",
   "pygments_lexer": "ipython3",
   "version": "3.10.12"
  }
 },
 "nbformat": 4,
 "nbformat_minor": 2
}
