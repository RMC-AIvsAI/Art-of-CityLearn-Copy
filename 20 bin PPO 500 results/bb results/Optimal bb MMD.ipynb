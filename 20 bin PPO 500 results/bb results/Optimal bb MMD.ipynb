{
 "cells": [
  {
   "cell_type": "markdown",
   "metadata": {},
   "source": [
    "Tutorial for MMD with the TorchDrift library: https://towardsai.net/p/machine-learning/drift-detection-using-torchdrift-for-tabular-and-time-series-data\n",
    "\n",
    "more documentation on TorchDrift MMD: https://torchdrift.org/notebooks/note_on_mmd.html"
   ]
  },
  {
   "cell_type": "code",
   "execution_count": 4,
   "metadata": {},
   "outputs": [],
   "source": [
    "import pandas as pd\n",
    "import torch\n",
    "import numpy as np\n",
    "import os\n",
    "import torchdrift.detectors as detectors"
   ]
  },
  {
   "cell_type": "markdown",
   "metadata": {},
   "source": [
    "##### On the (Statistical) Detection of Adversarial Examples\n",
    "\n",
    "**Two-sample hypothesis testing** — As stated before, the test we chose is appropriate to handle high dimensional inputs and small sample sizes. We compute the biased estimate of MMD using a **Gaussian kernel**, and then apply **10 000 bootstrapping iterations** to estimate the distributions. Based on this, we compute the **pvalue** and compare it to the threshold, in our experiments **0.05**. For samples of **legitimate data, the observed p-value should always be very high**, whereas for sample sets containing adversarial examples, we expect it to be low—since they are sampled from a different distribution and thus the hypothesis should be rejected. The test is more likely to detect a difference in two distributions when it considers samples of large size (i.e., the sample contains more inputs from the distribution)."
   ]
  },
  {
   "cell_type": "code",
   "execution_count": 5,
   "metadata": {},
   "outputs": [],
   "source": [
    "BOOTSTRAP = 10_000\n",
    "PVAL = 0.05\n",
    "kernel = detectors.mmd.GaussianKernel()"
   ]
  },
  {
   "cell_type": "markdown",
   "metadata": {},
   "source": [
    "Because our dataset is a time series, we will use MMD on different time segments rather than shuffling the dataset"
   ]
  },
  {
   "cell_type": "markdown",
   "metadata": {},
   "source": [
    "Load unperturbed observations from untargeted adversarial attack"
   ]
  },
  {
   "cell_type": "code",
   "execution_count": 6,
   "metadata": {},
   "outputs": [],
   "source": [
    "df_adv_obs = pd.read_csv('optimal BB observations.csv', \n",
    "                        index_col=0,\n",
    "                        dtype='float32')\n",
    "df_adv_obs.set_index(df_adv_obs.index.astype(int), inplace=True) #all data is loaded as float32, but the index should be an int"
   ]
  },
  {
   "cell_type": "markdown",
   "metadata": {},
   "source": [
    "Load perturbed observations from untargeted adversarial attack (100% adversarial)"
   ]
  },
  {
   "cell_type": "code",
   "execution_count": 7,
   "metadata": {},
   "outputs": [],
   "source": [
    "df_adv_perturbed_obs = pd.read_csv('optimal BB adversarial observations.csv', \n",
    "                        index_col=0,\n",
    "                        dtype='float32')\n",
    "df_adv_perturbed_obs.set_index(df_adv_perturbed_obs.index.astype(int), inplace=True) "
   ]
  },
  {
   "cell_type": "markdown",
   "metadata": {},
   "source": [
    "Here we'll get the MMD between two full distrubtions during evaluation, the observations from the environment and the same observations once perturbed by BB"
   ]
  },
  {
   "cell_type": "code",
   "execution_count": 8,
   "metadata": {},
   "outputs": [
    {
     "name": "stdout",
     "output_type": "stream",
     "text": [
      "mmd:0.06381118297576904, p-value:0.0\n"
     ]
    }
   ],
   "source": [
    "result = detectors.kernel_mmd(torch.from_numpy(df_adv_obs.values).to('cuda'), #clean obs from adv trace\n",
    "                                  torch.from_numpy(df_adv_perturbed_obs.values).to('cuda'), #perturbed obs from adv trace\n",
    "                                  n_perm=BOOTSTRAP,\n",
    "                                  kernel=kernel)\n",
    "print(f'mmd:{result[0]}, p-value:{result[1]}')"
   ]
  },
  {
   "cell_type": "markdown",
   "metadata": {},
   "source": [
    "Determin the minimal amount of adversarial samples required for detection using a binary search"
   ]
  },
  {
   "cell_type": "code",
   "execution_count": 13,
   "metadata": {},
   "outputs": [
    {
     "name": "stdout",
     "output_type": "stream",
     "text": [
      "With a threshold of 0.05, at minimum 8 samples are required to detect the adversarial perturbations.\n",
      " MMD: 0.38517332077026367, p-value: 0.033900000154972076\n"
     ]
    }
   ],
   "source": [
    "min = 0\n",
    "max = df_adv_perturbed_obs.shape[0]\n",
    "#only transfer data to gpu once\n",
    "clean_obs = torch.from_numpy(df_adv_obs.values).to('cuda')\n",
    "adv_obs = torch.from_numpy(df_adv_perturbed_obs.values).to('cuda')\n",
    "\n",
    "while True:\n",
    "    if min < max:\n",
    "        mid = (max - min)//2\n",
    "    else:\n",
    "         break\n",
    "    mmd, pval = detectors.kernel_mmd(clean_obs[:mid], #clean obs from adv trace\n",
    "                                    adv_obs[:mid], #perturbed obs from adv trace\n",
    "                                    n_perm=BOOTSTRAP,\n",
    "                                    kernel=kernel)\n",
    "    if pval > PVAL: #distributions are the same, more samples needed to find difference\n",
    "        min = mid\n",
    "    else: #distributions are different, will fewer samples detect the perturbations?\n",
    "        max = mid\n",
    "\n",
    "print(f'With a threshold of {PVAL}, more than {mid} samples are required to detect the adversarial perturbations.\\n MMD: {mmd}, p-value: {pval}')"
   ]
  },
  {
   "cell_type": "markdown",
   "metadata": {},
   "source": [
    "We can  make this test more robust by testing slices starting elsewhere"
   ]
  },
  {
   "cell_type": "markdown",
   "metadata": {},
   "source": []
  }
 ],
 "metadata": {
  "kernelspec": {
   "display_name": "CityLearnART",
   "language": "python",
   "name": "python3"
  },
  "language_info": {
   "codemirror_mode": {
    "name": "ipython",
    "version": 3
   },
   "file_extension": ".py",
   "mimetype": "text/x-python",
   "name": "python",
   "nbconvert_exporter": "python",
   "pygments_lexer": "ipython3",
   "version": "3.10.12"
  }
 },
 "nbformat": 4,
 "nbformat_minor": 2
}
