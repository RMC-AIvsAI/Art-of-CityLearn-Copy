{
 "cells": [
  {
   "cell_type": "code",
   "execution_count": 1,
   "metadata": {},
   "outputs": [],
   "source": [
    "AGENT_NAME = 'default_PPO_citylearn_challenge_2022_phase_2_Building_6_20_bins_500'\n",
    "ADVERSARY_PATH = 'Models\\Adversary\\default_adversary_PPO_citylearn_challenge_2022_phase_2_Building_6_20_bins_default_rwd_480'\n",
    "DATASET_NAME = 'citylearn_challenge_2022_phase_2' #only action is electrical storage\n",
    "MAXITER = 500\n",
    "INIT = 20\n",
    "EPS = 0.3 #comparable to the mean BB Linf distortion\n",
    "NAME = f'Optimal ACG eps {EPS} max iter {MAXITER}'"
   ]
  },
  {
   "cell_type": "code",
   "execution_count": 2,
   "metadata": {},
   "outputs": [],
   "source": [
    "from stable_baselines3 import PPO\n",
    "\n",
    "from citylearn.data import DataSet\n",
    "\n",
    "from art.attacks.evasion import AutoConjugateGradient as ACG\n",
    "\n",
    "import pandas as pd\n",
    "import numpy as np\n",
    "import os\n",
    "\n",
    "import KBMproject.utilities as utils\n",
    "\n",
    "%matplotlib inline"
   ]
  },
  {
   "cell_type": "code",
   "execution_count": 3,
   "metadata": {},
   "outputs": [],
   "source": [
    "schema = DataSet.get_schema(DATASET_NAME)"
   ]
  },
  {
   "cell_type": "markdown",
   "metadata": {},
   "source": [
    "Define RL agent"
   ]
  },
  {
   "cell_type": "code",
   "execution_count": 4,
   "metadata": {},
   "outputs": [
    {
     "name": "stdout",
     "output_type": "stream",
     "text": [
      "Model loaded from storage\n"
     ]
    }
   ],
   "source": [
    "agent = PPO.load(path=f\"{AGENT_NAME}\")\n",
    "print('Model loaded from storage')"
   ]
  },
  {
   "cell_type": "code",
   "execution_count": 5,
   "metadata": {},
   "outputs": [
    {
     "name": "stdout",
     "output_type": "stream",
     "text": [
      "Model loaded from storage\n"
     ]
    }
   ],
   "source": [
    "adv_path = os.path.join(os.getcwd(), '..',ADVERSARY_PATH) #get adversary from parent directory\n",
    "adv_path = os.path.normpath(adv_path) #resolve '..'\n",
    "adversary = PPO.load(path=adv_path)\n",
    "print('Model loaded from storage')"
   ]
  },
  {
   "cell_type": "code",
   "execution_count": 6,
   "metadata": {},
   "outputs": [],
   "source": [
    "bins = agent.action_space[0].n\n",
    "env = utils.make_discrete_env(schema=schema,  \n",
    "                        action_bins=bins,\n",
    "                        seed=42)"
   ]
  },
  {
   "cell_type": "code",
   "execution_count": 7,
   "metadata": {},
   "outputs": [],
   "source": [
    "observation_masks = pd.Series(1, index=env.observation_names[0]).to_frame(name='all')\n",
    "observation_masks['mask_time'] = observation_masks['all']\n",
    "observation_masks['mask_time'][observation_masks.index.str.contains('month|day|hour')] = 0"
   ]
  },
  {
   "cell_type": "code",
   "execution_count": 8,
   "metadata": {},
   "outputs": [
    {
     "name": "stderr",
     "output_type": "stream",
     "text": [
      "100%|██████████| 10/10 [00:21<00:00,  2.15s/it, ASR: =0]\n"
     ]
    },
    {
     "ename": "ValueError",
     "evalue": "too many values to unpack (expected 4)",
     "output_type": "error",
     "traceback": [
      "\u001b[1;31m---------------------------------------------------------------------------\u001b[0m",
      "\u001b[1;31mValueError\u001b[0m                                Traceback (most recent call last)",
      "File \u001b[1;32m<timed exec>:12\u001b[0m\n",
      "\u001b[1;31mValueError\u001b[0m: too many values to unpack (expected 4)"
     ]
    }
   ],
   "source": [
    "%%time\n",
    "kwargs = dict(\n",
    "    loss_type='difference_logits_ratio', \n",
    "    batch_size=1,\n",
    "    nb_random_init=INIT, #5, lower values speed crafting\n",
    "    max_iter=MAXITER//INIT, #iterations per restart\n",
    "    norm='inf', #->l2 ->l1 most restrictive\n",
    "    targeted=True,\n",
    "    eps=EPS, \n",
    "    eps_step=2*EPS, #larger starting step for more diversification\n",
    "    verbose=False,\n",
    ")\n",
    "Adv_targered_kpis, obs, adv_obs, actions, targets, asr = utils.eval_targeted_attack(agent,\n",
    "                                                                                    adversary,\n",
    "                                                                                    env,\n",
    "                                                                                    ART_atk=utils.define_attack(agent, ACG, **kwargs ),\n",
    "                                                                                    time_steps=10,\n",
    "                                                                                    mask=observation_masks['mask_time'].to_numpy())\n",
    "display(Adv_targered_kpis)\n",
    "print(f'The ASR is {asr}')\n"
   ]
  },
  {
   "cell_type": "code",
   "execution_count": null,
   "metadata": {},
   "outputs": [],
   "source": [
    "# df_targeted_obs = pd.DataFrame(obs)\n",
    "# df_targeted_obs.to_csv(f'{NAME} observations.csv')\n",
    "# df_targeted_obs = pd.DataFrame(adv_obs)\n",
    "# df_targeted_obs.to_csv(f'{NAME} adversarial observations.csv')"
   ]
  },
  {
   "cell_type": "code",
   "execution_count": null,
   "metadata": {},
   "outputs": [],
   "source": [
    "df_kpis = pd.read_csv('KPIs.csv', index_col='cost_function')\n",
    "df_kpis"
   ]
  },
  {
   "cell_type": "code",
   "execution_count": 14,
   "metadata": {},
   "outputs": [],
   "source": [
    "df_kpis[f'{NAME}'] = Adv_targered_kpis.values"
   ]
  },
  {
   "cell_type": "code",
   "execution_count": null,
   "metadata": {},
   "outputs": [],
   "source": [
    "df_kpis[['baseline','untargeted_acg',f'{NAME}']].plot.barh(xlim=0.7).legend(bbox_to_anchor=(1.0, 1.05))"
   ]
  },
  {
   "cell_type": "code",
   "execution_count": 23,
   "metadata": {},
   "outputs": [],
   "source": [
    "#df_kpis.to_csv('KPIs.csv')"
   ]
  },
  {
   "cell_type": "code",
   "execution_count": null,
   "metadata": {},
   "outputs": [],
   "source": []
  }
 ],
 "metadata": {
  "kernelspec": {
   "display_name": "CityLearnART",
   "language": "python",
   "name": "python3"
  },
  "language_info": {
   "codemirror_mode": {
    "name": "ipython",
    "version": 3
   },
   "file_extension": ".py",
   "mimetype": "text/x-python",
   "name": "python",
   "nbconvert_exporter": "python",
   "pygments_lexer": "ipython3",
   "version": "3.10.12"
  },
  "orig_nbformat": 4
 },
 "nbformat": 4,
 "nbformat_minor": 2
}
