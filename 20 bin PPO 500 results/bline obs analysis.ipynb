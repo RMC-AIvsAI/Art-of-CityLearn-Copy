{
 "cells": [
  {
   "cell_type": "markdown",
   "metadata": {},
   "source": [
    "Here we are analyzing the difference between sequential observations. While an attacker's perturbations should be within the distribution to avoid detection, the ATLA adversary should use the max values to simulate the worst case scenario (the innmax of our minmax)."
   ]
  },
  {
   "cell_type": "code",
   "execution_count": 1,
   "metadata": {},
   "outputs": [],
   "source": [
    "import numpy as np\n",
    "import pandas as pd"
   ]
  },
  {
   "cell_type": "code",
   "execution_count": 2,
   "metadata": {},
   "outputs": [],
   "source": [
    "df_bline = pd.read_csv('baseline_obs.csv',\n",
    "                       index_col=0,)"
   ]
  },
  {
   "cell_type": "markdown",
   "metadata": {},
   "source": [
    "Here is the max and mean change between samples for each feature"
   ]
  },
  {
   "cell_type": "code",
   "execution_count": 3,
   "metadata": {},
   "outputs": [
    {
     "data": {
      "text/html": [
       "<div>\n",
       "<style scoped>\n",
       "    .dataframe tbody tr th:only-of-type {\n",
       "        vertical-align: middle;\n",
       "    }\n",
       "\n",
       "    .dataframe tbody tr th {\n",
       "        vertical-align: top;\n",
       "    }\n",
       "\n",
       "    .dataframe thead th {\n",
       "        text-align: right;\n",
       "    }\n",
       "</style>\n",
       "<table border=\"1\" class=\"dataframe\">\n",
       "  <thead>\n",
       "    <tr style=\"text-align: right;\">\n",
       "      <th></th>\n",
       "      <th>month_cos</th>\n",
       "      <th>month_sin</th>\n",
       "      <th>day_type_cos</th>\n",
       "      <th>day_type_sin</th>\n",
       "      <th>hour_cos</th>\n",
       "      <th>hour_sin</th>\n",
       "      <th>outdoor_dry_bulb_temperature</th>\n",
       "      <th>outdoor_dry_bulb_temperature_predicted_6h</th>\n",
       "      <th>outdoor_dry_bulb_temperature_predicted_12h</th>\n",
       "      <th>outdoor_dry_bulb_temperature_predicted_24h</th>\n",
       "      <th>...</th>\n",
       "      <th>direct_solar_irradiance_predicted_24h</th>\n",
       "      <th>carbon_intensity</th>\n",
       "      <th>non_shiftable_load</th>\n",
       "      <th>solar_generation</th>\n",
       "      <th>electrical_storage_soc</th>\n",
       "      <th>net_electricity_consumption</th>\n",
       "      <th>electricity_pricing</th>\n",
       "      <th>electricity_pricing_predicted_6h</th>\n",
       "      <th>electricity_pricing_predicted_12h</th>\n",
       "      <th>electricity_pricing_predicted_24h</th>\n",
       "    </tr>\n",
       "  </thead>\n",
       "  <tbody>\n",
       "    <tr>\n",
       "      <th>max</th>\n",
       "      <td>0.250000</td>\n",
       "      <td>0.250000</td>\n",
       "      <td>0.353553</td>\n",
       "      <td>0.707107</td>\n",
       "      <td>0.129410</td>\n",
       "      <td>0.129410</td>\n",
       "      <td>0.293233</td>\n",
       "      <td>0.293233</td>\n",
       "      <td>0.293233</td>\n",
       "      <td>0.293233</td>\n",
       "      <td>...</td>\n",
       "      <td>0.825813</td>\n",
       "      <td>0.308826</td>\n",
       "      <td>0.672154</td>\n",
       "      <td>0.002795</td>\n",
       "      <td>0.556263</td>\n",
       "      <td>0.005880</td>\n",
       "      <td>0.969697</td>\n",
       "      <td>0.969697</td>\n",
       "      <td>0.969697</td>\n",
       "      <td>0.969697</td>\n",
       "    </tr>\n",
       "    <tr>\n",
       "      <th>mean</th>\n",
       "      <td>0.000228</td>\n",
       "      <td>0.000228</td>\n",
       "      <td>0.010136</td>\n",
       "      <td>0.011956</td>\n",
       "      <td>0.083345</td>\n",
       "      <td>0.083324</td>\n",
       "      <td>0.026327</td>\n",
       "      <td>0.026330</td>\n",
       "      <td>0.026328</td>\n",
       "      <td>0.026325</td>\n",
       "      <td>...</td>\n",
       "      <td>0.070241</td>\n",
       "      <td>0.026802</td>\n",
       "      <td>0.060263</td>\n",
       "      <td>0.000258</td>\n",
       "      <td>0.081668</td>\n",
       "      <td>0.000644</td>\n",
       "      <td>0.072495</td>\n",
       "      <td>0.072495</td>\n",
       "      <td>0.072495</td>\n",
       "      <td>0.072495</td>\n",
       "    </tr>\n",
       "  </tbody>\n",
       "</table>\n",
       "<p>2 rows × 31 columns</p>\n",
       "</div>"
      ],
      "text/plain": [
       "      month_cos  month_sin  day_type_cos  day_type_sin  hour_cos  hour_sin  \\\n",
       "max    0.250000   0.250000      0.353553      0.707107  0.129410  0.129410   \n",
       "mean   0.000228   0.000228      0.010136      0.011956  0.083345  0.083324   \n",
       "\n",
       "      outdoor_dry_bulb_temperature  outdoor_dry_bulb_temperature_predicted_6h  \\\n",
       "max                       0.293233                                   0.293233   \n",
       "mean                      0.026327                                   0.026330   \n",
       "\n",
       "      outdoor_dry_bulb_temperature_predicted_12h  \\\n",
       "max                                     0.293233   \n",
       "mean                                    0.026328   \n",
       "\n",
       "      outdoor_dry_bulb_temperature_predicted_24h  ...  \\\n",
       "max                                     0.293233  ...   \n",
       "mean                                    0.026325  ...   \n",
       "\n",
       "      direct_solar_irradiance_predicted_24h  carbon_intensity  \\\n",
       "max                                0.825813          0.308826   \n",
       "mean                               0.070241          0.026802   \n",
       "\n",
       "      non_shiftable_load  solar_generation  electrical_storage_soc  \\\n",
       "max             0.672154          0.002795                0.556263   \n",
       "mean            0.060263          0.000258                0.081668   \n",
       "\n",
       "      net_electricity_consumption  electricity_pricing  \\\n",
       "max                      0.005880             0.969697   \n",
       "mean                     0.000644             0.072495   \n",
       "\n",
       "      electricity_pricing_predicted_6h  electricity_pricing_predicted_12h  \\\n",
       "max                           0.969697                           0.969697   \n",
       "mean                          0.072495                           0.072495   \n",
       "\n",
       "      electricity_pricing_predicted_24h  \n",
       "max                            0.969697  \n",
       "mean                           0.072495  \n",
       "\n",
       "[2 rows x 31 columns]"
      ]
     },
     "execution_count": 3,
     "metadata": {},
     "output_type": "execute_result"
    }
   ],
   "source": [
    "df_diff = df_bline.diff().abs().agg(['max', 'mean'])\n",
    "df_diff"
   ]
  },
  {
   "cell_type": "code",
   "execution_count": 4,
   "metadata": {},
   "outputs": [
    {
     "data": {
      "text/plain": [
       "month_cos                                     0.000228\n",
       "month_sin                                     0.000228\n",
       "solar_generation                              0.000258\n",
       "net_electricity_consumption                   0.000644\n",
       "day_type_cos                                  0.010136\n",
       "day_type_sin                                  0.011956\n",
       "outdoor_dry_bulb_temperature_predicted_24h    0.026325\n",
       "outdoor_dry_bulb_temperature                  0.026327\n",
       "outdoor_dry_bulb_temperature_predicted_12h    0.026328\n",
       "outdoor_dry_bulb_temperature_predicted_6h     0.026330\n",
       "carbon_intensity                              0.026802\n",
       "outdoor_relative_humidity_predicted_24h       0.049118\n",
       "outdoor_relative_humidity                     0.049118\n",
       "outdoor_relative_humidity_predicted_12h       0.049122\n",
       "outdoor_relative_humidity_predicted_6h        0.049125\n",
       "non_shiftable_load                            0.060263\n",
       "diffuse_solar_irradiance_predicted_12h        0.063004\n",
       "diffuse_solar_irradiance_predicted_6h         0.063022\n",
       "diffuse_solar_irradiance                      0.063025\n",
       "diffuse_solar_irradiance_predicted_24h        0.063025\n",
       "direct_solar_irradiance_predicted_6h          0.070229\n",
       "direct_solar_irradiance_predicted_12h         0.070231\n",
       "direct_solar_irradiance                       0.070241\n",
       "direct_solar_irradiance_predicted_24h         0.070241\n",
       "electricity_pricing                           0.072495\n",
       "electricity_pricing_predicted_6h              0.072495\n",
       "electricity_pricing_predicted_24h             0.072495\n",
       "electricity_pricing_predicted_12h             0.072495\n",
       "electrical_storage_soc                        0.081668\n",
       "hour_sin                                      0.083324\n",
       "hour_cos                                      0.083345\n",
       "Name: mean, dtype: float64"
      ]
     },
     "execution_count": 4,
     "metadata": {},
     "output_type": "execute_result"
    }
   ],
   "source": [
    "df_diff.loc['mean'].sort_values()"
   ]
  },
  {
   "cell_type": "code",
   "execution_count": 20,
   "metadata": {},
   "outputs": [
    {
     "data": {
      "text/plain": [
       "month_cos                                     0.125114\n",
       "month_sin                                     0.125114\n",
       "day_type_cos                                  0.181845\n",
       "day_type_sin                                  0.359531\n",
       "hour_cos                                      0.106377\n",
       "hour_sin                                      0.106367\n",
       "outdoor_dry_bulb_temperature                  0.159780\n",
       "outdoor_dry_bulb_temperature_predicted_6h     0.159782\n",
       "outdoor_dry_bulb_temperature_predicted_12h    0.159781\n",
       "outdoor_dry_bulb_temperature_predicted_24h    0.159779\n",
       "outdoor_relative_humidity                     0.363448\n",
       "outdoor_relative_humidity_predicted_6h        0.363451\n",
       "outdoor_relative_humidity_predicted_12h       0.363450\n",
       "outdoor_relative_humidity_predicted_24h       0.363448\n",
       "diffuse_solar_irradiance                      0.326006\n",
       "diffuse_solar_irradiance_predicted_6h         0.326005\n",
       "diffuse_solar_irradiance_predicted_12h        0.325996\n",
       "diffuse_solar_irradiance_predicted_24h        0.326006\n",
       "direct_solar_irradiance                       0.448027\n",
       "direct_solar_irradiance_predicted_6h          0.448021\n",
       "direct_solar_irradiance_predicted_12h         0.448022\n",
       "direct_solar_irradiance_predicted_24h         0.448027\n",
       "carbon_intensity                              0.167814\n",
       "non_shiftable_load                            0.366209\n",
       "solar_generation                              0.001527\n",
       "electrical_storage_soc                        0.318966\n",
       "net_electricity_consumption                   0.003262\n",
       "electricity_pricing                           0.521096\n",
       "electricity_pricing_predicted_6h              0.521096\n",
       "electricity_pricing_predicted_12h             0.521096\n",
       "electricity_pricing_predicted_24h             0.521096\n",
       "dtype: float64"
      ]
     },
     "execution_count": 20,
     "metadata": {},
     "output_type": "execute_result"
    }
   ],
   "source": [
    "df_diff.mean()"
   ]
  },
  {
   "cell_type": "markdown",
   "metadata": {},
   "source": [
    "df_diff.mean().sort_values()"
   ]
  },
  {
   "cell_type": "code",
   "execution_count": 19,
   "metadata": {},
   "outputs": [
    {
     "data": {
      "text/plain": [
       "array([0.12511418, 0.12511418, 0.18184461, 0.35953119, 0.10637713,\n",
       "       0.10636668, 0.15978021, 0.15978171, 0.15978064, 0.15977914,\n",
       "       0.36344801, 0.36345118, 0.36344991, 0.36344801, 0.3260062 ,\n",
       "       0.3260048 , 0.32599576, 0.3260062 , 0.44802713, 0.44802114,\n",
       "       0.44802228, 0.44802713, 0.16781362, 0.36620854, 0.00152669,\n",
       "       0.31896562, 0.00326229, 0.52109586, 0.52109586, 0.52109586,\n",
       "       0.52109586])"
      ]
     },
     "execution_count": 19,
     "metadata": {},
     "output_type": "execute_result"
    }
   ],
   "source": [
    "df_diff.mean().values"
   ]
  },
  {
   "cell_type": "markdown",
   "metadata": {},
   "source": [
    "Here's the difference between the mean and max values"
   ]
  },
  {
   "cell_type": "code",
   "execution_count": 6,
   "metadata": {},
   "outputs": [
    {
     "data": {
      "text/plain": [
       "month_cos                                     0.249772\n",
       "month_sin                                     0.249772\n",
       "day_type_cos                                  0.343418\n",
       "day_type_sin                                  0.695151\n",
       "hour_cos                                      0.046065\n",
       "hour_sin                                      0.046086\n",
       "outdoor_dry_bulb_temperature                  0.266906\n",
       "outdoor_dry_bulb_temperature_predicted_6h     0.266903\n",
       "outdoor_dry_bulb_temperature_predicted_12h    0.266905\n",
       "outdoor_dry_bulb_temperature_predicted_24h    0.266908\n",
       "outdoor_relative_humidity                     0.628659\n",
       "outdoor_relative_humidity_predicted_6h        0.628653\n",
       "outdoor_relative_humidity_predicted_12h       0.628656\n",
       "outdoor_relative_humidity_predicted_24h       0.628659\n",
       "diffuse_solar_irradiance                      0.525962\n",
       "diffuse_solar_irradiance_predicted_6h         0.525965\n",
       "diffuse_solar_irradiance_predicted_12h        0.525983\n",
       "diffuse_solar_irradiance_predicted_24h        0.525962\n",
       "direct_solar_irradiance                       0.755572\n",
       "direct_solar_irradiance_predicted_6h          0.755584\n",
       "direct_solar_irradiance_predicted_12h         0.755582\n",
       "direct_solar_irradiance_predicted_24h         0.755572\n",
       "carbon_intensity                              0.282024\n",
       "non_shiftable_load                            0.611891\n",
       "solar_generation                              0.002537\n",
       "electrical_storage_soc                        0.474596\n",
       "net_electricity_consumption                   0.005236\n",
       "electricity_pricing                           0.897202\n",
       "electricity_pricing_predicted_6h              0.897202\n",
       "electricity_pricing_predicted_12h             0.897202\n",
       "electricity_pricing_predicted_24h             0.897202\n",
       "dtype: float64"
      ]
     },
     "execution_count": 6,
     "metadata": {},
     "output_type": "execute_result"
    }
   ],
   "source": [
    "(df_diff.loc['max'] - df_diff.loc['mean']).abs()"
   ]
  },
  {
   "cell_type": "code",
   "execution_count": 7,
   "metadata": {},
   "outputs": [
    {
     "data": {
      "text/plain": [
       "array([0.24977164, 0.24977164, 0.34341758, 0.69515118, 0.04606484,\n",
       "       0.04608573, 0.26690566, 0.26690266, 0.2669048 , 0.26690781,\n",
       "       0.62865948, 0.62865314, 0.62865568, 0.62865948, 0.52596206,\n",
       "       0.52596487, 0.52598294, 0.52596206, 0.75557218, 0.75558416,\n",
       "       0.75558188, 0.75557218, 0.28202381, 0.61189055, 0.00253725,\n",
       "       0.47459565, 0.0052361 , 0.89720221, 0.89720221, 0.89720221,\n",
       "       0.89720221])"
      ]
     },
     "execution_count": 7,
     "metadata": {},
     "output_type": "execute_result"
    }
   ],
   "source": [
    "(df_diff.loc['max'] - df_diff.loc['mean']).abs().values"
   ]
  },
  {
   "cell_type": "code",
   "execution_count": 8,
   "metadata": {},
   "outputs": [
    {
     "data": {
      "text/plain": [
       "Index(['month_cos', 'month_sin', 'day_type_cos', 'day_type_sin', 'hour_cos',\n",
       "       'hour_sin', 'outdoor_dry_bulb_temperature',\n",
       "       'outdoor_dry_bulb_temperature_predicted_6h',\n",
       "       'outdoor_dry_bulb_temperature_predicted_12h',\n",
       "       'outdoor_dry_bulb_temperature_predicted_24h',\n",
       "       'outdoor_relative_humidity', 'outdoor_relative_humidity_predicted_6h',\n",
       "       'outdoor_relative_humidity_predicted_12h',\n",
       "       'outdoor_relative_humidity_predicted_24h', 'diffuse_solar_irradiance',\n",
       "       'diffuse_solar_irradiance_predicted_6h',\n",
       "       'diffuse_solar_irradiance_predicted_12h',\n",
       "       'diffuse_solar_irradiance_predicted_24h', 'direct_solar_irradiance',\n",
       "       'direct_solar_irradiance_predicted_6h',\n",
       "       'direct_solar_irradiance_predicted_12h',\n",
       "       'direct_solar_irradiance_predicted_24h', 'carbon_intensity',\n",
       "       'non_shiftable_load', 'solar_generation', 'electrical_storage_soc',\n",
       "       'net_electricity_consumption', 'electricity_pricing',\n",
       "       'electricity_pricing_predicted_6h', 'electricity_pricing_predicted_12h',\n",
       "       'electricity_pricing_predicted_24h'],\n",
       "      dtype='object')"
      ]
     },
     "execution_count": 8,
     "metadata": {},
     "output_type": "execute_result"
    }
   ],
   "source": [
    "df_bline.columns"
   ]
  },
  {
   "cell_type": "markdown",
   "metadata": {},
   "source": [
    "We see that temperature typically varies by 2-3% between observations, but up to 30."
   ]
  },
  {
   "cell_type": "code",
   "execution_count": 9,
   "metadata": {},
   "outputs": [
    {
     "data": {
      "text/html": [
       "<div>\n",
       "<style scoped>\n",
       "    .dataframe tbody tr th:only-of-type {\n",
       "        vertical-align: middle;\n",
       "    }\n",
       "\n",
       "    .dataframe tbody tr th {\n",
       "        vertical-align: top;\n",
       "    }\n",
       "\n",
       "    .dataframe thead th {\n",
       "        text-align: right;\n",
       "    }\n",
       "</style>\n",
       "<table border=\"1\" class=\"dataframe\">\n",
       "  <thead>\n",
       "    <tr style=\"text-align: right;\">\n",
       "      <th></th>\n",
       "      <th>outdoor_dry_bulb_temperature</th>\n",
       "      <th>outdoor_dry_bulb_temperature_predicted_6h</th>\n",
       "      <th>outdoor_dry_bulb_temperature_predicted_12h</th>\n",
       "      <th>outdoor_dry_bulb_temperature_predicted_24h</th>\n",
       "    </tr>\n",
       "  </thead>\n",
       "  <tbody>\n",
       "    <tr>\n",
       "      <th>count</th>\n",
       "      <td>8758.000000</td>\n",
       "      <td>8758.000000</td>\n",
       "      <td>8758.000000</td>\n",
       "      <td>8758.000000</td>\n",
       "    </tr>\n",
       "    <tr>\n",
       "      <th>mean</th>\n",
       "      <td>0.026327</td>\n",
       "      <td>0.026330</td>\n",
       "      <td>0.026328</td>\n",
       "      <td>0.026325</td>\n",
       "    </tr>\n",
       "    <tr>\n",
       "      <th>std</th>\n",
       "      <td>0.028202</td>\n",
       "      <td>0.028201</td>\n",
       "      <td>0.028202</td>\n",
       "      <td>0.028202</td>\n",
       "    </tr>\n",
       "    <tr>\n",
       "      <th>min</th>\n",
       "      <td>0.000000</td>\n",
       "      <td>0.000000</td>\n",
       "      <td>0.000000</td>\n",
       "      <td>0.000000</td>\n",
       "    </tr>\n",
       "    <tr>\n",
       "      <th>25%</th>\n",
       "      <td>0.000000</td>\n",
       "      <td>0.000000</td>\n",
       "      <td>0.000000</td>\n",
       "      <td>0.000000</td>\n",
       "    </tr>\n",
       "    <tr>\n",
       "      <th>50%</th>\n",
       "      <td>0.022556</td>\n",
       "      <td>0.022556</td>\n",
       "      <td>0.022556</td>\n",
       "      <td>0.022556</td>\n",
       "    </tr>\n",
       "    <tr>\n",
       "      <th>75%</th>\n",
       "      <td>0.041353</td>\n",
       "      <td>0.041353</td>\n",
       "      <td>0.041353</td>\n",
       "      <td>0.041353</td>\n",
       "    </tr>\n",
       "    <tr>\n",
       "      <th>max</th>\n",
       "      <td>0.293233</td>\n",
       "      <td>0.293233</td>\n",
       "      <td>0.293233</td>\n",
       "      <td>0.293233</td>\n",
       "    </tr>\n",
       "  </tbody>\n",
       "</table>\n",
       "</div>"
      ],
      "text/plain": [
       "       outdoor_dry_bulb_temperature  \\\n",
       "count                   8758.000000   \n",
       "mean                       0.026327   \n",
       "std                        0.028202   \n",
       "min                        0.000000   \n",
       "25%                        0.000000   \n",
       "50%                        0.022556   \n",
       "75%                        0.041353   \n",
       "max                        0.293233   \n",
       "\n",
       "       outdoor_dry_bulb_temperature_predicted_6h  \\\n",
       "count                                8758.000000   \n",
       "mean                                    0.026330   \n",
       "std                                     0.028201   \n",
       "min                                     0.000000   \n",
       "25%                                     0.000000   \n",
       "50%                                     0.022556   \n",
       "75%                                     0.041353   \n",
       "max                                     0.293233   \n",
       "\n",
       "       outdoor_dry_bulb_temperature_predicted_12h  \\\n",
       "count                                 8758.000000   \n",
       "mean                                     0.026328   \n",
       "std                                      0.028202   \n",
       "min                                      0.000000   \n",
       "25%                                      0.000000   \n",
       "50%                                      0.022556   \n",
       "75%                                      0.041353   \n",
       "max                                      0.293233   \n",
       "\n",
       "       outdoor_dry_bulb_temperature_predicted_24h  \n",
       "count                                 8758.000000  \n",
       "mean                                     0.026325  \n",
       "std                                      0.028202  \n",
       "min                                      0.000000  \n",
       "25%                                      0.000000  \n",
       "50%                                      0.022556  \n",
       "75%                                      0.041353  \n",
       "max                                      0.293233  "
      ]
     },
     "execution_count": 9,
     "metadata": {},
     "output_type": "execute_result"
    }
   ],
   "source": [
    "df_bline[df_bline.columns[df_bline.columns.str.contains('temperature')]].diff().abs().describe()"
   ]
  },
  {
   "cell_type": "code",
   "execution_count": 10,
   "metadata": {},
   "outputs": [
    {
     "data": {
      "text/plain": [
       "<Axes: >"
      ]
     },
     "execution_count": 10,
     "metadata": {},
     "output_type": "execute_result"
    },
    {
     "data": {
      "image/png": "[encoded data removed]",
      "text/plain": [
       "<Figure size 640x480 with 1 Axes>"
      ]
     },
     "metadata": {},
     "output_type": "display_data"
    }
   ],
   "source": [
    "df_bline['outdoor_dry_bulb_temperature'].diff().plot.box()"
   ]
  },
  {
   "cell_type": "code",
   "execution_count": 11,
   "metadata": {},
   "outputs": [
    {
     "data": {
      "text/html": [
       "<div>\n",
       "<style scoped>\n",
       "    .dataframe tbody tr th:only-of-type {\n",
       "        vertical-align: middle;\n",
       "    }\n",
       "\n",
       "    .dataframe tbody tr th {\n",
       "        vertical-align: top;\n",
       "    }\n",
       "\n",
       "    .dataframe thead th {\n",
       "        text-align: right;\n",
       "    }\n",
       "</style>\n",
       "<table border=\"1\" class=\"dataframe\">\n",
       "  <thead>\n",
       "    <tr style=\"text-align: right;\">\n",
       "      <th></th>\n",
       "      <th>outdoor_relative_humidity</th>\n",
       "      <th>outdoor_relative_humidity_predicted_6h</th>\n",
       "      <th>outdoor_relative_humidity_predicted_12h</th>\n",
       "      <th>outdoor_relative_humidity_predicted_24h</th>\n",
       "    </tr>\n",
       "  </thead>\n",
       "  <tbody>\n",
       "    <tr>\n",
       "      <th>count</th>\n",
       "      <td>8758.000000</td>\n",
       "      <td>8758.000000</td>\n",
       "      <td>8758.000000</td>\n",
       "      <td>8758.000000</td>\n",
       "    </tr>\n",
       "    <tr>\n",
       "      <th>mean</th>\n",
       "      <td>0.049118</td>\n",
       "      <td>0.049125</td>\n",
       "      <td>0.049122</td>\n",
       "      <td>0.049118</td>\n",
       "    </tr>\n",
       "    <tr>\n",
       "      <th>std</th>\n",
       "      <td>0.063816</td>\n",
       "      <td>0.063817</td>\n",
       "      <td>0.063819</td>\n",
       "      <td>0.063816</td>\n",
       "    </tr>\n",
       "    <tr>\n",
       "      <th>min</th>\n",
       "      <td>0.000000</td>\n",
       "      <td>0.000000</td>\n",
       "      <td>0.000000</td>\n",
       "      <td>0.000000</td>\n",
       "    </tr>\n",
       "    <tr>\n",
       "      <th>25%</th>\n",
       "      <td>0.011111</td>\n",
       "      <td>0.011111</td>\n",
       "      <td>0.011111</td>\n",
       "      <td>0.011111</td>\n",
       "    </tr>\n",
       "    <tr>\n",
       "      <th>50%</th>\n",
       "      <td>0.033333</td>\n",
       "      <td>0.033333</td>\n",
       "      <td>0.033333</td>\n",
       "      <td>0.033333</td>\n",
       "    </tr>\n",
       "    <tr>\n",
       "      <th>75%</th>\n",
       "      <td>0.066667</td>\n",
       "      <td>0.066667</td>\n",
       "      <td>0.066667</td>\n",
       "      <td>0.066667</td>\n",
       "    </tr>\n",
       "    <tr>\n",
       "      <th>max</th>\n",
       "      <td>0.677778</td>\n",
       "      <td>0.677778</td>\n",
       "      <td>0.677778</td>\n",
       "      <td>0.677778</td>\n",
       "    </tr>\n",
       "  </tbody>\n",
       "</table>\n",
       "</div>"
      ],
      "text/plain": [
       "       outdoor_relative_humidity  outdoor_relative_humidity_predicted_6h  \\\n",
       "count                8758.000000                             8758.000000   \n",
       "mean                    0.049118                                0.049125   \n",
       "std                     0.063816                                0.063817   \n",
       "min                     0.000000                                0.000000   \n",
       "25%                     0.011111                                0.011111   \n",
       "50%                     0.033333                                0.033333   \n",
       "75%                     0.066667                                0.066667   \n",
       "max                     0.677778                                0.677778   \n",
       "\n",
       "       outdoor_relative_humidity_predicted_12h  \\\n",
       "count                              8758.000000   \n",
       "mean                                  0.049122   \n",
       "std                                   0.063819   \n",
       "min                                   0.000000   \n",
       "25%                                   0.011111   \n",
       "50%                                   0.033333   \n",
       "75%                                   0.066667   \n",
       "max                                   0.677778   \n",
       "\n",
       "       outdoor_relative_humidity_predicted_24h  \n",
       "count                              8758.000000  \n",
       "mean                                  0.049118  \n",
       "std                                   0.063816  \n",
       "min                                   0.000000  \n",
       "25%                                   0.011111  \n",
       "50%                                   0.033333  \n",
       "75%                                   0.066667  \n",
       "max                                   0.677778  "
      ]
     },
     "execution_count": 11,
     "metadata": {},
     "output_type": "execute_result"
    }
   ],
   "source": [
    "df_bline[df_bline.columns[df_bline.columns.str.contains('humidity')]].diff().abs().describe()"
   ]
  },
  {
   "cell_type": "code",
   "execution_count": 12,
   "metadata": {},
   "outputs": [
    {
     "data": {
      "text/plain": [
       "<Axes: >"
      ]
     },
     "execution_count": 12,
     "metadata": {},
     "output_type": "execute_result"
    },
    {
     "data": {
      "image/png": "[encoded data removed]",
      "text/plain": [
       "<Figure size 640x480 with 1 Axes>"
      ]
     },
     "metadata": {},
     "output_type": "display_data"
    }
   ],
   "source": [
    "df_bline['outdoor_relative_humidity'].diff().plot.box()"
   ]
  },
  {
   "cell_type": "code",
   "execution_count": 13,
   "metadata": {},
   "outputs": [
    {
     "data": {
      "text/html": [
       "<div>\n",
       "<style scoped>\n",
       "    .dataframe tbody tr th:only-of-type {\n",
       "        vertical-align: middle;\n",
       "    }\n",
       "\n",
       "    .dataframe tbody tr th {\n",
       "        vertical-align: top;\n",
       "    }\n",
       "\n",
       "    .dataframe thead th {\n",
       "        text-align: right;\n",
       "    }\n",
       "</style>\n",
       "<table border=\"1\" class=\"dataframe\">\n",
       "  <thead>\n",
       "    <tr style=\"text-align: right;\">\n",
       "      <th></th>\n",
       "      <th>diffuse_solar_irradiance</th>\n",
       "      <th>diffuse_solar_irradiance_predicted_6h</th>\n",
       "      <th>diffuse_solar_irradiance_predicted_12h</th>\n",
       "      <th>diffuse_solar_irradiance_predicted_24h</th>\n",
       "      <th>direct_solar_irradiance</th>\n",
       "      <th>direct_solar_irradiance_predicted_6h</th>\n",
       "      <th>direct_solar_irradiance_predicted_12h</th>\n",
       "      <th>direct_solar_irradiance_predicted_24h</th>\n",
       "    </tr>\n",
       "  </thead>\n",
       "  <tbody>\n",
       "    <tr>\n",
       "      <th>count</th>\n",
       "      <td>8758.000000</td>\n",
       "      <td>8758.000000</td>\n",
       "      <td>8758.000000</td>\n",
       "      <td>8758.000000</td>\n",
       "      <td>8758.000000</td>\n",
       "      <td>8758.000000</td>\n",
       "      <td>8758.000000</td>\n",
       "      <td>8758.000000</td>\n",
       "    </tr>\n",
       "    <tr>\n",
       "      <th>mean</th>\n",
       "      <td>0.063025</td>\n",
       "      <td>0.063022</td>\n",
       "      <td>0.063004</td>\n",
       "      <td>0.063025</td>\n",
       "      <td>0.070241</td>\n",
       "      <td>0.070229</td>\n",
       "      <td>0.070231</td>\n",
       "      <td>0.070241</td>\n",
       "    </tr>\n",
       "    <tr>\n",
       "      <th>std</th>\n",
       "      <td>0.082913</td>\n",
       "      <td>0.082915</td>\n",
       "      <td>0.082916</td>\n",
       "      <td>0.082913</td>\n",
       "      <td>0.117879</td>\n",
       "      <td>0.117880</td>\n",
       "      <td>0.117881</td>\n",
       "      <td>0.117879</td>\n",
       "    </tr>\n",
       "    <tr>\n",
       "      <th>min</th>\n",
       "      <td>0.000000</td>\n",
       "      <td>0.000000</td>\n",
       "      <td>0.000000</td>\n",
       "      <td>0.000000</td>\n",
       "      <td>0.000000</td>\n",
       "      <td>0.000000</td>\n",
       "      <td>0.000000</td>\n",
       "      <td>0.000000</td>\n",
       "    </tr>\n",
       "    <tr>\n",
       "      <th>25%</th>\n",
       "      <td>0.000000</td>\n",
       "      <td>0.000000</td>\n",
       "      <td>0.000000</td>\n",
       "      <td>0.000000</td>\n",
       "      <td>0.000000</td>\n",
       "      <td>0.000000</td>\n",
       "      <td>0.000000</td>\n",
       "      <td>0.000000</td>\n",
       "    </tr>\n",
       "    <tr>\n",
       "      <th>50%</th>\n",
       "      <td>0.015733</td>\n",
       "      <td>0.015733</td>\n",
       "      <td>0.015733</td>\n",
       "      <td>0.015733</td>\n",
       "      <td>0.002099</td>\n",
       "      <td>0.002099</td>\n",
       "      <td>0.002099</td>\n",
       "      <td>0.002099</td>\n",
       "    </tr>\n",
       "    <tr>\n",
       "      <th>75%</th>\n",
       "      <td>0.118977</td>\n",
       "      <td>0.118977</td>\n",
       "      <td>0.118977</td>\n",
       "      <td>0.118977</td>\n",
       "      <td>0.098636</td>\n",
       "      <td>0.098636</td>\n",
       "      <td>0.098636</td>\n",
       "      <td>0.098636</td>\n",
       "    </tr>\n",
       "    <tr>\n",
       "      <th>max</th>\n",
       "      <td>0.588987</td>\n",
       "      <td>0.588987</td>\n",
       "      <td>0.588987</td>\n",
       "      <td>0.588987</td>\n",
       "      <td>0.825813</td>\n",
       "      <td>0.825813</td>\n",
       "      <td>0.825813</td>\n",
       "      <td>0.825813</td>\n",
       "    </tr>\n",
       "  </tbody>\n",
       "</table>\n",
       "</div>"
      ],
      "text/plain": [
       "       diffuse_solar_irradiance  diffuse_solar_irradiance_predicted_6h  \\\n",
       "count               8758.000000                            8758.000000   \n",
       "mean                   0.063025                               0.063022   \n",
       "std                    0.082913                               0.082915   \n",
       "min                    0.000000                               0.000000   \n",
       "25%                    0.000000                               0.000000   \n",
       "50%                    0.015733                               0.015733   \n",
       "75%                    0.118977                               0.118977   \n",
       "max                    0.588987                               0.588987   \n",
       "\n",
       "       diffuse_solar_irradiance_predicted_12h  \\\n",
       "count                             8758.000000   \n",
       "mean                                 0.063004   \n",
       "std                                  0.082916   \n",
       "min                                  0.000000   \n",
       "25%                                  0.000000   \n",
       "50%                                  0.015733   \n",
       "75%                                  0.118977   \n",
       "max                                  0.588987   \n",
       "\n",
       "       diffuse_solar_irradiance_predicted_24h  direct_solar_irradiance  \\\n",
       "count                             8758.000000              8758.000000   \n",
       "mean                                 0.063025                 0.070241   \n",
       "std                                  0.082913                 0.117879   \n",
       "min                                  0.000000                 0.000000   \n",
       "25%                                  0.000000                 0.000000   \n",
       "50%                                  0.015733                 0.002099   \n",
       "75%                                  0.118977                 0.098636   \n",
       "max                                  0.588987                 0.825813   \n",
       "\n",
       "       direct_solar_irradiance_predicted_6h  \\\n",
       "count                           8758.000000   \n",
       "mean                               0.070229   \n",
       "std                                0.117880   \n",
       "min                                0.000000   \n",
       "25%                                0.000000   \n",
       "50%                                0.002099   \n",
       "75%                                0.098636   \n",
       "max                                0.825813   \n",
       "\n",
       "       direct_solar_irradiance_predicted_12h  \\\n",
       "count                            8758.000000   \n",
       "mean                                0.070231   \n",
       "std                                 0.117881   \n",
       "min                                 0.000000   \n",
       "25%                                 0.000000   \n",
       "50%                                 0.002099   \n",
       "75%                                 0.098636   \n",
       "max                                 0.825813   \n",
       "\n",
       "       direct_solar_irradiance_predicted_24h  \n",
       "count                            8758.000000  \n",
       "mean                                0.070241  \n",
       "std                                 0.117879  \n",
       "min                                 0.000000  \n",
       "25%                                 0.000000  \n",
       "50%                                 0.002099  \n",
       "75%                                 0.098636  \n",
       "max                                 0.825813  "
      ]
     },
     "execution_count": 13,
     "metadata": {},
     "output_type": "execute_result"
    }
   ],
   "source": [
    "df_bline[df_bline.columns[df_bline.columns.str.contains('solar_irradiance')]].diff().abs().describe()"
   ]
  },
  {
   "cell_type": "code",
   "execution_count": 14,
   "metadata": {},
   "outputs": [
    {
     "data": {
      "text/plain": [
       "<Axes: >"
      ]
     },
     "execution_count": 14,
     "metadata": {},
     "output_type": "execute_result"
    },
    {
     "data": {
      "image/png": "[encoded data removed]",
      "text/plain": [
       "<Figure size 640x480 with 1 Axes>"
      ]
     },
     "metadata": {},
     "output_type": "display_data"
    }
   ],
   "source": [
    "df_bline[['diffuse_solar_irradiance','direct_solar_irradiance']].diff().plot.box()"
   ]
  },
  {
   "cell_type": "code",
   "execution_count": 15,
   "metadata": {},
   "outputs": [
    {
     "data": {
      "text/html": [
       "<div>\n",
       "<style scoped>\n",
       "    .dataframe tbody tr th:only-of-type {\n",
       "        vertical-align: middle;\n",
       "    }\n",
       "\n",
       "    .dataframe tbody tr th {\n",
       "        vertical-align: top;\n",
       "    }\n",
       "\n",
       "    .dataframe thead th {\n",
       "        text-align: right;\n",
       "    }\n",
       "</style>\n",
       "<table border=\"1\" class=\"dataframe\">\n",
       "  <thead>\n",
       "    <tr style=\"text-align: right;\">\n",
       "      <th></th>\n",
       "      <th>carbon_intensity</th>\n",
       "      <th>non_shiftable_load</th>\n",
       "      <th>solar_generation</th>\n",
       "      <th>electrical_storage_soc</th>\n",
       "      <th>net_electricity_consumption</th>\n",
       "    </tr>\n",
       "  </thead>\n",
       "  <tbody>\n",
       "    <tr>\n",
       "      <th>count</th>\n",
       "      <td>8.758000e+03</td>\n",
       "      <td>8758.000000</td>\n",
       "      <td>8758.000000</td>\n",
       "      <td>8758.000000</td>\n",
       "      <td>8758.000000</td>\n",
       "    </tr>\n",
       "    <tr>\n",
       "      <th>mean</th>\n",
       "      <td>2.680171e-02</td>\n",
       "      <td>0.060263</td>\n",
       "      <td>0.000258</td>\n",
       "      <td>0.081668</td>\n",
       "      <td>0.000644</td>\n",
       "    </tr>\n",
       "    <tr>\n",
       "      <th>std</th>\n",
       "      <td>2.524626e-02</td>\n",
       "      <td>0.078936</td>\n",
       "      <td>0.000359</td>\n",
       "      <td>0.087068</td>\n",
       "      <td>0.000659</td>\n",
       "    </tr>\n",
       "    <tr>\n",
       "      <th>min</th>\n",
       "      <td>2.600000e-07</td>\n",
       "      <td>0.000000</td>\n",
       "      <td>0.000000</td>\n",
       "      <td>0.000000</td>\n",
       "      <td>0.000000</td>\n",
       "    </tr>\n",
       "    <tr>\n",
       "      <th>25%</th>\n",
       "      <td>8.014512e-03</td>\n",
       "      <td>0.007470</td>\n",
       "      <td>0.000000</td>\n",
       "      <td>0.000097</td>\n",
       "      <td>0.000172</td>\n",
       "    </tr>\n",
       "    <tr>\n",
       "      <th>50%</th>\n",
       "      <td>1.878601e-02</td>\n",
       "      <td>0.033315</td>\n",
       "      <td>0.000027</td>\n",
       "      <td>0.045133</td>\n",
       "      <td>0.000452</td>\n",
       "    </tr>\n",
       "    <tr>\n",
       "      <th>75%</th>\n",
       "      <td>3.824307e-02</td>\n",
       "      <td>0.075898</td>\n",
       "      <td>0.000479</td>\n",
       "      <td>0.135400</td>\n",
       "      <td>0.000892</td>\n",
       "    </tr>\n",
       "    <tr>\n",
       "      <th>max</th>\n",
       "      <td>3.088255e-01</td>\n",
       "      <td>0.672154</td>\n",
       "      <td>0.002795</td>\n",
       "      <td>0.556263</td>\n",
       "      <td>0.005880</td>\n",
       "    </tr>\n",
       "  </tbody>\n",
       "</table>\n",
       "</div>"
      ],
      "text/plain": [
       "       carbon_intensity  non_shiftable_load  solar_generation  \\\n",
       "count      8.758000e+03         8758.000000       8758.000000   \n",
       "mean       2.680171e-02            0.060263          0.000258   \n",
       "std        2.524626e-02            0.078936          0.000359   \n",
       "min        2.600000e-07            0.000000          0.000000   \n",
       "25%        8.014512e-03            0.007470          0.000000   \n",
       "50%        1.878601e-02            0.033315          0.000027   \n",
       "75%        3.824307e-02            0.075898          0.000479   \n",
       "max        3.088255e-01            0.672154          0.002795   \n",
       "\n",
       "       electrical_storage_soc  net_electricity_consumption  \n",
       "count             8758.000000                  8758.000000  \n",
       "mean                 0.081668                     0.000644  \n",
       "std                  0.087068                     0.000659  \n",
       "min                  0.000000                     0.000000  \n",
       "25%                  0.000097                     0.000172  \n",
       "50%                  0.045133                     0.000452  \n",
       "75%                  0.135400                     0.000892  \n",
       "max                  0.556263                     0.005880  "
      ]
     },
     "execution_count": 15,
     "metadata": {},
     "output_type": "execute_result"
    }
   ],
   "source": [
    "df_bline[df_bline.columns[df_bline.columns.str.contains('carbon_intensity|non_shiftable_load|solar_generation|electrical_storage_soc|net_electricity_consumption')]].diff().abs().describe()"
   ]
  },
  {
   "cell_type": "code",
   "execution_count": 16,
   "metadata": {},
   "outputs": [
    {
     "data": {
      "text/plain": [
       "<Axes: >"
      ]
     },
     "execution_count": 16,
     "metadata": {},
     "output_type": "execute_result"
    },
    {
     "data": {
      "image/png": "[encoded data removed]",
      "text/plain": [
       "<Figure size 640x480 with 1 Axes>"
      ]
     },
     "metadata": {},
     "output_type": "display_data"
    }
   ],
   "source": [
    "df_bline[['carbon_intensity',\n",
    "       'non_shiftable_load', 'solar_generation', 'electrical_storage_soc',\n",
    "       'net_electricity_consumption']].diff().plot.box()"
   ]
  },
  {
   "cell_type": "code",
   "execution_count": null,
   "metadata": {},
   "outputs": [],
   "source": []
  }
 ],
 "metadata": {
  "kernelspec": {
   "display_name": "CityLearnART",
   "language": "python",
   "name": "python3"
  },
  "language_info": {
   "codemirror_mode": {
    "name": "ipython",
    "version": 3
   },
   "file_extension": ".py",
   "mimetype": "text/x-python",
   "name": "python",
   "nbconvert_exporter": "python",
   "pygments_lexer": "ipython3",
   "version": "3.10.12"
  }
 },
 "nbformat": 4,
 "nbformat_minor": 2
}
