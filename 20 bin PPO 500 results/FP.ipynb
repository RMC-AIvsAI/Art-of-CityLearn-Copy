{
 "cells": [
  {
   "cell_type": "code",
   "execution_count": 1,
   "metadata": {},
   "outputs": [],
   "source": [
    "AGENT_NAME = 'default_PPO_citylearn_challenge_2022_phase_2_Building_6_20_bins_500'\n",
    "SAVE_DIR = 'attribution/'\n",
    "ATTR = 'FP'"
   ]
  },
  {
   "cell_type": "code",
   "execution_count": 62,
   "metadata": {},
   "outputs": [],
   "source": [
    "from stable_baselines3 import PPO\n",
    "\n",
    "import pandas as pd\n",
    "import numpy as np\n",
    "\n",
    "from captum.attr import FeaturePermutation\n",
    "import torchdrift.detectors as detectors\n",
    "import torch\n",
    "\n",
    "import KBMproject.utilities as utils\n",
    "\n",
    "%matplotlib inline"
   ]
  },
  {
   "cell_type": "code",
   "execution_count": 3,
   "metadata": {},
   "outputs": [
    {
     "name": "stdout",
     "output_type": "stream",
     "text": [
      "Model loaded from storage\n"
     ]
    }
   ],
   "source": [
    "agent = PPO.load(path=f\"{AGENT_NAME}\")\n",
    "print('Model loaded from storage')"
   ]
  },
  {
   "cell_type": "code",
   "execution_count": 4,
   "metadata": {},
   "outputs": [],
   "source": [
    "actor = utils.extract_actor(agent)"
   ]
  },
  {
   "cell_type": "code",
   "execution_count": 5,
   "metadata": {},
   "outputs": [],
   "source": [
    "fp = FeaturePermutation(actor)"
   ]
  },
  {
   "cell_type": "code",
   "execution_count": 6,
   "metadata": {},
   "outputs": [],
   "source": [
    "from art.estimators.classification import PyTorchClassifier as classifier\n",
    "from torch.nn import CrossEntropyLoss\n",
    "victim_policy = classifier(\n",
    "    model=actor,\n",
    "    loss=CrossEntropyLoss(), \n",
    "    nb_classes=agent.action_space[0].n,\n",
    "    input_shape=agent.observation_space.shape,\n",
    "    device_type='gpu',\n",
    "    clip_values = (agent.observation_space.low.min(),agent.observation_space.high.max()) #min and max values of each feature, brendle bethge attack only supports floats values and not array\n",
    "    )"
   ]
  },
  {
   "cell_type": "code",
   "execution_count": 7,
   "metadata": {},
   "outputs": [],
   "source": [
    "df_clean_bb_obs = pd.read_csv('bb results/clean obs.csv',\n",
    "                           index_col=0,\n",
    "                           dtype='float32')\n",
    "df_adv_bb_obs = pd.read_csv('bb results/bb obs.csv',\n",
    "                         index_col=0,\n",
    "                         dtype='float32')"
   ]
  },
  {
   "cell_type": "code",
   "execution_count": 8,
   "metadata": {},
   "outputs": [],
   "source": [
    "clean_bb_a = np.argmax(victim_policy.predict(df_clean_bb_obs), axis=1)\n",
    "adv_bb_a = np.argmax(victim_policy.predict(df_adv_bb_obs), axis=1)"
   ]
  },
  {
   "cell_type": "code",
   "execution_count": 17,
   "metadata": {},
   "outputs": [],
   "source": [
    "df_clean_acg_obs = pd.read_csv('adv_obs.csv',\n",
    "                           index_col=0,\n",
    "                           dtype='float32')\n",
    "df_adv_acg_obs = pd.read_csv('adv_perturbed_obs.csv',\n",
    "                         index_col=0,\n",
    "                         dtype='float32')"
   ]
  },
  {
   "cell_type": "code",
   "execution_count": 18,
   "metadata": {},
   "outputs": [],
   "source": [
    "clean_acg_a = np.argmax(victim_policy.predict(df_clean_acg_obs), axis=1)\n",
    "adv_acg_a = np.argmax(victim_policy.predict(df_adv_acg_obs), axis=1)"
   ]
  },
  {
   "cell_type": "code",
   "execution_count": 56,
   "metadata": {},
   "outputs": [],
   "source": [
    "df_baseline_obs = pd.read_csv('baseline_obs.csv',\n",
    "                         index_col=0,\n",
    "                         dtype='float32')\n",
    "baseline_a = np.loadtxt('baseline_obs_a.csv',\n",
    "                         delimiter=',',\n",
    "                         ).astype('int64')"
   ]
  },
  {
   "cell_type": "code",
   "execution_count": 11,
   "metadata": {},
   "outputs": [],
   "source": [
    "clean_bb_shap = fp.attribute(torch.from_numpy(\n",
    "                                            df_clean_bb_obs.to_numpy()\n",
    "                                            ).to('cuda'), #convert df to cuda tensor\n",
    "                             target=clean_bb_a.flatten().tolist() #convert actions to 1d list\n",
    "                             ).detach().cpu().numpy() #move results to cpu"
   ]
  },
  {
   "cell_type": "code",
   "execution_count": 15,
   "metadata": {},
   "outputs": [],
   "source": [
    "adv_bb_shap = fp.attribute(torch.from_numpy(df_adv_bb_obs.to_numpy()).to('cuda'),\n",
    "                             target=adv_bb_a.flatten().tolist()\n",
    "                             ).detach().cpu().numpy()"
   ]
  },
  {
   "cell_type": "code",
   "execution_count": 19,
   "metadata": {},
   "outputs": [],
   "source": [
    "clean_acg_shap = fp.attribute(torch.from_numpy(df_clean_acg_obs.to_numpy()).to('cuda'),\n",
    "                             target=clean_acg_a.flatten().tolist()\n",
    "                             ).detach().cpu().numpy()"
   ]
  },
  {
   "cell_type": "code",
   "execution_count": 20,
   "metadata": {},
   "outputs": [],
   "source": [
    "adv_acg_shap = fp.attribute(torch.from_numpy(df_adv_acg_obs.to_numpy()).to('cuda'),\n",
    "                             target=adv_acg_a.flatten().tolist()\n",
    "                             ).detach().cpu().numpy()"
   ]
  },
  {
   "cell_type": "code",
   "execution_count": 57,
   "metadata": {},
   "outputs": [],
   "source": [
    "baseline_shap = fp.attribute(torch.from_numpy(df_baseline_obs.to_numpy()).to('cuda'),\n",
    "                             target=baseline_a.tolist()\n",
    "                             ).detach().cpu().numpy()"
   ]
  },
  {
   "cell_type": "code",
   "execution_count": 64,
   "metadata": {},
   "outputs": [],
   "source": [
    "BOOTSTRAP = 10_000\n",
    "PVAL = 0.05\n",
    "kernel = detectors.mmd.GaussianKernel()"
   ]
  },
  {
   "cell_type": "code",
   "execution_count": 65,
   "metadata": {},
   "outputs": [
    {
     "name": "stdout",
     "output_type": "stream",
     "text": [
      "The resulats for the clean and untargeted bb perturbed observations are mmd:0.0007966756820678711, p-value:0.0\n"
     ]
    }
   ],
   "source": [
    "result = detectors.kernel_mmd(torch.from_numpy(clean_bb_shap).to('cuda'), \n",
    "                                  torch.from_numpy(adv_bb_shap).to('cuda'), \n",
    "                                  n_perm=BOOTSTRAP,\n",
    "                                  kernel=kernel)\n",
    "print(f'The resulats for the clean and untargeted bb perturbed observations are mmd:{result[0]}, p-value:{result[1]}')"
   ]
  },
  {
   "cell_type": "code",
   "execution_count": 66,
   "metadata": {},
   "outputs": [
    {
     "name": "stdout",
     "output_type": "stream",
     "text": [
      "The results for the clean and untargeted acg perturbed observations are mmd:0.001306772232055664, p-value:0.0\n"
     ]
    }
   ],
   "source": [
    "result = detectors.kernel_mmd(torch.from_numpy(clean_acg_shap).to('cuda'), \n",
    "                                  torch.from_numpy(adv_acg_shap).to('cuda'), \n",
    "                                  n_perm=BOOTSTRAP,\n",
    "                                  kernel=kernel)\n",
    "print(f'The results for the clean and untargeted acg perturbed observations are mmd:{result[0]}, p-value:{result[1]}')"
   ]
  },
  {
   "cell_type": "code",
   "execution_count": 69,
   "metadata": {},
   "outputs": [
    {
     "name": "stdout",
     "output_type": "stream",
     "text": [
      "The resulats for the baseline unperturbed bb observations are mmd:0.00033092498779296875, p-value:0.0031999999191612005\n"
     ]
    }
   ],
   "source": [
    "result = detectors.kernel_mmd(torch.from_numpy(clean_bb_shap).to('cuda'), \n",
    "                                  torch.from_numpy(baseline_shap).to('cuda'), \n",
    "                                  n_perm=BOOTSTRAP,\n",
    "                                  kernel=kernel)\n",
    "print(f'The resulats for the baseline unperturbed bb observations are mmd:{result[0]}, p-value:{result[1]}')"
   ]
  },
  {
   "cell_type": "code",
   "execution_count": 68,
   "metadata": {},
   "outputs": [
    {
     "name": "stdout",
     "output_type": "stream",
     "text": [
      "The resulats for the baseline unperturbed acg observations are mmd:0.00020778179168701172, p-value:0.7908999919891357\n"
     ]
    }
   ],
   "source": [
    "result = detectors.kernel_mmd(torch.from_numpy(clean_acg_shap).to('cuda'), \n",
    "                                  torch.from_numpy(baseline_shap).to('cuda'), \n",
    "                                  n_perm=BOOTSTRAP,\n",
    "                                  kernel=kernel)\n",
    "print(f'The resulats for the baseline unperturbed acg observations are mmd:{result[0]}, p-value:{result[1]}')"
   ]
  },
  {
   "cell_type": "code",
   "execution_count": 70,
   "metadata": {},
   "outputs": [],
   "source": [
    "np.savetxt(SAVE_DIR + f'clean bb {ATTR}.csv', clean_bb_shap, delimiter=',')\n",
    "np.savetxt(SAVE_DIR + f'adv bb {ATTR}.csv', adv_bb_shap, delimiter=',')\n",
    "np.savetxt(SAVE_DIR + f'clean acg {ATTR}.csv', clean_acg_shap, delimiter=',')\n",
    "np.savetxt(SAVE_DIR + f'adv acg {ATTR}.csv', adv_acg_shap, delimiter=',')\n",
    "np.savetxt(SAVE_DIR + f'baseline {ATTR}.csv', baseline_shap, delimiter=',')"
   ]
  },
  {
   "cell_type": "code",
   "execution_count": null,
   "metadata": {},
   "outputs": [],
   "source": []
  }
 ],
 "metadata": {
  "kernelspec": {
   "display_name": "CityLearnART",
   "language": "python",
   "name": "python3"
  },
  "language_info": {
   "codemirror_mode": {
    "name": "ipython",
    "version": 3
   },
   "file_extension": ".py",
   "mimetype": "text/x-python",
   "name": "python",
   "nbconvert_exporter": "python",
   "pygments_lexer": "ipython3",
   "version": "0.0.0"
  }
 },
 "nbformat": 4,
 "nbformat_minor": 2
}
