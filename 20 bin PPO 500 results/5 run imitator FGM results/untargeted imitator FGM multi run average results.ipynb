{
 "cells": [
  {
   "cell_type": "markdown",
   "metadata": {},
   "source": [
    "# Copy instead of modifying to preserve attack parameters"
   ]
  },
  {
   "cell_type": "code",
   "execution_count": 1,
   "metadata": {},
   "outputs": [],
   "source": [
    "AGENT_NAME = 'default_PPO_citylearn_challenge_2022_phase_2_Building_6_20_bins_500'\n",
    "DATASET_NAME = 'citylearn_challenge_2022_phase_2' #only action is electrical storage\n",
    "SURROGATE_PATH = 'surrogates/imitator.pth'\n",
    "RUNS = 5\n",
    "TRIAL = 1"
   ]
  },
  {
   "cell_type": "code",
   "execution_count": 2,
   "metadata": {},
   "outputs": [],
   "source": [
    "from stable_baselines3 import PPO\n",
    "\n",
    "from citylearn.data import DataSet\n",
    "\n",
    "from art.estimators.classification import PyTorchClassifier as classifier\n",
    "from art.attacks.evasion import FastGradientMethod as FGM\n",
    "\n",
    "import pandas as pd\n",
    "import numpy as np\n",
    "import os\n",
    "import torch\n",
    "from torch.nn import CrossEntropyLoss\n",
    "\n",
    "import KBMproject.utilities as utils\n",
    "\n",
    "from joblib import Parallel, delayed\n",
    "\n",
    "%matplotlib inline"
   ]
  },
  {
   "cell_type": "code",
   "execution_count": 3,
   "metadata": {},
   "outputs": [],
   "source": [
    "schema = DataSet.get_schema(DATASET_NAME)"
   ]
  },
  {
   "cell_type": "markdown",
   "metadata": {},
   "source": [
    "Define RL agent"
   ]
  },
  {
   "cell_type": "code",
   "execution_count": 4,
   "metadata": {},
   "outputs": [],
   "source": [
    "agents = []\n",
    "path = os.path.join(os.getcwd(), '..',AGENT_NAME)\n",
    "path = os.path.normpath(path) #resolve '..'\n",
    "for _ in range (RUNS):\n",
    "    agents.append(PPO.load(path))"
   ]
  },
  {
   "cell_type": "markdown",
   "metadata": {},
   "source": [
    "Create environments"
   ]
  },
  {
   "cell_type": "code",
   "execution_count": 5,
   "metadata": {},
   "outputs": [],
   "source": [
    "envs = []\n",
    "for _ in range (RUNS):\n",
    "    envs.append(utils.make_discrete_env(schema=schema,  \n",
    "                            action_bins=agents[0].action_space[0].n,\n",
    "                            seed=42))"
   ]
  },
  {
   "cell_type": "code",
   "execution_count": 6,
   "metadata": {},
   "outputs": [],
   "source": [
    "path = os.path.join(os.getcwd(), '..',SURROGATE_PATH)\n",
    "path = os.path.normpath(path) #resolve '..'\n",
    "imitator = torch.load(path,)"
   ]
  },
  {
   "cell_type": "code",
   "execution_count": 7,
   "metadata": {},
   "outputs": [],
   "source": [
    "path = os.path.join(os.getcwd(), '..','..','observation_masks.csv') #get adversary from parent directory\n",
    "path = os.path.normpath(path) #resolve '..'\n",
    "observation_masks = pd.read_csv(path)"
   ]
  },
  {
   "cell_type": "code",
   "execution_count": 8,
   "metadata": {},
   "outputs": [],
   "source": [
    "kwargs = dict(norm=np.inf,\n",
    "        eps=0.05,\n",
    "        #num_random_init=2,\n",
    "        )\n",
    "attacks =[]\n",
    "for run in range (RUNS):\n",
    "    attacks.append(FGM(estimator=classifier(\n",
    "                        model=imitator,\n",
    "                        loss=CrossEntropyLoss(), \n",
    "                        nb_classes=agents[run].action_space[0].n, \n",
    "                        input_shape=agents[run].observation_space.shape,\n",
    "                        device_type='gpu',\n",
    "                        clip_values = (agents[run].observation_space.low.min(),agents[run].observation_space.high.max())\n",
    "                        ),\n",
    "                    **kwargs))"
   ]
  },
  {
   "cell_type": "code",
   "execution_count": 9,
   "metadata": {},
   "outputs": [
    {
     "name": "stdout",
     "output_type": "stream",
     "text": [
      "CPU times: total: 9min 35s\n",
      "Wall time: 5min 42s\n"
     ]
    }
   ],
   "source": [
    "%%time\n",
    "%%capture\n",
    "results = Parallel(n_jobs=RUNS, verbose=10, prefer='threads')(delayed(\n",
    "    utils.eval_untargeted_attack)(agent, env, attack) for agent, env, attack in zip(agents, envs, attacks)) \n"
   ]
  },
  {
   "cell_type": "markdown",
   "metadata": {},
   "source": [
    "[Parallel(n_jobs=5)]: Done   5 out of   5 | elapsed: 868.8min finished"
   ]
  },
  {
   "cell_type": "markdown",
   "metadata": {},
   "source": [
    "Results is a list of tupples for each run, of the format(KPIs, observations, perturbed observations, epsilons)"
   ]
  },
  {
   "cell_type": "code",
   "execution_count": 10,
   "metadata": {},
   "outputs": [],
   "source": [
    "kpis = [results[i][0] for i in range(len(results))]\n",
    "df_kpis = pd.concat(kpis, axis='columns',keys=range(RUNS))"
   ]
  },
  {
   "cell_type": "code",
   "execution_count": 11,
   "metadata": {},
   "outputs": [],
   "source": [
    "df_kpis[['mean', 'std', 'variance']] = df_kpis.agg(['mean','std', 'var'], axis='columns')"
   ]
  },
  {
   "cell_type": "code",
   "execution_count": 12,
   "metadata": {},
   "outputs": [
    {
     "data": {
      "text/html": [
       "<div>\n",
       "<style scoped>\n",
       "    .dataframe tbody tr th:only-of-type {\n",
       "        vertical-align: middle;\n",
       "    }\n",
       "\n",
       "    .dataframe tbody tr th {\n",
       "        vertical-align: top;\n",
       "    }\n",
       "\n",
       "    .dataframe thead th {\n",
       "        text-align: right;\n",
       "    }\n",
       "</style>\n",
       "<table border=\"1\" class=\"dataframe\">\n",
       "  <thead>\n",
       "    <tr style=\"text-align: right;\">\n",
       "      <th></th>\n",
       "      <th>0</th>\n",
       "      <th>1</th>\n",
       "      <th>2</th>\n",
       "      <th>3</th>\n",
       "      <th>4</th>\n",
       "      <th>mean</th>\n",
       "      <th>std</th>\n",
       "      <th>variance</th>\n",
       "    </tr>\n",
       "    <tr>\n",
       "      <th>cost_function</th>\n",
       "      <th></th>\n",
       "      <th></th>\n",
       "      <th></th>\n",
       "      <th></th>\n",
       "      <th></th>\n",
       "      <th></th>\n",
       "      <th></th>\n",
       "      <th></th>\n",
       "    </tr>\n",
       "  </thead>\n",
       "  <tbody>\n",
       "    <tr>\n",
       "      <th>annual_peak_average</th>\n",
       "      <td>1.009986</td>\n",
       "      <td>1.009986</td>\n",
       "      <td>1.009986</td>\n",
       "      <td>1.009986</td>\n",
       "      <td>1.009986</td>\n",
       "      <td>1.009986</td>\n",
       "      <td>0.000000e+00</td>\n",
       "      <td>0.000000e+00</td>\n",
       "    </tr>\n",
       "    <tr>\n",
       "      <th>carbon_emissions_total</th>\n",
       "      <td>0.891395</td>\n",
       "      <td>0.891395</td>\n",
       "      <td>0.891395</td>\n",
       "      <td>0.891395</td>\n",
       "      <td>0.891395</td>\n",
       "      <td>0.891395</td>\n",
       "      <td>1.241267e-16</td>\n",
       "      <td>1.540744e-32</td>\n",
       "    </tr>\n",
       "    <tr>\n",
       "      <th>cost_total</th>\n",
       "      <td>0.810279</td>\n",
       "      <td>0.810279</td>\n",
       "      <td>0.810279</td>\n",
       "      <td>0.810279</td>\n",
       "      <td>0.810279</td>\n",
       "      <td>0.810279</td>\n",
       "      <td>1.241267e-16</td>\n",
       "      <td>1.540744e-32</td>\n",
       "    </tr>\n",
       "    <tr>\n",
       "      <th>daily_one_minus_load_factor_average</th>\n",
       "      <td>1.070906</td>\n",
       "      <td>1.070906</td>\n",
       "      <td>1.070906</td>\n",
       "      <td>1.070906</td>\n",
       "      <td>1.070906</td>\n",
       "      <td>1.070906</td>\n",
       "      <td>0.000000e+00</td>\n",
       "      <td>0.000000e+00</td>\n",
       "    </tr>\n",
       "    <tr>\n",
       "      <th>daily_peak_average</th>\n",
       "      <td>0.939351</td>\n",
       "      <td>0.939351</td>\n",
       "      <td>0.939351</td>\n",
       "      <td>0.939351</td>\n",
       "      <td>0.939351</td>\n",
       "      <td>0.939351</td>\n",
       "      <td>0.000000e+00</td>\n",
       "      <td>0.000000e+00</td>\n",
       "    </tr>\n",
       "    <tr>\n",
       "      <th>electricity_consumption_total</th>\n",
       "      <td>0.899524</td>\n",
       "      <td>0.899524</td>\n",
       "      <td>0.899524</td>\n",
       "      <td>0.899524</td>\n",
       "      <td>0.899524</td>\n",
       "      <td>0.899524</td>\n",
       "      <td>0.000000e+00</td>\n",
       "      <td>0.000000e+00</td>\n",
       "    </tr>\n",
       "    <tr>\n",
       "      <th>monthly_one_minus_load_factor_average</th>\n",
       "      <td>0.991022</td>\n",
       "      <td>0.991022</td>\n",
       "      <td>0.991022</td>\n",
       "      <td>0.991022</td>\n",
       "      <td>0.991022</td>\n",
       "      <td>0.991022</td>\n",
       "      <td>1.241267e-16</td>\n",
       "      <td>1.540744e-32</td>\n",
       "    </tr>\n",
       "    <tr>\n",
       "      <th>ramping_average</th>\n",
       "      <td>1.224792</td>\n",
       "      <td>1.224792</td>\n",
       "      <td>1.224792</td>\n",
       "      <td>1.224792</td>\n",
       "      <td>1.224792</td>\n",
       "      <td>1.224792</td>\n",
       "      <td>0.000000e+00</td>\n",
       "      <td>0.000000e+00</td>\n",
       "    </tr>\n",
       "    <tr>\n",
       "      <th>zero_net_energy</th>\n",
       "      <td>1.109547</td>\n",
       "      <td>1.109547</td>\n",
       "      <td>1.109547</td>\n",
       "      <td>1.109547</td>\n",
       "      <td>1.109547</td>\n",
       "      <td>1.109547</td>\n",
       "      <td>0.000000e+00</td>\n",
       "      <td>0.000000e+00</td>\n",
       "    </tr>\n",
       "  </tbody>\n",
       "</table>\n",
       "</div>"
      ],
      "text/plain": [
       "                                              0         1         2         3  \\\n",
       "cost_function                                                                   \n",
       "annual_peak_average                    1.009986  1.009986  1.009986  1.009986   \n",
       "carbon_emissions_total                 0.891395  0.891395  0.891395  0.891395   \n",
       "cost_total                             0.810279  0.810279  0.810279  0.810279   \n",
       "daily_one_minus_load_factor_average    1.070906  1.070906  1.070906  1.070906   \n",
       "daily_peak_average                     0.939351  0.939351  0.939351  0.939351   \n",
       "electricity_consumption_total          0.899524  0.899524  0.899524  0.899524   \n",
       "monthly_one_minus_load_factor_average  0.991022  0.991022  0.991022  0.991022   \n",
       "ramping_average                        1.224792  1.224792  1.224792  1.224792   \n",
       "zero_net_energy                        1.109547  1.109547  1.109547  1.109547   \n",
       "\n",
       "                                              4      mean           std  \\\n",
       "cost_function                                                             \n",
       "annual_peak_average                    1.009986  1.009986  0.000000e+00   \n",
       "carbon_emissions_total                 0.891395  0.891395  1.241267e-16   \n",
       "cost_total                             0.810279  0.810279  1.241267e-16   \n",
       "daily_one_minus_load_factor_average    1.070906  1.070906  0.000000e+00   \n",
       "daily_peak_average                     0.939351  0.939351  0.000000e+00   \n",
       "electricity_consumption_total          0.899524  0.899524  0.000000e+00   \n",
       "monthly_one_minus_load_factor_average  0.991022  0.991022  1.241267e-16   \n",
       "ramping_average                        1.224792  1.224792  0.000000e+00   \n",
       "zero_net_energy                        1.109547  1.109547  0.000000e+00   \n",
       "\n",
       "                                           variance  \n",
       "cost_function                                        \n",
       "annual_peak_average                    0.000000e+00  \n",
       "carbon_emissions_total                 1.540744e-32  \n",
       "cost_total                             1.540744e-32  \n",
       "daily_one_minus_load_factor_average    0.000000e+00  \n",
       "daily_peak_average                     0.000000e+00  \n",
       "electricity_consumption_total          0.000000e+00  \n",
       "monthly_one_minus_load_factor_average  1.540744e-32  \n",
       "ramping_average                        0.000000e+00  \n",
       "zero_net_energy                        0.000000e+00  "
      ]
     },
     "execution_count": 12,
     "metadata": {},
     "output_type": "execute_result"
    }
   ],
   "source": [
    "df_kpis"
   ]
  },
  {
   "cell_type": "code",
   "execution_count": 13,
   "metadata": {},
   "outputs": [
    {
     "data": {
      "image/png": "[encoded data removed]",
      "text/plain": [
       "<Figure size 640x480 with 1 Axes>"
      ]
     },
     "metadata": {},
     "output_type": "display_data"
    }
   ],
   "source": [
    "ax = df_kpis['mean'].plot.barh(xerr = df_kpis['std'], xlim=0.3, title='ACG Attack Mean KPIs Over 5 Runs with STD Error')\n",
    "for i in ax.patches:\n",
    "    # get_width pulls left or right; get_y pushes up or down\n",
    "    ax.text(i.get_width(), \n",
    "            i.get_y()-0.2,\n",
    "            str(round((i.get_width()), 2)), \n",
    "            fontsize=10, \n",
    "            #color='dimgrey'\n",
    "            )"
   ]
  },
  {
   "cell_type": "markdown",
   "metadata": {},
   "source": [
    "FGSM using the same parameters in a whitebox attack has an ASR of 0.7.\n",
    "\n",
    "Increasing the number of restarts decreases the ASR, likely because of differences between the surrogate and vicitm models"
   ]
  },
  {
   "cell_type": "code",
   "execution_count": 14,
   "metadata": {},
   "outputs": [
    {
     "name": "stdout",
     "output_type": "stream",
     "text": [
      "For 5 runs of the random attack \n",
      "the mean ASR is: 0.585\n",
      "the STD is: 0.000\n"
     ]
    }
   ],
   "source": [
    "ASRs = [results[i][3] for i in range(len(results))]\n",
    "print(f'For 5 runs of the random attack \\nthe mean ASR is: {np.mean(ASRs):.3f}\\nthe STD is: {np.std(ASRs):.3f}')"
   ]
  },
  {
   "cell_type": "code",
   "execution_count": 15,
   "metadata": {},
   "outputs": [],
   "source": [
    "#df_kpis.to_csv(f'{RUNS} run KPIs {TRIAL}.csv')"
   ]
  },
  {
   "cell_type": "code",
   "execution_count": 17,
   "metadata": {},
   "outputs": [],
   "source": [
    "for run in range(RUNS):\n",
    "        np.savetxt(f'run {run} obs {TRIAL}.csv', results[run][1].astype(float), delimiter=\",\")\n",
    "        np.savetxt(f'run {run} adv_obs {TRIAL}.csv', results[run][2].astype(float), delimiter=\",\")"
   ]
  }
 ],
 "metadata": {
  "kernelspec": {
   "display_name": "CityLearnART",
   "language": "python",
   "name": "python3"
  },
  "language_info": {
   "codemirror_mode": {
    "name": "ipython",
    "version": 3
   },
   "file_extension": ".py",
   "mimetype": "text/x-python",
   "name": "python",
   "nbconvert_exporter": "python",
   "pygments_lexer": "ipython3",
   "version": "3.10.12"
  }
 },
 "nbformat": 4,
 "nbformat_minor": 2
}
