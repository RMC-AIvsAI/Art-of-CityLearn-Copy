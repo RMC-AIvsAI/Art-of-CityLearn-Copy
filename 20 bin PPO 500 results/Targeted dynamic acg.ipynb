{
 "cells": [
  {
   "cell_type": "code",
   "execution_count": 1,
   "metadata": {},
   "outputs": [],
   "source": [
    "AGENT_NAME = 'default_PPO_citylearn_challenge_2022_phase_2_Building_6_20_bins_500'\n",
    "ADVERSARY_PATH = 'Models\\Adversary\\default_adversary_PPO_citylearn_challenge_2022_phase_2_Building_6_20_bins_default_rwd_480'\n",
    "DATASET_NAME = 'citylearn_challenge_2022_phase_2' #only action is electrical storage"
   ]
  },
  {
   "cell_type": "code",
   "execution_count": 2,
   "metadata": {},
   "outputs": [],
   "source": [
    "from stable_baselines3 import PPO\n",
    "\n",
    "from citylearn.data import DataSet\n",
    "\n",
    "from art.attacks.evasion import AutoConjugateGradient as ACG\n",
    "\n",
    "import pandas as pd\n",
    "import numpy as np\n",
    "import os\n",
    "\n",
    "import KBMproject.utilities as utils\n",
    "\n",
    "%matplotlib inline"
   ]
  },
  {
   "cell_type": "code",
   "execution_count": 3,
   "metadata": {},
   "outputs": [],
   "source": [
    "schema = DataSet.get_schema(DATASET_NAME)"
   ]
  },
  {
   "cell_type": "markdown",
   "metadata": {},
   "source": [
    "Define RL agent"
   ]
  },
  {
   "cell_type": "code",
   "execution_count": 4,
   "metadata": {},
   "outputs": [
    {
     "name": "stdout",
     "output_type": "stream",
     "text": [
      "Model loaded from storage\n"
     ]
    }
   ],
   "source": [
    "agent = PPO.load(path=f\"{AGENT_NAME}\")\n",
    "print('Model loaded from storage')"
   ]
  },
  {
   "cell_type": "code",
   "execution_count": 5,
   "metadata": {},
   "outputs": [
    {
     "name": "stdout",
     "output_type": "stream",
     "text": [
      "Model loaded from storage\n"
     ]
    }
   ],
   "source": [
    "adv_path = os.path.join(os.getcwd(), '..',ADVERSARY_PATH) #get adversary from parent directory\n",
    "adv_path = os.path.normpath(adv_path) #resolve '..'\n",
    "adversary = PPO.load(path=adv_path)\n",
    "print('Model loaded from storage')"
   ]
  },
  {
   "cell_type": "code",
   "execution_count": 6,
   "metadata": {},
   "outputs": [],
   "source": [
    "bins = agent.action_space[0].n\n",
    "env = utils.make_discrete_env(schema=schema,  \n",
    "                        action_bins=bins,\n",
    "                        seed=42)"
   ]
  },
  {
   "cell_type": "code",
   "execution_count": 7,
   "metadata": {},
   "outputs": [],
   "source": [
    "observation_masks = pd.Series(1, index=env.observation_names[0]).to_frame(name='all')\n",
    "observation_masks['mask_time'] = observation_masks['all']\n",
    "observation_masks['mask_time'][observation_masks.index.str.contains('month|day|hour')] = 0"
   ]
  },
  {
   "cell_type": "code",
   "execution_count": 9,
   "metadata": {},
   "outputs": [
    {
     "name": "stderr",
     "output_type": "stream",
     "text": [
      "100%|██████████| 10/10 [00:17<00:00,  1.76s/it]"
     ]
    },
    {
     "name": "stdout",
     "output_type": "stream",
     "text": [
      "The Adversarial success rate is: 1.0\n",
      "The average distance between optinmal and adversarial actions is: 3.2\n",
      "0.03    5\n",
      "0.01    4\n",
      "0.05    1\n",
      "dtype: int64\n"
     ]
    },
    {
     "name": "stderr",
     "output_type": "stream",
     "text": [
      "\n"
     ]
    }
   ],
   "source": [
    "init = 50\n",
    "iter = int(500/init)\n",
    "ACG_parameters = dict(\n",
    "    loss_type='difference_logits_ratio', \n",
    "    batch_size=1,\n",
    "    nb_random_init=init, #5, lower values speed crafting\n",
    "    max_iter=iter, #iterations per restart\n",
    "    norm='inf', #->l2 ->l1 most restrictive \n",
    ")\n",
    "eps_list = [0.01, 0.03, 0.05, 0.07]\n",
    "Adv_untargered_kpis, adv_untargeted_obs, adv_untargeted_eps = utils.eval_untargeted_dynamic_distortion_attack(agent,\n",
    "                                                        env,\n",
    "                                                        ART_atk=ACG,\n",
    "                                                        ART_atk_kwargs=ACG_parameters,\n",
    "                                                        eps_candidates=eps_list,\n",
    "                                                        time_steps=10,\n",
    "                                                        mask=observation_masks['mask_time'].to_numpy())\n",
    "print(pd.Series(adv_untargeted_eps).value_counts())"
   ]
  },
  {
   "cell_type": "code",
   "execution_count": 10,
   "metadata": {},
   "outputs": [
    {
     "name": "stdout",
     "output_type": "stream",
     "text": [
      "19\n",
      "[[0. 0. 0. 0. 0. 0. 0. 0. 0. 0. 0. 0. 0. 0. 0. 0. 0. 0. 0. 1.]]\n"
     ]
    }
   ],
   "source": [
    "target, _ = adversary.predict(env.reset(), deterministic=True)\n",
    "from art.utils import to_categorical\n",
    "print(target[0])\n",
    "print(to_categorical(target, nb_classes=adversary.action_space[0].n))"
   ]
  },
  {
   "cell_type": "markdown",
   "metadata": {},
   "source": [
    "This happens way too fast... can debug by setting breakpoints in the utilites file's dynamic distortion function. I have no idea why the sample generation is so fast, but it seems like none of the examples are successful\n",
    "\n",
    "ACG is returning the smaple unchanged because the target is the same as the original action...I didn't think that would happen 10 time consecutively, but we need to pass in the actual action, and change it to categorical in the dynamic distortion function\n",
    "\n",
    "I think I'll need a new dynamic distortion function , or a clause that checks if the action is the same as the target"
   ]
  },
  {
   "cell_type": "code",
   "execution_count": 27,
   "metadata": {},
   "outputs": [
    {
     "name": "stderr",
     "output_type": "stream",
     "text": [
      "100%|██████████| 100/100 [59:28<00:00, 35.68s/it] "
     ]
    },
    {
     "name": "stdout",
     "output_type": "stream",
     "text": [
      "The Adversarial success rate is: 0.89\n",
      "The average distance between optinmal and adversarial actions is: [1.06]\n"
     ]
    },
    {
     "name": "stderr",
     "output_type": "stream",
     "text": [
      "\n"
     ]
    },
    {
     "data": {
      "text/plain": [
       "cost_function\n",
       "annual_peak_average                       2.126763\n",
       "carbon_emissions_total                    3.587793\n",
       "cost_total                                3.385292\n",
       "daily_one_minus_load_factor_average       1.133073\n",
       "daily_peak_average                        3.134446\n",
       "electricity_consumption_total             3.561327\n",
       "monthly_one_minus_load_factor_average     1.034394\n",
       "ramping_average                          14.874044\n",
       "zero_net_energy                           1.627422\n",
       "Name: District, dtype: float64"
      ]
     },
     "metadata": {},
     "output_type": "display_data"
    }
   ],
   "source": [
    "init = 50\n",
    "iter = int(500/init)\n",
    "ACG_parameters = dict(\n",
    "    loss_type='difference_logits_ratio', \n",
    "    batch_size=1,\n",
    "    nb_random_init=init, #5, lower values speed crafting\n",
    "    max_iter=100, #iterations per restart\n",
    "    norm='inf', #->l2 ->l1 most restrictive\n",
    "    targeted=True \n",
    ")\n",
    "eps_list = [0.1,0.2, 0.3, 0.4, 0.5, 0.6]\n",
    "Adv_targered_kpis, obs, adv_obs, adv_targeted_eps = utils.eval_targeted_dynamic_distortion_attack(agent,\n",
    "                                                        adversary,\n",
    "                                                        env,\n",
    "                                                        ART_atk=ACG,\n",
    "                                                        ART_atk_kwargs=ACG_parameters,\n",
    "                                                        eps_candidates=eps_list,\n",
    "                                                        time_steps=100,\n",
    "                                                        mask=observation_masks['mask_time'].to_numpy())\n",
    "display(Adv_targered_kpis)\n"
   ]
  },
  {
   "cell_type": "code",
   "execution_count": 28,
   "metadata": {},
   "outputs": [
    {
     "data": {
      "text/plain": [
       "<Axes: ylabel='distortion size'>"
      ]
     },
     "execution_count": 28,
     "metadata": {},
     "output_type": "execute_result"
    },
    {
     "data": {
      "image/png": "[encoded data removed]",
      "text/plain": [
       "<Figure size 640x480 with 1 Axes>"
      ]
     },
     "metadata": {},
     "output_type": "display_data"
    }
   ],
   "source": [
    "pd.Series(adv_targeted_eps).value_counts().plot.pie(ylabel='distortion size', autopct='%1.1f%%')"
   ]
  },
  {
   "cell_type": "code",
   "execution_count": 8,
   "metadata": {},
   "outputs": [
    {
     "name": "stderr",
     "output_type": "stream",
     "text": [
      "100%|█████████▉| 8758/8759 [55:44:49<00:22, 22.91s/it]    \n"
     ]
    },
    {
     "name": "stdout",
     "output_type": "stream",
     "text": [
      "The Adversarial success rate is: 0.28964493663660235\n",
      "The average distance between optinmal and adversarial actions is: [11.12843932]\n"
     ]
    },
    {
     "data": {
      "text/plain": [
       "cost_function\n",
       "annual_peak_average                      1.102260\n",
       "carbon_emissions_total                   0.876466\n",
       "cost_total                               0.795443\n",
       "daily_one_minus_load_factor_average      1.045433\n",
       "daily_peak_average                       0.912418\n",
       "electricity_consumption_total            0.885576\n",
       "monthly_one_minus_load_factor_average    0.990366\n",
       "ramping_average                          1.122770\n",
       "zero_net_energy                          1.108495\n",
       "Name: District, dtype: float64"
      ]
     },
     "metadata": {},
     "output_type": "display_data"
    },
    {
     "data": {
      "text/plain": [
       "<Axes: ylabel='distortion size'>"
      ]
     },
     "execution_count": 8,
     "metadata": {},
     "output_type": "execute_result"
    },
    {
     "data": {
      "image/png": "[encoded data removed]",
      "text/plain": [
       "<Figure size 640x480 with 1 Axes>"
      ]
     },
     "metadata": {},
     "output_type": "display_data"
    }
   ],
   "source": [
    "init = 50\n",
    "iter = int(500/init)\n",
    "ACG_parameters = dict(\n",
    "    loss_type='difference_logits_ratio', \n",
    "    batch_size=1,\n",
    "    nb_random_init=init, #5, lower values speed crafting\n",
    "    max_iter=100, #iterations per restart\n",
    "    norm='inf', #->l2 ->l1 most restrictive\n",
    "    targeted=True \n",
    ")\n",
    "eps_list = [0.1,0.2, 0.3, 0.4, 0.5, 0.6]\n",
    "Adv_targered_kpis, obs, adv_obs, adv_targeted_eps = utils.eval_targeted_dynamic_distortion_attack(agent,\n",
    "                                                        adversary,\n",
    "                                                        env,\n",
    "                                                        ART_atk=ACG,\n",
    "                                                        ART_atk_kwargs=ACG_parameters,\n",
    "                                                        eps_candidates=eps_list,\n",
    "                                                        time_steps=None,\n",
    "                                                        mask=observation_masks['mask_time'].to_numpy())\n",
    "display(Adv_targered_kpis)\n",
    "pd.Series(adv_targeted_eps).value_counts().plot.pie(ylabel='distortion size', autopct='%1.1f%%')"
   ]
  },
  {
   "cell_type": "code",
   "execution_count": 9,
   "metadata": {},
   "outputs": [],
   "source": [
    "df_targeted_obs = pd.DataFrame(obs)\n",
    "df_targeted_obs.to_csv('optimal attack observations.csv')\n",
    "df_targeted_obs = pd.DataFrame(adv_obs)\n",
    "df_targeted_obs.to_csv('optimal attack adversarial observations.csv')\n",
    "df_targeted_obs = pd.DataFrame(adv_targeted_eps)\n",
    "df_targeted_obs.to_csv('optimal attack eps.csv')"
   ]
  },
  {
   "cell_type": "code",
   "execution_count": 16,
   "metadata": {},
   "outputs": [
    {
     "data": {
      "text/html": [
       "<div>\n",
       "<style scoped>\n",
       "    .dataframe tbody tr th:only-of-type {\n",
       "        vertical-align: middle;\n",
       "    }\n",
       "\n",
       "    .dataframe tbody tr th {\n",
       "        vertical-align: top;\n",
       "    }\n",
       "\n",
       "    .dataframe thead th {\n",
       "        text-align: right;\n",
       "    }\n",
       "</style>\n",
       "<table border=\"1\" class=\"dataframe\">\n",
       "  <thead>\n",
       "    <tr style=\"text-align: right;\">\n",
       "      <th></th>\n",
       "      <th>baseline</th>\n",
       "      <th>random_noise</th>\n",
       "      <th>untargeted_adversarial_examples</th>\n",
       "      <th>untargeted_adv_v_threshold</th>\n",
       "      <th>Adv_v25_untargered_kpis</th>\n",
       "      <th>Adv_v75_untargered_kpis</th>\n",
       "      <th>df_v_ablation_kpis</th>\n",
       "    </tr>\n",
       "    <tr>\n",
       "      <th>cost_function</th>\n",
       "      <th></th>\n",
       "      <th></th>\n",
       "      <th></th>\n",
       "      <th></th>\n",
       "      <th></th>\n",
       "      <th></th>\n",
       "      <th></th>\n",
       "    </tr>\n",
       "  </thead>\n",
       "  <tbody>\n",
       "    <tr>\n",
       "      <th>annual_peak_average</th>\n",
       "      <td>1.102271</td>\n",
       "      <td>1.009338</td>\n",
       "      <td>1.198347</td>\n",
       "      <td>1.102271</td>\n",
       "      <td>1.102270</td>\n",
       "      <td>1.102271</td>\n",
       "      <td>1.068404</td>\n",
       "    </tr>\n",
       "    <tr>\n",
       "      <th>carbon_emissions_total</th>\n",
       "      <td>0.869186</td>\n",
       "      <td>0.870929</td>\n",
       "      <td>0.902045</td>\n",
       "      <td>0.891469</td>\n",
       "      <td>0.900611</td>\n",
       "      <td>0.880414</td>\n",
       "      <td>0.889796</td>\n",
       "    </tr>\n",
       "    <tr>\n",
       "      <th>cost_total</th>\n",
       "      <td>0.787803</td>\n",
       "      <td>0.786467</td>\n",
       "      <td>0.816997</td>\n",
       "      <td>0.805982</td>\n",
       "      <td>0.814078</td>\n",
       "      <td>0.799415</td>\n",
       "      <td>0.806549</td>\n",
       "    </tr>\n",
       "    <tr>\n",
       "      <th>daily_one_minus_load_factor_average</th>\n",
       "      <td>1.095762</td>\n",
       "      <td>1.091588</td>\n",
       "      <td>0.397182</td>\n",
       "      <td>1.002500</td>\n",
       "      <td>0.997434</td>\n",
       "      <td>0.365708</td>\n",
       "      <td>1.050107</td>\n",
       "    </tr>\n",
       "    <tr>\n",
       "      <th>daily_peak_average</th>\n",
       "      <td>0.894595</td>\n",
       "      <td>0.896781</td>\n",
       "      <td>0.961207</td>\n",
       "      <td>0.930231</td>\n",
       "      <td>0.945812</td>\n",
       "      <td>0.913327</td>\n",
       "      <td>0.939143</td>\n",
       "    </tr>\n",
       "    <tr>\n",
       "      <th>electricity_consumption_total</th>\n",
       "      <td>0.879108</td>\n",
       "      <td>0.881392</td>\n",
       "      <td>0.910717</td>\n",
       "      <td>0.901177</td>\n",
       "      <td>0.909467</td>\n",
       "      <td>0.890338</td>\n",
       "      <td>0.898543</td>\n",
       "    </tr>\n",
       "    <tr>\n",
       "      <th>monthly_one_minus_load_factor_average</th>\n",
       "      <td>0.988364</td>\n",
       "      <td>0.981307</td>\n",
       "      <td>0.992850</td>\n",
       "      <td>0.987415</td>\n",
       "      <td>0.991820</td>\n",
       "      <td>0.986949</td>\n",
       "      <td>0.993147</td>\n",
       "    </tr>\n",
       "    <tr>\n",
       "      <th>ramping_average</th>\n",
       "      <td>1.093749</td>\n",
       "      <td>1.105215</td>\n",
       "      <td>1.271853</td>\n",
       "      <td>1.196971</td>\n",
       "      <td>1.230539</td>\n",
       "      <td>1.151861</td>\n",
       "      <td>1.216366</td>\n",
       "    </tr>\n",
       "    <tr>\n",
       "      <th>zero_net_energy</th>\n",
       "      <td>1.107710</td>\n",
       "      <td>1.107912</td>\n",
       "      <td>1.108499</td>\n",
       "      <td>1.109079</td>\n",
       "      <td>1.108982</td>\n",
       "      <td>1.108470</td>\n",
       "      <td>1.108584</td>\n",
       "    </tr>\n",
       "  </tbody>\n",
       "</table>\n",
       "</div>"
      ],
      "text/plain": [
       "                                       baseline  random_noise  \\\n",
       "cost_function                                                   \n",
       "annual_peak_average                    1.102271      1.009338   \n",
       "carbon_emissions_total                 0.869186      0.870929   \n",
       "cost_total                             0.787803      0.786467   \n",
       "daily_one_minus_load_factor_average    1.095762      1.091588   \n",
       "daily_peak_average                     0.894595      0.896781   \n",
       "electricity_consumption_total          0.879108      0.881392   \n",
       "monthly_one_minus_load_factor_average  0.988364      0.981307   \n",
       "ramping_average                        1.093749      1.105215   \n",
       "zero_net_energy                        1.107710      1.107912   \n",
       "\n",
       "                                       untargeted_adversarial_examples  \\\n",
       "cost_function                                                            \n",
       "annual_peak_average                                           1.198347   \n",
       "carbon_emissions_total                                        0.902045   \n",
       "cost_total                                                    0.816997   \n",
       "daily_one_minus_load_factor_average                           0.397182   \n",
       "daily_peak_average                                            0.961207   \n",
       "electricity_consumption_total                                 0.910717   \n",
       "monthly_one_minus_load_factor_average                         0.992850   \n",
       "ramping_average                                               1.271853   \n",
       "zero_net_energy                                               1.108499   \n",
       "\n",
       "                                       untargeted_adv_v_threshold  \\\n",
       "cost_function                                                       \n",
       "annual_peak_average                                      1.102271   \n",
       "carbon_emissions_total                                   0.891469   \n",
       "cost_total                                               0.805982   \n",
       "daily_one_minus_load_factor_average                      1.002500   \n",
       "daily_peak_average                                       0.930231   \n",
       "electricity_consumption_total                            0.901177   \n",
       "monthly_one_minus_load_factor_average                    0.987415   \n",
       "ramping_average                                          1.196971   \n",
       "zero_net_energy                                          1.109079   \n",
       "\n",
       "                                       Adv_v25_untargered_kpis  \\\n",
       "cost_function                                                    \n",
       "annual_peak_average                                   1.102270   \n",
       "carbon_emissions_total                                0.900611   \n",
       "cost_total                                            0.814078   \n",
       "daily_one_minus_load_factor_average                   0.997434   \n",
       "daily_peak_average                                    0.945812   \n",
       "electricity_consumption_total                         0.909467   \n",
       "monthly_one_minus_load_factor_average                 0.991820   \n",
       "ramping_average                                       1.230539   \n",
       "zero_net_energy                                       1.108982   \n",
       "\n",
       "                                       Adv_v75_untargered_kpis  \\\n",
       "cost_function                                                    \n",
       "annual_peak_average                                   1.102271   \n",
       "carbon_emissions_total                                0.880414   \n",
       "cost_total                                            0.799415   \n",
       "daily_one_minus_load_factor_average                   0.365708   \n",
       "daily_peak_average                                    0.913327   \n",
       "electricity_consumption_total                         0.890338   \n",
       "monthly_one_minus_load_factor_average                 0.986949   \n",
       "ramping_average                                       1.151861   \n",
       "zero_net_energy                                       1.108470   \n",
       "\n",
       "                                       df_v_ablation_kpis  \n",
       "cost_function                                              \n",
       "annual_peak_average                              1.068404  \n",
       "carbon_emissions_total                           0.889796  \n",
       "cost_total                                       0.806549  \n",
       "daily_one_minus_load_factor_average              1.050107  \n",
       "daily_peak_average                               0.939143  \n",
       "electricity_consumption_total                    0.898543  \n",
       "monthly_one_minus_load_factor_average            0.993147  \n",
       "ramping_average                                  1.216366  \n",
       "zero_net_energy                                  1.108584  "
      ]
     },
     "execution_count": 16,
     "metadata": {},
     "output_type": "execute_result"
    }
   ],
   "source": [
    "df_kpis = pd.read_csv('KPIs.csv', index_col='cost_function')\n",
    "df_kpis"
   ]
  },
  {
   "cell_type": "code",
   "execution_count": 17,
   "metadata": {},
   "outputs": [],
   "source": [
    "df_kpis['optimal_adv'] = Adv_targered_kpis.values"
   ]
  },
  {
   "cell_type": "markdown",
   "metadata": {},
   "source": [
    "With an ASR of 28% the optimal adversarial attack fails to outperform and attack using untargeted adversarial perturbations. Not that the optimal attack has 10 times the adversarial budget in terms of iterations and distortion size. I expect the performance discrepancy is due to the vicitm's preference for certain actions, and this can be confirmed by comparing the logits for the optimal and optinal adversarial actions"
   ]
  },
  {
   "cell_type": "code",
   "execution_count": 18,
   "metadata": {},
   "outputs": [
    {
     "data": {
      "text/plain": [
       "<matplotlib.legend.Legend at 0x1e9b4c1ef50>"
      ]
     },
     "execution_count": 18,
     "metadata": {},
     "output_type": "execute_result"
    },
    {
     "data": {
      "image/png": "[encoded data removed]",
      "text/plain": [
       "<Figure size 640x480 with 1 Axes>"
      ]
     },
     "metadata": {},
     "output_type": "display_data"
    }
   ],
   "source": [
    "df_kpis[['baseline','untargeted_adversarial_examples','optimal_adv']].plot.barh(xlim=0.7).legend(bbox_to_anchor=(1.0, 1.05))"
   ]
  },
  {
   "cell_type": "code",
   "execution_count": 19,
   "metadata": {},
   "outputs": [],
   "source": [
    "df_kpis.to_csv('KPIs.csv')"
   ]
  },
  {
   "cell_type": "code",
   "execution_count": null,
   "metadata": {},
   "outputs": [],
   "source": []
  }
 ],
 "metadata": {
  "kernelspec": {
   "display_name": "CityLearnART",
   "language": "python",
   "name": "python3"
  },
  "language_info": {
   "codemirror_mode": {
    "name": "ipython",
    "version": 3
   },
   "file_extension": ".py",
   "mimetype": "text/x-python",
   "name": "python",
   "nbconvert_exporter": "python",
   "pygments_lexer": "ipython3",
   "version": "3.10.12"
  },
  "orig_nbformat": 4
 },
 "nbformat": 4,
 "nbformat_minor": 2
}
