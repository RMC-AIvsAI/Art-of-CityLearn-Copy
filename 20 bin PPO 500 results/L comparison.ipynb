{
 "cells": [
  {
   "cell_type": "code",
   "execution_count": null,
   "metadata": {},
   "outputs": [],
   "source": [
    "AGENT_NAME = 'default_PPO_citylearn_challenge_2022_phase_2_Building_6_20_bins_500'\n",
    "DATASET_NAME = 'citylearn_challenge_2022_phase_2' #only action is electrical storage"
   ]
  },
  {
   "cell_type": "code",
   "execution_count": null,
   "metadata": {},
   "outputs": [],
   "source": [
    "from stable_baselines3 import PPO\n",
    "\n",
    "from citylearn.data import DataSet\n",
    "\n",
    "from art.attacks.evasion import AutoConjugateGradient as ACG\n",
    "\n",
    "import pandas as pd\n",
    "import numpy as np\n",
    "\n",
    "import KBMproject.utilities as utils\n",
    "\n",
    "%matplotlib inline"
   ]
  },
  {
   "cell_type": "code",
   "execution_count": null,
   "metadata": {},
   "outputs": [],
   "source": [
    "schema = DataSet.get_schema(DATASET_NAME)"
   ]
  },
  {
   "cell_type": "markdown",
   "metadata": {},
   "source": [
    "Define RL agent"
   ]
  },
  {
   "cell_type": "code",
   "execution_count": null,
   "metadata": {},
   "outputs": [
    {
     "name": "stdout",
     "output_type": "stream",
     "text": [
      "Model loaded from storage\n"
     ]
    }
   ],
   "source": [
    "agent = PPO.load(path=f\"{AGENT_NAME}\")\n",
    "print('Model loaded from storage')"
   ]
  },
  {
   "cell_type": "code",
   "execution_count": null,
   "metadata": {},
   "outputs": [],
   "source": [
    "bins = agent.action_space[0].n\n",
    "env = utils.make_discrete_env(schema=schema,  \n",
    "                        action_bins=bins,\n",
    "                        seed=42)"
   ]
  },
  {
   "cell_type": "markdown",
   "metadata": {},
   "source": [
    "Unperturbed agent performance"
   ]
  },
  {
   "cell_type": "code",
   "execution_count": null,
   "metadata": {},
   "outputs": [
    {
     "data": {
      "text/plain": [
       "cost_function\n",
       "annual_peak_average                      1.102271\n",
       "carbon_emissions_total                   0.869186\n",
       "cost_total                               0.787803\n",
       "daily_one_minus_load_factor_average      1.095762\n",
       "daily_peak_average                       0.894595\n",
       "electricity_consumption_total            0.879108\n",
       "monthly_one_minus_load_factor_average    0.988364\n",
       "ramping_average                          1.093749\n",
       "zero_net_energy                          1.107710\n",
       "Name: District, dtype: float64"
      ]
     },
     "metadata": {},
     "output_type": "display_data"
    }
   ],
   "source": [
    "baseline_kpis, baseline_obs, baseline_a = utils.eval_agent(env,agent)\n",
    "display(baseline_kpis)"
   ]
  },
  {
   "cell_type": "markdown",
   "metadata": {},
   "source": [
    "Try masking the electical SOC. Because this represents the agents actions"
   ]
  },
  {
   "cell_type": "code",
   "execution_count": null,
   "metadata": {},
   "outputs": [],
   "source": [
    "observation_masks = pd.Series(1, index=env.observation_names[0]).to_frame(name='all')\n",
    "observation_masks['mask_time'] = observation_masks['all']\n",
    "observation_masks['mask_time'][observation_masks.index.str.contains('month|day|hour')] = 0\n",
    "observation_masks['Mask_time_soc'] = observation_masks['mask_time']\n",
    "observation_masks['Mask_time_soc']['electrical_storage_soc'] = 0"
   ]
  }
 ],
 "metadata": {
  "kernelspec": {
   "display_name": "CityLearnART",
   "language": "python",
   "name": "python3"
  },
  "language_info": {
   "name": "python",
   "version": "3.10.12"
  },
  "orig_nbformat": 4
 },
 "nbformat": 4,
 "nbformat_minor": 2
}
