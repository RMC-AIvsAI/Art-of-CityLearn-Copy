{
 "cells": [
  {
   "cell_type": "markdown",
   "metadata": {},
   "source": [
    "# Copy instead of modifying to preserve attack parameters"
   ]
  },
  {
   "cell_type": "code",
   "execution_count": 1,
   "metadata": {},
   "outputs": [],
   "source": [
    "AGENT_NAME = 'default_PPO_citylearn_challenge_2022_phase_2_Building_6_20_bins_500'\n",
    "DATASET_NAME = 'citylearn_challenge_2022_phase_2' #only action is electrical storage\n",
    "RUNS = 5\n",
    "TRIAL = 2"
   ]
  },
  {
   "cell_type": "code",
   "execution_count": 2,
   "metadata": {},
   "outputs": [],
   "source": [
    "from stable_baselines3 import PPO\n",
    "\n",
    "from citylearn.data import DataSet\n",
    "\n",
    "from art.attacks.evasion import AutoConjugateGradient as ACG\n",
    "\n",
    "import pandas as pd\n",
    "import numpy as np\n",
    "\n",
    "import KBMproject.utilities as utils\n",
    "\n",
    "from joblib import Parallel, delayed\n",
    "\n",
    "%matplotlib inline"
   ]
  },
  {
   "cell_type": "code",
   "execution_count": 3,
   "metadata": {},
   "outputs": [],
   "source": [
    "schema = DataSet.get_schema(DATASET_NAME)"
   ]
  },
  {
   "cell_type": "markdown",
   "metadata": {},
   "source": [
    "Define RL agent"
   ]
  },
  {
   "cell_type": "code",
   "execution_count": 4,
   "metadata": {},
   "outputs": [],
   "source": [
    "agents = []\n",
    "for _ in range (RUNS):\n",
    "    agents.append(PPO.load(path=f\"{AGENT_NAME}\"))"
   ]
  },
  {
   "cell_type": "code",
   "execution_count": 5,
   "metadata": {},
   "outputs": [],
   "source": [
    "envs = []\n",
    "for _ in range (RUNS):\n",
    "    envs.append(utils.make_discrete_env(schema=schema,  \n",
    "                            action_bins=agents[0].action_space[0].n,\n",
    "                            seed=42))"
   ]
  },
  {
   "cell_type": "markdown",
   "metadata": {},
   "source": [
    "Unperturbed agent performance"
   ]
  },
  {
   "cell_type": "code",
   "execution_count": 6,
   "metadata": {},
   "outputs": [],
   "source": [
    "import os\n",
    "path = os.path.join(os.getcwd(), '..','observation_masks.csv') #get adversary from parent directory\n",
    "path = os.path.normpath(path) #resolve '..'\n",
    "observation_masks = pd.read_csv(path)"
   ]
  },
  {
   "cell_type": "code",
   "execution_count": 9,
   "metadata": {},
   "outputs": [
    {
     "name": "stderr",
     "output_type": "stream",
     "text": [
      "[Parallel(n_jobs=5)]: Using backend ThreadingBackend with 5 concurrent workers.\n",
      "[Parallel(n_jobs=5)]: Done   2 out of   5 | elapsed:  2.9min remaining:  4.3min\n",
      "[Parallel(n_jobs=5)]: Done   3 out of   5 | elapsed:  2.9min remaining:  2.0min\n"
     ]
    },
    {
     "name": "stdout",
     "output_type": "stream",
     "text": [
      "CPU times: total: 3min 40s\n",
      "Wall time: 2min 56s\n"
     ]
    },
    {
     "name": "stderr",
     "output_type": "stream",
     "text": [
      "[Parallel(n_jobs=5)]: Done   5 out of   5 | elapsed:  2.9min finished\n"
     ]
    }
   ],
   "source": [
    "%%time\n",
    "results = Parallel(n_jobs=RUNS, verbose=10, prefer='threads')(delayed(\n",
    "    utils.eval_agent)(env, agent) for agent, env in zip(agents, envs)) \n"
   ]
  },
  {
   "cell_type": "markdown",
   "metadata": {},
   "source": [
    "Results is a list of tupples for each run, of the format(KPIs, observations, perturbed observations, asr)"
   ]
  },
  {
   "cell_type": "code",
   "execution_count": 12,
   "metadata": {},
   "outputs": [],
   "source": [
    "kpis = [results[i][0] for i in range(len(results))]\n",
    "df_kpis = pd.concat(kpis, axis='columns',keys=range(RUNS))"
   ]
  },
  {
   "cell_type": "code",
   "execution_count": 13,
   "metadata": {},
   "outputs": [],
   "source": [
    "df_kpis[['mean', 'std', 'variance']] = df_kpis.agg(['mean','std', 'var'], axis='columns')"
   ]
  },
  {
   "cell_type": "code",
   "execution_count": 14,
   "metadata": {},
   "outputs": [
    {
     "data": {
      "text/html": [
       "<div>\n",
       "<style scoped>\n",
       "    .dataframe tbody tr th:only-of-type {\n",
       "        vertical-align: middle;\n",
       "    }\n",
       "\n",
       "    .dataframe tbody tr th {\n",
       "        vertical-align: top;\n",
       "    }\n",
       "\n",
       "    .dataframe thead th {\n",
       "        text-align: right;\n",
       "    }\n",
       "</style>\n",
       "<table border=\"1\" class=\"dataframe\">\n",
       "  <thead>\n",
       "    <tr style=\"text-align: right;\">\n",
       "      <th></th>\n",
       "      <th>0</th>\n",
       "      <th>1</th>\n",
       "      <th>2</th>\n",
       "      <th>3</th>\n",
       "      <th>4</th>\n",
       "      <th>mean</th>\n",
       "      <th>std</th>\n",
       "      <th>variance</th>\n",
       "    </tr>\n",
       "    <tr>\n",
       "      <th>cost_function</th>\n",
       "      <th></th>\n",
       "      <th></th>\n",
       "      <th></th>\n",
       "      <th></th>\n",
       "      <th></th>\n",
       "      <th></th>\n",
       "      <th></th>\n",
       "      <th></th>\n",
       "    </tr>\n",
       "  </thead>\n",
       "  <tbody>\n",
       "    <tr>\n",
       "      <th>annual_peak_average</th>\n",
       "      <td>1.102271</td>\n",
       "      <td>1.102271</td>\n",
       "      <td>1.102271</td>\n",
       "      <td>1.102271</td>\n",
       "      <td>1.102271</td>\n",
       "      <td>1.102271</td>\n",
       "      <td>0.000000e+00</td>\n",
       "      <td>0.000000e+00</td>\n",
       "    </tr>\n",
       "    <tr>\n",
       "      <th>carbon_emissions_total</th>\n",
       "      <td>0.869186</td>\n",
       "      <td>0.869186</td>\n",
       "      <td>0.869186</td>\n",
       "      <td>0.869186</td>\n",
       "      <td>0.869186</td>\n",
       "      <td>0.869186</td>\n",
       "      <td>1.241267e-16</td>\n",
       "      <td>1.540744e-32</td>\n",
       "    </tr>\n",
       "    <tr>\n",
       "      <th>cost_total</th>\n",
       "      <td>0.787803</td>\n",
       "      <td>0.787803</td>\n",
       "      <td>0.787803</td>\n",
       "      <td>0.787803</td>\n",
       "      <td>0.787803</td>\n",
       "      <td>0.787803</td>\n",
       "      <td>0.000000e+00</td>\n",
       "      <td>0.000000e+00</td>\n",
       "    </tr>\n",
       "    <tr>\n",
       "      <th>daily_one_minus_load_factor_average</th>\n",
       "      <td>1.095762</td>\n",
       "      <td>1.095762</td>\n",
       "      <td>1.095762</td>\n",
       "      <td>1.095762</td>\n",
       "      <td>1.095762</td>\n",
       "      <td>1.095762</td>\n",
       "      <td>0.000000e+00</td>\n",
       "      <td>0.000000e+00</td>\n",
       "    </tr>\n",
       "    <tr>\n",
       "      <th>daily_peak_average</th>\n",
       "      <td>0.894595</td>\n",
       "      <td>0.894595</td>\n",
       "      <td>0.894595</td>\n",
       "      <td>0.894595</td>\n",
       "      <td>0.894595</td>\n",
       "      <td>0.894595</td>\n",
       "      <td>1.241267e-16</td>\n",
       "      <td>1.540744e-32</td>\n",
       "    </tr>\n",
       "    <tr>\n",
       "      <th>electricity_consumption_total</th>\n",
       "      <td>0.879108</td>\n",
       "      <td>0.879108</td>\n",
       "      <td>0.879108</td>\n",
       "      <td>0.879108</td>\n",
       "      <td>0.879108</td>\n",
       "      <td>0.879108</td>\n",
       "      <td>1.241267e-16</td>\n",
       "      <td>1.540744e-32</td>\n",
       "    </tr>\n",
       "    <tr>\n",
       "      <th>monthly_one_minus_load_factor_average</th>\n",
       "      <td>0.988364</td>\n",
       "      <td>0.988364</td>\n",
       "      <td>0.988364</td>\n",
       "      <td>0.988364</td>\n",
       "      <td>0.988364</td>\n",
       "      <td>0.988364</td>\n",
       "      <td>0.000000e+00</td>\n",
       "      <td>0.000000e+00</td>\n",
       "    </tr>\n",
       "    <tr>\n",
       "      <th>ramping_average</th>\n",
       "      <td>1.093749</td>\n",
       "      <td>1.093749</td>\n",
       "      <td>1.093749</td>\n",
       "      <td>1.093749</td>\n",
       "      <td>1.093749</td>\n",
       "      <td>1.093749</td>\n",
       "      <td>0.000000e+00</td>\n",
       "      <td>0.000000e+00</td>\n",
       "    </tr>\n",
       "    <tr>\n",
       "      <th>zero_net_energy</th>\n",
       "      <td>1.107710</td>\n",
       "      <td>1.107710</td>\n",
       "      <td>1.107710</td>\n",
       "      <td>1.107710</td>\n",
       "      <td>1.107710</td>\n",
       "      <td>1.107710</td>\n",
       "      <td>0.000000e+00</td>\n",
       "      <td>0.000000e+00</td>\n",
       "    </tr>\n",
       "  </tbody>\n",
       "</table>\n",
       "</div>"
      ],
      "text/plain": [
       "                                              0         1         2         3  \\\n",
       "cost_function                                                                   \n",
       "annual_peak_average                    1.102271  1.102271  1.102271  1.102271   \n",
       "carbon_emissions_total                 0.869186  0.869186  0.869186  0.869186   \n",
       "cost_total                             0.787803  0.787803  0.787803  0.787803   \n",
       "daily_one_minus_load_factor_average    1.095762  1.095762  1.095762  1.095762   \n",
       "daily_peak_average                     0.894595  0.894595  0.894595  0.894595   \n",
       "electricity_consumption_total          0.879108  0.879108  0.879108  0.879108   \n",
       "monthly_one_minus_load_factor_average  0.988364  0.988364  0.988364  0.988364   \n",
       "ramping_average                        1.093749  1.093749  1.093749  1.093749   \n",
       "zero_net_energy                        1.107710  1.107710  1.107710  1.107710   \n",
       "\n",
       "                                              4      mean           std  \\\n",
       "cost_function                                                             \n",
       "annual_peak_average                    1.102271  1.102271  0.000000e+00   \n",
       "carbon_emissions_total                 0.869186  0.869186  1.241267e-16   \n",
       "cost_total                             0.787803  0.787803  0.000000e+00   \n",
       "daily_one_minus_load_factor_average    1.095762  1.095762  0.000000e+00   \n",
       "daily_peak_average                     0.894595  0.894595  1.241267e-16   \n",
       "electricity_consumption_total          0.879108  0.879108  1.241267e-16   \n",
       "monthly_one_minus_load_factor_average  0.988364  0.988364  0.000000e+00   \n",
       "ramping_average                        1.093749  1.093749  0.000000e+00   \n",
       "zero_net_energy                        1.107710  1.107710  0.000000e+00   \n",
       "\n",
       "                                           variance  \n",
       "cost_function                                        \n",
       "annual_peak_average                    0.000000e+00  \n",
       "carbon_emissions_total                 1.540744e-32  \n",
       "cost_total                             0.000000e+00  \n",
       "daily_one_minus_load_factor_average    0.000000e+00  \n",
       "daily_peak_average                     1.540744e-32  \n",
       "electricity_consumption_total          1.540744e-32  \n",
       "monthly_one_minus_load_factor_average  0.000000e+00  \n",
       "ramping_average                        0.000000e+00  \n",
       "zero_net_energy                        0.000000e+00  "
      ]
     },
     "execution_count": 14,
     "metadata": {},
     "output_type": "execute_result"
    }
   ],
   "source": [
    "df_kpis"
   ]
  },
  {
   "cell_type": "code",
   "execution_count": 15,
   "metadata": {},
   "outputs": [
    {
     "data": {
      "image/png": "[encoded data removed]",
      "text/plain": [
       "<Figure size 640x480 with 1 Axes>"
      ]
     },
     "metadata": {},
     "output_type": "display_data"
    }
   ],
   "source": [
    "ax = df_kpis['mean'].plot.barh(xerr = df_kpis['std'], xlim=0.3, title='Mean KPIs Over 5 Runs with STD Error')\n",
    "for i in ax.patches:\n",
    "    # get_width pulls left or right; get_y pushes up or down\n",
    "    ax.text(i.get_width(), \n",
    "            i.get_y()-0.2,\n",
    "            str(round((i.get_width()), 2)), \n",
    "            fontsize=10, \n",
    "            #color='dimgrey'\n",
    "            )"
   ]
  },
  {
   "cell_type": "code",
   "execution_count": null,
   "metadata": {},
   "outputs": [],
   "source": []
  }
 ],
 "metadata": {
  "kernelspec": {
   "display_name": "CityLearnART",
   "language": "python",
   "name": "python3"
  },
  "language_info": {
   "codemirror_mode": {
    "name": "ipython",
    "version": 3
   },
   "file_extension": ".py",
   "mimetype": "text/x-python",
   "name": "python",
   "nbconvert_exporter": "python",
   "pygments_lexer": "ipython3",
   "version": "3.10.12"
  }
 },
 "nbformat": 4,
 "nbformat_minor": 2
}
