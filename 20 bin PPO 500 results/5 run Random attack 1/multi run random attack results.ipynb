{
 "cells": [
  {
   "cell_type": "markdown",
   "metadata": {},
   "source": [
    "# Copy instead of modifying to preserve attack parameters"
   ]
  },
  {
   "cell_type": "code",
   "execution_count": 1,
   "metadata": {},
   "outputs": [],
   "source": [
    "AGENT_NAME = 'default_PPO_citylearn_challenge_2022_phase_2_Building_6_20_bins_500'\n",
    "DATASET_NAME = 'citylearn_challenge_2022_phase_2' #only action is electrical storage\n",
    "RUNS = 5\n",
    "TRIAL = 2"
   ]
  },
  {
   "cell_type": "code",
   "execution_count": 2,
   "metadata": {},
   "outputs": [],
   "source": [
    "from stable_baselines3 import PPO\n",
    "\n",
    "from citylearn.data import DataSet\n",
    "\n",
    "from art.attacks.evasion import AutoConjugateGradient as ACG\n",
    "\n",
    "import pandas as pd\n",
    "import numpy as np\n",
    "\n",
    "import KBMproject.utilities as utils\n",
    "\n",
    "from joblib import Parallel, delayed\n",
    "\n",
    "%matplotlib inline"
   ]
  },
  {
   "cell_type": "code",
   "execution_count": 3,
   "metadata": {},
   "outputs": [],
   "source": [
    "schema = DataSet.get_schema(DATASET_NAME)"
   ]
  },
  {
   "cell_type": "markdown",
   "metadata": {},
   "source": [
    "Define RL agent"
   ]
  },
  {
   "cell_type": "code",
   "execution_count": 4,
   "metadata": {},
   "outputs": [],
   "source": [
    "agents = []\n",
    "for _ in range (RUNS):\n",
    "    agents.append(PPO.load(path=f\"{AGENT_NAME}\"))"
   ]
  },
  {
   "cell_type": "code",
   "execution_count": 5,
   "metadata": {},
   "outputs": [],
   "source": [
    "envs = []\n",
    "for _ in range (RUNS):\n",
    "    envs.append(utils.make_discrete_env(schema=schema,  \n",
    "                            action_bins=agents[0].action_space[0].n,\n",
    "                            seed=42))"
   ]
  },
  {
   "cell_type": "markdown",
   "metadata": {},
   "source": [
    "Unperturbed agent performance"
   ]
  },
  {
   "cell_type": "code",
   "execution_count": 6,
   "metadata": {},
   "outputs": [],
   "source": [
    "import os\n",
    "path = os.path.join(os.getcwd(), '..','observation_masks.csv') #get adversary from parent directory\n",
    "path = os.path.normpath(path) #resolve '..'\n",
    "observation_masks = pd.read_csv(path)"
   ]
  },
  {
   "cell_type": "code",
   "execution_count": 7,
   "metadata": {},
   "outputs": [
    {
     "name": "stderr",
     "output_type": "stream",
     "text": [
      "[Parallel(n_jobs=5)]: Using backend ThreadingBackend with 5 concurrent workers.\n",
      "[Parallel(n_jobs=5)]: Done   2 out of   5 | elapsed:  3.5min remaining:  5.3min\n",
      "[Parallel(n_jobs=5)]: Done   3 out of   5 | elapsed:  3.5min remaining:  2.3min\n"
     ]
    },
    {
     "name": "stdout",
     "output_type": "stream",
     "text": [
      "CPU times: total: 4min 55s\n",
      "Wall time: 3min 33s\n"
     ]
    },
    {
     "name": "stderr",
     "output_type": "stream",
     "text": [
      "[Parallel(n_jobs=5)]: Done   5 out of   5 | elapsed:  3.6min finished\n"
     ]
    }
   ],
   "source": [
    "%%time\n",
    "results = Parallel(n_jobs=RUNS, verbose=10, prefer='threads')(delayed(\n",
    "    utils.eval_rand_attack)(agent, env, 0.05) for agent, env in zip(agents, envs)) \n"
   ]
  },
  {
   "cell_type": "markdown",
   "metadata": {},
   "source": [
    "Results is a list of tupples for each run, of the format(KPIs, observations, perturbed observations, asr)"
   ]
  },
  {
   "cell_type": "code",
   "execution_count": 8,
   "metadata": {},
   "outputs": [],
   "source": [
    "kpis = [results[i][0] for i in range(len(results))]\n",
    "df_kpis = pd.concat(kpis, axis='columns',keys=range(RUNS))"
   ]
  },
  {
   "cell_type": "code",
   "execution_count": 9,
   "metadata": {},
   "outputs": [],
   "source": [
    "df_kpis[['mean', 'std', 'variance']] = df_kpis.agg(['mean','std', 'var'], axis='columns')"
   ]
  },
  {
   "cell_type": "code",
   "execution_count": 10,
   "metadata": {},
   "outputs": [
    {
     "data": {
      "text/html": [
       "<div>\n",
       "<style scoped>\n",
       "    .dataframe tbody tr th:only-of-type {\n",
       "        vertical-align: middle;\n",
       "    }\n",
       "\n",
       "    .dataframe tbody tr th {\n",
       "        vertical-align: top;\n",
       "    }\n",
       "\n",
       "    .dataframe thead th {\n",
       "        text-align: right;\n",
       "    }\n",
       "</style>\n",
       "<table border=\"1\" class=\"dataframe\">\n",
       "  <thead>\n",
       "    <tr style=\"text-align: right;\">\n",
       "      <th></th>\n",
       "      <th>0</th>\n",
       "      <th>1</th>\n",
       "      <th>2</th>\n",
       "      <th>3</th>\n",
       "      <th>4</th>\n",
       "      <th>mean</th>\n",
       "      <th>std</th>\n",
       "      <th>variance</th>\n",
       "    </tr>\n",
       "    <tr>\n",
       "      <th>cost_function</th>\n",
       "      <th></th>\n",
       "      <th></th>\n",
       "      <th></th>\n",
       "      <th></th>\n",
       "      <th></th>\n",
       "      <th></th>\n",
       "      <th></th>\n",
       "      <th></th>\n",
       "    </tr>\n",
       "  </thead>\n",
       "  <tbody>\n",
       "    <tr>\n",
       "      <th>annual_peak_average</th>\n",
       "      <td>1.009338</td>\n",
       "      <td>1.102277</td>\n",
       "      <td>1.009338</td>\n",
       "      <td>1.009338</td>\n",
       "      <td>1.063145</td>\n",
       "      <td>1.038687</td>\n",
       "      <td>0.042503</td>\n",
       "      <td>1.806491e-03</td>\n",
       "    </tr>\n",
       "    <tr>\n",
       "      <th>carbon_emissions_total</th>\n",
       "      <td>0.870266</td>\n",
       "      <td>0.871056</td>\n",
       "      <td>0.870538</td>\n",
       "      <td>0.870303</td>\n",
       "      <td>0.870490</td>\n",
       "      <td>0.870530</td>\n",
       "      <td>0.000316</td>\n",
       "      <td>9.998121e-08</td>\n",
       "    </tr>\n",
       "    <tr>\n",
       "      <th>cost_total</th>\n",
       "      <td>0.787276</td>\n",
       "      <td>0.787375</td>\n",
       "      <td>0.786833</td>\n",
       "      <td>0.786873</td>\n",
       "      <td>0.786488</td>\n",
       "      <td>0.786969</td>\n",
       "      <td>0.000360</td>\n",
       "      <td>1.295161e-07</td>\n",
       "    </tr>\n",
       "    <tr>\n",
       "      <th>daily_one_minus_load_factor_average</th>\n",
       "      <td>1.114593</td>\n",
       "      <td>1.079723</td>\n",
       "      <td>1.081031</td>\n",
       "      <td>1.105042</td>\n",
       "      <td>1.092683</td>\n",
       "      <td>1.094614</td>\n",
       "      <td>0.015148</td>\n",
       "      <td>2.294653e-04</td>\n",
       "    </tr>\n",
       "    <tr>\n",
       "      <th>daily_peak_average</th>\n",
       "      <td>0.899554</td>\n",
       "      <td>0.897474</td>\n",
       "      <td>0.896665</td>\n",
       "      <td>0.894478</td>\n",
       "      <td>0.891383</td>\n",
       "      <td>0.895911</td>\n",
       "      <td>0.003116</td>\n",
       "      <td>9.709955e-06</td>\n",
       "    </tr>\n",
       "    <tr>\n",
       "      <th>electricity_consumption_total</th>\n",
       "      <td>0.880446</td>\n",
       "      <td>0.881122</td>\n",
       "      <td>0.880951</td>\n",
       "      <td>0.880724</td>\n",
       "      <td>0.881356</td>\n",
       "      <td>0.880920</td>\n",
       "      <td>0.000352</td>\n",
       "      <td>1.237049e-07</td>\n",
       "    </tr>\n",
       "    <tr>\n",
       "      <th>monthly_one_minus_load_factor_average</th>\n",
       "      <td>0.979936</td>\n",
       "      <td>0.985296</td>\n",
       "      <td>0.982198</td>\n",
       "      <td>0.979922</td>\n",
       "      <td>0.986964</td>\n",
       "      <td>0.982863</td>\n",
       "      <td>0.003178</td>\n",
       "      <td>1.010062e-05</td>\n",
       "    </tr>\n",
       "    <tr>\n",
       "      <th>ramping_average</th>\n",
       "      <td>1.105327</td>\n",
       "      <td>1.104457</td>\n",
       "      <td>1.104433</td>\n",
       "      <td>1.104508</td>\n",
       "      <td>1.108196</td>\n",
       "      <td>1.105384</td>\n",
       "      <td>0.001616</td>\n",
       "      <td>2.611037e-06</td>\n",
       "    </tr>\n",
       "    <tr>\n",
       "      <th>zero_net_energy</th>\n",
       "      <td>1.107665</td>\n",
       "      <td>1.108028</td>\n",
       "      <td>1.108069</td>\n",
       "      <td>1.107870</td>\n",
       "      <td>1.107685</td>\n",
       "      <td>1.107863</td>\n",
       "      <td>0.000187</td>\n",
       "      <td>3.507258e-08</td>\n",
       "    </tr>\n",
       "  </tbody>\n",
       "</table>\n",
       "</div>"
      ],
      "text/plain": [
       "                                              0         1         2         3  \\\n",
       "cost_function                                                                   \n",
       "annual_peak_average                    1.009338  1.102277  1.009338  1.009338   \n",
       "carbon_emissions_total                 0.870266  0.871056  0.870538  0.870303   \n",
       "cost_total                             0.787276  0.787375  0.786833  0.786873   \n",
       "daily_one_minus_load_factor_average    1.114593  1.079723  1.081031  1.105042   \n",
       "daily_peak_average                     0.899554  0.897474  0.896665  0.894478   \n",
       "electricity_consumption_total          0.880446  0.881122  0.880951  0.880724   \n",
       "monthly_one_minus_load_factor_average  0.979936  0.985296  0.982198  0.979922   \n",
       "ramping_average                        1.105327  1.104457  1.104433  1.104508   \n",
       "zero_net_energy                        1.107665  1.108028  1.108069  1.107870   \n",
       "\n",
       "                                              4      mean       std  \\\n",
       "cost_function                                                         \n",
       "annual_peak_average                    1.063145  1.038687  0.042503   \n",
       "carbon_emissions_total                 0.870490  0.870530  0.000316   \n",
       "cost_total                             0.786488  0.786969  0.000360   \n",
       "daily_one_minus_load_factor_average    1.092683  1.094614  0.015148   \n",
       "daily_peak_average                     0.891383  0.895911  0.003116   \n",
       "electricity_consumption_total          0.881356  0.880920  0.000352   \n",
       "monthly_one_minus_load_factor_average  0.986964  0.982863  0.003178   \n",
       "ramping_average                        1.108196  1.105384  0.001616   \n",
       "zero_net_energy                        1.107685  1.107863  0.000187   \n",
       "\n",
       "                                           variance  \n",
       "cost_function                                        \n",
       "annual_peak_average                    1.806491e-03  \n",
       "carbon_emissions_total                 9.998121e-08  \n",
       "cost_total                             1.295161e-07  \n",
       "daily_one_minus_load_factor_average    2.294653e-04  \n",
       "daily_peak_average                     9.709955e-06  \n",
       "electricity_consumption_total          1.237049e-07  \n",
       "monthly_one_minus_load_factor_average  1.010062e-05  \n",
       "ramping_average                        2.611037e-06  \n",
       "zero_net_energy                        3.507258e-08  "
      ]
     },
     "execution_count": 10,
     "metadata": {},
     "output_type": "execute_result"
    }
   ],
   "source": [
    "df_kpis"
   ]
  },
  {
   "cell_type": "code",
   "execution_count": 13,
   "metadata": {},
   "outputs": [],
   "source": [
    "#df_kpis.to_csv(f'{RUNS} run KPIs.csv')"
   ]
  },
  {
   "cell_type": "code",
   "execution_count": 11,
   "metadata": {},
   "outputs": [
    {
     "data": {
      "image/png": "[encoded data removed]",
      "text/plain": [
       "<Figure size 640x480 with 1 Axes>"
      ]
     },
     "metadata": {},
     "output_type": "display_data"
    }
   ],
   "source": [
    "ax = df_kpis['mean'].plot.barh(xerr = df_kpis['std'], xlim=0.3, title='Random Attack Mean KPIs Over 5 Runs with STD Error')\n",
    "for i in ax.patches:\n",
    "    # get_width pulls left or right; get_y pushes up or down\n",
    "    ax.text(i.get_width(), \n",
    "            i.get_y()-0.2,\n",
    "            str(round((i.get_width()), 2)), \n",
    "            fontsize=10, \n",
    "            #color='dimgrey'\n",
    "            )"
   ]
  },
  {
   "cell_type": "code",
   "execution_count": 12,
   "metadata": {},
   "outputs": [
    {
     "name": "stdout",
     "output_type": "stream",
     "text": [
      "For 5 runs of the random attack \n",
      "the mean ASR is:0.129\n",
      "the STD is: 0.004\n"
     ]
    }
   ],
   "source": [
    "ASRs = [results[i][3] for i in range(len(results))]\n",
    "print(f'For 5 runs of the random attack \\nthe mean ASR is:{np.mean(ASRs):.3f}\\nthe STD is: {np.std(ASRs):.3f}')"
   ]
  },
  {
   "cell_type": "code",
   "execution_count": null,
   "metadata": {},
   "outputs": [],
   "source": []
  }
 ],
 "metadata": {
  "kernelspec": {
   "display_name": "CityLearnART",
   "language": "python",
   "name": "python3"
  },
  "language_info": {
   "codemirror_mode": {
    "name": "ipython",
    "version": 3
   },
   "file_extension": ".py",
   "mimetype": "text/x-python",
   "name": "python",
   "nbconvert_exporter": "python",
   "pygments_lexer": "ipython3",
   "version": "3.10.12"
  }
 },
 "nbformat": 4,
 "nbformat_minor": 2
}
