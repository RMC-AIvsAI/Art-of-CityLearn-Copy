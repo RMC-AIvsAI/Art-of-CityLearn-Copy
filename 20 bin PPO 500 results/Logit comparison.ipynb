{
 "cells": [
  {
   "cell_type": "code",
   "execution_count": null,
   "metadata": {},
   "outputs": [],
   "source": []
  },
  {
   "cell_type": "code",
   "execution_count": 1,
   "metadata": {},
   "outputs": [],
   "source": [
    "AGENT_NAME = 'default_PPO_citylearn_challenge_2022_phase_2_Building_6_20_bins_500'\n",
    "ADVERSARY_PATH = 'Models\\Adversary\\default_adversary_PPO_citylearn_challenge_2022_phase_2_Building_6_20_bins_default_rwd_480'\n",
    "DATASET_NAME = 'citylearn_challenge_2022_phase_2' #only action is electrical storage"
   ]
  },
  {
   "cell_type": "code",
   "execution_count": 2,
   "metadata": {},
   "outputs": [],
   "source": [
    "from stable_baselines3 import PPO\n",
    "\n",
    "from citylearn.data import DataSet\n",
    "\n",
    "from art.attacks.evasion import AutoConjugateGradient as ACG\n",
    "\n",
    "import pandas as pd\n",
    "import numpy as np\n",
    "import os\n",
    "\n",
    "import KBMproject.utilities as utils\n",
    "\n",
    "%matplotlib inline"
   ]
  },
  {
   "cell_type": "code",
   "execution_count": 3,
   "metadata": {},
   "outputs": [],
   "source": [
    "schema = DataSet.get_schema(DATASET_NAME)"
   ]
  },
  {
   "cell_type": "markdown",
   "metadata": {},
   "source": [
    "Define RL agent"
   ]
  },
  {
   "cell_type": "code",
   "execution_count": 4,
   "metadata": {},
   "outputs": [
    {
     "name": "stdout",
     "output_type": "stream",
     "text": [
      "Model loaded from storage\n"
     ]
    }
   ],
   "source": [
    "agent = PPO.load(path=f\"{AGENT_NAME}\")\n",
    "print('Model loaded from storage')"
   ]
  },
  {
   "cell_type": "code",
   "execution_count": 5,
   "metadata": {},
   "outputs": [
    {
     "name": "stdout",
     "output_type": "stream",
     "text": [
      "Model loaded from storage\n"
     ]
    }
   ],
   "source": [
    "adv_path = os.path.join(os.getcwd(), '..',ADVERSARY_PATH) #get adversary from parent directory\n",
    "adv_path = os.path.normpath(adv_path) #resolve '..'\n",
    "adversary = PPO.load(path=adv_path)\n",
    "print('Model loaded from storage')"
   ]
  },
  {
   "cell_type": "code",
   "execution_count": 6,
   "metadata": {},
   "outputs": [],
   "source": [
    "bins = agent.action_space[0].n\n",
    "env = utils.make_discrete_env(schema=schema,  \n",
    "                        action_bins=bins,\n",
    "                        seed=42)"
   ]
  },
  {
   "cell_type": "markdown",
   "metadata": {},
   "source": [
    "### compare optimal and optimal adversary logits"
   ]
  },
  {
   "cell_type": "markdown",
   "metadata": {},
   "source": [
    "define victim/ adversarial policies, which are used to generate logits:"
   ]
  },
  {
   "cell_type": "code",
   "execution_count": 7,
   "metadata": {},
   "outputs": [],
   "source": [
    "from art.estimators.classification import PyTorchClassifier as classifier\n",
    "from torch.nn import CrossEntropyLoss\n",
    "\n",
    "victim_policy = classifier(\n",
    "                            model=utils.extract_actor(agent),\n",
    "                            loss=CrossEntropyLoss(), \n",
    "                            nb_classes=env.action_space[0].n,\n",
    "                            input_shape=agent.observation_space.shape,\n",
    "                            device_type='gpu'\n",
    "                            )\n",
    "\n",
    "adversary_policy = classifier(\n",
    "                            model=utils.extract_actor(adversary),\n",
    "                            loss=CrossEntropyLoss(), \n",
    "                            nb_classes=env.action_space[0].n,\n",
    "                            input_shape=agent.observation_space.shape,\n",
    "                            device_type='gpu'\n",
    "                            )"
   ]
  },
  {
   "cell_type": "markdown",
   "metadata": {},
   "source": [
    "Collect agent/adversary logits/actions for the victim's trajectory (use victim's action)"
   ]
  },
  {
   "cell_type": "code",
   "execution_count": 9,
   "metadata": {},
   "outputs": [],
   "source": [
    "obs_list = []\n",
    "victim_a_list = []\n",
    "adv_a_list = []\n",
    "victim_logit_list = []\n",
    "adv_logit_list =[]\n",
    "\n",
    "observations = env.reset()\n",
    "\n",
    "while not env.done:\n",
    "    obs_list.append(observations)\n",
    "    v_logits = victim_policy.predict(observations, training_mode=False)\n",
    "    adv_logits = adversary_policy.predict(observations, training_mode=False)\n",
    "    victim_logit_list.append(v_logits)\n",
    "    adv_logit_list.append(adv_logits)\n",
    "    #adv_a = np.argmax(adv_logits) #probably faster to do this as a vectorized operation\n",
    "    v_a = np.argmax(v_logits)\n",
    "    victim_a_list.append(v_a)\n",
    "    #adv_a_list.append(adv_a)\n",
    "    observations, _, _, _ = env.step(np.array([v_a])) #victim trajectory"
   ]
  },
  {
   "cell_type": "code",
   "execution_count": 10,
   "metadata": {},
   "outputs": [],
   "source": [
    "df_baseline_obs = pd.DataFrame(obs_list, columns=env.observation_names[0])\n",
    "#df_baseline_obs.to_csv('baseline_obs.csv')"
   ]
  },
  {
   "cell_type": "code",
   "execution_count": 11,
   "metadata": {},
   "outputs": [],
   "source": [
    "adv_a = np.squeeze(np.argmax(np.array(adv_logit_list), axis=1)) #take the argmax of each row"
   ]
  },
  {
   "cell_type": "markdown",
   "metadata": {},
   "source": [
    "Knowing that the action is the index of the largetst logit (where the logits for each sample are a row), the slices below gives us the victim's logit for the optimal and optimal adversarial actions"
   ]
  },
  {
   "cell_type": "code",
   "execution_count": 12,
   "metadata": {},
   "outputs": [],
   "source": [
    "adv_a_logits = np.squeeze(np.array(victim_logit_list))[np.arange(len(adv_a)), adv_a]"
   ]
  },
  {
   "cell_type": "code",
   "execution_count": 13,
   "metadata": {},
   "outputs": [],
   "source": [
    "victim_a_logits = np.squeeze(np.array(victim_logit_list))[np.arange(len(victim_a_list)), victim_a_list]"
   ]
  },
  {
   "cell_type": "code",
   "execution_count": 14,
   "metadata": {},
   "outputs": [],
   "source": [
    "logit_distance = pd.Series(victim_a_logits - adv_a_logits)"
   ]
  },
  {
   "cell_type": "code",
   "execution_count": 15,
   "metadata": {},
   "outputs": [
    {
     "data": {
      "text/plain": [
       "count    8759.000000\n",
       "mean       21.904232\n",
       "std         5.920007\n",
       "min         0.000000\n",
       "25%        17.761548\n",
       "50%        21.724623\n",
       "75%        25.826498\n",
       "max        44.506714\n",
       "dtype: float64"
      ]
     },
     "execution_count": 15,
     "metadata": {},
     "output_type": "execute_result"
    }
   ],
   "source": [
    "logit_distance.describe()"
   ]
  },
  {
   "cell_type": "code",
   "execution_count": 16,
   "metadata": {},
   "outputs": [
    {
     "data": {
      "text/plain": [
       "<Axes: >"
      ]
     },
     "execution_count": 16,
     "metadata": {},
     "output_type": "execute_result"
    },
    {
     "data": {
      "image/png": "[encoded data removed]",
      "text/plain": [
       "<Figure size 640x480 with 1 Axes>"
      ]
     },
     "metadata": {},
     "output_type": "display_data"
    }
   ],
   "source": [
    "logit_distance.plot.box()"
   ]
  },
  {
   "cell_type": "code",
   "execution_count": 17,
   "metadata": {},
   "outputs": [
    {
     "data": {
      "text/plain": [
       "<Axes: ylabel='Density'>"
      ]
     },
     "execution_count": 17,
     "metadata": {},
     "output_type": "execute_result"
    },
    {
     "data": {
      "image/png": "[encoded data removed]",
      "text/plain": [
       "<Figure size 640x480 with 1 Axes>"
      ]
     },
     "metadata": {},
     "output_type": "display_data"
    }
   ],
   "source": [
    "logit_distance.plot.kde()"
   ]
  },
  {
   "cell_type": "markdown",
   "metadata": {},
   "source": [
    "The untargeted attack using DLR pushes the victim towards the second largest logit/most likely class"
   ]
  },
  {
   "cell_type": "code",
   "execution_count": 18,
   "metadata": {},
   "outputs": [],
   "source": [
    "victim_2nd_logit =  np.sort(np.squeeze(np.array(victim_logit_list)), axis=1)[:, -2]"
   ]
  },
  {
   "cell_type": "code",
   "execution_count": 19,
   "metadata": {},
   "outputs": [],
   "source": [
    "second_logit_distance = pd.Series(victim_a_logits - victim_2nd_logit)"
   ]
  },
  {
   "cell_type": "code",
   "execution_count": 20,
   "metadata": {},
   "outputs": [
    {
     "data": {
      "text/plain": [
       "count    8759.000000\n",
       "mean        2.526909\n",
       "std         2.194312\n",
       "min         0.000023\n",
       "25%         0.871967\n",
       "50%         1.942386\n",
       "75%         3.562699\n",
       "max        17.197521\n",
       "dtype: float64"
      ]
     },
     "execution_count": 20,
     "metadata": {},
     "output_type": "execute_result"
    }
   ],
   "source": [
    "second_logit_distance.describe()"
   ]
  },
  {
   "cell_type": "code",
   "execution_count": 21,
   "metadata": {},
   "outputs": [
    {
     "data": {
      "text/plain": [
       "count    8.759000e+03\n",
       "mean     2.301142e+02\n",
       "std      1.317202e+04\n",
       "min      0.000000e+00\n",
       "25%      5.852639e+00\n",
       "50%      1.115291e+01\n",
       "75%      2.442857e+01\n",
       "max      1.223508e+06\n",
       "dtype: float64"
      ]
     },
     "execution_count": 21,
     "metadata": {},
     "output_type": "execute_result"
    }
   ],
   "source": [
    "(logit_distance/second_logit_distance).describe()"
   ]
  },
  {
   "cell_type": "markdown",
   "metadata": {},
   "source": [
    "##### Using the logits predicted from the clean and perturbed observations during the untargeted attack, we can learn the logit distance between the learned and adversarial actions"
   ]
  },
  {
   "cell_type": "markdown",
   "metadata": {},
   "source": [
    "Collect the victim's logits for the untargeted adversarial attack, note that the clean observations are still the result of preceeding adversarial examples, dintinguishing them from the baseline obaservations and trace"
   ]
  },
  {
   "cell_type": "code",
   "execution_count": 8,
   "metadata": {},
   "outputs": [],
   "source": [
    "perturbed_adv_obs =  pd.read_csv('adv_perturbed_obs.csv', index_col=0, dtype='float32')  #NB pytorch needs float32, float64 raises an error\n",
    "clean_adv_obs =  pd.read_csv('adv_obs.csv', index_col=0, dtype='float32', nrows=perturbed_adv_obs.shape[0]) #there is an extra entry for the clean observations, no action was taken for it"
   ]
  },
  {
   "cell_type": "code",
   "execution_count": 9,
   "metadata": {},
   "outputs": [],
   "source": [
    "clean_adv_logit = clean_adv_obs.apply(victim_policy.predict, \n",
    "                                      axis='columns',\n",
    "                                      training_mode=False,)"
   ]
  },
  {
   "cell_type": "markdown",
   "metadata": {},
   "source": [
    "convert series of 2d arrays to df:"
   ]
  },
  {
   "cell_type": "code",
   "execution_count": 10,
   "metadata": {},
   "outputs": [],
   "source": [
    "clean_adv_logit = clean_adv_logit.map(np.squeeze).apply(pd.Series) "
   ]
  },
  {
   "cell_type": "code",
   "execution_count": 11,
   "metadata": {},
   "outputs": [],
   "source": [
    "clean_adv_logit['max_logit'] =  clean_adv_logit.max(axis='columns')"
   ]
  },
  {
   "cell_type": "code",
   "execution_count": 12,
   "metadata": {},
   "outputs": [],
   "source": [
    "perturbed_adv_logit = perturbed_adv_obs.apply(victim_policy.predict, \n",
    "                                      axis='columns',\n",
    "                                      training_mode=False,)\n",
    "perturbed_adv_logit = perturbed_adv_logit.map(np.squeeze).apply(pd.Series)"
   ]
  },
  {
   "cell_type": "code",
   "execution_count": 13,
   "metadata": {},
   "outputs": [],
   "source": [
    "perturbed_adv_logit['action'] = perturbed_adv_logit.idxmax(axis='columns') #position of largest logit"
   ]
  },
  {
   "cell_type": "markdown",
   "metadata": {},
   "source": [
    "The clean obs have one more entry (last entry) than the perturb obs, so we can drop it since no action was taken based on it"
   ]
  },
  {
   "cell_type": "markdown",
   "metadata": {},
   "source": [
    "We want the logit value for the adversarial actions (selected after this observation was perturbed), so we convert everything to np.arrays so we can provide a set of row/col pairs (converted to np arrays)"
   ]
  },
  {
   "cell_type": "code",
   "execution_count": 14,
   "metadata": {},
   "outputs": [],
   "source": [
    "clean_adv_logit['adv_logit'] = clean_adv_logit.values[perturbed_adv_logit['action'].index.values.astype(int), perturbed_adv_logit['action'].values]"
   ]
  },
  {
   "cell_type": "markdown",
   "metadata": {},
   "source": [
    "Here is the difference between the logit of learned optimal action, and the adversarial action, using prdictions from the clean observations in the adversarial scenario"
   ]
  },
  {
   "cell_type": "code",
   "execution_count": 15,
   "metadata": {},
   "outputs": [],
   "source": [
    "clean_adv_logit['max_adv_logit_difference'] =  clean_adv_logit['max_logit'] - clean_adv_logit['adv_logit']"
   ]
  },
  {
   "cell_type": "code",
   "execution_count": 16,
   "metadata": {},
   "outputs": [
    {
     "data": {
      "text/plain": [
       "count    8759.000000\n",
       "mean        2.644244\n",
       "std         2.421880\n",
       "min         0.000000\n",
       "25%         0.812760\n",
       "50%         1.962355\n",
       "75%         3.800384\n",
       "max        19.762749\n",
       "Name: max_adv_logit_difference, dtype: float64"
      ]
     },
     "execution_count": 16,
     "metadata": {},
     "output_type": "execute_result"
    }
   ],
   "source": [
    "clean_adv_logit['max_adv_logit_difference'].describe()"
   ]
  },
  {
   "cell_type": "code",
   "execution_count": 17,
   "metadata": {},
   "outputs": [
    {
     "data": {
      "text/plain": [
       "<Axes: ylabel='Density'>"
      ]
     },
     "execution_count": 17,
     "metadata": {},
     "output_type": "execute_result"
    },
    {
     "data": {
      "image/png": "[encoded data removed]",
      "text/plain": [
       "<Figure size 640x480 with 1 Axes>"
      ]
     },
     "metadata": {},
     "output_type": "display_data"
    }
   ],
   "source": [
    "clean_adv_logit['max_adv_logit_difference'].plot.kde()"
   ]
  },
  {
   "cell_type": "code",
   "execution_count": 18,
   "metadata": {},
   "outputs": [
    {
     "data": {
      "text/plain": [
       "<Axes: >"
      ]
     },
     "execution_count": 18,
     "metadata": {},
     "output_type": "execute_result"
    },
    {
     "data": {
      "image/png": "[encoded data removed]",
      "text/plain": [
       "<Figure size 640x480 with 1 Axes>"
      ]
     },
     "metadata": {},
     "output_type": "display_data"
    }
   ],
   "source": [
    "clean_adv_logit['max_adv_logit_difference'].plot.box()"
   ]
  },
  {
   "cell_type": "code",
   "execution_count": null,
   "metadata": {},
   "outputs": [],
   "source": []
  }
 ],
 "metadata": {
  "kernelspec": {
   "display_name": "CityLearnART",
   "language": "python",
   "name": "python3"
  },
  "language_info": {
   "codemirror_mode": {
    "name": "ipython",
    "version": 3
   },
   "file_extension": ".py",
   "mimetype": "text/x-python",
   "name": "python",
   "nbconvert_exporter": "python",
   "pygments_lexer": "ipython3",
   "version": "3.10.12"
  }
 },
 "nbformat": 4,
 "nbformat_minor": 2
}
