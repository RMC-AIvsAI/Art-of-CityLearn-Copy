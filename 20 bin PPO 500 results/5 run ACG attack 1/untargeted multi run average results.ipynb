{
 "cells": [
  {
   "cell_type": "markdown",
   "metadata": {},
   "source": [
    "# Copy instead of modifying to preserve attack parameters"
   ]
  },
  {
   "cell_type": "code",
   "execution_count": 87,
   "metadata": {},
   "outputs": [],
   "source": [
    "AGENT_NAME = 'default_PPO_citylearn_challenge_2022_phase_2_Building_6_20_bins_500'\n",
    "DATASET_NAME = 'citylearn_challenge_2022_phase_2' #only action is electrical storage\n",
    "RUNS = 5\n",
    "TRIAL = 1"
   ]
  },
  {
   "cell_type": "code",
   "execution_count": 2,
   "metadata": {},
   "outputs": [],
   "source": [
    "from stable_baselines3 import PPO\n",
    "\n",
    "from citylearn.data import DataSet\n",
    "\n",
    "from art.attacks.evasion import AutoConjugateGradient as ACG\n",
    "\n",
    "import pandas as pd\n",
    "import numpy as np\n",
    "\n",
    "import KBMproject.utilities as utils\n",
    "\n",
    "from joblib import Parallel, delayed\n",
    "\n",
    "%matplotlib inline"
   ]
  },
  {
   "cell_type": "code",
   "execution_count": 3,
   "metadata": {},
   "outputs": [],
   "source": [
    "schema = DataSet.get_schema(DATASET_NAME)"
   ]
  },
  {
   "cell_type": "markdown",
   "metadata": {},
   "source": [
    "Define RL agent"
   ]
  },
  {
   "cell_type": "code",
   "execution_count": 4,
   "metadata": {},
   "outputs": [],
   "source": [
    "agents = []\n",
    "for _ in range (RUNS):\n",
    "    agents.append(PPO.load(path=f\"{AGENT_NAME}\"))"
   ]
  },
  {
   "cell_type": "code",
   "execution_count": 5,
   "metadata": {},
   "outputs": [],
   "source": [
    "envs = []\n",
    "for _ in range (RUNS):\n",
    "    envs.append(utils.make_discrete_env(schema=schema,  \n",
    "                            action_bins=agents[0].action_space[0].n,\n",
    "                            seed=42))"
   ]
  },
  {
   "cell_type": "markdown",
   "metadata": {},
   "source": [
    "Unperturbed agent performance"
   ]
  },
  {
   "cell_type": "code",
   "execution_count": 7,
   "metadata": {},
   "outputs": [],
   "source": [
    "import os\n",
    "path = os.path.join(os.getcwd(), '..','observation_masks.csv') #get adversary from parent directory\n",
    "path = os.path.normpath(path) #resolve '..'\n",
    "observation_masks = pd.read_csv(path)"
   ]
  },
  {
   "cell_type": "code",
   "execution_count": null,
   "metadata": {},
   "outputs": [],
   "source": [
    "%%time\n",
    "init = 20\n",
    "iter = int(500/init)\n",
    "ACG_parameters = dict(\n",
    "    loss_type='difference_logits_ratio', \n",
    "    batch_size=1,\n",
    "    nb_random_init=init, #5, lower values speed crafting\n",
    "    max_iter=iter, #iterations per restart\n",
    "    norm='inf', #->l2 ->l1 most restrictive \n",
    ")\n",
    "kwargs = dict(\n",
    "    ART_atk=ACG,\n",
    "    ART_atk_kwargs=ACG_parameters,\n",
    "    eps_candidates=[0.01,0.03,0.05,0.07],\n",
    "    time_steps=None,\n",
    "    mask=observation_masks['mask_time'].to_numpy(),\n",
    "    init_step_coeff=2,\n",
    ")\n",
    "\n",
    "results = Parallel(n_jobs=RUNS, verbose=10, prefer='threads')(delayed(\n",
    "    utils.eval_untargeted_dynamic_distortion_attack)(agent, env, **kwargs) for agent, env in zip(agents, envs)) \n"
   ]
  },
  {
   "cell_type": "markdown",
   "metadata": {},
   "source": [
    "[Parallel(n_jobs=5)]: Done   5 out of   5 | elapsed: 868.8min finished"
   ]
  },
  {
   "cell_type": "markdown",
   "metadata": {},
   "source": [
    "Results is a list of tupples for each run, of the format(KPIs, observations, perturbed observations, epsilons)"
   ]
  },
  {
   "cell_type": "code",
   "execution_count": 126,
   "metadata": {},
   "outputs": [],
   "source": [
    "for run in range(RUNS):\n",
    "        np.savetxt(f'run {run} obs {TRIAL}.csv', results[run][1], delimiter=\",\")\n",
    "        np.savetxt(f'run {run} adv_obs {TRIAL}.csv', results[run][2], delimiter=\",\")"
   ]
  },
  {
   "cell_type": "code",
   "execution_count": 88,
   "metadata": {},
   "outputs": [],
   "source": [
    "kpis = [results[i][0] for i in range(len(results))]\n",
    "df_kpis = pd.concat(kpis, axis='columns',keys=range(RUNS))"
   ]
  },
  {
   "cell_type": "code",
   "execution_count": 89,
   "metadata": {},
   "outputs": [],
   "source": [
    "df_kpis[['mean', 'std', 'variance']] = df_kpis.agg(['mean','std', 'var'], axis='columns')"
   ]
  },
  {
   "cell_type": "code",
   "execution_count": 92,
   "metadata": {},
   "outputs": [],
   "source": [
    "df_kpis.to_csv(f'{RUNS} run KPIs {TRIAL}.csv')"
   ]
  },
  {
   "cell_type": "code",
   "execution_count": 98,
   "metadata": {},
   "outputs": [
    {
     "data": {
      "text/html": [
       "<div>\n",
       "<style scoped>\n",
       "    .dataframe tbody tr th:only-of-type {\n",
       "        vertical-align: middle;\n",
       "    }\n",
       "\n",
       "    .dataframe tbody tr th {\n",
       "        vertical-align: top;\n",
       "    }\n",
       "\n",
       "    .dataframe thead th {\n",
       "        text-align: right;\n",
       "    }\n",
       "</style>\n",
       "<table border=\"1\" class=\"dataframe\">\n",
       "  <thead>\n",
       "    <tr style=\"text-align: right;\">\n",
       "      <th></th>\n",
       "      <th>0</th>\n",
       "      <th>1</th>\n",
       "      <th>2</th>\n",
       "      <th>3</th>\n",
       "      <th>4</th>\n",
       "      <th>mean</th>\n",
       "      <th>std</th>\n",
       "      <th>variance</th>\n",
       "    </tr>\n",
       "    <tr>\n",
       "      <th>cost_function</th>\n",
       "      <th></th>\n",
       "      <th></th>\n",
       "      <th></th>\n",
       "      <th></th>\n",
       "      <th></th>\n",
       "      <th></th>\n",
       "      <th></th>\n",
       "      <th></th>\n",
       "    </tr>\n",
       "  </thead>\n",
       "  <tbody>\n",
       "    <tr>\n",
       "      <th>annual_peak_average</th>\n",
       "      <td>1.340799</td>\n",
       "      <td>1.198347</td>\n",
       "      <td>1.198347</td>\n",
       "      <td>1.336635</td>\n",
       "      <td>1.198347</td>\n",
       "      <td>1.254495</td>\n",
       "      <td>0.076898</td>\n",
       "      <td>5.913313e-03</td>\n",
       "    </tr>\n",
       "    <tr>\n",
       "      <th>carbon_emissions_total</th>\n",
       "      <td>0.905305</td>\n",
       "      <td>0.905949</td>\n",
       "      <td>0.903067</td>\n",
       "      <td>0.906009</td>\n",
       "      <td>0.904669</td>\n",
       "      <td>0.905000</td>\n",
       "      <td>0.001210</td>\n",
       "      <td>1.464550e-06</td>\n",
       "    </tr>\n",
       "    <tr>\n",
       "      <th>cost_total</th>\n",
       "      <td>0.821299</td>\n",
       "      <td>0.820694</td>\n",
       "      <td>0.819520</td>\n",
       "      <td>0.823444</td>\n",
       "      <td>0.820695</td>\n",
       "      <td>0.821130</td>\n",
       "      <td>0.001445</td>\n",
       "      <td>2.089429e-06</td>\n",
       "    </tr>\n",
       "    <tr>\n",
       "      <th>daily_one_minus_load_factor_average</th>\n",
       "      <td>0.340251</td>\n",
       "      <td>0.365851</td>\n",
       "      <td>0.352087</td>\n",
       "      <td>0.388326</td>\n",
       "      <td>0.382779</td>\n",
       "      <td>0.365859</td>\n",
       "      <td>0.020227</td>\n",
       "      <td>4.091320e-04</td>\n",
       "    </tr>\n",
       "    <tr>\n",
       "      <th>daily_peak_average</th>\n",
       "      <td>0.964378</td>\n",
       "      <td>0.981558</td>\n",
       "      <td>0.978818</td>\n",
       "      <td>0.975169</td>\n",
       "      <td>0.965866</td>\n",
       "      <td>0.973158</td>\n",
       "      <td>0.007696</td>\n",
       "      <td>5.922986e-05</td>\n",
       "    </tr>\n",
       "    <tr>\n",
       "      <th>electricity_consumption_total</th>\n",
       "      <td>0.913364</td>\n",
       "      <td>0.913713</td>\n",
       "      <td>0.911322</td>\n",
       "      <td>0.913760</td>\n",
       "      <td>0.912735</td>\n",
       "      <td>0.912979</td>\n",
       "      <td>0.001013</td>\n",
       "      <td>1.026025e-06</td>\n",
       "    </tr>\n",
       "    <tr>\n",
       "      <th>monthly_one_minus_load_factor_average</th>\n",
       "      <td>1.003274</td>\n",
       "      <td>0.996344</td>\n",
       "      <td>0.998209</td>\n",
       "      <td>1.002030</td>\n",
       "      <td>0.999535</td>\n",
       "      <td>0.999879</td>\n",
       "      <td>0.002809</td>\n",
       "      <td>7.888547e-06</td>\n",
       "    </tr>\n",
       "    <tr>\n",
       "      <th>ramping_average</th>\n",
       "      <td>1.289508</td>\n",
       "      <td>1.293732</td>\n",
       "      <td>1.277046</td>\n",
       "      <td>1.286056</td>\n",
       "      <td>1.275453</td>\n",
       "      <td>1.284359</td>\n",
       "      <td>0.007906</td>\n",
       "      <td>6.251002e-05</td>\n",
       "    </tr>\n",
       "    <tr>\n",
       "      <th>zero_net_energy</th>\n",
       "      <td>1.108946</td>\n",
       "      <td>1.108697</td>\n",
       "      <td>1.108445</td>\n",
       "      <td>1.108554</td>\n",
       "      <td>1.108754</td>\n",
       "      <td>1.108679</td>\n",
       "      <td>0.000192</td>\n",
       "      <td>3.693766e-08</td>\n",
       "    </tr>\n",
       "  </tbody>\n",
       "</table>\n",
       "</div>"
      ],
      "text/plain": [
       "                                              0         1         2         3  \\\n",
       "cost_function                                                                   \n",
       "annual_peak_average                    1.340799  1.198347  1.198347  1.336635   \n",
       "carbon_emissions_total                 0.905305  0.905949  0.903067  0.906009   \n",
       "cost_total                             0.821299  0.820694  0.819520  0.823444   \n",
       "daily_one_minus_load_factor_average    0.340251  0.365851  0.352087  0.388326   \n",
       "daily_peak_average                     0.964378  0.981558  0.978818  0.975169   \n",
       "electricity_consumption_total          0.913364  0.913713  0.911322  0.913760   \n",
       "monthly_one_minus_load_factor_average  1.003274  0.996344  0.998209  1.002030   \n",
       "ramping_average                        1.289508  1.293732  1.277046  1.286056   \n",
       "zero_net_energy                        1.108946  1.108697  1.108445  1.108554   \n",
       "\n",
       "                                              4      mean       std  \\\n",
       "cost_function                                                         \n",
       "annual_peak_average                    1.198347  1.254495  0.076898   \n",
       "carbon_emissions_total                 0.904669  0.905000  0.001210   \n",
       "cost_total                             0.820695  0.821130  0.001445   \n",
       "daily_one_minus_load_factor_average    0.382779  0.365859  0.020227   \n",
       "daily_peak_average                     0.965866  0.973158  0.007696   \n",
       "electricity_consumption_total          0.912735  0.912979  0.001013   \n",
       "monthly_one_minus_load_factor_average  0.999535  0.999879  0.002809   \n",
       "ramping_average                        1.275453  1.284359  0.007906   \n",
       "zero_net_energy                        1.108754  1.108679  0.000192   \n",
       "\n",
       "                                           variance  \n",
       "cost_function                                        \n",
       "annual_peak_average                    5.913313e-03  \n",
       "carbon_emissions_total                 1.464550e-06  \n",
       "cost_total                             2.089429e-06  \n",
       "daily_one_minus_load_factor_average    4.091320e-04  \n",
       "daily_peak_average                     5.922986e-05  \n",
       "electricity_consumption_total          1.026025e-06  \n",
       "monthly_one_minus_load_factor_average  7.888547e-06  \n",
       "ramping_average                        6.251002e-05  \n",
       "zero_net_energy                        3.693766e-08  "
      ]
     },
     "execution_count": 98,
     "metadata": {},
     "output_type": "execute_result"
    }
   ],
   "source": [
    "df_kpis"
   ]
  },
  {
   "cell_type": "code",
   "execution_count": 119,
   "metadata": {},
   "outputs": [
    {
     "data": {
      "image/png": "[encoded data removed]",
      "text/plain": [
       "<Figure size 640x480 with 1 Axes>"
      ]
     },
     "metadata": {},
     "output_type": "display_data"
    }
   ],
   "source": [
    "ax = df_kpis['mean'].plot.barh(xerr = df_kpis['std'], xlim=0.3, title='ACG Attack Mean KPIs Over 5 Runs with STD Error')\n",
    "for i in ax.patches:\n",
    "    # get_width pulls left or right; get_y pushes up or down\n",
    "    ax.text(i.get_width(), \n",
    "            i.get_y()-0.2,\n",
    "            str(round((i.get_width()), 2)), \n",
    "            fontsize=10, \n",
    "            #color='dimgrey'\n",
    "            )"
   ]
  },
  {
   "cell_type": "code",
   "execution_count": 29,
   "metadata": {},
   "outputs": [],
   "source": [
    "eps = [pd.Series(results[i][3]) for i in range(len(results))]\n",
    "df_eps = pd.concat(eps, axis='columns',keys=range(RUNS))"
   ]
  },
  {
   "cell_type": "code",
   "execution_count": 34,
   "metadata": {},
   "outputs": [],
   "source": [
    "df_eps.to_csv(f'{RUNS} run epsilons {TRIAL}.csv')"
   ]
  },
  {
   "cell_type": "code",
   "execution_count": 77,
   "metadata": {},
   "outputs": [],
   "source": [
    "eps_value_counts = df_eps.apply(lambda col: col.value_counts(), axis='rows')"
   ]
  },
  {
   "cell_type": "markdown",
   "metadata": {},
   "source": [
    "Calculate the ASRs (notna returns a series of 0 or 1 for True or False, to the mean is the proportion)"
   ]
  },
  {
   "cell_type": "code",
   "execution_count": 78,
   "metadata": {},
   "outputs": [],
   "source": [
    "ASRs = df_eps.notna().mean()\n",
    "ASRs.name = 'ASR'\n",
    "eps_value_counts = eps_value_counts.append(ASRs)\n",
    "eps_value_counts[['mean', 'std', 'variance']] = eps_value_counts.agg(['mean','std', 'var'], axis='columns')"
   ]
  },
  {
   "cell_type": "code",
   "execution_count": 82,
   "metadata": {},
   "outputs": [
    {
     "data": {
      "text/html": [
       "<div>\n",
       "<style scoped>\n",
       "    .dataframe tbody tr th:only-of-type {\n",
       "        vertical-align: middle;\n",
       "    }\n",
       "\n",
       "    .dataframe tbody tr th {\n",
       "        vertical-align: top;\n",
       "    }\n",
       "\n",
       "    .dataframe thead th {\n",
       "        text-align: right;\n",
       "    }\n",
       "</style>\n",
       "<table border=\"1\" class=\"dataframe\">\n",
       "  <thead>\n",
       "    <tr style=\"text-align: right;\">\n",
       "      <th></th>\n",
       "      <th>0</th>\n",
       "      <th>1</th>\n",
       "      <th>2</th>\n",
       "      <th>3</th>\n",
       "      <th>4</th>\n",
       "      <th>mean</th>\n",
       "      <th>std</th>\n",
       "      <th>variance</th>\n",
       "    </tr>\n",
       "  </thead>\n",
       "  <tbody>\n",
       "    <tr>\n",
       "      <th>0.01</th>\n",
       "      <td>3900.00000</td>\n",
       "      <td>3919.000000</td>\n",
       "      <td>3919.000000</td>\n",
       "      <td>3928.000000</td>\n",
       "      <td>3921.000000</td>\n",
       "      <td>3917.400000</td>\n",
       "      <td>10.406729</td>\n",
       "      <td>1.083000e+02</td>\n",
       "    </tr>\n",
       "    <tr>\n",
       "      <th>0.03</th>\n",
       "      <td>3681.00000</td>\n",
       "      <td>3697.000000</td>\n",
       "      <td>3678.000000</td>\n",
       "      <td>3673.000000</td>\n",
       "      <td>3676.000000</td>\n",
       "      <td>3681.000000</td>\n",
       "      <td>9.407444</td>\n",
       "      <td>8.850000e+01</td>\n",
       "    </tr>\n",
       "    <tr>\n",
       "      <th>0.05</th>\n",
       "      <td>927.00000</td>\n",
       "      <td>900.000000</td>\n",
       "      <td>909.000000</td>\n",
       "      <td>908.000000</td>\n",
       "      <td>903.000000</td>\n",
       "      <td>909.400000</td>\n",
       "      <td>10.502381</td>\n",
       "      <td>1.103000e+02</td>\n",
       "    </tr>\n",
       "    <tr>\n",
       "      <th>0.07</th>\n",
       "      <td>203.00000</td>\n",
       "      <td>186.000000</td>\n",
       "      <td>202.000000</td>\n",
       "      <td>204.000000</td>\n",
       "      <td>206.000000</td>\n",
       "      <td>200.200000</td>\n",
       "      <td>8.074652</td>\n",
       "      <td>6.520000e+01</td>\n",
       "    </tr>\n",
       "    <tr>\n",
       "      <th>ASR</th>\n",
       "      <td>0.99452</td>\n",
       "      <td>0.993492</td>\n",
       "      <td>0.994177</td>\n",
       "      <td>0.994748</td>\n",
       "      <td>0.993949</td>\n",
       "      <td>0.994177</td>\n",
       "      <td>0.000491</td>\n",
       "      <td>2.411363e-07</td>\n",
       "    </tr>\n",
       "  </tbody>\n",
       "</table>\n",
       "</div>"
      ],
      "text/plain": [
       "               0            1            2            3            4  \\\n",
       "0.01  3900.00000  3919.000000  3919.000000  3928.000000  3921.000000   \n",
       "0.03  3681.00000  3697.000000  3678.000000  3673.000000  3676.000000   \n",
       "0.05   927.00000   900.000000   909.000000   908.000000   903.000000   \n",
       "0.07   203.00000   186.000000   202.000000   204.000000   206.000000   \n",
       "ASR      0.99452     0.993492     0.994177     0.994748     0.993949   \n",
       "\n",
       "             mean        std      variance  \n",
       "0.01  3917.400000  10.406729  1.083000e+02  \n",
       "0.03  3681.000000   9.407444  8.850000e+01  \n",
       "0.05   909.400000  10.502381  1.103000e+02  \n",
       "0.07   200.200000   8.074652  6.520000e+01  \n",
       "ASR      0.994177   0.000491  2.411363e-07  "
      ]
     },
     "execution_count": 82,
     "metadata": {},
     "output_type": "execute_result"
    }
   ],
   "source": [
    "eps_value_counts"
   ]
  },
  {
   "cell_type": "code",
   "execution_count": 129,
   "metadata": {},
   "outputs": [
    {
     "data": {
      "text/plain": [
       "<Axes: title={'center': 'Mean Epsilon Values of 5 runs'}, ylabel='mean'>"
      ]
     },
     "execution_count": 129,
     "metadata": {},
     "output_type": "execute_result"
    },
    {
     "data": {
      "image/png": "[encoded data removed]",
      "text/plain": [
       "<Figure size 640x480 with 1 Axes>"
      ]
     },
     "metadata": {},
     "output_type": "display_data"
    }
   ],
   "source": [
    "eps_value_counts['mean'].iloc[:-1].plot.pie(autopct='%1.1f%%', title=f'Mean proportions of different $\\epsilon$ values over {RUNS} runs of the untargeted ACG attack using the dynamic distortion')"
   ]
  },
  {
   "cell_type": "code",
   "execution_count": null,
   "metadata": {},
   "outputs": [],
   "source": []
  }
 ],
 "metadata": {
  "kernelspec": {
   "display_name": "CityLearnART",
   "language": "python",
   "name": "python3"
  },
  "language_info": {
   "codemirror_mode": {
    "name": "ipython",
    "version": 3
   },
   "file_extension": ".py",
   "mimetype": "text/x-python",
   "name": "python",
   "nbconvert_exporter": "python",
   "pygments_lexer": "ipython3",
   "version": "3.10.12"
  }
 },
 "nbformat": 4,
 "nbformat_minor": 2
}
