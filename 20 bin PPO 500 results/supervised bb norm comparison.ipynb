{
 "cells": [
  {
   "cell_type": "markdown",
   "metadata": {},
   "source": [
    "We are testing the performance of different attack parameters below, using the actions and clean observations from the optimal BB attack. Because the ASR was 1 we effectively have a sample and label for every timestep, where the previous action lead to the next clean observation. We can treat this as a supervised learning problem since we effectively have a label for each observation/sample. Unlike the untargeted attack, the actions are not chsen randomly. Given that CityLearn is deterministic we expect that the optinal adversarial trace is also deterministic (confirm with multiple runs) in terms of the action associated with each observation. "
   ]
  },
  {
   "cell_type": "markdown",
   "metadata": {},
   "source": [
    "From below: \n",
    "- Does the vecorized search work for more than one sample input at the same time (that's how their input for rl, here it gets thousands at a time)\n",
    "- Increasing the batchsize has a significant effect on speed\n",
    "- we don't have an init for action 18, does that correspond to the incorrect preds?\n",
    "\n",
    "This copy used ramdoms.uniform in mybb"
   ]
  },
  {
   "cell_type": "code",
   "execution_count": 1,
   "metadata": {},
   "outputs": [],
   "source": [
    "AGENT_NAME = 'default_PPO_citylearn_challenge_2022_phase_2_Building_6_20_bins_500.zip'\n",
    "ATTACK = 'myBB'\n"
   ]
  },
  {
   "cell_type": "code",
   "execution_count": 2,
   "metadata": {},
   "outputs": [],
   "source": [
    "from stable_baselines3 import PPO\n",
    "\n",
    "from citylearn.data import DataSet\n",
    "\n",
    "from art.attacks.evasion.brendel_bethge import BrendelBethgeAttack as BBA\n",
    "\n",
    "import pandas as pd\n",
    "import numpy as np\n",
    "import os\n",
    "\n",
    "import KBMproject.utilities as utils\n",
    "\n",
    "from joblib import Parallel, delayed\n",
    "\n",
    "%matplotlib inline"
   ]
  },
  {
   "cell_type": "code",
   "execution_count": 3,
   "metadata": {},
   "outputs": [],
   "source": [
    "import logging\n",
    "logging.basicConfig(level=logging.WARN)"
   ]
  },
  {
   "cell_type": "markdown",
   "metadata": {},
   "source": [
    "Define RL agent"
   ]
  },
  {
   "cell_type": "code",
   "execution_count": 4,
   "metadata": {},
   "outputs": [
    {
     "name": "stdout",
     "output_type": "stream",
     "text": [
      "Model loaded from storage\n"
     ]
    }
   ],
   "source": [
    "agent = PPO.load(path=f\"{AGENT_NAME}\")\n",
    "print('Model loaded from storage')"
   ]
  },
  {
   "cell_type": "code",
   "execution_count": 5,
   "metadata": {},
   "outputs": [],
   "source": [
    "from art.estimators.classification import PyTorchClassifier as classifier\n",
    "from torch.nn import CrossEntropyLoss\n",
    "victim_policy = classifier(\n",
    "    model=utils.extract_actor(agent),\n",
    "    loss=CrossEntropyLoss(), \n",
    "    nb_classes=agent.action_space[0].n,\n",
    "    input_shape=agent.observation_space.shape,\n",
    "    device_type='gpu',\n",
    "    clip_values = (agent.observation_space.low.min(),agent.observation_space.high.max()) #min and max values of each feature, brendle bethge attack only supports floats values and not array\n",
    "    )"
   ]
  },
  {
   "cell_type": "code",
   "execution_count": 6,
   "metadata": {},
   "outputs": [],
   "source": [
    "mask_time = np.ones(agent.observation_space.shape)\n",
    "mask_time[:6] = 0"
   ]
  },
  {
   "cell_type": "code",
   "execution_count": 7,
   "metadata": {},
   "outputs": [],
   "source": [
    "df_baseline = pd.concat([pd.read_csv('baseline_obs.csv', index_col=0,dtype='float32'),\n",
    "                        pd.read_csv('baseline_obs_a_confidence.csv', index_col=0)], axis='columns')"
   ]
  },
  {
   "cell_type": "markdown",
   "metadata": {},
   "source": [
    "Below, for each action we select the sample with the highest logit softmax/confidence"
   ]
  },
  {
   "cell_type": "code",
   "execution_count": 8,
   "metadata": {},
   "outputs": [],
   "source": [
    "df_max_confidence_samples = df_baseline.loc[df_baseline.groupby('action')['confidence'].idxmax()]\n",
    "df_max_confidence_samples = df_max_confidence_samples.drop(columns='confidence')\n",
    "df_max_confidence_samples = df_max_confidence_samples.set_index('action')"
   ]
  },
  {
   "cell_type": "code",
   "execution_count": 9,
   "metadata": {},
   "outputs": [],
   "source": [
    "dict_samples = df_max_confidence_samples.T.to_dict()"
   ]
  },
  {
   "cell_type": "code",
   "execution_count": 10,
   "metadata": {},
   "outputs": [],
   "source": [
    "samples = pd.read_csv('bb results/optimal myBB observations.csv', index_col=0,dtype='float32')"
   ]
  },
  {
   "cell_type": "code",
   "execution_count": 11,
   "metadata": {},
   "outputs": [],
   "source": [
    "inputs = samples.to_numpy()[:-1]"
   ]
  },
  {
   "cell_type": "code",
   "execution_count": 12,
   "metadata": {},
   "outputs": [],
   "source": [
    "targets = np.argmax(victim_policy.predict(pd.read_csv('bb results/optimal myBB adversarial observations.csv',\n",
    "                                            index_col=0,\n",
    "                                            dtype='float32')\n",
    "                                            ), axis=1)"
   ]
  },
  {
   "cell_type": "code",
   "execution_count": 13,
   "metadata": {},
   "outputs": [],
   "source": [
    "starts = np.array([np.array(list(\n",
    "    dict_samples[a].values())).astype('float32') if a in dict_samples else np.zeros(agent.observation_space.shape, 'float32') for a in targets]) #there is no example for action 18"
   ]
  },
  {
   "cell_type": "code",
   "execution_count": 13,
   "metadata": {},
   "outputs": [],
   "source": [
    "kwargs = dict(norm=2,\n",
    "        targeted=True, #default false\n",
    "        overshoot=1.1, #1.1,\n",
    "        steps=1000,\n",
    "        lr=1e-3,\n",
    "        lr_decay=0.5,\n",
    "        lr_num_decay=20,\n",
    "        momentum=0.8,\n",
    "        binary_search_steps=10,\n",
    "        init_size=1_000_000, #default 100, finds sample matching the target class through iterative random search\n",
    "        #batch_size=1, this makes it soooooo much worse, increasing it to 1000 seems to sligthly decrease the computation time\n",
    "        )\n",
    "l2_attack = BBA(estimator=victim_policy, **kwargs)"
   ]
  },
  {
   "cell_type": "code",
   "execution_count": 14,
   "metadata": {},
   "outputs": [
    {
     "name": "stdout",
     "output_type": "stream",
     "text": [
      "CPU times: total: 57min 21s\n",
      "Wall time: 21min 13s\n"
     ]
    }
   ],
   "source": [
    "%%time\n",
    "l2_adv_samples = l2_attack.generate(x=samples.to_numpy()[:-1], \n",
    "                         y=targets, \n",
    "                         x_adv_init=starts, \n",
    "                         mask=mask_time)"
   ]
  },
  {
   "cell_type": "code",
   "execution_count": 15,
   "metadata": {},
   "outputs": [],
   "source": [
    "l2_adv_preds = victim_policy.predict(l2_adv_samples)"
   ]
  },
  {
   "cell_type": "code",
   "execution_count": 16,
   "metadata": {},
   "outputs": [],
   "source": [
    "l2_adv_preds = np.argmax(l2_adv_preds, axis=1)"
   ]
  },
  {
   "cell_type": "markdown",
   "metadata": {},
   "source": [
    "ASR"
   ]
  },
  {
   "cell_type": "code",
   "execution_count": 17,
   "metadata": {},
   "outputs": [
    {
     "data": {
      "text/plain": [
       "0.8857175476652586"
      ]
     },
     "execution_count": 17,
     "metadata": {},
     "output_type": "execute_result"
    }
   ],
   "source": [
    "np.count_nonzero(l2_adv_preds == targets)/l2_adv_samples.shape[0]"
   ]
  },
  {
   "cell_type": "code",
   "execution_count": 18,
   "metadata": {},
   "outputs": [
    {
     "data": {
      "text/plain": [
       "462"
      ]
     },
     "execution_count": 18,
     "metadata": {},
     "output_type": "execute_result"
    }
   ],
   "source": [
    "np.count_nonzero((l2_adv_samples != inputs).all(axis=1))"
   ]
  },
  {
   "cell_type": "code",
   "execution_count": 19,
   "metadata": {},
   "outputs": [],
   "source": [
    "adv_diff = l2_adv_samples- inputs"
   ]
  },
  {
   "cell_type": "code",
   "execution_count": 20,
   "metadata": {},
   "outputs": [],
   "source": [
    "l2_norms = np.linalg.norm(adv_diff, ord=2, axis=1)"
   ]
  },
  {
   "cell_type": "code",
   "execution_count": 21,
   "metadata": {},
   "outputs": [],
   "source": [
    "linf_norms =  np.linalg.norm(adv_diff, ord=np.inf, axis=1)"
   ]
  },
  {
   "cell_type": "code",
   "execution_count": 22,
   "metadata": {},
   "outputs": [],
   "source": [
    "df_norms = pd.DataFrame({'L2':l2_norms,'Linf':linf_norms})"
   ]
  },
  {
   "cell_type": "code",
   "execution_count": 23,
   "metadata": {},
   "outputs": [
    {
     "data": {
      "text/plain": [
       "<Axes: title={'center': 'KDE of norms for an L2 BB Attack'}, ylabel='Density'>"
      ]
     },
     "execution_count": 23,
     "metadata": {},
     "output_type": "execute_result"
    },
    {
     "data": {
      "image/png": "[encoded data removed]",
      "text/plain": [
       "<Figure size 2000x1200 with 1 Axes>"
      ]
     },
     "metadata": {},
     "output_type": "display_data"
    }
   ],
   "source": [
    "df_norms.plot.kde(grid=True, \n",
    "                   xticks=np.arange(start=df_norms.min().min(), stop=df_norms.max().max(), step=0.1),\n",
    "                   figsize=(20,12),\n",
    "                   xlim=[df_norms.min().min(),df_norms.max().max()], #NB the max/min of a df is a series, and we need the max/min of the series\n",
    "                   title='KDE of norms for an L2 BB Attack',\n",
    "                   xlabel='Linf Norms',\n",
    "                   legend=True\n",
    "                   )"
   ]
  },
  {
   "cell_type": "markdown",
   "metadata": {},
   "source": [
    "We see that the norms for this attack are much higher than for bb linf, and the ASR is lower, this suggests that this attack is less effective are more detectable. NB that a norm of 0 indicates where the attack failed to generate and adversarial sample. "
   ]
  },
  {
   "cell_type": "code",
   "execution_count": 24,
   "metadata": {},
   "outputs": [
    {
     "name": "stdout",
     "output_type": "stream",
     "text": [
      "CPU times: total: 57min 7s\n",
      "Wall time: 21min\n"
     ]
    }
   ],
   "source": [
    "%%time\n",
    "l2_adv_noinit_samples = l2_attack.generate(x=samples.to_numpy()[:-1], \n",
    "                         y=targets, \n",
    "                         #x_adv_init=starts, \n",
    "                         mask=mask_time)"
   ]
  },
  {
   "cell_type": "markdown",
   "metadata": {},
   "source": [
    "ASR for target reshaped l2 attack"
   ]
  },
  {
   "cell_type": "code",
   "execution_count": 25,
   "metadata": {},
   "outputs": [
    {
     "data": {
      "text/plain": [
       "0.8868592305057655"
      ]
     },
     "execution_count": 25,
     "metadata": {},
     "output_type": "execute_result"
    }
   ],
   "source": [
    "l2_adv_noinit_preds = np.argmax(victim_policy.predict(l2_adv_noinit_samples), axis=1)\n",
    "np.count_nonzero(l2_adv_noinit_preds == targets)/l2_adv_noinit_samples.shape[0]"
   ]
  },
  {
   "cell_type": "code",
   "execution_count": 28,
   "metadata": {},
   "outputs": [
    {
     "data": {
      "text/html": [
       "<div>\n",
       "<style scoped>\n",
       "    .dataframe tbody tr th:only-of-type {\n",
       "        vertical-align: middle;\n",
       "    }\n",
       "\n",
       "    .dataframe tbody tr th {\n",
       "        vertical-align: top;\n",
       "    }\n",
       "\n",
       "    .dataframe thead th {\n",
       "        text-align: right;\n",
       "    }\n",
       "</style>\n",
       "<table border=\"1\" class=\"dataframe\">\n",
       "  <thead>\n",
       "    <tr style=\"text-align: right;\">\n",
       "      <th></th>\n",
       "      <th>L2</th>\n",
       "      <th>Linf</th>\n",
       "    </tr>\n",
       "  </thead>\n",
       "  <tbody>\n",
       "    <tr>\n",
       "      <th>count</th>\n",
       "      <td>8759.000000</td>\n",
       "      <td>8759.000000</td>\n",
       "    </tr>\n",
       "    <tr>\n",
       "      <th>mean</th>\n",
       "      <td>2.048068</td>\n",
       "      <td>0.894038</td>\n",
       "    </tr>\n",
       "    <tr>\n",
       "      <th>std</th>\n",
       "      <td>0.467463</td>\n",
       "      <td>0.155405</td>\n",
       "    </tr>\n",
       "    <tr>\n",
       "      <th>min</th>\n",
       "      <td>0.000000</td>\n",
       "      <td>0.000000</td>\n",
       "    </tr>\n",
       "    <tr>\n",
       "      <th>25%</th>\n",
       "      <td>1.858843</td>\n",
       "      <td>0.878788</td>\n",
       "    </tr>\n",
       "    <tr>\n",
       "      <th>50%</th>\n",
       "      <td>2.111439</td>\n",
       "      <td>0.922743</td>\n",
       "    </tr>\n",
       "    <tr>\n",
       "      <th>75%</th>\n",
       "      <td>2.329404</td>\n",
       "      <td>0.969697</td>\n",
       "    </tr>\n",
       "    <tr>\n",
       "      <th>max</th>\n",
       "      <td>3.008110</td>\n",
       "      <td>1.000000</td>\n",
       "    </tr>\n",
       "  </tbody>\n",
       "</table>\n",
       "</div>"
      ],
      "text/plain": [
       "                L2         Linf\n",
       "count  8759.000000  8759.000000\n",
       "mean      2.048068     0.894038\n",
       "std       0.467463     0.155405\n",
       "min       0.000000     0.000000\n",
       "25%       1.858843     0.878788\n",
       "50%       2.111439     0.922743\n",
       "75%       2.329404     0.969697\n",
       "max       3.008110     1.000000"
      ]
     },
     "execution_count": 28,
     "metadata": {},
     "output_type": "execute_result"
    }
   ],
   "source": [
    "df_norms.describe()"
   ]
  },
  {
   "cell_type": "code",
   "execution_count": 14,
   "metadata": {},
   "outputs": [],
   "source": [
    "kwargs = dict(norm=np.inf,\n",
    "        targeted=True, #default false\n",
    "        overshoot=1.1, #1.1,\n",
    "        steps=1000,\n",
    "        lr=1e-3,\n",
    "        lr_decay=0.5,\n",
    "        lr_num_decay=20,\n",
    "        momentum=0.8,\n",
    "        binary_search_steps=10,\n",
    "        init_size=1_000_000, #default 100, finds sample matching the target class through iterative random search\n",
    "        #batch_size=1000,\n",
    "        )\n",
    "linf_attack = BBA(estimator=victim_policy, **kwargs)"
   ]
  },
  {
   "cell_type": "code",
   "execution_count": 15,
   "metadata": {},
   "outputs": [
    {
     "name": "stdout",
     "output_type": "stream",
     "text": [
      "CPU times: total: 1h 57min 28s\n",
      "Wall time: 1h 21min 26s\n"
     ]
    }
   ],
   "source": [
    "%%time\n",
    "linf_adv_samples = linf_attack.generate(x=inputs, \n",
    "                         y=targets, \n",
    "                         x_adv_init=starts, \n",
    "                         mask=mask_time)"
   ]
  },
  {
   "cell_type": "markdown",
   "metadata": {},
   "source": [
    "Linf ASR"
   ]
  },
  {
   "cell_type": "code",
   "execution_count": 17,
   "metadata": {},
   "outputs": [
    {
     "data": {
      "text/plain": [
       "0.9163146477908437"
      ]
     },
     "execution_count": 17,
     "metadata": {},
     "output_type": "execute_result"
    }
   ],
   "source": [
    "linf_adv_preds = np.argmax(victim_policy.predict(linf_adv_samples), axis=1)\n",
    "np.count_nonzero(linf_adv_preds == targets)/inputs.shape[0]"
   ]
  },
  {
   "cell_type": "code",
   "execution_count": 19,
   "metadata": {},
   "outputs": [
    {
     "ename": "KeyboardInterrupt",
     "evalue": "",
     "output_type": "error",
     "traceback": [
      "\u001b[1;31m---------------------------------------------------------------------------\u001b[0m",
      "\u001b[1;31mKeyboardInterrupt\u001b[0m                         Traceback (most recent call last)",
      "File \u001b[1;32m<timed exec>:1\u001b[0m\n",
      "File \u001b[1;32mc:\\Users\\Broda-Milian\\anaconda3\\envs\\CityLearnART\\lib\\site-packages\\art\\attacks\\evasion\\brendel_bethge.py:2225\u001b[0m, in \u001b[0;36mBrendelBethgeAttack.generate\u001b[1;34m(self, x, y, **kwargs)\u001b[0m\n\u001b[0;32m   2222\u001b[0m y_index \u001b[39m=\u001b[39m np\u001b[39m.\u001b[39margmax(y, axis\u001b[39m=\u001b[39m\u001b[39m1\u001b[39m)\n\u001b[0;32m   2224\u001b[0m \u001b[39mfor\u001b[39;00m i_x \u001b[39min\u001b[39;00m \u001b[39mrange\u001b[39m(x\u001b[39m.\u001b[39mshape[\u001b[39m0\u001b[39m]):\n\u001b[1;32m-> 2225\u001b[0m     initial_sample \u001b[39m=\u001b[39m \u001b[39mself\u001b[39;49m\u001b[39m.\u001b[39;49m_init_sample(\n\u001b[0;32m   2226\u001b[0m         x\u001b[39m=\u001b[39;49mx[i_x],\n\u001b[0;32m   2227\u001b[0m         y\u001b[39m=\u001b[39;49my_index[i_x],\n\u001b[0;32m   2228\u001b[0m         y_p\u001b[39m=\u001b[39;49mpreds[i_x],\n\u001b[0;32m   2229\u001b[0m         init_pred\u001b[39m=\u001b[39;49minit_preds[i_x],\n\u001b[0;32m   2230\u001b[0m         adv_init\u001b[39m=\u001b[39;49mx_adv_init[i_x],\n\u001b[0;32m   2231\u001b[0m         clip_min\u001b[39m=\u001b[39;49mclip_min,\n\u001b[0;32m   2232\u001b[0m         clip_max\u001b[39m=\u001b[39;49mclip_max,\n\u001b[0;32m   2233\u001b[0m     )\n\u001b[0;32m   2235\u001b[0m     \u001b[39mif\u001b[39;00m initial_sample \u001b[39mis\u001b[39;00m \u001b[39mNone\u001b[39;00m:\n\u001b[0;32m   2236\u001b[0m         starting_points[i_x] \u001b[39m=\u001b[39m x[i_x]\n",
      "File \u001b[1;32mc:\\Users\\Broda-Milian\\anaconda3\\envs\\CityLearnART\\lib\\site-packages\\art\\attacks\\evasion\\brendel_bethge.py:2470\u001b[0m, in \u001b[0;36mBrendelBethgeAttack._init_sample\u001b[1;34m(self, x, y, y_p, init_pred, adv_init, clip_min, clip_max)\u001b[0m\n\u001b[0;32m   2467\u001b[0m \u001b[39mfor\u001b[39;00m _ \u001b[39min\u001b[39;00m \u001b[39mrange\u001b[39m(\u001b[39mself\u001b[39m\u001b[39m.\u001b[39minit_size):\n\u001b[0;32m   2468\u001b[0m     random_img \u001b[39m=\u001b[39m nprd\u001b[39m.\u001b[39muniform(clip_min, clip_max, size\u001b[39m=\u001b[39mx\u001b[39m.\u001b[39mshape)\u001b[39m.\u001b[39mastype(x\u001b[39m.\u001b[39mdtype)\n\u001b[0;32m   2469\u001b[0m     random_class \u001b[39m=\u001b[39m np\u001b[39m.\u001b[39margmax(\n\u001b[1;32m-> 2470\u001b[0m         \u001b[39mself\u001b[39;49m\u001b[39m.\u001b[39;49mestimator\u001b[39m.\u001b[39;49mpredict(np\u001b[39m.\u001b[39;49marray([random_img]), batch_size\u001b[39m=\u001b[39;49m\u001b[39mself\u001b[39;49m\u001b[39m.\u001b[39;49mbatch_size),\n\u001b[0;32m   2471\u001b[0m         axis\u001b[39m=\u001b[39m\u001b[39m1\u001b[39m,\n\u001b[0;32m   2472\u001b[0m     )[\u001b[39m0\u001b[39m]\n\u001b[0;32m   2474\u001b[0m     \u001b[39mif\u001b[39;00m random_class \u001b[39m==\u001b[39m y:\n\u001b[0;32m   2475\u001b[0m         \u001b[39m# Binary search to reduce the l2 distance to the original image\u001b[39;00m\n\u001b[0;32m   2476\u001b[0m         random_img \u001b[39m=\u001b[39m \u001b[39mself\u001b[39m\u001b[39m.\u001b[39m_binary_search(\n\u001b[0;32m   2477\u001b[0m             current_sample\u001b[39m=\u001b[39mrandom_img,\n\u001b[0;32m   2478\u001b[0m             original_sample\u001b[39m=\u001b[39mx,\n\u001b[1;32m   (...)\u001b[0m\n\u001b[0;32m   2483\u001b[0m             threshold\u001b[39m=\u001b[39m\u001b[39m0.001\u001b[39m,\n\u001b[0;32m   2484\u001b[0m         )\n",
      "File \u001b[1;32mc:\\Users\\Broda-Milian\\anaconda3\\envs\\CityLearnART\\lib\\site-packages\\art\\estimators\\classification\\classifier.py:73\u001b[0m, in \u001b[0;36mInputFilter.__init__.<locals>.make_replacement.<locals>.replacement_function\u001b[1;34m(self, *args, **kwargs)\u001b[0m\n\u001b[0;32m     71\u001b[0m \u001b[39mif\u001b[39;00m \u001b[39mlen\u001b[39m(args) \u001b[39m>\u001b[39m \u001b[39m0\u001b[39m:\n\u001b[0;32m     72\u001b[0m     args \u001b[39m=\u001b[39m \u001b[39mtuple\u001b[39m(lst)\n\u001b[1;32m---> 73\u001b[0m \u001b[39mreturn\u001b[39;00m fdict[func_name](\u001b[39mself\u001b[39m, \u001b[39m*\u001b[39margs, \u001b[39m*\u001b[39m\u001b[39m*\u001b[39mkwargs)\n",
      "File \u001b[1;32mc:\\Users\\Broda-Milian\\anaconda3\\envs\\CityLearnART\\lib\\site-packages\\art\\estimators\\classification\\pytorch.py:317\u001b[0m, in \u001b[0;36mPyTorchClassifier.predict\u001b[1;34m(self, x, batch_size, training_mode, **kwargs)\u001b[0m\n\u001b[0;32m    314\u001b[0m \u001b[39mself\u001b[39m\u001b[39m.\u001b[39m_model\u001b[39m.\u001b[39mtrain(mode\u001b[39m=\u001b[39mtraining_mode)\n\u001b[0;32m    316\u001b[0m \u001b[39m# Apply preprocessing\u001b[39;00m\n\u001b[1;32m--> 317\u001b[0m x_preprocessed, _ \u001b[39m=\u001b[39m \u001b[39mself\u001b[39;49m\u001b[39m.\u001b[39;49m_apply_preprocessing(x, y\u001b[39m=\u001b[39;49m\u001b[39mNone\u001b[39;49;00m, fit\u001b[39m=\u001b[39;49m\u001b[39mFalse\u001b[39;49;00m)\n\u001b[0;32m    319\u001b[0m \u001b[39m# Create dataloader\u001b[39;00m\n\u001b[0;32m    320\u001b[0m x_tensor \u001b[39m=\u001b[39m torch\u001b[39m.\u001b[39mfrom_numpy(x_preprocessed)\n",
      "File \u001b[1;32mc:\\Users\\Broda-Milian\\anaconda3\\envs\\CityLearnART\\lib\\site-packages\\art\\estimators\\pytorch.py:188\u001b[0m, in \u001b[0;36mPyTorchEstimator._apply_preprocessing\u001b[1;34m(self, x, y, fit, no_grad)\u001b[0m\n\u001b[0;32m    186\u001b[0m \u001b[39mif\u001b[39;00m no_grad:\n\u001b[0;32m    187\u001b[0m     \u001b[39mwith\u001b[39;00m torch\u001b[39m.\u001b[39mno_grad():\n\u001b[1;32m--> 188\u001b[0m         x, y \u001b[39m=\u001b[39m chain_processes(x, y)\n\u001b[0;32m    189\u001b[0m \u001b[39melse\u001b[39;00m:\n\u001b[0;32m    190\u001b[0m     x, y \u001b[39m=\u001b[39m chain_processes(x, y)\n",
      "File \u001b[1;32mc:\\Users\\Broda-Milian\\anaconda3\\envs\\CityLearnART\\lib\\site-packages\\art\\estimators\\pytorch.py:183\u001b[0m, in \u001b[0;36mPyTorchEstimator._apply_preprocessing.<locals>.chain_processes\u001b[1;34m(x, y)\u001b[0m\n\u001b[0;32m    181\u001b[0m     \u001b[39melse\u001b[39;00m:\n\u001b[0;32m    182\u001b[0m         \u001b[39mif\u001b[39;00m preprocess\u001b[39m.\u001b[39mapply_predict:\n\u001b[1;32m--> 183\u001b[0m             x, y \u001b[39m=\u001b[39m preprocess\u001b[39m.\u001b[39;49mforward(x, y)\n\u001b[0;32m    184\u001b[0m \u001b[39mreturn\u001b[39;00m x, y\n",
      "File \u001b[1;32mc:\\Users\\Broda-Milian\\anaconda3\\envs\\CityLearnART\\lib\\site-packages\\art\\preprocessing\\standardisation_mean_std\\pytorch.py:87\u001b[0m, in \u001b[0;36mStandardisationMeanStdPyTorch.forward\u001b[1;34m(self, x, y)\u001b[0m\n\u001b[0;32m     84\u001b[0m \u001b[39mif\u001b[39;00m \u001b[39mself\u001b[39m\u001b[39m.\u001b[39m_broadcastable_mean \u001b[39mis\u001b[39;00m \u001b[39mNone\u001b[39;00m:\n\u001b[0;32m     85\u001b[0m     \u001b[39mself\u001b[39m\u001b[39m.\u001b[39m_broadcastable_mean, \u001b[39mself\u001b[39m\u001b[39m.\u001b[39m_broadcastable_std \u001b[39m=\u001b[39m broadcastable_mean_std(x, \u001b[39mself\u001b[39m\u001b[39m.\u001b[39mmean, \u001b[39mself\u001b[39m\u001b[39m.\u001b[39mstd)\n\u001b[1;32m---> 87\u001b[0m x_norm \u001b[39m=\u001b[39m x \u001b[39m-\u001b[39m torch\u001b[39m.\u001b[39;49mtensor(\u001b[39mself\u001b[39;49m\u001b[39m.\u001b[39;49m_broadcastable_mean, device\u001b[39m=\u001b[39;49m\u001b[39mself\u001b[39;49m\u001b[39m.\u001b[39;49m_device, dtype\u001b[39m=\u001b[39;49mtorch\u001b[39m.\u001b[39;49mfloat32)\n\u001b[0;32m     88\u001b[0m x_norm \u001b[39m=\u001b[39m x_norm \u001b[39m/\u001b[39m torch\u001b[39m.\u001b[39mtensor(\u001b[39mself\u001b[39m\u001b[39m.\u001b[39m_broadcastable_std, device\u001b[39m=\u001b[39m\u001b[39mself\u001b[39m\u001b[39m.\u001b[39m_device, dtype\u001b[39m=\u001b[39mtorch\u001b[39m.\u001b[39mfloat32)\n\u001b[0;32m     90\u001b[0m \u001b[39mreturn\u001b[39;00m x_norm, y\n",
      "\u001b[1;31mKeyboardInterrupt\u001b[0m: "
     ]
    }
   ],
   "source": [
    "%%time\n",
    "linf2_adv_samples = linf_attack.generate(x=inputs, \n",
    "                         y=targets, \n",
    "                         #x_adv_init=starts, #faster without these?! because the attack wasn't running after a failed search?\n",
    "                         mask=mask_time)"
   ]
  },
  {
   "cell_type": "markdown",
   "metadata": {},
   "source": [
    "Linf ASR"
   ]
  },
  {
   "cell_type": "code",
   "execution_count": null,
   "metadata": {},
   "outputs": [],
   "source": [
    "linf2_adv_preds = np.argmax(victim_policy.predict(linf2_adv_samples), axis=1)\n",
    "np.count_nonzero(linf2_adv_preds == targets)/inputs.shape[0]"
   ]
  },
  {
   "cell_type": "code",
   "execution_count": null,
   "metadata": {},
   "outputs": [],
   "source": []
  }
 ],
 "metadata": {
  "kernelspec": {
   "display_name": "CityLearnART",
   "language": "python",
   "name": "python3"
  },
  "language_info": {
   "codemirror_mode": {
    "name": "ipython",
    "version": 3
   },
   "file_extension": ".py",
   "mimetype": "text/x-python",
   "name": "python",
   "nbconvert_exporter": "python",
   "pygments_lexer": "ipython3",
   "version": "3.10.12"
  }
 },
 "nbformat": 4,
 "nbformat_minor": 2
}
