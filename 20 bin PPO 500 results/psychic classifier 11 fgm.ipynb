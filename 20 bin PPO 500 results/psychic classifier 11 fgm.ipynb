{
 "cells": [
  {
   "cell_type": "code",
   "execution_count": 1,
   "metadata": {},
   "outputs": [],
   "source": [
    "AGENT_NAME = 'default_PPO_citylearn_challenge_2022_phase_2_Building_6_20_bins_500'\n",
    "DATASET_NAME = 'citylearn_challenge_2022_phase_2' #only action is electrical storage\n",
    "SURROGATE = 'surrogates/psychic_classifier_11.pth'"
   ]
  },
  {
   "cell_type": "code",
   "execution_count": 2,
   "metadata": {},
   "outputs": [],
   "source": [
    "from stable_baselines3 import PPO\n",
    "\n",
    "from citylearn.data import DataSet\n",
    "\n",
    "from art.estimators.classification import PyTorchClassifier as classifier\n",
    "\n",
    "from art.attacks.evasion import FastGradientMethod as FGM\n",
    "\n",
    "import logging\n",
    "import pandas as pd\n",
    "import numpy as np\n",
    "import torch\n",
    "from torch.nn import CrossEntropyLoss\n",
    "\n",
    "import KBMproject.utilities as utils\n",
    "\n",
    "%matplotlib inline"
   ]
  },
  {
   "cell_type": "code",
   "execution_count": 3,
   "metadata": {},
   "outputs": [],
   "source": [
    "schema = DataSet.get_schema(DATASET_NAME)"
   ]
  },
  {
   "cell_type": "code",
   "execution_count": 4,
   "metadata": {},
   "outputs": [
    {
     "name": "stdout",
     "output_type": "stream",
     "text": [
      "Model loaded from storage\n"
     ]
    }
   ],
   "source": [
    "agent = PPO.load(path=f\"{AGENT_NAME}\")\n",
    "print('Model loaded from storage')"
   ]
  },
  {
   "cell_type": "code",
   "execution_count": 5,
   "metadata": {},
   "outputs": [],
   "source": [
    "bins = agent.action_space[0].n\n",
    "env = utils.make_discrete_env(schema=schema,  \n",
    "                        action_bins=bins,\n",
    "                        seed=42)"
   ]
  },
  {
   "cell_type": "code",
   "execution_count": 6,
   "metadata": {},
   "outputs": [],
   "source": [
    "import os\n",
    "path = os.path.join(os.getcwd(), '..','observation_masks.csv')\n",
    "path = os.path.normpath(path) #resolve '..'\n",
    "observation_masks = pd.read_csv(path)"
   ]
  },
  {
   "cell_type": "code",
   "execution_count": 7,
   "metadata": {},
   "outputs": [],
   "source": [
    "kwargs = dict(norm=np.inf,\n",
    "        eps=0.05,\n",
    "        num_random_init=0,\n",
    "        targeted=False,\n",
    "        minimal=False\n",
    "        )\n",
    "attack = FGM(estimator=classifier(\n",
    "                        model=torch.load(SURROGATE),\n",
    "                        loss=CrossEntropyLoss(), \n",
    "                        nb_classes=11, \n",
    "                        input_shape=agent.observation_space.shape,\n",
    "                        device_type='gpu',\n",
    "                        clip_values = (agent.observation_space.low.min(),agent.observation_space.high.max())\n",
    "                        ),\n",
    "            **kwargs\n",
    "             )"
   ]
  },
  {
   "cell_type": "code",
   "execution_count": 8,
   "metadata": {},
   "outputs": [
    {
     "name": "stderr",
     "output_type": "stream",
     "text": [
      "100%|█████████▉| 8758/8759 [01:24<00:00, 103.56it/s] ASR=0.299]\n",
      "100%|██████████| 8759/8759 [01:24<00:00, 103.57it/s, ASR=0.299]\n",
      "c:\\users\\broda-milian\\onedrive - rmc-cmr.ca\\documents\\citylearn examples\\modules\\KBMproject\\utilities.py:195: VisibleDeprecationWarning: Creating an ndarray from ragged nested sequences (which is a list-or-tuple of lists-or-tuples-or ndarrays with different lengths or shapes) is deprecated. If you meant to do this, you must specify 'dtype=object' when creating the ndarray.\n",
      "  return format_kpis(env), np.array(obs_list), np.array(adv_obs_list), asr\n"
     ]
    }
   ],
   "source": [
    "logging.basicConfig(level=logging.WARN)\n",
    "kpi, obs, adv_obs, asr = utils.eval_untargeted_attack(agent, env, attack,\n",
    "                                                      mask=observation_masks['mask_time'].to_numpy().astype(float),\n",
    "                                                      time_steps=None)"
   ]
  },
  {
   "cell_type": "code",
   "execution_count": 9,
   "metadata": {},
   "outputs": [
    {
     "data": {
      "text/plain": [
       "cost_function\n",
       "annual_peak_average                      1.000000\n",
       "carbon_emissions_total                   0.880484\n",
       "cost_total                               0.796169\n",
       "daily_one_minus_load_factor_average      1.051436\n",
       "daily_peak_average                       0.903066\n",
       "electricity_consumption_total            0.891650\n",
       "monthly_one_minus_load_factor_average    0.973922\n",
       "ramping_average                          1.154870\n",
       "zero_net_energy                          1.109143\n",
       "Name: District, dtype: float64"
      ]
     },
     "metadata": {},
     "output_type": "display_data"
    }
   ],
   "source": [
    "display(kpi)"
   ]
  },
  {
   "cell_type": "code",
   "execution_count": null,
   "metadata": {},
   "outputs": [],
   "source": []
  }
 ],
 "metadata": {
  "kernelspec": {
   "display_name": "CityLearnART",
   "language": "python",
   "name": "python3"
  },
  "language_info": {
   "codemirror_mode": {
    "name": "ipython",
    "version": 3
   },
   "file_extension": ".py",
   "mimetype": "text/x-python",
   "name": "python",
   "nbconvert_exporter": "python",
   "pygments_lexer": "ipython3",
   "version": "3.10.12"
  }
 },
 "nbformat": 4,
 "nbformat_minor": 2
}
