{
 "cells": [
  {
   "cell_type": "code",
   "execution_count": 1,
   "metadata": {},
   "outputs": [],
   "source": [
    "AGENT_NAME = 'default_PPO_citylearn_challenge_2022_phase_2_Building_6_20_bins_500'\n",
    "SAVE_DIR = 'attribution/'\n",
    "ATTR = 'SVS 1000'"
   ]
  },
  {
   "cell_type": "code",
   "execution_count": 2,
   "metadata": {},
   "outputs": [],
   "source": [
    "import pandas as pd\n",
    "import numpy as np\n",
    "\n",
    "import torchdrift.detectors as detectors\n",
    "import torch\n",
    "\n",
    "import KBMproject.utilities as utils\n",
    "\n",
    "%matplotlib inline"
   ]
  },
  {
   "cell_type": "code",
   "execution_count": 3,
   "metadata": {},
   "outputs": [],
   "source": [
    "baseline_SVS = np.loadtxt(f'baseline {ATTR}.csv',\n",
    "                         delimiter=',',\n",
    "                         ).astype('float32')\n",
    "adv_acg_SVS = np.loadtxt(f'adv acg {ATTR}.csv',\n",
    "                         delimiter=',',\n",
    "                         ).astype('float32')\n",
    "clean_acg_SVS = np.loadtxt(f'clean acg {ATTR}.csv',\n",
    "                         delimiter=',',\n",
    "                         ).astype('float32')\n",
    "adv_bb_SVS = np.loadtxt(f'adv bb {ATTR}.csv',\n",
    "                         delimiter=',',\n",
    "                         ).astype('float32')\n",
    "clean_bb_SVS = np.loadtxt(f'clean bb {ATTR}.csv',\n",
    "                         delimiter=',',\n",
    "                         ).astype('float32')\n",
    "rebaseline_SVS = np.loadtxt(f'rebaseline {ATTR}.csv',\n",
    "                         delimiter=',',\n",
    "                         ).astype('float32')\n",
    "\n"
   ]
  },
  {
   "cell_type": "code",
   "execution_count": 4,
   "metadata": {},
   "outputs": [],
   "source": [
    "BOOTSTRAP = 10_000\n",
    "PVAL = 0.05\n",
    "kernel = detectors.mmd.GaussianKernel()"
   ]
  },
  {
   "cell_type": "code",
   "execution_count": 5,
   "metadata": {},
   "outputs": [
    {
     "name": "stdout",
     "output_type": "stream",
     "text": [
      "The results for the clean and untargeted bb perturbed observations are mmd:0.006601929664611816, p-value:0.0\n"
     ]
    }
   ],
   "source": [
    "result = detectors.kernel_mmd(torch.from_numpy(clean_bb_SVS).to('cuda'), \n",
    "                                  torch.from_numpy(adv_bb_SVS).to('cuda'), \n",
    "                                  n_perm=BOOTSTRAP,\n",
    "                                  kernel=kernel)\n",
    "print(f'The results for the clean and untargeted bb perturbed observations are mmd:{result[0]}, p-value:{result[1]}')"
   ]
  },
  {
   "cell_type": "code",
   "execution_count": 6,
   "metadata": {},
   "outputs": [
    {
     "name": "stdout",
     "output_type": "stream",
     "text": [
      "The results for the clean and untargeted acg perturbed observations are mmd:0.002199530601501465, p-value:0.0\n"
     ]
    }
   ],
   "source": [
    "result = detectors.kernel_mmd(torch.from_numpy(clean_acg_SVS).to('cuda'), \n",
    "                                  torch.from_numpy(adv_acg_SVS).to('cuda'), \n",
    "                                  n_perm=BOOTSTRAP,\n",
    "                                  kernel=kernel)\n",
    "print(f'The results for the clean and untargeted acg perturbed observations are mmd:{result[0]}, p-value:{result[1]}')"
   ]
  },
  {
   "cell_type": "code",
   "execution_count": 7,
   "metadata": {},
   "outputs": [
    {
     "name": "stdout",
     "output_type": "stream",
     "text": [
      "The results for the baseline unperturbed bb observations are mmd:0.0007421970367431641, p-value:0.0\n"
     ]
    }
   ],
   "source": [
    "result = detectors.kernel_mmd(torch.from_numpy(clean_bb_SVS).to('cuda'), \n",
    "                                  torch.from_numpy(baseline_SVS).to('cuda'), \n",
    "                                  n_perm=BOOTSTRAP,\n",
    "                                  kernel=kernel)\n",
    "print(f'The results for the baseline unperturbed bb observations are mmd:{result[0]}, p-value:{result[1]}')"
   ]
  },
  {
   "cell_type": "code",
   "execution_count": 10,
   "metadata": {},
   "outputs": [
    {
     "name": "stdout",
     "output_type": "stream",
     "text": [
      "The results for the rebaseline unperturbed bb observations are mmd:0.0007693767547607422, p-value:0.0\n"
     ]
    }
   ],
   "source": [
    "result = detectors.kernel_mmd(torch.from_numpy(clean_bb_SVS).to('cuda'), \n",
    "                                  torch.from_numpy(rebaseline_SVS).to('cuda'), \n",
    "                                  n_perm=BOOTSTRAP,\n",
    "                                  kernel=kernel)\n",
    "print(f'The results for the rebaseline unperturbed bb observations are mmd:{result[0]}, p-value:{result[1]}')"
   ]
  },
  {
   "cell_type": "code",
   "execution_count": 8,
   "metadata": {},
   "outputs": [
    {
     "name": "stdout",
     "output_type": "stream",
     "text": [
      "The results for the baseline unperturbed acg observations are mmd:0.00036728382110595703, p-value:0.02199999988079071\n"
     ]
    }
   ],
   "source": [
    "result = detectors.kernel_mmd(torch.from_numpy(clean_acg_SVS).to('cuda'), \n",
    "                                  torch.from_numpy(baseline_SVS).to('cuda'), \n",
    "                                  n_perm=BOOTSTRAP,\n",
    "                                  kernel=kernel)\n",
    "print(f'The results for the baseline unperturbed acg observations are mmd:{result[0]}, p-value:{result[1]}')"
   ]
  },
  {
   "cell_type": "code",
   "execution_count": 9,
   "metadata": {},
   "outputs": [
    {
     "name": "stdout",
     "output_type": "stream",
     "text": [
      "The results for the rebaseline unperturbed acg observations are mmd:0.0003428459167480469, p-value:0.038100000470876694\n"
     ]
    }
   ],
   "source": [
    "result = detectors.kernel_mmd(torch.from_numpy(clean_acg_SVS).to('cuda'), \n",
    "                                  torch.from_numpy(rebaseline_SVS).to('cuda'), \n",
    "                                  n_perm=BOOTSTRAP,\n",
    "                                  kernel=kernel)\n",
    "print(f'The results for the rebaseline unperturbed acg observations are mmd:{result[0]}, p-value:{result[1]}')"
   ]
  },
  {
   "cell_type": "code",
   "execution_count": 11,
   "metadata": {},
   "outputs": [
    {
     "name": "stdout",
     "output_type": "stream",
     "text": [
      "The results for the rebaseline and baseline are mmd:0.0002912282943725586, p-value:0.09779999405145645\n"
     ]
    }
   ],
   "source": [
    "result = detectors.kernel_mmd(torch.from_numpy(baseline_SVS).to('cuda'), \n",
    "                                  torch.from_numpy(rebaseline_SVS).to('cuda'), \n",
    "                                  n_perm=BOOTSTRAP,\n",
    "                                  kernel=kernel)\n",
    "print(f'The results for the rebaseline and baseline are mmd:{result[0]}, p-value:{result[1]}')"
   ]
  },
  {
   "cell_type": "markdown",
   "metadata": {},
   "source": [
    "Overall we see that the MMD is an OoM begger between adversarial and clean distributions, though the pvals are all lower than 5%\n",
    "\n",
    "Why are baseline and rebaseline so different? how was baselin generated? Were the actions recorded or predicted afterwards?"
   ]
  },
  {
   "cell_type": "code",
   "execution_count": null,
   "metadata": {},
   "outputs": [],
   "source": []
  }
 ],
 "metadata": {
  "kernelspec": {
   "display_name": "CityLearnART",
   "language": "python",
   "name": "python3"
  },
  "language_info": {
   "codemirror_mode": {
    "name": "ipython",
    "version": 3
   },
   "file_extension": ".py",
   "mimetype": "text/x-python",
   "name": "python",
   "nbconvert_exporter": "python",
   "pygments_lexer": "ipython3",
   "version": "3.10.12"
  }
 },
 "nbformat": 4,
 "nbformat_minor": 2
}
