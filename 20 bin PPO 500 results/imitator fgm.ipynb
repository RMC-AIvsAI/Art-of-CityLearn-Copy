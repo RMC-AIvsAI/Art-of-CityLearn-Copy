{
 "cells": [
  {
   "cell_type": "code",
   "execution_count": 1,
   "metadata": {},
   "outputs": [],
   "source": [
    "AGENT_NAME = 'default_PPO_citylearn_challenge_2022_phase_2_Building_6_20_bins_500'\n",
    "DATASET_NAME = 'citylearn_challenge_2022_phase_2' #only action is electrical storage\n",
    "SURROGATE = 'surrogates/imitator.pth'"
   ]
  },
  {
   "cell_type": "code",
   "execution_count": 2,
   "metadata": {},
   "outputs": [],
   "source": [
    "from stable_baselines3 import PPO\n",
    "\n",
    "from citylearn.data import DataSet\n",
    "\n",
    "from art.estimators.classification import PyTorchClassifier as classifier\n",
    "\n",
    "from art.attacks.evasion import FastGradientMethod as FGM\n",
    "\n",
    "import logging\n",
    "import pandas as pd\n",
    "import numpy as np\n",
    "import torch\n",
    "from torch.nn import CrossEntropyLoss\n",
    "\n",
    "import KBMproject.utilities as utils\n",
    "\n",
    "%matplotlib inline"
   ]
  },
  {
   "cell_type": "code",
   "execution_count": 3,
   "metadata": {},
   "outputs": [],
   "source": [
    "schema = DataSet.get_schema(DATASET_NAME)"
   ]
  },
  {
   "cell_type": "code",
   "execution_count": 4,
   "metadata": {},
   "outputs": [
    {
     "name": "stdout",
     "output_type": "stream",
     "text": [
      "Model loaded from storage\n"
     ]
    }
   ],
   "source": [
    "agent = PPO.load(path=f\"{AGENT_NAME}\")\n",
    "print('Model loaded from storage')"
   ]
  },
  {
   "cell_type": "code",
   "execution_count": 5,
   "metadata": {},
   "outputs": [],
   "source": [
    "bins = agent.action_space[0].n\n",
    "env = utils.make_discrete_env(schema=schema,  \n",
    "                        action_bins=bins,\n",
    "                        seed=42)"
   ]
  },
  {
   "cell_type": "code",
   "execution_count": 6,
   "metadata": {},
   "outputs": [],
   "source": [
    "import os\n",
    "path = os.path.join(os.getcwd(), '..','observation_masks.csv')\n",
    "path = os.path.normpath(path) #resolve '..'\n",
    "observation_masks = pd.read_csv(path)"
   ]
  },
  {
   "cell_type": "code",
   "execution_count": 7,
   "metadata": {},
   "outputs": [],
   "source": [
    "imitator = torch.load(SURROGATE)"
   ]
  },
  {
   "cell_type": "code",
   "execution_count": 13,
   "metadata": {},
   "outputs": [],
   "source": [
    "kwargs = dict(norm=np.inf,\n",
    "        eps=0.2,\n",
    "        #num_random_init=1,\n",
    "        #targeted=False,\n",
    "        #minimal=True\n",
    "        )\n",
    "attack = FGM(estimator=classifier(\n",
    "                        model=imitator, #[:-2],\n",
    "                        loss=CrossEntropyLoss(), \n",
    "                        #nb_classes=agent.action_space[0].n, \n",
    "                        nb_classes=imitator[-1].out_features,\n",
    "                        input_shape=agent.observation_space.shape,\n",
    "                        device_type='gpu',\n",
    "                        clip_values = (agent.observation_space.low.min(),agent.observation_space.high.max())\n",
    "                        ),\n",
    "            **kwargs\n",
    "             )"
   ]
  },
  {
   "cell_type": "code",
   "execution_count": 14,
   "metadata": {},
   "outputs": [
    {
     "name": "stderr",
     "output_type": "stream",
     "text": [
      "100%|█████████▉| 8758/8759 [01:24<00:00, 103.90it/s] ASR=0.803]\n",
      "100%|██████████| 8759/8759 [01:24<00:00, 103.91it/s, ASR=0.803]\n"
     ]
    }
   ],
   "source": [
    "logging.basicConfig(level=logging.WARN)\n",
    "kpi, obs, adv_obs, asr = utils.eval_untargeted_attack(agent, env, attack,\n",
    "                                                      mask=observation_masks['mask_time'].to_numpy().astype(float),\n",
    "                                                      time_steps=None)"
   ]
  },
  {
   "cell_type": "code",
   "execution_count": 15,
   "metadata": {},
   "outputs": [
    {
     "data": {
      "text/plain": [
       "cost_function\n",
       "annual_peak_average                      1.314043\n",
       "carbon_emissions_total                   0.944874\n",
       "cost_total                               0.874296\n",
       "daily_one_minus_load_factor_average      1.042169\n",
       "daily_peak_average                       1.096641\n",
       "electricity_consumption_total            0.949741\n",
       "monthly_one_minus_load_factor_average    1.013470\n",
       "ramping_average                          1.508967\n",
       "zero_net_energy                          1.114755\n",
       "Name: District, dtype: float64"
      ]
     },
     "metadata": {},
     "output_type": "display_data"
    }
   ],
   "source": [
    "display(kpi)"
   ]
  },
  {
   "cell_type": "code",
   "execution_count": 10,
   "metadata": {},
   "outputs": [
    {
     "data": {
      "text/plain": [
       "cost_function\n",
       "annual_peak_average                      1.034373\n",
       "carbon_emissions_total                   0.923742\n",
       "cost_total                               0.840175\n",
       "daily_one_minus_load_factor_average      1.021646\n",
       "daily_peak_average                       1.058670\n",
       "electricity_consumption_total            0.933893\n",
       "monthly_one_minus_load_factor_average    1.010315\n",
       "ramping_average                          1.402107\n",
       "zero_net_energy                          1.109749\n",
       "Name: District, dtype: float64"
      ]
     },
     "metadata": {},
     "output_type": "display_data"
    }
   ],
   "source": [
    "display(kpi)"
   ]
  },
  {
   "cell_type": "code",
   "execution_count": null,
   "metadata": {},
   "outputs": [],
   "source": []
  }
 ],
 "metadata": {
  "kernelspec": {
   "display_name": "CityLearnART",
   "language": "python",
   "name": "python3"
  },
  "language_info": {
   "codemirror_mode": {
    "name": "ipython",
    "version": 3
   },
   "file_extension": ".py",
   "mimetype": "text/x-python",
   "name": "python",
   "nbconvert_exporter": "python",
   "pygments_lexer": "ipython3",
   "version": "3.10.12"
  }
 },
 "nbformat": 4,
 "nbformat_minor": 2
}
