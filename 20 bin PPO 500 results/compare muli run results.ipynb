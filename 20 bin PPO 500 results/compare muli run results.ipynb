{
 "cells": [
  {
   "cell_type": "code",
   "execution_count": 1,
   "metadata": {},
   "outputs": [],
   "source": [
    "import pandas as pd\n",
    "import numpy as np\n",
    "\n",
    "%matplotlib inline"
   ]
  },
  {
   "cell_type": "code",
   "execution_count": 13,
   "metadata": {},
   "outputs": [],
   "source": [
    "df_ACG_KPI = pd.read_csv('5 run ACG attack 1/5 run KPIs 1.csv', index_col=0)\n",
    "df_rand_KPI = pd.read_csv('5 run Random attack 1/5 run KPIs.csv', index_col=0)\n",
    "df_baseline_KPI = pd.read_csv('KPIs.csv', index_col=0, usecols=['cost_function','baseline'] ) #only load col 0\n",
    "df_imitator_KPI = pd.read_csv('5 run imitator FGM results/5 run KPIs 1.csv', index_col=0)"
   ]
  },
  {
   "cell_type": "code",
   "execution_count": null,
   "metadata": {},
   "outputs": [],
   "source": []
  }
 ],
 "metadata": {
  "kernelspec": {
   "display_name": "CityLearnART",
   "language": "python",
   "name": "python3"
  },
  "language_info": {
   "codemirror_mode": {
    "name": "ipython",
    "version": 3
   },
   "file_extension": ".py",
   "mimetype": "text/x-python",
   "name": "python",
   "nbconvert_exporter": "python",
   "pygments_lexer": "ipython3",
   "version": "3.10.12"
  }
 },
 "nbformat": 4,
 "nbformat_minor": 2
}
