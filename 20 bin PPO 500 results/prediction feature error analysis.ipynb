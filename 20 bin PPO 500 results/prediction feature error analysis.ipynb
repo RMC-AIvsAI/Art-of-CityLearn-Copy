{
 "cells": [
  {
   "cell_type": "markdown",
   "metadata": {},
   "source": [
    "There is are no errors in the forecasts for weather conditions in citylearn. THis notbook calculates the mean error introduced by the ACG attack."
   ]
  },
  {
   "cell_type": "code",
   "execution_count": 1,
   "metadata": {},
   "outputs": [],
   "source": [
    "import numpy as np\n",
    "import pandas as pd"
   ]
  },
  {
   "cell_type": "markdown",
   "metadata": {},
   "source": [
    "The observations contain current and forecast measurements, we will analyze how the attack affects the accuracy of forecasts"
   ]
  },
  {
   "cell_type": "code",
   "execution_count": 2,
   "metadata": {},
   "outputs": [],
   "source": [
    "df_acg = pd.read_csv('adv_perturbed_obs.csv', index_col=0)\n"
   ]
  },
  {
   "cell_type": "markdown",
   "metadata": {},
   "source": [
    "Only keep weather/pricing data"
   ]
  },
  {
   "cell_type": "code",
   "execution_count": 3,
   "metadata": {},
   "outputs": [],
   "source": [
    "df_acg = df_acg[df_acg.columns[df_acg.columns.str.contains(f'temp|humidity|solar|pricing')]]"
   ]
  },
  {
   "cell_type": "markdown",
   "metadata": {},
   "source": [
    "Align forcasts with measurements"
   ]
  },
  {
   "cell_type": "code",
   "execution_count": 4,
   "metadata": {},
   "outputs": [],
   "source": [
    "forecasts = [6,12,24]\n",
    "for i in forecasts:\n",
    "     df_acg[df_acg.columns[df_acg.columns.str.contains(f'{i}')]] =\\\n",
    "          df_acg.loc[:,df_acg.columns[df_acg.columns.str.contains(f'{i}')]].shift(i)"
   ]
  },
  {
   "cell_type": "markdown",
   "metadata": {},
   "source": [
    "Calculated the differenc between the newly aligned forecasts and the acutal measurements"
   ]
  },
  {
   "cell_type": "code",
   "execution_count": 5,
   "metadata": {},
   "outputs": [],
   "source": [
    "for measurement in df_acg.loc[:,~df_acg.columns.str.contains('predicted')].columns: #column names which don't contain predicted\n",
    "    df_acg[df_acg.columns[df_acg.columns.str.contains(f'{measurement}_predicted')]] = \\\n",
    "        df_acg[df_acg.columns[df_acg.columns.str.contains(f'{measurement}_predicted')]].sub(df_acg[measurement], axis='rows').abs() #distance between the measurement and prediction"
   ]
  },
  {
   "cell_type": "markdown",
   "metadata": {},
   "source": [
    "Note that if the abs is ommitted above, the difference is ~0.001% or less (you can just remove the abs above, this is way faster than recoding everything)"
   ]
  },
  {
   "cell_type": "markdown",
   "metadata": {},
   "source": [
    "rename the prediction columns to indicate they now contain an error value"
   ]
  },
  {
   "cell_type": "code",
   "execution_count": 6,
   "metadata": {},
   "outputs": [],
   "source": [
    "df_acg.rename(columns=lambda name: name + '_error' if 'predicted' in name else name, inplace=True)"
   ]
  },
  {
   "cell_type": "markdown",
   "metadata": {},
   "source": [
    "Compute the mean and it's standard error (SEM):"
   ]
  },
  {
   "cell_type": "code",
   "execution_count": 7,
   "metadata": {},
   "outputs": [
    {
     "data": {
      "text/html": [
       "<div>\n",
       "<style scoped>\n",
       "    .dataframe tbody tr th:only-of-type {\n",
       "        vertical-align: middle;\n",
       "    }\n",
       "\n",
       "    .dataframe tbody tr th {\n",
       "        vertical-align: top;\n",
       "    }\n",
       "\n",
       "    .dataframe thead th {\n",
       "        text-align: right;\n",
       "    }\n",
       "</style>\n",
       "<table border=\"1\" class=\"dataframe\">\n",
       "  <thead>\n",
       "    <tr style=\"text-align: right;\">\n",
       "      <th></th>\n",
       "      <th>mean</th>\n",
       "      <th>sem</th>\n",
       "    </tr>\n",
       "  </thead>\n",
       "  <tbody>\n",
       "    <tr>\n",
       "      <th>outdoor_dry_bulb_temperature_predicted_6h_error</th>\n",
       "      <td>0.028053</td>\n",
       "      <td>0.000233</td>\n",
       "    </tr>\n",
       "    <tr>\n",
       "      <th>outdoor_dry_bulb_temperature_predicted_12h_error</th>\n",
       "      <td>0.028113</td>\n",
       "      <td>0.000234</td>\n",
       "    </tr>\n",
       "    <tr>\n",
       "      <th>outdoor_dry_bulb_temperature_predicted_24h_error</th>\n",
       "      <td>0.027250</td>\n",
       "      <td>0.000235</td>\n",
       "    </tr>\n",
       "    <tr>\n",
       "      <th>outdoor_relative_humidity_predicted_6h_error</th>\n",
       "      <td>0.027598</td>\n",
       "      <td>0.000231</td>\n",
       "    </tr>\n",
       "    <tr>\n",
       "      <th>outdoor_relative_humidity_predicted_12h_error</th>\n",
       "      <td>0.027418</td>\n",
       "      <td>0.000229</td>\n",
       "    </tr>\n",
       "    <tr>\n",
       "      <th>outdoor_relative_humidity_predicted_24h_error</th>\n",
       "      <td>0.026976</td>\n",
       "      <td>0.000235</td>\n",
       "    </tr>\n",
       "    <tr>\n",
       "      <th>diffuse_solar_irradiance_predicted_6h_error</th>\n",
       "      <td>0.028253</td>\n",
       "      <td>0.000237</td>\n",
       "    </tr>\n",
       "    <tr>\n",
       "      <th>diffuse_solar_irradiance_predicted_12h_error</th>\n",
       "      <td>0.028215</td>\n",
       "      <td>0.000234</td>\n",
       "    </tr>\n",
       "    <tr>\n",
       "      <th>diffuse_solar_irradiance_predicted_24h_error</th>\n",
       "      <td>0.027628</td>\n",
       "      <td>0.000238</td>\n",
       "    </tr>\n",
       "    <tr>\n",
       "      <th>direct_solar_irradiance_predicted_6h_error</th>\n",
       "      <td>0.028491</td>\n",
       "      <td>0.000240</td>\n",
       "    </tr>\n",
       "    <tr>\n",
       "      <th>direct_solar_irradiance_predicted_12h_error</th>\n",
       "      <td>0.028731</td>\n",
       "      <td>0.000241</td>\n",
       "    </tr>\n",
       "    <tr>\n",
       "      <th>direct_solar_irradiance_predicted_24h_error</th>\n",
       "      <td>0.028032</td>\n",
       "      <td>0.000240</td>\n",
       "    </tr>\n",
       "    <tr>\n",
       "      <th>electricity_pricing_predicted_6h_error</th>\n",
       "      <td>0.027943</td>\n",
       "      <td>0.000234</td>\n",
       "    </tr>\n",
       "    <tr>\n",
       "      <th>electricity_pricing_predicted_12h_error</th>\n",
       "      <td>0.027759</td>\n",
       "      <td>0.000232</td>\n",
       "    </tr>\n",
       "    <tr>\n",
       "      <th>electricity_pricing_predicted_24h_error</th>\n",
       "      <td>0.026821</td>\n",
       "      <td>0.000229</td>\n",
       "    </tr>\n",
       "  </tbody>\n",
       "</table>\n",
       "</div>"
      ],
      "text/plain": [
       "                                                      mean       sem\n",
       "outdoor_dry_bulb_temperature_predicted_6h_error   0.028053  0.000233\n",
       "outdoor_dry_bulb_temperature_predicted_12h_error  0.028113  0.000234\n",
       "outdoor_dry_bulb_temperature_predicted_24h_error  0.027250  0.000235\n",
       "outdoor_relative_humidity_predicted_6h_error      0.027598  0.000231\n",
       "outdoor_relative_humidity_predicted_12h_error     0.027418  0.000229\n",
       "outdoor_relative_humidity_predicted_24h_error     0.026976  0.000235\n",
       "diffuse_solar_irradiance_predicted_6h_error       0.028253  0.000237\n",
       "diffuse_solar_irradiance_predicted_12h_error      0.028215  0.000234\n",
       "diffuse_solar_irradiance_predicted_24h_error      0.027628  0.000238\n",
       "direct_solar_irradiance_predicted_6h_error        0.028491  0.000240\n",
       "direct_solar_irradiance_predicted_12h_error       0.028731  0.000241\n",
       "direct_solar_irradiance_predicted_24h_error       0.028032  0.000240\n",
       "electricity_pricing_predicted_6h_error            0.027943  0.000234\n",
       "electricity_pricing_predicted_12h_error           0.027759  0.000232\n",
       "electricity_pricing_predicted_24h_error           0.026821  0.000229"
      ]
     },
     "execution_count": 7,
     "metadata": {},
     "output_type": "execute_result"
    }
   ],
   "source": [
    "df_acg[df_acg.columns[df_acg.columns.str.contains('error')]].agg(['mean','sem']).transpose()"
   ]
  },
  {
   "cell_type": "markdown",
   "metadata": {},
   "source": [
    "We see that the absoulte prediction error is increased by ~2.7% by the ACG attack, which is slightly higher that the mean epsilon value below"
   ]
  },
  {
   "cell_type": "code",
   "execution_count": 10,
   "metadata": {},
   "outputs": [
    {
     "data": {
      "text/html": [
       "<div>\n",
       "<style scoped>\n",
       "    .dataframe tbody tr th:only-of-type {\n",
       "        vertical-align: middle;\n",
       "    }\n",
       "\n",
       "    .dataframe tbody tr th {\n",
       "        vertical-align: top;\n",
       "    }\n",
       "\n",
       "    .dataframe thead th {\n",
       "        text-align: right;\n",
       "    }\n",
       "</style>\n",
       "<table border=\"1\" class=\"dataframe\">\n",
       "  <thead>\n",
       "    <tr style=\"text-align: right;\">\n",
       "      <th></th>\n",
       "      <th>0</th>\n",
       "    </tr>\n",
       "  </thead>\n",
       "  <tbody>\n",
       "    <tr>\n",
       "      <th>mean</th>\n",
       "      <td>0.023561</td>\n",
       "    </tr>\n",
       "    <tr>\n",
       "      <th>sem</th>\n",
       "      <td>0.000159</td>\n",
       "    </tr>\n",
       "  </tbody>\n",
       "</table>\n",
       "</div>"
      ],
      "text/plain": [
       "             0\n",
       "mean  0.023561\n",
       "sem   0.000159"
      ]
     },
     "execution_count": 10,
     "metadata": {},
     "output_type": "execute_result"
    }
   ],
   "source": [
    "s_eps = pd.read_csv('Epsilons.csv', index_col=0)\n",
    "s_eps.agg(['mean','sem'])"
   ]
  },
  {
   "cell_type": "code",
   "execution_count": null,
   "metadata": {},
   "outputs": [],
   "source": []
  }
 ],
 "metadata": {
  "kernelspec": {
   "display_name": "CityLearnART",
   "language": "python",
   "name": "python3"
  },
  "language_info": {
   "codemirror_mode": {
    "name": "ipython",
    "version": 3
   },
   "file_extension": ".py",
   "mimetype": "text/x-python",
   "name": "python",
   "nbconvert_exporter": "python",
   "pygments_lexer": "ipython3",
   "version": "3.10.12"
  }
 },
 "nbformat": 4,
 "nbformat_minor": 2
}
