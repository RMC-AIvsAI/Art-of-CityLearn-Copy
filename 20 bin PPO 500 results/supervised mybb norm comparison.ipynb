{
 "cells": [
  {
   "cell_type": "markdown",
   "metadata": {},
   "source": [
    "We are testing the performance of different attack parameters below, using the actions and clean observations from the optimal BB attack. Because the ASR was 1 we effectively have a sample and label for every timestep, where the previous action lead to the next clean observation. We can treat this as a supervised learning problem since we effectively have a label for each observation/sample. Unlike the untargeted attack, the actions are not chsen randomly. Given that CityLearn is deterministic we expect that the optinal adversarial trace is also deterministic (confirm with multiple runs) in terms of the action associated with each observation. "
   ]
  },
  {
   "cell_type": "markdown",
   "metadata": {},
   "source": [
    "From below: \n",
    "- Does the vecorized search work for more than one sample input at the same time (that's how their input for rl, here it gets thousands at a time)\n",
    "- Increasing the batchsize has a significant effect on speed\n",
    "- we don't have an init for action 18, does that correspond to the incorrect preds?\n",
    "\n",
    "This copy used ramdomstate.uniform in mybb"
   ]
  },
  {
   "cell_type": "code",
   "execution_count": 1,
   "metadata": {},
   "outputs": [],
   "source": [
    "AGENT_NAME = 'default_PPO_citylearn_challenge_2022_phase_2_Building_6_20_bins_500.zip'\n",
    "ATTACK = 'myBB'\n"
   ]
  },
  {
   "cell_type": "code",
   "execution_count": 15,
   "metadata": {},
   "outputs": [],
   "source": [
    "from stable_baselines3 import PPO\n",
    "\n",
    "from citylearn.data import DataSet\n",
    "\n",
    "from KBMproject.mybb import BrendelBethgeAttack as BBA\n",
    "\n",
    "from art.utils import to_categorical\n",
    "\n",
    "import pandas as pd\n",
    "import numpy as np\n",
    "import os\n",
    "\n",
    "import KBMproject.utilities as utils\n",
    "\n",
    "from joblib import Parallel, delayed\n",
    "\n",
    "%matplotlib inline"
   ]
  },
  {
   "cell_type": "markdown",
   "metadata": {},
   "source": [
    "Define RL agent"
   ]
  },
  {
   "cell_type": "code",
   "execution_count": 3,
   "metadata": {},
   "outputs": [
    {
     "name": "stdout",
     "output_type": "stream",
     "text": [
      "Model loaded from storage\n"
     ]
    }
   ],
   "source": [
    "agent = PPO.load(path=f\"{AGENT_NAME}\")\n",
    "print('Model loaded from storage')"
   ]
  },
  {
   "cell_type": "code",
   "execution_count": 4,
   "metadata": {},
   "outputs": [],
   "source": [
    "from art.estimators.classification import PyTorchClassifier as classifier\n",
    "from torch.nn import CrossEntropyLoss\n",
    "victim_policy = classifier(\n",
    "    model=utils.extract_actor(agent),\n",
    "    loss=CrossEntropyLoss(), \n",
    "    nb_classes=agent.action_space[0].n,\n",
    "    input_shape=agent.observation_space.shape,\n",
    "    device_type='gpu',\n",
    "    clip_values = (agent.observation_space.low.min(),agent.observation_space.high.max()) #min and max values of each feature, brendle bethge attack only supports floats values and not array\n",
    "    )"
   ]
  },
  {
   "cell_type": "code",
   "execution_count": 5,
   "metadata": {},
   "outputs": [],
   "source": [
    "mask_time = np.ones(agent.observation_space.shape)\n",
    "mask_time[:6] = 0"
   ]
  },
  {
   "cell_type": "code",
   "execution_count": 6,
   "metadata": {},
   "outputs": [],
   "source": [
    "df_baseline = pd.concat([pd.read_csv('baseline_obs.csv', index_col=0,dtype='float32'),\n",
    "                        pd.read_csv('baseline_obs_a_confidence.csv', index_col=0)], axis='columns')"
   ]
  },
  {
   "cell_type": "markdown",
   "metadata": {},
   "source": [
    "Below, for each action we select the sample with the highest logit softmax/confidence"
   ]
  },
  {
   "cell_type": "code",
   "execution_count": 7,
   "metadata": {},
   "outputs": [],
   "source": [
    "df_max_confidence_samples = df_baseline.loc[df_baseline.groupby('action')['confidence'].idxmax()]\n",
    "df_max_confidence_samples = df_max_confidence_samples.drop(columns='confidence')\n",
    "df_max_confidence_samples = df_max_confidence_samples.set_index('action')"
   ]
  },
  {
   "cell_type": "code",
   "execution_count": 8,
   "metadata": {},
   "outputs": [],
   "source": [
    "dict_samples = df_max_confidence_samples.T.to_dict()"
   ]
  },
  {
   "cell_type": "code",
   "execution_count": 9,
   "metadata": {},
   "outputs": [],
   "source": [
    "samples = pd.read_csv('bb results/optimal myBB observations.csv', index_col=0,dtype='float32')"
   ]
  },
  {
   "cell_type": "code",
   "execution_count": 10,
   "metadata": {},
   "outputs": [],
   "source": [
    "inputs = samples.to_numpy()[:-1]"
   ]
  },
  {
   "cell_type": "code",
   "execution_count": 13,
   "metadata": {},
   "outputs": [],
   "source": [
    "targets = np.argmax(victim_policy.predict(pd.read_csv('bb results/optimal myBB adversarial observations.csv',\n",
    "                                            index_col=0,\n",
    "                                            dtype='float32')\n",
    "                                            ), axis=1)"
   ]
  },
  {
   "cell_type": "code",
   "execution_count": 17,
   "metadata": {},
   "outputs": [],
   "source": [
    "categorical_targets = to_categorical(targets, nb_classes=agent.action_space[0].n)"
   ]
  },
  {
   "cell_type": "code",
   "execution_count": 97,
   "metadata": {},
   "outputs": [
    {
     "data": {
      "text/plain": [
       "(array([ 0,  1,  2,  3,  4,  5,  6,  7,  8,  9, 10, 11, 12, 13, 14, 15, 16,\n",
       "        17, 18, 19], dtype=int64),\n",
       " array([1987, 2078,   25,    7,    2,    2,   45,   76,  185,  122,   56,\n",
       "          31,   66,   43,   13,  118,   24,   22,  396, 3461], dtype=int64))"
      ]
     },
     "execution_count": 97,
     "metadata": {},
     "output_type": "execute_result"
    }
   ],
   "source": [
    "np.unique(targets, return_counts=True)"
   ]
  },
  {
   "cell_type": "code",
   "execution_count": 98,
   "metadata": {},
   "outputs": [
    {
     "data": {
      "text/plain": [
       "0.04521064048407353"
      ]
     },
     "execution_count": 98,
     "metadata": {},
     "output_type": "execute_result"
    }
   ],
   "source": [
    "396/8759"
   ]
  },
  {
   "cell_type": "code",
   "execution_count": 11,
   "metadata": {},
   "outputs": [],
   "source": [
    "starts = np.array([np.array(list(\n",
    "    dict_samples[a].values())).astype('float32') if a in dict_samples else np.zeros(agent.observation_space.shape, 'float32') for a in targets]) #there is no example for action 18"
   ]
  },
  {
   "cell_type": "code",
   "execution_count": 12,
   "metadata": {},
   "outputs": [],
   "source": [
    "kwargs = dict(norm=2,\n",
    "        targeted=True, #default false\n",
    "        overshoot=1.1, #1.1,\n",
    "        steps=1000,\n",
    "        lr=1e-3,\n",
    "        lr_decay=0.5,\n",
    "        lr_num_decay=20,\n",
    "        momentum=0.8,\n",
    "        binary_search_steps=10,\n",
    "        init_size=1_000_000, #default 100, finds sample matching the target class through iterative random search\n",
    "        #batch_size=1, this makes it soooooo much worse, increasing it to 1000 seems to sligthly decrease the computation time\n",
    "        )\n",
    "l2_attack = BBA(estimator=victim_policy, **kwargs)"
   ]
  },
  {
   "cell_type": "code",
   "execution_count": 16,
   "metadata": {},
   "outputs": [
    {
     "name": "stdout",
     "output_type": "stream",
     "text": [
      "CPU times: total: 57min 32s\n",
      "Wall time: 21min 25s\n"
     ]
    }
   ],
   "source": [
    "%%time\n",
    "l2_adv_samples = l2_attack.generate(x=samples.to_numpy()[:-1], \n",
    "                         y=categorical_targets, \n",
    "                         x_adv_init=starts, \n",
    "                         mask=mask_time)"
   ]
  },
  {
   "cell_type": "code",
   "execution_count": 20,
   "metadata": {},
   "outputs": [],
   "source": [
    "l2_adv_preds = victim_policy.predict(l2_adv_samples)"
   ]
  },
  {
   "cell_type": "code",
   "execution_count": 23,
   "metadata": {},
   "outputs": [],
   "source": [
    "l2_adv_preds = np.argmax(l2_adv_preds, axis=1)"
   ]
  },
  {
   "cell_type": "markdown",
   "metadata": {},
   "source": [
    "ASR"
   ]
  },
  {
   "cell_type": "code",
   "execution_count": 26,
   "metadata": {},
   "outputs": [
    {
     "data": {
      "text/plain": [
       "0.8867450622217148"
      ]
     },
     "execution_count": 26,
     "metadata": {},
     "output_type": "execute_result"
    }
   ],
   "source": [
    "np.count_nonzero(l2_adv_preds == targets)/l2_adv_samples.shape[0]"
   ]
  },
  {
   "cell_type": "code",
   "execution_count": 57,
   "metadata": {},
   "outputs": [
    {
     "data": {
      "text/plain": [
       "473"
      ]
     },
     "execution_count": 57,
     "metadata": {},
     "output_type": "execute_result"
    }
   ],
   "source": [
    "np.count_nonzero((l2_adv_samples != inputs).all(axis=1))"
   ]
  },
  {
   "cell_type": "code",
   "execution_count": 62,
   "metadata": {},
   "outputs": [],
   "source": [
    "adv_diff = l2_adv_samples- inputs"
   ]
  },
  {
   "cell_type": "code",
   "execution_count": 63,
   "metadata": {},
   "outputs": [],
   "source": [
    "l2_norms = np.linalg.norm(adv_diff, ord=2, axis=1)"
   ]
  },
  {
   "cell_type": "code",
   "execution_count": 64,
   "metadata": {},
   "outputs": [],
   "source": [
    "linf_norms =  np.linalg.norm(adv_diff, ord=np.inf, axis=1)"
   ]
  },
  {
   "cell_type": "code",
   "execution_count": 65,
   "metadata": {},
   "outputs": [],
   "source": [
    "df_norms = pd.DataFrame({'L2':l2_norms,'Linf':linf_norms})"
   ]
  },
  {
   "cell_type": "code",
   "execution_count": 71,
   "metadata": {},
   "outputs": [
    {
     "data": {
      "text/plain": [
       "<Axes: title={'center': 'KDE of norms for an L2 BB Attack'}, ylabel='Density'>"
      ]
     },
     "execution_count": 71,
     "metadata": {},
     "output_type": "execute_result"
    },
    {
     "data": {
      "image/png": "[encoded data removed]",
      "text/plain": [
       "<Figure size 2000x1200 with 1 Axes>"
      ]
     },
     "metadata": {},
     "output_type": "display_data"
    }
   ],
   "source": [
    "df_norms.plot.kde(grid=True, \n",
    "                   xticks=np.arange(start=df_norms.min().min(), stop=df_norms.max().max(), step=0.1),\n",
    "                   figsize=(20,12),\n",
    "                   xlim=[df_norms.min().min(),df_norms.max().max()], #NB the max/min of a df is a series, and we need the max/min of the series\n",
    "                   title='KDE of norms for an L2 BB Attack',\n",
    "                   xlabel='Linf Norms',\n",
    "                   legend=True\n",
    "                   )"
   ]
  },
  {
   "cell_type": "markdown",
   "metadata": {},
   "source": [
    "We see that the norms for this attack are much higher than for bb linf, and the ASR is lower, this suggests that this attack is less effective are more detectable. NB that a norm of 0 indicates where the attack failed to generate and adversarial sample. "
   ]
  },
  {
   "cell_type": "code",
   "execution_count": 91,
   "metadata": {},
   "outputs": [
    {
     "name": "stdout",
     "output_type": "stream",
     "text": [
      "CPU times: total: 56min 45s\n",
      "Wall time: 20min 39s\n"
     ]
    }
   ],
   "source": [
    "%%time\n",
    "l2_adv_reshape_samples = l2_attack.generate(x=samples.to_numpy()[:-1], \n",
    "                         y=targets.reshape(-1,1), \n",
    "                         x_adv_init=starts, \n",
    "                         mask=mask_time)"
   ]
  },
  {
   "cell_type": "markdown",
   "metadata": {},
   "source": [
    "ASR for target reshaped l2 attack"
   ]
  },
  {
   "cell_type": "code",
   "execution_count": 94,
   "metadata": {},
   "outputs": [
    {
     "data": {
      "text/plain": [
       "0.8851467062450051"
      ]
     },
     "execution_count": 94,
     "metadata": {},
     "output_type": "execute_result"
    }
   ],
   "source": [
    "l2_adv_reshape_preds = np.argmax(victim_policy.predict(l2_adv_reshape_samples), axis=1)\n",
    "np.count_nonzero(l2_adv_reshape_preds == targets)/l2_adv_reshape_samples.shape[0]"
   ]
  },
  {
   "cell_type": "code",
   "execution_count": 95,
   "metadata": {},
   "outputs": [
    {
     "name": "stderr",
     "output_type": "stream",
     "text": [
      "Starting points had predicted class: [19  0 19 ... 19  1 19]\n",
      "But the target was: [19  0 19 ... 19  1 19]\n",
      "\n",
      "Failed to find advsersarial starting points, original samples returned\n"
     ]
    },
    {
     "name": "stdout",
     "output_type": "stream",
     "text": [
      "CPU times: total: 49min 4s\n",
      "Wall time: 49min 4s\n"
     ]
    }
   ],
   "source": [
    "%%time\n",
    "l2_adv_noinit_samples = l2_attack.generate(x=samples.to_numpy()[:-1], \n",
    "                         y=targets, \n",
    "                         #x_adv_init=starts, \n",
    "                         mask=mask_time)"
   ]
  },
  {
   "cell_type": "markdown",
   "metadata": {},
   "source": [
    "ASR for target no init l2 attack"
   ]
  },
  {
   "cell_type": "code",
   "execution_count": 96,
   "metadata": {},
   "outputs": [
    {
     "data": {
      "text/plain": [
       "0.02374700308254367"
      ]
     },
     "execution_count": 96,
     "metadata": {},
     "output_type": "execute_result"
    }
   ],
   "source": [
    "l2_adv_noinit_preds = np.argmax(victim_policy.predict(l2_adv_noinit_samples), axis=1)\n",
    "np.count_nonzero(l2_adv_noinit_preds == targets)/l2_adv_noinit_samples.shape[0]"
   ]
  },
  {
   "cell_type": "markdown",
   "metadata": {},
   "source": [
    "Try the best of l2 (with or without the reshape) without the adv_init"
   ]
  },
  {
   "cell_type": "code",
   "execution_count": 70,
   "metadata": {},
   "outputs": [
    {
     "data": {
      "text/html": [
       "<div>\n",
       "<style scoped>\n",
       "    .dataframe tbody tr th:only-of-type {\n",
       "        vertical-align: middle;\n",
       "    }\n",
       "\n",
       "    .dataframe tbody tr th {\n",
       "        vertical-align: top;\n",
       "    }\n",
       "\n",
       "    .dataframe thead th {\n",
       "        text-align: right;\n",
       "    }\n",
       "</style>\n",
       "<table border=\"1\" class=\"dataframe\">\n",
       "  <thead>\n",
       "    <tr style=\"text-align: right;\">\n",
       "      <th></th>\n",
       "      <th>L2</th>\n",
       "      <th>Linf</th>\n",
       "    </tr>\n",
       "  </thead>\n",
       "  <tbody>\n",
       "    <tr>\n",
       "      <th>count</th>\n",
       "      <td>8759.000000</td>\n",
       "      <td>8759.000000</td>\n",
       "    </tr>\n",
       "    <tr>\n",
       "      <th>mean</th>\n",
       "      <td>2.048691</td>\n",
       "      <td>0.894112</td>\n",
       "    </tr>\n",
       "    <tr>\n",
       "      <th>std</th>\n",
       "      <td>0.466913</td>\n",
       "      <td>0.155077</td>\n",
       "    </tr>\n",
       "    <tr>\n",
       "      <th>min</th>\n",
       "      <td>0.000000</td>\n",
       "      <td>0.000000</td>\n",
       "    </tr>\n",
       "    <tr>\n",
       "      <th>25%</th>\n",
       "      <td>1.858344</td>\n",
       "      <td>0.878788</td>\n",
       "    </tr>\n",
       "    <tr>\n",
       "      <th>50%</th>\n",
       "      <td>2.111387</td>\n",
       "      <td>0.922743</td>\n",
       "    </tr>\n",
       "    <tr>\n",
       "      <th>75%</th>\n",
       "      <td>2.330084</td>\n",
       "      <td>0.969697</td>\n",
       "    </tr>\n",
       "    <tr>\n",
       "      <th>max</th>\n",
       "      <td>3.008110</td>\n",
       "      <td>1.000000</td>\n",
       "    </tr>\n",
       "  </tbody>\n",
       "</table>\n",
       "</div>"
      ],
      "text/plain": [
       "                L2         Linf\n",
       "count  8759.000000  8759.000000\n",
       "mean      2.048691     0.894112\n",
       "std       0.466913     0.155077\n",
       "min       0.000000     0.000000\n",
       "25%       1.858344     0.878788\n",
       "50%       2.111387     0.922743\n",
       "75%       2.330084     0.969697\n",
       "max       3.008110     1.000000"
      ]
     },
     "execution_count": 70,
     "metadata": {},
     "output_type": "execute_result"
    }
   ],
   "source": [
    "df_norms.describe()"
   ]
  },
  {
   "cell_type": "code",
   "execution_count": 72,
   "metadata": {},
   "outputs": [],
   "source": [
    "kwargs = dict(norm=np.inf,\n",
    "        targeted=True, #default false\n",
    "        overshoot=1.1, #1.1,\n",
    "        steps=1000,\n",
    "        lr=1e-3,\n",
    "        lr_decay=0.5,\n",
    "        lr_num_decay=20,\n",
    "        momentum=0.8,\n",
    "        binary_search_steps=10,\n",
    "        init_size=1_000_000, #default 100, finds sample matching the target class through iterative random search\n",
    "        batch_size=1000,\n",
    "        )\n",
    "linf_attack = BBA(estimator=victim_policy, **kwargs)"
   ]
  },
  {
   "cell_type": "code",
   "execution_count": 89,
   "metadata": {},
   "outputs": [
    {
     "name": "stdout",
     "output_type": "stream",
     "text": [
      "CPU times: total: 55min 41s\n",
      "Wall time: 19min 37s\n"
     ]
    }
   ],
   "source": [
    "%%time\n",
    "linf_adv_samples = linf_attack.generate(x=inputs, \n",
    "                         y=targets, \n",
    "                         x_adv_init=starts, \n",
    "                         mask=mask_time)"
   ]
  },
  {
   "cell_type": "markdown",
   "metadata": {},
   "source": [
    "Linf ASR"
   ]
  },
  {
   "cell_type": "code",
   "execution_count": 90,
   "metadata": {},
   "outputs": [
    {
     "data": {
      "text/plain": [
       "0.9314990295695855"
      ]
     },
     "execution_count": 90,
     "metadata": {},
     "output_type": "execute_result"
    }
   ],
   "source": [
    "linf_adv_preds = np.argmax(victim_policy.predict(linf_adv_samples), axis=1)\n",
    "np.count_nonzero(linf_adv_preds == targets)/l2_adv_samples.shape[0]"
   ]
  },
  {
   "cell_type": "code",
   "execution_count": 84,
   "metadata": {},
   "outputs": [
    {
     "name": "stdout",
     "output_type": "stream",
     "text": [
      "CPU times: total: 1h 9min 56s\n",
      "Wall time: 33min 45s\n"
     ]
    }
   ],
   "source": [
    "%%time\n",
    "linf_adv_samples = linf_attack.generate(x=inputs, \n",
    "                         y=targets.reshape(-1,1),\n",
    "                         #x_adv_init=starts, \n",
    "                         mask=mask_time)"
   ]
  },
  {
   "cell_type": "markdown",
   "metadata": {},
   "source": [
    "Linf ASR with reshaped targets"
   ]
  },
  {
   "cell_type": "code",
   "execution_count": 88,
   "metadata": {},
   "outputs": [
    {
     "data": {
      "text/plain": [
       "0.9691745633063135"
      ]
     },
     "execution_count": 88,
     "metadata": {},
     "output_type": "execute_result"
    }
   ],
   "source": [
    "linf_adv_preds = np.argmax(victim_policy.predict(linf_adv_samples), axis=1)\n",
    "np.count_nonzero(linf_adv_preds == targets)/linf_adv_samples.shape[0]"
   ]
  },
  {
   "cell_type": "code",
   "execution_count": 76,
   "metadata": {},
   "outputs": [],
   "source": [
    "kwargs = dict(norm=np.inf,\n",
    "        targeted=True, #default false\n",
    "        overshoot=1.1, #1.1,\n",
    "        steps=1000,\n",
    "        lr=1e-3,\n",
    "        lr_decay=0.5,\n",
    "        lr_num_decay=20,\n",
    "        momentum=0.8,\n",
    "        binary_search_steps=10,\n",
    "        init_size=1_000_000, #default 100, finds sample matching the target class through iterative random search\n",
    "        batch_size=1000,\n",
    "        )\n",
    "linf2_attack = BBA(estimator=victim_policy, **kwargs)"
   ]
  },
  {
   "cell_type": "code",
   "execution_count": 79,
   "metadata": {},
   "outputs": [
    {
     "data": {
      "text/plain": [
       "array([19,  0, 19, ..., 19,  1, 19], dtype=int64)"
      ]
     },
     "execution_count": 79,
     "metadata": {},
     "output_type": "execute_result"
    }
   ],
   "source": [
    "targets"
   ]
  },
  {
   "cell_type": "markdown",
   "metadata": {},
   "source": [
    "Removing the inits seems to hit performance hard below"
   ]
  },
  {
   "cell_type": "code",
   "execution_count": 77,
   "metadata": {},
   "outputs": [
    {
     "name": "stderr",
     "output_type": "stream",
     "text": [
      "Starting points had predicted class: [19  0 19 ... 19  1 19]\n",
      "But the target was: [19  0 19 ... 19  1 19]\n",
      "\n",
      "Failed to find advsersarial starting points, original samples returned\n"
     ]
    },
    {
     "name": "stdout",
     "output_type": "stream",
     "text": [
      "CPU times: total: 14min 43s\n",
      "Wall time: 14min 42s\n"
     ]
    }
   ],
   "source": [
    "%%time\n",
    "linf2_adv_samples = linf2_attack.generate(x=inputs, \n",
    "                         y=targets, \n",
    "                         #x_adv_init=starts, #faster without these?! because the attack wasn't running after a failed search?\n",
    "                         mask=mask_time)"
   ]
  },
  {
   "cell_type": "markdown",
   "metadata": {},
   "source": [
    "Linf ASR"
   ]
  },
  {
   "cell_type": "code",
   "execution_count": 86,
   "metadata": {},
   "outputs": [
    {
     "data": {
      "text/plain": [
       "0.02374700308254367"
      ]
     },
     "execution_count": 86,
     "metadata": {},
     "output_type": "execute_result"
    }
   ],
   "source": [
    "linf2_adv_preds = np.argmax(victim_policy.predict(linf2_adv_samples), axis=1)\n",
    "np.count_nonzero(linf2_adv_preds == targets)/l2_adv_samples.shape[0]"
   ]
  },
  {
   "cell_type": "code",
   "execution_count": null,
   "metadata": {},
   "outputs": [],
   "source": []
  }
 ],
 "metadata": {
  "kernelspec": {
   "display_name": "CityLearnART",
   "language": "python",
   "name": "python3"
  },
  "language_info": {
   "codemirror_mode": {
    "name": "ipython",
    "version": 3
   },
   "file_extension": ".py",
   "mimetype": "text/x-python",
   "name": "python",
   "nbconvert_exporter": "python",
   "pygments_lexer": "ipython3",
   "version": "3.10.12"
  }
 },
 "nbformat": 4,
 "nbformat_minor": 2
}
