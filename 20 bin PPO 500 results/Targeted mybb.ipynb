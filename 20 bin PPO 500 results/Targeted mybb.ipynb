{
 "cells": [
  {
   "cell_type": "code",
   "execution_count": 1,
   "metadata": {},
   "outputs": [],
   "source": [
    "AGENT_NAME = 'default_PPO_citylearn_challenge_2022_phase_2_Building_6_20_bins_500'\n",
    "ADVERSARY_PATH = 'Models\\Adversary\\default_adversary_PPO_citylearn_challenge_2022_phase_2_Building_6_20_bins_default_rwd_480'\n",
    "DATASET_NAME = 'citylearn_challenge_2022_phase_2' #only action is electrical storage\n",
    "ATTACK = 'Optimal myBB closest init'\n",
    "INIT_DATA = 'baseline_obs'"
   ]
  },
  {
   "cell_type": "code",
   "execution_count": 2,
   "metadata": {},
   "outputs": [],
   "source": [
    "from stable_baselines3 import PPO\n",
    "\n",
    "from citylearn.data import DataSet\n",
    "\n",
    "from KBMproject.mybb import BrendelBethgeAttack as BBA\n",
    "\n",
    "import pandas as pd\n",
    "import numpy as np\n",
    "import os\n",
    "\n",
    "import KBMproject.utilities as utils\n",
    "\n",
    "%matplotlib inline"
   ]
  },
  {
   "cell_type": "markdown",
   "metadata": {},
   "source": [
    "Define RL agent"
   ]
  },
  {
   "cell_type": "code",
   "execution_count": 3,
   "metadata": {},
   "outputs": [
    {
     "name": "stdout",
     "output_type": "stream",
     "text": [
      "Model loaded from storage\n"
     ]
    }
   ],
   "source": [
    "agent = PPO.load(path=f\"{AGENT_NAME}\")\n",
    "print('Model loaded from storage')"
   ]
  },
  {
   "cell_type": "code",
   "execution_count": 4,
   "metadata": {},
   "outputs": [
    {
     "name": "stdout",
     "output_type": "stream",
     "text": [
      "Model loaded from storage\n"
     ]
    }
   ],
   "source": [
    "adv_path = os.path.join(os.getcwd(), '..',ADVERSARY_PATH) #get adversary from parent directory\n",
    "adv_path = os.path.normpath(adv_path) #resolve '..'\n",
    "adversary = PPO.load(path=adv_path)\n",
    "print('Model loaded from storage')"
   ]
  },
  {
   "cell_type": "code",
   "execution_count": 5,
   "metadata": {},
   "outputs": [],
   "source": [
    "env = utils.make_discrete_env(schema=DataSet.get_schema(DATASET_NAME),  \n",
    "                        action_bins=agent.action_space[0].n,\n",
    "                        seed=42)"
   ]
  },
  {
   "cell_type": "code",
   "execution_count": 6,
   "metadata": {},
   "outputs": [],
   "source": [
    "observation_masks = pd.Series(1, index=env.observation_names[0]).to_frame(name='all')\n",
    "observation_masks['mask_time'] = observation_masks['all']\n",
    "observation_masks['mask_time'][observation_masks.index.str.contains('month|day|hour')] = 0"
   ]
  },
  {
   "cell_type": "code",
   "execution_count": 7,
   "metadata": {},
   "outputs": [],
   "source": [
    "df_baseline = pd.concat([pd.read_csv(f'{INIT_DATA}.csv', index_col=0,dtype='float32'),\n",
    "                        pd.read_csv(f'{INIT_DATA}_a_confidence.csv', index_col=0)], axis='columns')"
   ]
  },
  {
   "cell_type": "markdown",
   "metadata": {},
   "source": [
    "Below we are making a dict which contains a 2d array of samples corresponding to each action, so the attack can select a sample of the target class closest to the clean input as an initialization.\n",
    "\n",
    "After a few tens of iterations this had an ASR of 0.9, uncertain why"
   ]
  },
  {
   "cell_type": "code",
   "execution_count": 8,
   "metadata": {},
   "outputs": [],
   "source": [
    "muti_sample_dict = df_baseline.drop(columns=['confidence','action']).groupby(df_baseline['action']).apply(np.array).to_dict()"
   ]
  },
  {
   "cell_type": "markdown",
   "metadata": {},
   "source": [
    "Below, for each action we select the sample with the highest logit softmax/confidence"
   ]
  },
  {
   "cell_type": "code",
   "execution_count": 9,
   "metadata": {},
   "outputs": [],
   "source": [
    "df_max_confidence_samples = df_baseline.loc[df_baseline.groupby('action')['confidence'].idxmax()]\n",
    "df_max_confidence_samples = df_max_confidence_samples.drop(columns='confidence')\n",
    "df_max_confidence_samples = df_max_confidence_samples.set_index('action')\n",
    "max_conf_dict = df_max_confidence_samples.groupby('action').apply(np.array).to_dict()"
   ]
  },
  {
   "cell_type": "code",
   "execution_count": null,
   "metadata": {},
   "outputs": [],
   "source": [
    "%%time\n",
    "import logging\n",
    "logging.basicConfig(level=logging.WARN)\n",
    "kwargs = dict(norm=np.inf,\n",
    "        targeted=True, #default false\n",
    "        overshoot= 1.1,\n",
    "        steps=1000,\n",
    "        lr=1e-3,\n",
    "        lr_decay=0.5,\n",
    "        lr_num_decay=20,\n",
    "        momentum=0.8,\n",
    "        binary_search_steps=10,\n",
    "        init_size=1_000_000, #default 100, finds sample matching the target class through iterative random search\n",
    "        batch_size=1000, \n",
    "        )\n",
    "kpi, obs, adv_obs, actions, targets, asr = utils.eval_targeted_attack(agent, adversary, \n",
    "                                                                        env=env, \n",
    "                                                                        ART_atk=utils.define_attack(agent, BBA, **kwargs),\n",
    "                                                                        mask=observation_masks['mask_time'].to_numpy(),\n",
    "                                                                        time_steps=None,\n",
    "                                                                        x_adv_init = muti_sample_dict #random search is more effective for finding starting points?!\n",
    "                                                                        )\n",
    "#print(f'The ASR is {asr}')"
   ]
  },
  {
   "cell_type": "code",
   "execution_count": null,
   "metadata": {},
   "outputs": [
    {
     "data": {
      "text/plain": [
       "cost_function\n",
       "annual_peak_average                       1.727378\n",
       "carbon_emissions_total                    3.230139\n",
       "cost_total                                3.036743\n",
       "daily_one_minus_load_factor_average       0.960458\n",
       "daily_peak_average                        2.930483\n",
       "electricity_consumption_total             3.272208\n",
       "monthly_one_minus_load_factor_average     1.002596\n",
       "ramping_average                          17.457390\n",
       "zero_net_energy                           1.731706\n",
       "Name: District, dtype: float64"
      ]
     },
     "metadata": {},
     "output_type": "display_data"
    }
   ],
   "source": [
    "display(kpi)"
   ]
  },
  {
   "cell_type": "code",
   "execution_count": null,
   "metadata": {},
   "outputs": [],
   "source": [
    "np.savetxt(f\"{ATTACK} targets.csv\", targets, delimiter=\",\")\n",
    "np.savetxt(f\"{ATTACK} actions.csv\", actions, delimiter=\",\")\n",
    "np.savetxt(f\"{ATTACK} adv obs.csv\", adv_obs, delimiter=\",\")\n",
    "np.savetxt(f\"{ATTACK} obs.csv\", obs, delimiter=\",\")"
   ]
  },
  {
   "cell_type": "code",
   "execution_count": null,
   "metadata": {},
   "outputs": [
    {
     "data": {
      "text/html": [
       "<div>\n",
       "<style scoped>\n",
       "    .dataframe tbody tr th:only-of-type {\n",
       "        vertical-align: middle;\n",
       "    }\n",
       "\n",
       "    .dataframe tbody tr th {\n",
       "        vertical-align: top;\n",
       "    }\n",
       "\n",
       "    .dataframe thead th {\n",
       "        text-align: right;\n",
       "    }\n",
       "</style>\n",
       "<table border=\"1\" class=\"dataframe\">\n",
       "  <thead>\n",
       "    <tr style=\"text-align: right;\">\n",
       "      <th></th>\n",
       "      <th>baseline</th>\n",
       "      <th>random_noise</th>\n",
       "      <th>untargeted_acg</th>\n",
       "      <th>untargeted_adv_v_threshold</th>\n",
       "      <th>Adv_v25_untargered_kpis</th>\n",
       "      <th>Adv_v75_untargered_kpis</th>\n",
       "      <th>df_v_ablation_kpis</th>\n",
       "      <th>optimal_acg</th>\n",
       "      <th>optimal_BB</th>\n",
       "      <th>optimal_myBB</th>\n",
       "      <th>untargeted_bb</th>\n",
       "    </tr>\n",
       "    <tr>\n",
       "      <th>cost_function</th>\n",
       "      <th></th>\n",
       "      <th></th>\n",
       "      <th></th>\n",
       "      <th></th>\n",
       "      <th></th>\n",
       "      <th></th>\n",
       "      <th></th>\n",
       "      <th></th>\n",
       "      <th></th>\n",
       "      <th></th>\n",
       "      <th></th>\n",
       "    </tr>\n",
       "  </thead>\n",
       "  <tbody>\n",
       "    <tr>\n",
       "      <th>annual_peak_average</th>\n",
       "      <td>1.102271</td>\n",
       "      <td>1.009338</td>\n",
       "      <td>1.198347</td>\n",
       "      <td>1.102271</td>\n",
       "      <td>1.102270</td>\n",
       "      <td>1.102271</td>\n",
       "      <td>1.068404</td>\n",
       "      <td>1.102260</td>\n",
       "      <td>1.727378</td>\n",
       "      <td>1.727378</td>\n",
       "      <td>1.198347</td>\n",
       "    </tr>\n",
       "    <tr>\n",
       "      <th>carbon_emissions_total</th>\n",
       "      <td>0.869186</td>\n",
       "      <td>0.870929</td>\n",
       "      <td>0.902045</td>\n",
       "      <td>0.891469</td>\n",
       "      <td>0.900611</td>\n",
       "      <td>0.880414</td>\n",
       "      <td>0.889796</td>\n",
       "      <td>0.876466</td>\n",
       "      <td>3.230139</td>\n",
       "      <td>3.230139</td>\n",
       "      <td>0.917995</td>\n",
       "    </tr>\n",
       "    <tr>\n",
       "      <th>cost_total</th>\n",
       "      <td>0.787803</td>\n",
       "      <td>0.786467</td>\n",
       "      <td>0.816997</td>\n",
       "      <td>0.805982</td>\n",
       "      <td>0.814078</td>\n",
       "      <td>0.799415</td>\n",
       "      <td>0.806549</td>\n",
       "      <td>0.795443</td>\n",
       "      <td>3.036743</td>\n",
       "      <td>3.036743</td>\n",
       "      <td>0.830110</td>\n",
       "    </tr>\n",
       "    <tr>\n",
       "      <th>daily_one_minus_load_factor_average</th>\n",
       "      <td>1.095762</td>\n",
       "      <td>1.091588</td>\n",
       "      <td>0.397182</td>\n",
       "      <td>1.002500</td>\n",
       "      <td>0.997434</td>\n",
       "      <td>0.365708</td>\n",
       "      <td>1.050107</td>\n",
       "      <td>1.045433</td>\n",
       "      <td>0.960458</td>\n",
       "      <td>0.960458</td>\n",
       "      <td>1.412863</td>\n",
       "    </tr>\n",
       "    <tr>\n",
       "      <th>daily_peak_average</th>\n",
       "      <td>0.894595</td>\n",
       "      <td>0.896781</td>\n",
       "      <td>0.961207</td>\n",
       "      <td>0.930231</td>\n",
       "      <td>0.945812</td>\n",
       "      <td>0.913327</td>\n",
       "      <td>0.939143</td>\n",
       "      <td>0.912418</td>\n",
       "      <td>2.930483</td>\n",
       "      <td>2.930483</td>\n",
       "      <td>1.005608</td>\n",
       "    </tr>\n",
       "    <tr>\n",
       "      <th>electricity_consumption_total</th>\n",
       "      <td>0.879108</td>\n",
       "      <td>0.881392</td>\n",
       "      <td>0.910717</td>\n",
       "      <td>0.901177</td>\n",
       "      <td>0.909467</td>\n",
       "      <td>0.890338</td>\n",
       "      <td>0.898543</td>\n",
       "      <td>0.885576</td>\n",
       "      <td>3.272208</td>\n",
       "      <td>3.272208</td>\n",
       "      <td>0.928516</td>\n",
       "    </tr>\n",
       "    <tr>\n",
       "      <th>monthly_one_minus_load_factor_average</th>\n",
       "      <td>0.988364</td>\n",
       "      <td>0.981307</td>\n",
       "      <td>0.992850</td>\n",
       "      <td>0.987415</td>\n",
       "      <td>0.991820</td>\n",
       "      <td>0.986949</td>\n",
       "      <td>0.993147</td>\n",
       "      <td>0.990366</td>\n",
       "      <td>1.002596</td>\n",
       "      <td>1.002596</td>\n",
       "      <td>0.997774</td>\n",
       "    </tr>\n",
       "    <tr>\n",
       "      <th>ramping_average</th>\n",
       "      <td>1.093749</td>\n",
       "      <td>1.105215</td>\n",
       "      <td>1.271853</td>\n",
       "      <td>1.196971</td>\n",
       "      <td>1.230539</td>\n",
       "      <td>1.151861</td>\n",
       "      <td>1.216366</td>\n",
       "      <td>1.122770</td>\n",
       "      <td>17.457390</td>\n",
       "      <td>17.457390</td>\n",
       "      <td>1.331715</td>\n",
       "    </tr>\n",
       "    <tr>\n",
       "      <th>zero_net_energy</th>\n",
       "      <td>1.107710</td>\n",
       "      <td>1.107912</td>\n",
       "      <td>1.108499</td>\n",
       "      <td>1.109079</td>\n",
       "      <td>1.108982</td>\n",
       "      <td>1.108470</td>\n",
       "      <td>1.108584</td>\n",
       "      <td>1.108495</td>\n",
       "      <td>1.731706</td>\n",
       "      <td>1.731706</td>\n",
       "      <td>1.109182</td>\n",
       "    </tr>\n",
       "  </tbody>\n",
       "</table>\n",
       "</div>"
      ],
      "text/plain": [
       "                                       baseline  random_noise  untargeted_acg  \\\n",
       "cost_function                                                                   \n",
       "annual_peak_average                    1.102271      1.009338        1.198347   \n",
       "carbon_emissions_total                 0.869186      0.870929        0.902045   \n",
       "cost_total                             0.787803      0.786467        0.816997   \n",
       "daily_one_minus_load_factor_average    1.095762      1.091588        0.397182   \n",
       "daily_peak_average                     0.894595      0.896781        0.961207   \n",
       "electricity_consumption_total          0.879108      0.881392        0.910717   \n",
       "monthly_one_minus_load_factor_average  0.988364      0.981307        0.992850   \n",
       "ramping_average                        1.093749      1.105215        1.271853   \n",
       "zero_net_energy                        1.107710      1.107912        1.108499   \n",
       "\n",
       "                                       untargeted_adv_v_threshold  \\\n",
       "cost_function                                                       \n",
       "annual_peak_average                                      1.102271   \n",
       "carbon_emissions_total                                   0.891469   \n",
       "cost_total                                               0.805982   \n",
       "daily_one_minus_load_factor_average                      1.002500   \n",
       "daily_peak_average                                       0.930231   \n",
       "electricity_consumption_total                            0.901177   \n",
       "monthly_one_minus_load_factor_average                    0.987415   \n",
       "ramping_average                                          1.196971   \n",
       "zero_net_energy                                          1.109079   \n",
       "\n",
       "                                       Adv_v25_untargered_kpis  \\\n",
       "cost_function                                                    \n",
       "annual_peak_average                                   1.102270   \n",
       "carbon_emissions_total                                0.900611   \n",
       "cost_total                                            0.814078   \n",
       "daily_one_minus_load_factor_average                   0.997434   \n",
       "daily_peak_average                                    0.945812   \n",
       "electricity_consumption_total                         0.909467   \n",
       "monthly_one_minus_load_factor_average                 0.991820   \n",
       "ramping_average                                       1.230539   \n",
       "zero_net_energy                                       1.108982   \n",
       "\n",
       "                                       Adv_v75_untargered_kpis  \\\n",
       "cost_function                                                    \n",
       "annual_peak_average                                   1.102271   \n",
       "carbon_emissions_total                                0.880414   \n",
       "cost_total                                            0.799415   \n",
       "daily_one_minus_load_factor_average                   0.365708   \n",
       "daily_peak_average                                    0.913327   \n",
       "electricity_consumption_total                         0.890338   \n",
       "monthly_one_minus_load_factor_average                 0.986949   \n",
       "ramping_average                                       1.151861   \n",
       "zero_net_energy                                       1.108470   \n",
       "\n",
       "                                       df_v_ablation_kpis  optimal_acg  \\\n",
       "cost_function                                                            \n",
       "annual_peak_average                              1.068404     1.102260   \n",
       "carbon_emissions_total                           0.889796     0.876466   \n",
       "cost_total                                       0.806549     0.795443   \n",
       "daily_one_minus_load_factor_average              1.050107     1.045433   \n",
       "daily_peak_average                               0.939143     0.912418   \n",
       "electricity_consumption_total                    0.898543     0.885576   \n",
       "monthly_one_minus_load_factor_average            0.993147     0.990366   \n",
       "ramping_average                                  1.216366     1.122770   \n",
       "zero_net_energy                                  1.108584     1.108495   \n",
       "\n",
       "                                       optimal_BB  optimal_myBB  untargeted_bb  \n",
       "cost_function                                                                   \n",
       "annual_peak_average                      1.727378      1.727378       1.198347  \n",
       "carbon_emissions_total                   3.230139      3.230139       0.917995  \n",
       "cost_total                               3.036743      3.036743       0.830110  \n",
       "daily_one_minus_load_factor_average      0.960458      0.960458       1.412863  \n",
       "daily_peak_average                       2.930483      2.930483       1.005608  \n",
       "electricity_consumption_total            3.272208      3.272208       0.928516  \n",
       "monthly_one_minus_load_factor_average    1.002596      1.002596       0.997774  \n",
       "ramping_average                         17.457390     17.457390       1.331715  \n",
       "zero_net_energy                          1.731706      1.731706       1.109182  "
      ]
     },
     "execution_count": 20,
     "metadata": {},
     "output_type": "execute_result"
    }
   ],
   "source": [
    "df_kpis = pd.read_csv('KPIs.csv', index_col='cost_function')\n",
    "df_kpis"
   ]
  },
  {
   "cell_type": "code",
   "execution_count": null,
   "metadata": {},
   "outputs": [],
   "source": [
    "df_kpis[f'optimal_{ATTACK}'] = kpi.values"
   ]
  },
  {
   "cell_type": "code",
   "execution_count": null,
   "metadata": {},
   "outputs": [
    {
     "data": {
      "text/plain": [
       "<matplotlib.legend.Legend at 0x22b73fbd600>"
      ]
     },
     "execution_count": 23,
     "metadata": {},
     "output_type": "execute_result"
    },
    {
     "data": {
      "image/png": "[encoded data removed]",
      "text/plain": [
       "<Figure size 640x480 with 1 Axes>"
      ]
     },
     "metadata": {},
     "output_type": "display_data"
    }
   ],
   "source": [
    "df_kpis[['baseline','untargeted_adversarial_examples',f'optimal_{ATTACK}']].plot.barh(xlim=0.7).legend(bbox_to_anchor=(1.0, 1.05))"
   ]
  },
  {
   "cell_type": "code",
   "execution_count": null,
   "metadata": {},
   "outputs": [],
   "source": [
    "df_kpis.to_csv('KPIs.csv')"
   ]
  },
  {
   "cell_type": "code",
   "execution_count": null,
   "metadata": {},
   "outputs": [],
   "source": []
  }
 ],
 "metadata": {
  "kernelspec": {
   "display_name": "CityLearnART",
   "language": "python",
   "name": "python3"
  },
  "language_info": {
   "codemirror_mode": {
    "name": "ipython",
    "version": 3
   },
   "file_extension": ".py",
   "mimetype": "text/x-python",
   "name": "python",
   "nbconvert_exporter": "python",
   "pygments_lexer": "ipython3",
   "version": "3.10.12"
  },
  "orig_nbformat": 4
 },
 "nbformat": 4,
 "nbformat_minor": 2
}
