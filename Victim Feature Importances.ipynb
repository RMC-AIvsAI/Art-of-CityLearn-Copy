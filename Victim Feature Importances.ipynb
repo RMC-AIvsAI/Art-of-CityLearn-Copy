{
 "cells": [
  {
   "cell_type": "code",
   "execution_count": 42,
   "metadata": {},
   "outputs": [],
   "source": [
    "from stable_baselines3 import PPO\n",
    "from stable_baselines3.common.vec_env import SubprocVecEnv, DummyVecEnv\n",
    "\n",
    "from citylearn.citylearn import CityLearnEnv\n",
    "from citylearn.wrappers import NormalizedObservationWrapper, StableBaselines3Wrapper, DiscreteActionWrapper\n",
    "from citylearn.data import DataSet\n",
    "\n",
    "from captum.attr import IntegratedGradients, FeaturePermutation\n",
    "\n",
    "import torch\n",
    "\n",
    "import pandas as pd\n",
    "import numpy as np\n",
    "\n",
    "%matplotlib inline"
   ]
  },
  {
   "cell_type": "markdown",
   "metadata": {},
   "source": [
    "todo: add test env (new seed?)"
   ]
  },
  {
   "cell_type": "code",
   "execution_count": 2,
   "metadata": {},
   "outputs": [],
   "source": [
    "dataset_name = 'citylearn_challenge_2022_phase_2' #only action is electrical storage"
   ]
  },
  {
   "cell_type": "code",
   "execution_count": 3,
   "metadata": {},
   "outputs": [],
   "source": [
    "schema = DataSet.get_schema(dataset_name)"
   ]
  },
  {
   "cell_type": "code",
   "execution_count": 4,
   "metadata": {},
   "outputs": [],
   "source": [
    "def make_discrete_env(schema, action_bins: int = 10, bldg: list = ['Building_1'], single_agent: bool = True, seed:int = 0):\n",
    "    \"\"\"Because ART's attacks are designed for supervised learning they one work with ANNs with a single label or head, using multiple buildings adds an action/head for each\"\"\"\n",
    "    env = CityLearnEnv(schema, \n",
    "        central_agent=single_agent, \n",
    "        buildings=bldg, \n",
    "        random_seed=seed)\n",
    "    #Because ART attacks are made for classification tasks we need a discrete action space \n",
    "    env = DiscreteActionWrapper(env, bin_sizes=[{'electrical_storage':action_bins}])\n",
    "    #Calendar observations are periodically normalized, everything else is min/max normalized \n",
    "    env = NormalizedObservationWrapper(env)\n",
    "    #provides an interface for SB3\n",
    "    env = StableBaselines3Wrapper(env)\n",
    "    return env"
   ]
  },
  {
   "cell_type": "code",
   "execution_count": 5,
   "metadata": {},
   "outputs": [],
   "source": [
    "first_building = list(schema['buildings'].keys())[0] #the first building from the schema's building keys\n",
    "env = make_discrete_env(schema=schema, \n",
    "                        bldg=[first_building], \n",
    "                        action_bins=10)"
   ]
  },
  {
   "cell_type": "markdown",
   "metadata": {},
   "source": [
    "Define RL agent"
   ]
  },
  {
   "cell_type": "code",
   "execution_count": 6,
   "metadata": {},
   "outputs": [],
   "source": [
    "policy_kwargs = dict(net_arch=[256, 256])\n",
    "agent = PPO('MlpPolicy', \n",
    "            env,\n",
    "            device='cuda',\n",
    "            policy_kwargs=policy_kwargs,\n",
    "            tensorboard_log='logs/Phase1/PPO/',\n",
    "            )"
   ]
  },
  {
   "cell_type": "markdown",
   "metadata": {},
   "source": [
    "Train victim agent (Python: Launch Tensorboard)"
   ]
  },
  {
   "cell_type": "code",
   "execution_count": 7,
   "metadata": {},
   "outputs": [
    {
     "name": "stdout",
     "output_type": "stream",
     "text": [
      "Model loaded from storage\n"
     ]
    }
   ],
   "source": [
    "episodes = 300\n",
    "T = env.time_steps - 1\n",
    "agent_name = f'default_PPO_{dataset_name}_{episodes}'\n",
    "\n",
    "try:\n",
    "    agent = agent.load(path=f\"Models/Victim/{agent_name}\", env=env)\n",
    "    print('Model loaded from storage')\n",
    "except:\n",
    "    print(\"No saved agent found by that name\")\n",
    "    agent.learn(total_timesteps=int(T*episodes), tb_log_name=agent_name, progress_bar=True)\n",
    "    agent.save(f\"Models/Victim/{agent_name}\")\n"
   ]
  },
  {
   "cell_type": "code",
   "execution_count": 8,
   "metadata": {},
   "outputs": [],
   "source": [
    "def format_kpis(env):\n",
    "    \"\"\"displays the KPIs from the evnironment's most recent timestep.\n",
    "    This function can be called after an agent runs in a test env to evaluate performance\"\"\"\n",
    "\n",
    "    kpis = env.evaluate().pivot(index='cost_function', columns='name', values='value')\n",
    "    kpis = kpis.dropna(how='all')\n",
    "    kpis = kpis['District']\n",
    "    kpis = kpis[kpis != 0]\n",
    "    return kpis"
   ]
  },
  {
   "cell_type": "code",
   "execution_count": 23,
   "metadata": {},
   "outputs": [],
   "source": [
    "def eval_agent(env, agent):\n",
    "    \"\"\"displays the KPIs for each building and district\n",
    "    ref quickstart\"\"\"\n",
    "    obs_list = []\n",
    "    a_list = []\n",
    "\n",
    "    observations = env.reset()\n",
    "\n",
    "    while not env.done:\n",
    "        obs_list.append(observations)\n",
    "        actions, _ = agent.predict(observations, deterministic=True)\n",
    "        a_list.append(actions)\n",
    "        observations, _, _, _ = env.step(actions)\n",
    "    obs_list.append(observations)\n",
    "    \n",
    "    return format_kpis(env), np.array(obs_list), np.array(a_list)"
   ]
  },
  {
   "cell_type": "markdown",
   "metadata": {},
   "source": [
    "Unperturbed agent performance"
   ]
  },
  {
   "cell_type": "code",
   "execution_count": 25,
   "metadata": {},
   "outputs": [
    {
     "data": {
      "text/plain": [
       "cost_function\n",
       "annual_peak_average                      1.000000\n",
       "carbon_emissions_total                   0.889286\n",
       "cost_total                               0.820249\n",
       "daily_one_minus_load_factor_average      1.057196\n",
       "daily_peak_average                       0.912028\n",
       "electricity_consumption_total            0.894755\n",
       "monthly_one_minus_load_factor_average    0.986110\n",
       "ramping_average                          1.171399\n",
       "zero_net_energy                          1.093327\n",
       "Name: District, dtype: float64"
      ]
     },
     "metadata": {},
     "output_type": "display_data"
    }
   ],
   "source": [
    "baseline_kpis, baseline_obs, baseline_a = eval_agent(env,agent)\n",
    "display(baseline_kpis)"
   ]
  },
  {
   "cell_type": "markdown",
   "metadata": {},
   "source": [
    "We'll prepare an index with our feature names, since CityLearn does not name them properly"
   ]
  },
  {
   "cell_type": "code",
   "execution_count": 11,
   "metadata": {},
   "outputs": [],
   "source": [
    "index = env.observation_names[0]\n",
    "#add second index for periodic features\n",
    "for i in [1,3,5]:\n",
    "    index.insert(i, index[i-1] + '_cos')\n",
    "#add suffix for other periodic features\n",
    "for i in [0,2,4]:\n",
    "    index[i] += '_sin'"
   ]
  },
  {
   "cell_type": "code",
   "execution_count": 50,
   "metadata": {},
   "outputs": [],
   "source": [
    "longest_idx = max([len(idx) for idx in index])"
   ]
  },
  {
   "cell_type": "markdown",
   "metadata": {},
   "source": [
    "Define our gradient based attack:"
   ]
  },
  {
   "cell_type": "code",
   "execution_count": 12,
   "metadata": {},
   "outputs": [],
   "source": [
    "def extract_actor(agent):\n",
    "    \"\"\"Extracts the policy network from and SB3 actor critic algorithm as a pytorch seuqential network\"\"\"\n",
    "    from copy import deepcopy\n",
    "    policy_net = deepcopy(agent.policy.mlp_extractor.policy_net) #copies shared net rather than referencing\n",
    "    policy_net.add_module('actions', agent.policy.action_net)\n",
    "    return policy_net"
   ]
  },
  {
   "cell_type": "code",
   "execution_count": 40,
   "metadata": {},
   "outputs": [],
   "source": [
    "actor = extract_actor(agent)"
   ]
  },
  {
   "cell_type": "markdown",
   "metadata": {},
   "source": [
    "Exclude the last observation, because there's no corresponding action"
   ]
  },
  {
   "cell_type": "code",
   "execution_count": 31,
   "metadata": {},
   "outputs": [],
   "source": [
    "tensor_obs = torch.from_numpy(baseline_obs[:-1]).type(torch.FloatTensor).to('cuda')"
   ]
  },
  {
   "cell_type": "code",
   "execution_count": 15,
   "metadata": {},
   "outputs": [],
   "source": [
    "ig = IntegratedGradients(actor)"
   ]
  },
  {
   "cell_type": "code",
   "execution_count": 18,
   "metadata": {},
   "outputs": [
    {
     "name": "stdout",
     "output_type": "stream",
     "text": [
      "Help on method attribute in module captum.attr._core.integrated_gradients:\n",
      "\n",
      "attribute(inputs: ~TensorOrTupleOfTensorsGeneric, baselines: Union[NoneType, torch.Tensor, int, float, Tuple[Union[torch.Tensor, int, float], ...]] = None, target: Union[NoneType, int, Tuple[int, ...], torch.Tensor, List[Tuple[int, ...]], List[int]] = None, additional_forward_args: Any = None, n_steps: int = 50, method: str = 'gausslegendre', internal_batch_size: Optional[int] = None, return_convergence_delta: bool = False) -> Union[~TensorOrTupleOfTensorsGeneric, Tuple[~TensorOrTupleOfTensorsGeneric, torch.Tensor]] method of captum.attr._core.integrated_gradients.IntegratedGradients instance\n",
      "    This method attributes the output of the model with given target index\n",
      "    (in case it is provided, otherwise it assumes that output is a\n",
      "    scalar) to the inputs of the model using the approach described above.\n",
      "    \n",
      "    In addition to that it also returns, if `return_convergence_delta` is\n",
      "    set to True, integral approximation delta based on the completeness\n",
      "    property of integrated gradients.\n",
      "    \n",
      "    Args:\n",
      "    \n",
      "        inputs (Tensor or tuple[Tensor, ...]): Input for which integrated\n",
      "                    gradients are computed. If forward_func takes a single\n",
      "                    tensor as input, a single input tensor should be provided.\n",
      "                    If forward_func takes multiple tensors as input, a tuple\n",
      "                    of the input tensors should be provided. It is assumed\n",
      "                    that for all given input tensors, dimension 0 corresponds\n",
      "                    to the number of examples, and if multiple input tensors\n",
      "                    are provided, the examples must be aligned appropriately.\n",
      "        baselines (scalar, Tensor, tuple of scalar, or Tensor, optional):\n",
      "                    Baselines define the starting point from which integral\n",
      "                    is computed and can be provided as:\n",
      "    \n",
      "                    - a single tensor, if inputs is a single tensor, with\n",
      "                      exactly the same dimensions as inputs or the first\n",
      "                      dimension is one and the remaining dimensions match\n",
      "                      with inputs.\n",
      "    \n",
      "                    - a single scalar, if inputs is a single tensor, which will\n",
      "                      be broadcasted for each input value in input tensor.\n",
      "    \n",
      "                    - a tuple of tensors or scalars, the baseline corresponding\n",
      "                      to each tensor in the inputs' tuple can be:\n",
      "    \n",
      "                      - either a tensor with matching dimensions to\n",
      "                        corresponding tensor in the inputs' tuple\n",
      "                        or the first dimension is one and the remaining\n",
      "                        dimensions match with the corresponding\n",
      "                        input tensor.\n",
      "    \n",
      "                      - or a scalar, corresponding to a tensor in the\n",
      "                        inputs' tuple. This scalar value is broadcasted\n",
      "                        for corresponding input tensor.\n",
      "    \n",
      "                    In the cases when `baselines` is not provided, we internally\n",
      "                    use zero scalar corresponding to each input tensor.\n",
      "    \n",
      "                    Default: None\n",
      "        target (int, tuple, Tensor, or list, optional): Output indices for\n",
      "                    which gradients are computed (for classification cases,\n",
      "                    this is usually the target class).\n",
      "                    If the network returns a scalar value per example,\n",
      "                    no target index is necessary.\n",
      "                    For general 2D outputs, targets can be either:\n",
      "    \n",
      "                    - a single integer or a tensor containing a single\n",
      "                      integer, which is applied to all input examples\n",
      "    \n",
      "                    - a list of integers or a 1D tensor, with length matching\n",
      "                      the number of examples in inputs (dim 0). Each integer\n",
      "                      is applied as the target for the corresponding example.\n",
      "    \n",
      "                    For outputs with > 2 dimensions, targets can be either:\n",
      "    \n",
      "                    - A single tuple, which contains #output_dims - 1\n",
      "                      elements. This target index is applied to all examples.\n",
      "    \n",
      "                    - A list of tuples with length equal to the number of\n",
      "                      examples in inputs (dim 0), and each tuple containing\n",
      "                      #output_dims - 1 elements. Each tuple is applied as the\n",
      "                      target for the corresponding example.\n",
      "    \n",
      "                    Default: None\n",
      "        additional_forward_args (Any, optional): If the forward function\n",
      "                    requires additional arguments other than the inputs for\n",
      "                    which attributions should not be computed, this argument\n",
      "                    can be provided. It must be either a single additional\n",
      "                    argument of a Tensor or arbitrary (non-tuple) type or a\n",
      "                    tuple containing multiple additional arguments including\n",
      "                    tensors or any arbitrary python types. These arguments\n",
      "                    are provided to forward_func in order following the\n",
      "                    arguments in inputs.\n",
      "                    For a tensor, the first dimension of the tensor must\n",
      "                    correspond to the number of examples. It will be\n",
      "                    repeated for each of `n_steps` along the integrated\n",
      "                    path. For all other types, the given argument is used\n",
      "                    for all forward evaluations.\n",
      "                    Note that attributions are not computed with respect\n",
      "                    to these arguments.\n",
      "                    Default: None\n",
      "        n_steps (int, optional): The number of steps used by the approximation\n",
      "                    method. Default: 50.\n",
      "        method (str, optional): Method for approximating the integral,\n",
      "                    one of `riemann_right`, `riemann_left`, `riemann_middle`,\n",
      "                    `riemann_trapezoid` or `gausslegendre`.\n",
      "                    Default: `gausslegendre` if no method is provided.\n",
      "        internal_batch_size (int, optional): Divides total #steps * #examples\n",
      "                    data points into chunks of size at most internal_batch_size,\n",
      "                    which are computed (forward / backward passes)\n",
      "                    sequentially. internal_batch_size must be at least equal to\n",
      "                    #examples.\n",
      "                    For DataParallel models, each batch is split among the\n",
      "                    available devices, so evaluations on each available\n",
      "                    device contain internal_batch_size / num_devices examples.\n",
      "                    If internal_batch_size is None, then all evaluations are\n",
      "                    processed in one batch.\n",
      "                    Default: None\n",
      "        return_convergence_delta (bool, optional): Indicates whether to return\n",
      "                convergence delta or not. If `return_convergence_delta`\n",
      "                is set to True convergence delta will be returned in\n",
      "                a tuple following attributions.\n",
      "                Default: False\n",
      "    Returns:\n",
      "        **attributions** or 2-element tuple of **attributions**, **delta**:\n",
      "        - **attributions** (*Tensor* or *tuple[Tensor, ...]*):\n",
      "                Integrated gradients with respect to each input feature.\n",
      "                attributions will always be the same size as the provided\n",
      "                inputs, with each value providing the attribution of the\n",
      "                corresponding input index.\n",
      "                If a single tensor is provided as inputs, a single tensor is\n",
      "                returned. If a tuple is provided for inputs, a tuple of\n",
      "                corresponding sized tensors is returned.\n",
      "        - **delta** (*Tensor*, returned if return_convergence_delta=True):\n",
      "                The difference between the total approximated and true\n",
      "                integrated gradients. This is computed using the property\n",
      "                that the total sum of forward_func(inputs) -\n",
      "                forward_func(baselines) must equal the total sum of the\n",
      "                integrated gradient.\n",
      "                Delta is calculated per example, meaning that the number of\n",
      "                elements in returned delta tensor is equal to the number of\n",
      "                examples in inputs.\n",
      "    \n",
      "    Examples::\n",
      "    \n",
      "        >>> # ImageClassifier takes a single input tensor of images Nx3x32x32,\n",
      "        >>> # and returns an Nx10 tensor of class probabilities.\n",
      "        >>> net = ImageClassifier()\n",
      "        >>> ig = IntegratedGradients(net)\n",
      "        >>> input = torch.randn(2, 3, 32, 32, requires_grad=True)\n",
      "        >>> # Computes integrated gradients for class 3.\n",
      "        >>> attribution = ig.attribute(input, target=3)\n",
      "\n"
     ]
    }
   ],
   "source": [
    "help(ig.attribute)"
   ]
  },
  {
   "cell_type": "code",
   "execution_count": 61,
   "metadata": {},
   "outputs": [],
   "source": [
    "tensor_obs.requires_grad_()\n",
    "attr = ig.attribute(tensor_obs, \n",
    "                    target=baseline_a.flatten().tolist())\n",
    "attr = attr.detach().cpu().numpy()"
   ]
  },
  {
   "cell_type": "code",
   "execution_count": 62,
   "metadata": {},
   "outputs": [],
   "source": [
    "s_ig_avg = pd.Series(np.mean(attr, axis=0), index=index)"
   ]
  },
  {
   "cell_type": "code",
   "execution_count": 63,
   "metadata": {},
   "outputs": [
    {
     "data": {
      "text/plain": [
       "electrical_storage_soc                        4.897409\n",
       "hour_sin                                      1.983663\n",
       "day_type_cos                                  1.180800\n",
       "diffuse_solar_irradiance_predicted_24h        0.902080\n",
       "electricity_pricing_predicted_12h             0.787581\n",
       "diffuse_solar_irradiance                      0.510592\n",
       "hour_cos                                      0.391376\n",
       "outdoor_dry_bulb_temperature_predicted_6h     0.340412\n",
       "outdoor_dry_bulb_temperature                  0.324295\n",
       "day_type_sin                                  0.238612\n",
       "outdoor_dry_bulb_temperature_predicted_12h    0.205808\n",
       "outdoor_relative_humidity                     0.167938\n",
       "outdoor_dry_bulb_temperature_predicted_24h    0.148229\n",
       "direct_solar_irradiance_predicted_24h         0.045698\n",
       "solar_generation                              0.004952\n",
       "outdoor_relative_humidity_predicted_24h      -0.035277\n",
       "electricity_pricing                          -0.070747\n",
       "month_cos                                    -0.089793\n",
       "diffuse_solar_irradiance_predicted_12h       -0.104438\n",
       "diffuse_solar_irradiance_predicted_6h        -0.151702\n",
       "electricity_pricing_predicted_24h            -0.179461\n",
       "direct_solar_irradiance_predicted_6h         -0.186009\n",
       "net_electricity_consumption                  -0.213543\n",
       "outdoor_relative_humidity_predicted_12h      -0.325639\n",
       "carbon_intensity                             -0.414053\n",
       "non_shiftable_load                           -0.470132\n",
       "direct_solar_irradiance_predicted_12h        -0.486148\n",
       "outdoor_relative_humidity_predicted_6h       -0.492901\n",
       "electricity_pricing_predicted_6h             -0.523143\n",
       "direct_solar_irradiance                      -0.981233\n",
       "month_sin                                    -1.101531\n",
       "dtype: float64"
      ]
     },
     "execution_count": 63,
     "metadata": {},
     "output_type": "execute_result"
    }
   ],
   "source": [
    "s_ig_avg.sort_values(ascending=False)"
   ]
  },
  {
   "cell_type": "code",
   "execution_count": 43,
   "metadata": {},
   "outputs": [],
   "source": [
    "fp = FeaturePermutation(actor)"
   ]
  },
  {
   "cell_type": "code",
   "execution_count": 44,
   "metadata": {},
   "outputs": [],
   "source": [
    "attr = fp.attribute(tensor_obs, \n",
    "                    target=baseline_a.flatten().tolist())\n",
    "attr = attr.detach().cpu().numpy()"
   ]
  },
  {
   "cell_type": "code",
   "execution_count": 60,
   "metadata": {},
   "outputs": [],
   "source": [
    "s_fp_avg = pd.Series(np.mean(attr, axis=0), index=index)"
   ]
  },
  {
   "cell_type": "markdown",
   "metadata": {},
   "source": [
    "Permutation importances in descending order:"
   ]
  },
  {
   "cell_type": "code",
   "execution_count": 59,
   "metadata": {},
   "outputs": [
    {
     "data": {
      "text/plain": [
       "electrical_storage_soc                        3.121432\n",
       "hour_sin                                      1.500013\n",
       "electricity_pricing_predicted_12h             0.905066\n",
       "day_type_sin                                  0.774473\n",
       "day_type_cos                                  0.688497\n",
       "non_shiftable_load                            0.595734\n",
       "hour_cos                                      0.574666\n",
       "direct_solar_irradiance_predicted_12h         0.448235\n",
       "month_sin                                     0.424114\n",
       "diffuse_solar_irradiance_predicted_12h        0.329114\n",
       "diffuse_solar_irradiance_predicted_24h        0.301431\n",
       "direct_solar_irradiance_predicted_6h          0.298853\n",
       "direct_solar_irradiance_predicted_24h         0.279034\n",
       "diffuse_solar_irradiance                      0.273284\n",
       "electricity_pricing_predicted_24h             0.203601\n",
       "electricity_pricing                           0.188364\n",
       "carbon_intensity                              0.163813\n",
       "outdoor_relative_humidity_predicted_24h       0.151998\n",
       "diffuse_solar_irradiance_predicted_6h         0.151543\n",
       "month_cos                                     0.146626\n",
       "outdoor_relative_humidity                     0.065528\n",
       "electricity_pricing_predicted_6h              0.061705\n",
       "outdoor_relative_humidity_predicted_12h       0.039135\n",
       "direct_solar_irradiance                       0.035729\n",
       "outdoor_relative_humidity_predicted_6h        0.024680\n",
       "outdoor_dry_bulb_temperature                  0.018722\n",
       "outdoor_dry_bulb_temperature_predicted_6h     0.017966\n",
       "solar_generation                              0.001377\n",
       "net_electricity_consumption                   0.000265\n",
       "outdoor_dry_bulb_temperature_predicted_12h   -0.006008\n",
       "outdoor_dry_bulb_temperature_predicted_24h   -0.023073\n",
       "dtype: float32"
      ]
     },
     "execution_count": 59,
     "metadata": {},
     "output_type": "execute_result"
    }
   ],
   "source": [
    "s_fp_avg.sort_values(ascending=False)"
   ]
  },
  {
   "cell_type": "code",
   "execution_count": null,
   "metadata": {},
   "outputs": [],
   "source": []
  }
 ],
 "metadata": {
  "kernelspec": {
   "display_name": "CityLearnART",
   "language": "python",
   "name": "python3"
  },
  "language_info": {
   "codemirror_mode": {
    "name": "ipython",
    "version": 3
   },
   "file_extension": ".py",
   "mimetype": "text/x-python",
   "name": "python",
   "nbconvert_exporter": "python",
   "pygments_lexer": "ipython3",
   "version": "3.10.12"
  },
  "orig_nbformat": 4
 },
 "nbformat": 4,
 "nbformat_minor": 2
}
