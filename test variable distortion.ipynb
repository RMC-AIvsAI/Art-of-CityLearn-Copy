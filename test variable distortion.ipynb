{
 "cells": [
  {
   "cell_type": "markdown",
   "metadata": {},
   "source": [
    "test a variable epsilon search function"
   ]
  },
  {
   "cell_type": "code",
   "execution_count": 1,
   "metadata": {},
   "outputs": [],
   "source": [
    "AGENT_NAME = 'default_PPO_citylearn_challenge_2022_phase_2_Building_6_20_bins_500.zip'\n",
    "DATASET_NAME = 'citylearn_challenge_2022_phase_2' #only action is electrical storage"
   ]
  },
  {
   "cell_type": "markdown",
   "metadata": {},
   "source": [
    "Below we also see that increasing the number of resarts without changing restarts:iterations improves the performance. It allows for a lower dynamic epsilon and higher ASRs"
   ]
  },
  {
   "cell_type": "code",
   "execution_count": 2,
   "metadata": {},
   "outputs": [],
   "source": [
    "from stable_baselines3 import PPO\n",
    "\n",
    "from citylearn.data import DataSet\n",
    "\n",
    "from art.attacks.evasion import AutoConjugateGradient as ACG\n",
    "\n",
    "\n",
    "import pandas as pd\n",
    "import numpy as np\n",
    "\n",
    "import KBMproject.utilities as utils\n",
    "from tqdm import tqdm\n",
    "from art.estimators.classification import PyTorchClassifier as classifier\n",
    "from torch.nn import CrossEntropyLoss\n",
    "\n",
    "%matplotlib inline"
   ]
  },
  {
   "cell_type": "code",
   "execution_count": 3,
   "metadata": {},
   "outputs": [],
   "source": [
    "schema = DataSet.get_schema(DATASET_NAME)"
   ]
  },
  {
   "cell_type": "markdown",
   "metadata": {},
   "source": [
    "Define RL agent"
   ]
  },
  {
   "cell_type": "code",
   "execution_count": 4,
   "metadata": {},
   "outputs": [
    {
     "name": "stdout",
     "output_type": "stream",
     "text": [
      "Model loaded from storage\n"
     ]
    }
   ],
   "source": [
    "try:\n",
    "    agent = PPO.load(path=f\"20 bin PPO 500 results/{AGENT_NAME}\")\n",
    "    print('Model loaded from storage')\n",
    "except:\n",
    "    print(f'Model: {AGENT_NAME} not found')"
   ]
  },
  {
   "cell_type": "code",
   "execution_count": 5,
   "metadata": {},
   "outputs": [],
   "source": [
    "bins = agent.action_space[0].n\n",
    "env = utils.make_discrete_env(schema=schema,  \n",
    "                        action_bins=bins,\n",
    "                        seed=42)"
   ]
  },
  {
   "cell_type": "code",
   "execution_count": 6,
   "metadata": {},
   "outputs": [],
   "source": [
    "observation_masks = pd.read_csv('observation_masks.csv')"
   ]
  },
  {
   "cell_type": "markdown",
   "metadata": {},
   "source": [
    "SHould this be a class so it can remember the prev eps?"
   ]
  },
  {
   "cell_type": "code",
   "execution_count": 7,
   "metadata": {},
   "outputs": [],
   "source": [
    "def dynamic_distortion(sample, victim_policy, ART_atk, mask:list, ART_atk_kwargs:dict=None, eps_candidates:list=[0.05], init_idx:int=None):\n",
    "    \"\"\"finds the minimum successful distortion epsilon from a given SORTED list, \n",
    "    by iteratively remove list items until one remains with binary search\n",
    "    returns adversarial example, adversarial action, eps used to produce them, and the difference between the original and adversarial actions\"\"\"\n",
    "\n",
    "    eps_candidates.sort() #ensures iput is sorted for binary search\n",
    "    if init_idx is not None: #we migh have some insight on where to start based on our situation, like how far a target is from the baseline\n",
    "        idx = init_idx\n",
    "    else:\n",
    "        idx = (len(eps_candidates))//2 #middle \n",
    "    \n",
    "    kwargs = ART_atk_kwargs #do I need to purge eps if it's in here?\n",
    "    min_eps_sample = sample\n",
    "    if sample.ndim == 1: #ART requires 2d input\n",
    "        sample = np.expand_dims(sample, axis=0)\n",
    "    a = a_min_eps = np.argmax(victim_policy.predict(sample, training_mode=False)) #nn outputs -> largest index corresponds to the chosen action, agent.predict()\n",
    "    eps_min = np.nan #remains nan if no adversarial sample is generated\n",
    "\n",
    "    while len(eps_candidates) >= 1: #list is not empty, we remove all tested values\n",
    "        eps = eps_candidates[idx]\n",
    "        #define attack\n",
    "        try: #for ACG/APGT which have eps_step, which changes depending on eps so isn't a static kwarg\n",
    "            attack = ART_atk(estimator=victim_policy, eps=eps, eps_step=eps/3, verbose=False, **kwargs)\n",
    "        except: #for something like PGT which doesn't have eps_setp\n",
    "            attack = ART_atk(estimator=victim_policy, eps=eps, verbose=False, **kwargs)\n",
    "\n",
    "        adv_sample = attack.generate(sample, mask=mask)\n",
    "        a_adv = np.argmax(victim_policy.predict(adv_sample, training_mode=False))\n",
    "        \n",
    "        if a!=a_adv: #adversarial example successful\n",
    "            eps_candidates = eps_candidates[:idx] #this worked, so only keep lower values, slice is exclusive because we save the values below\n",
    "            min_eps_sample = adv_sample\n",
    "            a_min_eps = a_adv\n",
    "            eps_min = eps\n",
    "        else: #no adversarial sample found\n",
    "            eps_candidates = eps_candidates[idx+1:] #This didn't work, so only keep higher values, slice is exclusive\n",
    "        \n",
    "        idx = (len(eps_candidates))//2 #how can this produce a value out of range? what happens with len 1?\n",
    "    a_dist = abs(a - a_min_eps)\n",
    "    return np.squeeze(min_eps_sample), np.array([a_min_eps]), eps_min, a_dist #agent.predict returns an array"
   ]
  },
  {
   "cell_type": "code",
   "execution_count": 8,
   "metadata": {},
   "outputs": [],
   "source": [
    "def eval_untargeted_dynamic_distortion_attack(agent, env, ART_atk, ART_atk_kwargs:dict=None, eps_candidates:list=[0.05], time_steps:int=None, mask:list=None):\n",
    "    \"\"\"Evaluates an SB3 agent subject to untargeted observation perturbations generated by an ART evasion attack,\n",
    "    using the smallest distortion from a list\"\"\"\n",
    "\n",
    "    from math import isnan\n",
    "\n",
    "    obs_list = []\n",
    "    asr = 0\n",
    "    eps_list = []\n",
    "    avg_action_dist = 0\n",
    "\n",
    "    observations = env.reset()\n",
    "    if time_steps is None:\n",
    "        time_steps = env.time_steps - 1\n",
    "    if mask is None:\n",
    "        mask=np.ones(agent.observation_space.shape[0]) #1 for all features\n",
    "\n",
    "    victim_policy = classifier(\n",
    "                            model=utils.extract_actor(agent),\n",
    "                            loss=CrossEntropyLoss(), \n",
    "                            nb_classes=env.action_space[0].n,\n",
    "                            input_shape=agent.observation_space.shape,\n",
    "                            device_type='gpu'\n",
    "                            )\n",
    "\n",
    "    for i in tqdm(range(time_steps)):\n",
    "\n",
    "        obs_list.append(observations)\n",
    "\n",
    "        _, a_adv, eps, a_dist = dynamic_distortion(sample=observations, \n",
    "                                            victim_policy=victim_policy,\n",
    "                                            ART_atk=ART_atk, \n",
    "                                            ART_atk_kwargs=ART_atk_kwargs,\n",
    "                                            mask=mask,\n",
    "                                            eps_candidates=eps_candidates)\n",
    "        \n",
    "        eps_list.append(eps)\n",
    "        if not isnan(eps): #nan returned if no eps worked\n",
    "            asr+=1\n",
    "\n",
    "        observations, _, _, _ = env.step(a_adv)\n",
    "\n",
    "        avg_action_dist = (avg_action_dist*(i) + a_dist)/(i+1)\n",
    "\n",
    "        if env.done:\n",
    "            break\n",
    "    \n",
    "    obs_list.append(observations)\n",
    "    asr/=time_steps\n",
    "    print(f'The Adversarial success rate is: {asr}')\n",
    "    print(f'The average distance between optinmal and adversarial actions is: {avg_action_dist}')\n",
    "    return utils.format_kpis(env), np.array(obs_list), np.array(eps_list)"
   ]
  },
  {
   "cell_type": "code",
   "execution_count": 59,
   "metadata": {},
   "outputs": [],
   "source": [
    "def better_dynamic_distortion(victim_policy, atk_candidates:list, generate_kwargs:dict=None):\n",
    "    \"\"\"finds the minimum successful distortion epsilon from a given SORTED list, \n",
    "    by iteratively remove list items until one remains with binary search\n",
    "    expects a lits of tupples, containing an attack obsect with gereate() attribute, and an epsilon value.\n",
    "    returns adversarial example, adversarial action, eps used to produce them, and the difference between the original and adversarial actions\"\"\"\n",
    "\n",
    "    idx = (len(atk_candidates))//2 #middle\n",
    "    best_candidate_idx = list(range((len(atk_candidates)))) #assigned an index for each candidate\n",
    "    kwargs = generate_kwargs\n",
    "    atk_idx = 0\n",
    "    eps_idx = 1\n",
    "    min_eps = None\n",
    "    \n",
    "    kwargs = generate_kwargs\n",
    "    if kwargs['x'].ndim == 1: #ART requires 2d input\n",
    "        kwargs['x'] = np.expand_dims(kwargs['x'], axis=0)\n",
    "    min_eps_sample = kwargs['x']\n",
    "    a = a_min_eps = np.argmax(victim_policy.predict(kwargs['x'], training_mode=False)) #nn outputs -> largest index corresponds to the chosen action, agent.predict()\n",
    "    #kwargs['y'] = np.array([a]) #does passing in the action make this faster? probably not\n",
    "\n",
    "    while len(atk_candidates) >= 1: #list is not empty, we remove all tested values\n",
    "        adv_sample = atk_candidates[idx][atk_idx].generate(**kwargs)\n",
    "        a_adv = np.argmax(victim_policy.predict(adv_sample, training_mode=False))\n",
    "        \n",
    "        if a!=a_adv: #adversarial example successful\n",
    "            min_eps = atk_candidates[idx][eps_idx]\n",
    "            atk_candidates = atk_candidates[:idx] #this worked, so only keep lower values, slice is exclusive because we save the values below\n",
    "            min_eps_sample = adv_sample\n",
    "            a_min_eps = a_adv\n",
    "        else: #no adversarial sample found\n",
    "            atk_candidates = atk_candidates[idx+1:] #This didn't work, so only keep higher values, slice is exclusive\n",
    "            best_candidate_idx = best_candidate_idx[idx+1:]\n",
    "\n",
    "        idx = (len(atk_candidates))//2\n",
    "    a_dist = abs(a - a_min_eps)\n",
    "    return np.squeeze(min_eps_sample), np.array([a_min_eps]), min_eps, a_dist #agent.predict returns an array"
   ]
  },
  {
   "cell_type": "code",
   "execution_count": 49,
   "metadata": {},
   "outputs": [],
   "source": [
    "def better_eval_untargeted_dynamic_distortion_attack(agent, env, ART_atk, ART_atk_kwargs:dict=None, \n",
    "                                    eps_candidates:list=[0.05], init_step_coeff:float=None, time_steps:int=None, mask:list=None):\n",
    "    \"\"\"Evaluates an SB3 agent subject to untargeted observation perturbations generated by an ART evasion attack,\n",
    "    using the smallest distortion from a list\"\"\"\n",
    "\n",
    "    from math import isnan\n",
    "\n",
    "    obs_list = []\n",
    "    adv_obs_list = []\n",
    "    asr = 0\n",
    "    eps_list = []\n",
    "    avg_action_dist = 0\n",
    "    atk_list = [] #list of attacks for each eps candidate\n",
    "    eps_candidates.sort() #sort list in ascending order\n",
    "\n",
    "    observations = env.reset()\n",
    "    if time_steps is None:\n",
    "        time_steps = env.time_steps - 1\n",
    "    if mask is not None:\n",
    "        generate_kwargs = dict(mask=mask)\n",
    "    else:\n",
    "        generate_kwargs = dict()\n",
    "\n",
    "    victim_policy = classifier(\n",
    "                            model=utils.extract_actor(agent),\n",
    "                            loss=CrossEntropyLoss(), \n",
    "                            nb_classes=env.action_space[0].n,\n",
    "                            input_shape=agent.observation_space.shape,\n",
    "                            device_type='gpu'\n",
    "                            )\n",
    "    kwargs = ART_atk_kwargs\n",
    "    kwargs['verbose'] = False #can crash jupyter\n",
    "    #define list of attacks for each candidate epsilon\n",
    "    if init_step_coeff is None:\n",
    "        for eps in eps_candidates:\n",
    "            kwargs['eps'] = eps\n",
    "            atk = ART_atk(victim_policy, **kwargs)\n",
    "            atk_list.append((atk, eps))\n",
    "    else:\n",
    "        for eps in eps_candidates:\n",
    "            kwargs['eps'] = eps\n",
    "            kwargs['eps_step'] = init_step_coeff*eps\n",
    "            atk = ART_atk(victim_policy, **kwargs)\n",
    "            atk_list.append((atk, eps))\n",
    "\n",
    "    for i in tqdm(range(time_steps)):\n",
    "        #eps = None #defaults to none if no adversarial examples are generated\n",
    "        obs_list.append(observations) #next state\n",
    "        #sample = np.expand_dims(observations, axis=0) #ART requires 2d input\n",
    "        #a = a_adv = np.array([np.argmax(victim_policy.predict(sample, training_mode=False))]) #clean/default action\n",
    "        generate_kwargs['x'] = observations  #sample\n",
    "\n",
    "        adv_obs, a_adv, min_eps, a_dist = better_dynamic_distortion(victim_policy=victim_policy,\n",
    "                                                            generate_kwargs=generate_kwargs,\n",
    "                                                            atk_candidates=atk_list)\n",
    "        adv_obs_list.append(adv_obs)\n",
    "        if a_dist!=0:\n",
    "            asr+=1\n",
    "            eps_list.append(min_eps)\n",
    "        else:\n",
    "            eps_list.append(np.nan)\n",
    "\n",
    "        observations, _, _, _ = env.step(a_adv)\n",
    "\n",
    "        avg_action_dist = (avg_action_dist*(i) + a_dist)/(i+1)\n",
    "\n",
    "        if env.done:\n",
    "            break\n",
    "    \n",
    "    obs_list.append(observations)\n",
    "    asr/=time_steps\n",
    "    print(f'The Adversarial success rate is: {asr}')\n",
    "    print(f'The average distance between optinmal and adversarial actions is: {avg_action_dist}')\n",
    "    return utils.format_kpis(env), np.array(obs_list), np.array(adv_obs_list), np.array(eps_list)"
   ]
  },
  {
   "cell_type": "code",
   "execution_count": 36,
   "metadata": {},
   "outputs": [
    {
     "name": "stderr",
     "output_type": "stream",
     "text": [
      "  0%|          | 0/8759 [00:00<?, ?it/s]"
     ]
    },
    {
     "name": "stderr",
     "output_type": "stream",
     "text": [
      "100%|█████████▉| 8758/8759 [4:09:28<00:01,  1.71s/it]  \n"
     ]
    },
    {
     "name": "stdout",
     "output_type": "stream",
     "text": [
      "The Adversarial success rate is: 0.9942915857974655\n",
      "The average distance between optinmal and adversarial actions is: 2.6740495490352783\n",
      "count    8709.000000\n",
      "mean        0.024013\n",
      "std         0.014822\n",
      "min         0.010000\n",
      "25%         0.010000\n",
      "50%         0.030000\n",
      "75%         0.030000\n",
      "max         0.070000\n",
      "dtype: float64\n"
     ]
    },
    {
     "data": {
      "text/plain": [
       "cost_function\n",
       "annual_peak_average                      1.340796\n",
       "carbon_emissions_total                   0.906544\n",
       "cost_total                               0.821517\n",
       "daily_one_minus_load_factor_average      0.365820\n",
       "daily_peak_average                       0.973676\n",
       "electricity_consumption_total            0.914501\n",
       "monthly_one_minus_load_factor_average    1.002102\n",
       "ramping_average                          1.291433\n",
       "zero_net_energy                          1.108872\n",
       "Name: District, dtype: float64"
      ]
     },
     "metadata": {},
     "output_type": "display_data"
    },
    {
     "name": "stdout",
     "output_type": "stream",
     "text": [
      "CPU times: total: 4h 6min 34s\n",
      "Wall time: 4h 9min 29s\n"
     ]
    }
   ],
   "source": [
    "%%time\n",
    "init = 20\n",
    "iter = int(500/init)\n",
    "ACG_parameters = dict(\n",
    "    loss_type='difference_logits_ratio', \n",
    "    batch_size=1,\n",
    "    nb_random_init=init, #5, lower values speed crafting\n",
    "    max_iter=iter, #iterations per restart\n",
    "    norm='inf', #->l2 ->l1 most restrictive \n",
    ")\n",
    "kpis, obs, adv_obs, bestilons = better_eval_untargeted_dynamic_distortion_attack(agent,\n",
    "                                          env,\n",
    "                                          ART_atk=ACG,\n",
    "                                          ART_atk_kwargs=ACG_parameters,\n",
    "                                          eps_candidates=[0.01,0.03,0.05,0.07],\n",
    "                                          time_steps=None,\n",
    "                                          mask=observation_masks['mask_time'].to_numpy(),\n",
    "                                          init_step_coeff=2,\n",
    "                                          )\n",
    "pd.Series(bestilons).value_counts().plot.pie()\n",
    "display(kpis)"
   ]
  },
  {
   "cell_type": "code",
   "execution_count": 43,
   "metadata": {},
   "outputs": [
    {
     "data": {
      "text/plain": [
       "<Axes: ylabel='None'>"
      ]
     },
     "execution_count": 43,
     "metadata": {},
     "output_type": "execute_result"
    },
    {
     "data": {
      "image/png": "[encoded data removed]",
      "text/plain": [
       "<Figure size 640x480 with 1 Axes>"
      ]
     },
     "metadata": {},
     "output_type": "display_data"
    }
   ],
   "source": [
    "pd.Series(bestilons).value_counts().plot.pie(autopct='%1.1f%%')"
   ]
  },
  {
   "cell_type": "code",
   "execution_count": 41,
   "metadata": {},
   "outputs": [
    {
     "name": "stderr",
     "output_type": "stream",
     "text": [
      "100%|█████████▉| 8758/8759 [3:50:26<00:01,  1.58s/it]  \n"
     ]
    },
    {
     "name": "stdout",
     "output_type": "stream",
     "text": [
      "The Adversarial success rate is: 0.9932640712410092\n",
      "The average distance between optinmal and adversarial actions is: 2.6687978079689523\n"
     ]
    },
    {
     "data": {
      "text/plain": [
       "cost_function\n",
       "annual_peak_average                      1.204448\n",
       "carbon_emissions_total                   0.906302\n",
       "cost_total                               0.821248\n",
       "daily_one_minus_load_factor_average      1.009029\n",
       "daily_peak_average                       0.979524\n",
       "electricity_consumption_total            0.914752\n",
       "monthly_one_minus_load_factor_average    0.998397\n",
       "ramping_average                          1.298869\n",
       "zero_net_energy                          1.108929\n",
       "Name: District, dtype: float64"
      ]
     },
     "metadata": {},
     "output_type": "display_data"
    },
    {
     "name": "stdout",
     "output_type": "stream",
     "text": [
      "CPU times: total: 3h 47min 59s\n",
      "Wall time: 3h 50min 27s\n"
     ]
    },
    {
     "data": {
      "image/png": "[encoded data removed]",
      "text/plain": [
       "<Figure size 640x480 with 1 Axes>"
      ]
     },
     "metadata": {},
     "output_type": "display_data"
    }
   ],
   "source": [
    "%%time\n",
    "init = 40\n",
    "iter = int(500/init)\n",
    "ACG_parameters = dict(\n",
    "    loss_type='difference_logits_ratio', \n",
    "    batch_size=1,\n",
    "    nb_random_init=init, #5, lower values speed crafting\n",
    "    max_iter=iter, #iterations per restart\n",
    "    norm='inf', #->l2 ->l1 most restrictive \n",
    ")\n",
    "kpis, obs, adv_obs, bestilons = better_eval_untargeted_dynamic_distortion_attack(agent,\n",
    "                                          env,\n",
    "                                          ART_atk=ACG,\n",
    "                                          ART_atk_kwargs=ACG_parameters,\n",
    "                                          eps_candidates=[0.01,0.03,0.05,0.07],\n",
    "                                          time_steps=None,\n",
    "                                          mask=observation_masks['mask_time'].to_numpy(),\n",
    "                                          init_step_coeff=2,\n",
    "                                          )\n",
    "pd.Series(bestilons).value_counts().plot.pie()\n",
    "display(kpis)"
   ]
  },
  {
   "cell_type": "code",
   "execution_count": 44,
   "metadata": {},
   "outputs": [
    {
     "name": "stderr",
     "output_type": "stream",
     "text": [
      "  0%|          | 0/8759 [00:00<?, ?it/s]"
     ]
    },
    {
     "name": "stderr",
     "output_type": "stream",
     "text": [
      "100%|█████████▉| 8758/8759 [3:52:20<00:01,  1.59s/it]  \n"
     ]
    },
    {
     "name": "stdout",
     "output_type": "stream",
     "text": [
      "The Adversarial success rate is: 0.9928073981048064\n",
      "The average distance between optinmal and adversarial actions is: 2.6836396848955344\n"
     ]
    },
    {
     "data": {
      "text/plain": [
       "cost_function\n",
       "annual_peak_average                      1.204462\n",
       "carbon_emissions_total                   0.906323\n",
       "cost_total                               0.824031\n",
       "daily_one_minus_load_factor_average      0.379868\n",
       "daily_peak_average                       0.978546\n",
       "electricity_consumption_total            0.914110\n",
       "monthly_one_minus_load_factor_average    0.998648\n",
       "ramping_average                          1.294624\n",
       "zero_net_energy                          1.108684\n",
       "Name: District, dtype: float64"
      ]
     },
     "metadata": {},
     "output_type": "display_data"
    },
    {
     "name": "stdout",
     "output_type": "stream",
     "text": [
      "CPU times: total: 3h 49min 12s\n",
      "Wall time: 3h 52min 21s\n"
     ]
    },
    {
     "data": {
      "image/png": "[encoded data removed]",
      "text/plain": [
       "<Figure size 640x480 with 1 Axes>"
      ]
     },
     "metadata": {},
     "output_type": "display_data"
    }
   ],
   "source": [
    "%%time\n",
    "init = 30\n",
    "iter = int(500/init)\n",
    "ACG_parameters = dict(\n",
    "    loss_type='difference_logits_ratio', \n",
    "    batch_size=1,\n",
    "    nb_random_init=init, #5, lower values speed crafting\n",
    "    max_iter=iter, #iterations per restart\n",
    "    norm='inf', #->l2 ->l1 most restrictive \n",
    ")\n",
    "kpis, obs, adv_obs, bestilons = better_eval_untargeted_dynamic_distortion_attack(agent,\n",
    "                                          env,\n",
    "                                          ART_atk=ACG,\n",
    "                                          ART_atk_kwargs=ACG_parameters,\n",
    "                                          eps_candidates=[0.01,0.03,0.05,0.07],\n",
    "                                          time_steps=None,\n",
    "                                          mask=observation_masks['mask_time'].to_numpy(),\n",
    "                                          init_step_coeff=2,\n",
    "                                          )\n",
    "pd.Series(bestilons).value_counts().plot.pie(autopct='%1.1f%%')\n",
    "display(kpis)"
   ]
  },
  {
   "cell_type": "code",
   "execution_count": 11,
   "metadata": {},
   "outputs": [
    {
     "name": "stderr",
     "output_type": "stream",
     "text": [
      "100%|██████████| 100/100 [03:22<00:00,  2.02s/it]"
     ]
    },
    {
     "name": "stdout",
     "output_type": "stream",
     "text": [
      "The Adversarial success rate is: 0.97\n"
     ]
    },
    {
     "name": "stderr",
     "output_type": "stream",
     "text": [
      "\n"
     ]
    },
    {
     "ename": "ValueError",
     "evalue": "The truth value of an array with more than one element is ambiguous. Use a.any() or a.all()",
     "output_type": "error",
     "traceback": [
      "\u001b[1;31m---------------------------------------------------------------------------\u001b[0m",
      "\u001b[1;31mValueError\u001b[0m                                Traceback (most recent call last)",
      "\u001b[1;32mc:\\Users\\Broda-Milian\\Documents\\CityLearn Examples\\test variable distortion.ipynb Cell 14\u001b[0m line \u001b[0;36m1\n\u001b[0;32m      <a href='vscode-notebook-cell:/c%3A/Users/Broda-Milian/Documents/CityLearn%20Examples/test%20variable%20distortion.ipynb#X15sZmlsZQ%3D%3D?line=0'>1</a>\u001b[0m ACG_parameters \u001b[39m=\u001b[39m \u001b[39mdict\u001b[39m(\n\u001b[0;32m      <a href='vscode-notebook-cell:/c%3A/Users/Broda-Milian/Documents/CityLearn%20Examples/test%20variable%20distortion.ipynb#X15sZmlsZQ%3D%3D?line=1'>2</a>\u001b[0m     loss_type\u001b[39m=\u001b[39m\u001b[39m'\u001b[39m\u001b[39mdifference_logits_ratio\u001b[39m\u001b[39m'\u001b[39m, \n\u001b[0;32m      <a href='vscode-notebook-cell:/c%3A/Users/Broda-Milian/Documents/CityLearn%20Examples/test%20variable%20distortion.ipynb#X15sZmlsZQ%3D%3D?line=2'>3</a>\u001b[0m     batch_size\u001b[39m=\u001b[39m\u001b[39m1\u001b[39m,\n\u001b[1;32m   (...)\u001b[0m\n\u001b[0;32m      <a href='vscode-notebook-cell:/c%3A/Users/Broda-Milian/Documents/CityLearn%20Examples/test%20variable%20distortion.ipynb#X15sZmlsZQ%3D%3D?line=5'>6</a>\u001b[0m     norm\u001b[39m=\u001b[39m\u001b[39m'\u001b[39m\u001b[39minf\u001b[39m\u001b[39m'\u001b[39m, \u001b[39m#->l2 ->l1 most restrictive \u001b[39;00m\n\u001b[0;32m      <a href='vscode-notebook-cell:/c%3A/Users/Broda-Milian/Documents/CityLearn%20Examples/test%20variable%20distortion.ipynb#X15sZmlsZQ%3D%3D?line=6'>7</a>\u001b[0m )\n\u001b[0;32m      <a href='vscode-notebook-cell:/c%3A/Users/Broda-Milian/Documents/CityLearn%20Examples/test%20variable%20distortion.ipynb#X15sZmlsZQ%3D%3D?line=7'>8</a>\u001b[0m kpis, obs, bestilons \u001b[39m=\u001b[39m eval_untargeted_dynamic_distortion_attack(agent,\n\u001b[0;32m      <a href='vscode-notebook-cell:/c%3A/Users/Broda-Milian/Documents/CityLearn%20Examples/test%20variable%20distortion.ipynb#X15sZmlsZQ%3D%3D?line=8'>9</a>\u001b[0m                                           env,\n\u001b[0;32m     <a href='vscode-notebook-cell:/c%3A/Users/Broda-Milian/Documents/CityLearn%20Examples/test%20variable%20distortion.ipynb#X15sZmlsZQ%3D%3D?line=9'>10</a>\u001b[0m                                           ART_atk\u001b[39m=\u001b[39mACG,\n\u001b[1;32m   (...)\u001b[0m\n\u001b[0;32m     <a href='vscode-notebook-cell:/c%3A/Users/Broda-Milian/Documents/CityLearn%20Examples/test%20variable%20distortion.ipynb#X15sZmlsZQ%3D%3D?line=12'>13</a>\u001b[0m                                           time_steps\u001b[39m=\u001b[39m\u001b[39m100\u001b[39m,\n\u001b[0;32m     <a href='vscode-notebook-cell:/c%3A/Users/Broda-Milian/Documents/CityLearn%20Examples/test%20variable%20distortion.ipynb#X15sZmlsZQ%3D%3D?line=13'>14</a>\u001b[0m                                           mask\u001b[39m=\u001b[39mobservation_masks[\u001b[39m'\u001b[39m\u001b[39mmask_time\u001b[39m\u001b[39m'\u001b[39m]\u001b[39m.\u001b[39mto_numpy())\n\u001b[1;32m---> <a href='vscode-notebook-cell:/c%3A/Users/Broda-Milian/Documents/CityLearn%20Examples/test%20variable%20distortion.ipynb#X15sZmlsZQ%3D%3D?line=14'>15</a>\u001b[0m \u001b[39mprint\u001b[39m(utils\u001b[39m.\u001b[39;49mdescribe_list(bestilons))\n\u001b[0;32m     <a href='vscode-notebook-cell:/c%3A/Users/Broda-Milian/Documents/CityLearn%20Examples/test%20variable%20distortion.ipynb#X15sZmlsZQ%3D%3D?line=15'>16</a>\u001b[0m display(kpis)\n",
      "File \u001b[1;32mc:\\users\\broda-milian\\documents\\citylearn examples\\modules\\KBMproject\\utilities.py:329\u001b[0m, in \u001b[0;36mdescribe_list\u001b[1;34m(lst)\u001b[0m\n\u001b[0;32m    326\u001b[0m \u001b[39mimport\u001b[39;00m \u001b[39mstatistics\u001b[39;00m\n\u001b[0;32m    328\u001b[0m \u001b[39m# Check if list is empty\u001b[39;00m\n\u001b[1;32m--> 329\u001b[0m \u001b[39mif\u001b[39;00m \u001b[39mnot\u001b[39;00m lst:\n\u001b[0;32m    330\u001b[0m     \u001b[39mreturn\u001b[39;00m \u001b[39m\"\u001b[39m\u001b[39mList is empty.\u001b[39m\u001b[39m\"\u001b[39m\n\u001b[0;32m    332\u001b[0m \u001b[39m# Calculate descriptive statistics\u001b[39;00m\n",
      "\u001b[1;31mValueError\u001b[0m: The truth value of an array with more than one element is ambiguous. Use a.any() or a.all()"
     ]
    }
   ],
   "source": [
    "ACG_parameters = dict(\n",
    "    loss_type='difference_logits_ratio', \n",
    "    batch_size=1,\n",
    "    nb_random_init=5, #5, lower values speed crafting\n",
    "    max_iter=100, #iterations per restart\n",
    "    norm='inf', #->l2 ->l1 most restrictive \n",
    ")\n",
    "kpis, obs, bestilons = eval_untargeted_dynamic_distortion_attack(agent,\n",
    "                                          env,\n",
    "                                          ART_atk=ACG,\n",
    "                                          ART_atk_kwargs=ACG_parameters,\n",
    "                                          eps_candidates=[0.03,0.04,0.05,0.06,0.07],\n",
    "                                          time_steps=100,\n",
    "                                          mask=observation_masks['mask_time'].to_numpy())\n",
    "print(pd.Series(bestilons).describe)\n",
    "display(kpis)"
   ]
  },
  {
   "cell_type": "code",
   "execution_count": 13,
   "metadata": {},
   "outputs": [
    {
     "name": "stdout",
     "output_type": "stream",
     "text": [
      "count    97.000000\n",
      "mean      0.033711\n",
      "std       0.007948\n",
      "min       0.030000\n",
      "25%       0.030000\n",
      "50%       0.030000\n",
      "75%       0.030000\n",
      "max       0.070000\n",
      "dtype: float64\n"
     ]
    },
    {
     "data": {
      "text/plain": [
       "cost_function\n",
       "annual_peak_average                      0.918482\n",
       "carbon_emissions_total                   1.091155\n",
       "cost_total                               0.967318\n",
       "daily_one_minus_load_factor_average      1.008144\n",
       "daily_peak_average                       1.164999\n",
       "electricity_consumption_total            1.096677\n",
       "monthly_one_minus_load_factor_average    0.971858\n",
       "ramping_average                          1.337805\n",
       "zero_net_energy                          1.094933\n",
       "Name: District, dtype: float64"
      ]
     },
     "metadata": {},
     "output_type": "display_data"
    }
   ],
   "source": [
    "print(pd.Series(bestilons).describe())\n",
    "display(kpis)"
   ]
  },
  {
   "cell_type": "markdown",
   "metadata": {},
   "source": [
    "The fact that the required epsilon changes between runs suggestest that a larger computation buget would find adversarial sample. The varience can be explained by the the stochasticity of the search. Literally the random restarts. Maybe more would help? Maybe with fewer iterations? Time to investigate!"
   ]
  },
  {
   "cell_type": "markdown",
   "metadata": {},
   "source": [
    "Let's try different cases where the max iterations are staill 500 (restarts*iterations)"
   ]
  },
  {
   "cell_type": "code",
   "execution_count": 14,
   "metadata": {},
   "outputs": [
    {
     "name": "stderr",
     "output_type": "stream",
     "text": [
      "100%|██████████| 100/100 [02:06<00:00,  1.27s/it]"
     ]
    },
    {
     "name": "stdout",
     "output_type": "stream",
     "text": [
      "The Adversarial success rate is: 0.99\n",
      "count    99.000000\n",
      "mean      0.032828\n",
      "std       0.008086\n",
      "min       0.030000\n",
      "25%       0.030000\n",
      "50%       0.030000\n",
      "75%       0.030000\n",
      "max       0.070000\n",
      "dtype: float64\n"
     ]
    },
    {
     "name": "stderr",
     "output_type": "stream",
     "text": [
      "\n"
     ]
    },
    {
     "data": {
      "text/plain": [
       "cost_function\n",
       "annual_peak_average                      0.918926\n",
       "carbon_emissions_total                   1.117677\n",
       "cost_total                               0.960236\n",
       "daily_one_minus_load_factor_average      1.012116\n",
       "daily_peak_average                       1.169350\n",
       "electricity_consumption_total            1.104922\n",
       "monthly_one_minus_load_factor_average    0.973528\n",
       "ramping_average                          1.389525\n",
       "zero_net_energy                          1.084991\n",
       "Name: District, dtype: float64"
      ]
     },
     "metadata": {},
     "output_type": "display_data"
    }
   ],
   "source": [
    "init = 10\n",
    "iter = int(500/init)\n",
    "ACG_parameters = dict(\n",
    "    loss_type='difference_logits_ratio', \n",
    "    batch_size=1,\n",
    "    nb_random_init=init, #5, lower values speed crafting\n",
    "    max_iter=iter, #iterations per restart\n",
    "    norm='inf', #->l2 ->l1 most restrictive \n",
    ")\n",
    "kpis, obs, bestilons = eval_untargeted_dynamic_distortion_attack(agent,\n",
    "                                          env,\n",
    "                                          ART_atk=ACG,\n",
    "                                          ART_atk_kwargs=ACG_parameters,\n",
    "                                          eps_candidates=[0.03,0.04,0.05,0.06,0.07],\n",
    "                                          time_steps=100,\n",
    "                                          mask=observation_masks['mask_time'].to_numpy())\n",
    "print(pd.Series(bestilons).describe())\n",
    "display(kpis)"
   ]
  },
  {
   "cell_type": "code",
   "execution_count": 15,
   "metadata": {},
   "outputs": [
    {
     "name": "stderr",
     "output_type": "stream",
     "text": [
      "100%|██████████| 100/100 [04:20<00:00,  2.61s/it]"
     ]
    },
    {
     "name": "stdout",
     "output_type": "stream",
     "text": [
      "The Adversarial success rate is: 0.98\n",
      "count    98.000000\n",
      "mean      0.033878\n",
      "std       0.008925\n",
      "min       0.030000\n",
      "25%       0.030000\n",
      "50%       0.030000\n",
      "75%       0.030000\n",
      "max       0.070000\n",
      "dtype: float64\n"
     ]
    },
    {
     "name": "stderr",
     "output_type": "stream",
     "text": [
      "\n"
     ]
    },
    {
     "data": {
      "text/plain": [
       "cost_function\n",
       "annual_peak_average                      0.918507\n",
       "carbon_emissions_total                   1.097707\n",
       "cost_total                               0.959581\n",
       "daily_one_minus_load_factor_average      1.008198\n",
       "daily_peak_average                       1.165009\n",
       "electricity_consumption_total            1.100311\n",
       "monthly_one_minus_load_factor_average    0.971905\n",
       "ramping_average                          1.380040\n",
       "zero_net_energy                          1.094670\n",
       "Name: District, dtype: float64"
      ]
     },
     "metadata": {},
     "output_type": "display_data"
    }
   ],
   "source": [
    "init = 3\n",
    "iter = int(500/init)\n",
    "ACG_parameters = dict(\n",
    "    loss_type='difference_logits_ratio', \n",
    "    batch_size=1,\n",
    "    nb_random_init=init, #5, lower values speed crafting\n",
    "    max_iter=iter, #iterations per restart\n",
    "    norm='inf', #->l2 ->l1 most restrictive \n",
    ")\n",
    "kpis, obs, bestilons = eval_untargeted_dynamic_distortion_attack(agent,\n",
    "                                          env,\n",
    "                                          ART_atk=ACG,\n",
    "                                          ART_atk_kwargs=ACG_parameters,\n",
    "                                          eps_candidates=[0.03,0.04,0.05,0.06,0.07],\n",
    "                                          time_steps=100,\n",
    "                                          mask=observation_masks['mask_time'].to_numpy())\n",
    "print(pd.Series(bestilons).describe())\n",
    "display(kpis)"
   ]
  },
  {
   "cell_type": "code",
   "execution_count": 21,
   "metadata": {},
   "outputs": [
    {
     "name": "stderr",
     "output_type": "stream",
     "text": [
      "100%|██████████| 100/100 [05:59<00:00,  3.60s/it]"
     ]
    },
    {
     "name": "stdout",
     "output_type": "stream",
     "text": [
      "The Adversarial success rate is: 0.97\n",
      "count    97.000000\n",
      "mean      0.034845\n",
      "std       0.009027\n",
      "min       0.030000\n",
      "25%       0.030000\n",
      "50%       0.030000\n",
      "75%       0.040000\n",
      "max       0.070000\n",
      "dtype: float64\n"
     ]
    },
    {
     "name": "stderr",
     "output_type": "stream",
     "text": [
      "\n"
     ]
    },
    {
     "data": {
      "text/plain": [
       "cost_function\n",
       "annual_peak_average                      0.918750\n",
       "carbon_emissions_total                   1.108175\n",
       "cost_total                               0.958831\n",
       "daily_one_minus_load_factor_average      1.012976\n",
       "daily_peak_average                       1.177690\n",
       "electricity_consumption_total            1.122110\n",
       "monthly_one_minus_load_factor_average    0.971922\n",
       "ramping_average                          1.351256\n",
       "zero_net_energy                          1.094854\n",
       "Name: District, dtype: float64"
      ]
     },
     "metadata": {},
     "output_type": "display_data"
    }
   ],
   "source": [
    "init = 2\n",
    "iter = int(500/init)\n",
    "ACG_parameters = dict(\n",
    "    loss_type='difference_logits_ratio', \n",
    "    batch_size=1,\n",
    "    nb_random_init=init, #5, lower values speed crafting\n",
    "    max_iter=iter, #iterations per restart\n",
    "    norm='inf', #->l2 ->l1 most restrictive \n",
    ")\n",
    "kpis, obs, bestilons = eval_untargeted_dynamic_distortion_attack(agent,\n",
    "                                          env,\n",
    "                                          ART_atk=ACG,\n",
    "                                          ART_atk_kwargs=ACG_parameters,\n",
    "                                          eps_candidates=[0.03,0.04,0.05,0.06,0.07],\n",
    "                                          time_steps=100,\n",
    "                                          mask=observation_masks['mask_time'].to_numpy())\n",
    "print(pd.Series(bestilons).describe())\n",
    "display(kpis)"
   ]
  },
  {
   "cell_type": "code",
   "execution_count": 16,
   "metadata": {},
   "outputs": [
    {
     "name": "stderr",
     "output_type": "stream",
     "text": [
      "100%|██████████| 100/100 [01:37<00:00,  1.02it/s]"
     ]
    },
    {
     "name": "stdout",
     "output_type": "stream",
     "text": [
      "The Adversarial success rate is: 0.99\n",
      "count    99.000000\n",
      "mean      0.033030\n",
      "std       0.008625\n",
      "min       0.030000\n",
      "25%       0.030000\n",
      "50%       0.030000\n",
      "75%       0.030000\n",
      "max       0.070000\n",
      "dtype: float64\n"
     ]
    },
    {
     "name": "stderr",
     "output_type": "stream",
     "text": [
      "\n"
     ]
    },
    {
     "data": {
      "text/plain": [
       "cost_function\n",
       "annual_peak_average                      0.918775\n",
       "carbon_emissions_total                   1.180119\n",
       "cost_total                               1.034073\n",
       "daily_one_minus_load_factor_average      1.032251\n",
       "daily_peak_average                       1.180140\n",
       "electricity_consumption_total            1.186189\n",
       "monthly_one_minus_load_factor_average    0.970540\n",
       "ramping_average                          1.764281\n",
       "zero_net_energy                          1.103548\n",
       "Name: District, dtype: float64"
      ]
     },
     "metadata": {},
     "output_type": "display_data"
    }
   ],
   "source": [
    "init = 20\n",
    "iter = int(500/init)\n",
    "ACG_parameters = dict(\n",
    "    loss_type='difference_logits_ratio', \n",
    "    batch_size=1,\n",
    "    nb_random_init=init, #5, lower values speed crafting\n",
    "    max_iter=iter, #iterations per restart\n",
    "    norm='inf', #->l2 ->l1 most restrictive \n",
    ")\n",
    "kpis, obs, bestilons = eval_untargeted_dynamic_distortion_attack(agent,\n",
    "                                          env,\n",
    "                                          ART_atk=ACG,\n",
    "                                          ART_atk_kwargs=ACG_parameters,\n",
    "                                          eps_candidates=[0.03,0.04,0.05,0.06,0.07],\n",
    "                                          time_steps=100,\n",
    "                                          mask=observation_masks['mask_time'].to_numpy())\n",
    "print(pd.Series(bestilons).describe())\n",
    "display(kpis)"
   ]
  },
  {
   "cell_type": "code",
   "execution_count": 17,
   "metadata": {},
   "outputs": [
    {
     "name": "stderr",
     "output_type": "stream",
     "text": [
      "100%|██████████| 100/100 [01:15<00:00,  1.32it/s]"
     ]
    },
    {
     "name": "stdout",
     "output_type": "stream",
     "text": [
      "The Adversarial success rate is: 1.0\n",
      "count    100.000000\n",
      "mean       0.032700\n",
      "std        0.008147\n",
      "min        0.030000\n",
      "25%        0.030000\n",
      "50%        0.030000\n",
      "75%        0.030000\n",
      "max        0.070000\n",
      "dtype: float64\n"
     ]
    },
    {
     "name": "stderr",
     "output_type": "stream",
     "text": [
      "\n"
     ]
    },
    {
     "data": {
      "text/plain": [
       "cost_function\n",
       "annual_peak_average                      0.919270\n",
       "carbon_emissions_total                   1.092754\n",
       "cost_total                               0.931931\n",
       "daily_one_minus_load_factor_average      1.011644\n",
       "daily_peak_average                       1.169478\n",
       "electricity_consumption_total            1.084146\n",
       "monthly_one_minus_load_factor_average    0.973208\n",
       "ramping_average                          1.336699\n",
       "zero_net_energy                          1.087400\n",
       "Name: District, dtype: float64"
      ]
     },
     "metadata": {},
     "output_type": "display_data"
    }
   ],
   "source": [
    "init = 40\n",
    "iter = int(500/init)\n",
    "ACG_parameters = dict(\n",
    "    loss_type='difference_logits_ratio', \n",
    "    batch_size=1,\n",
    "    nb_random_init=init, #5, lower values speed crafting\n",
    "    max_iter=iter, #iterations per restart\n",
    "    norm='inf', #->l2 ->l1 most restrictive \n",
    ")\n",
    "kpis, obs, bestilons = eval_untargeted_dynamic_distortion_attack(agent,\n",
    "                                          env,\n",
    "                                          ART_atk=ACG,\n",
    "                                          ART_atk_kwargs=ACG_parameters,\n",
    "                                          eps_candidates=[0.03,0.04,0.05,0.06,0.07],\n",
    "                                          time_steps=100,\n",
    "                                          mask=observation_masks['mask_time'].to_numpy())\n",
    "print(pd.Series(bestilons).describe())\n",
    "display(kpis)"
   ]
  },
  {
   "cell_type": "code",
   "execution_count": 18,
   "metadata": {},
   "outputs": [
    {
     "name": "stderr",
     "output_type": "stream",
     "text": [
      "100%|██████████| 100/100 [01:19<00:00,  1.26it/s]\n"
     ]
    },
    {
     "name": "stdout",
     "output_type": "stream",
     "text": [
      "The Adversarial success rate is: 0.99\n",
      "count    99.000000\n",
      "mean      0.032626\n",
      "std       0.007770\n",
      "min       0.030000\n",
      "25%       0.030000\n",
      "50%       0.030000\n",
      "75%       0.030000\n",
      "max       0.070000\n",
      "dtype: float64\n"
     ]
    },
    {
     "data": {
      "text/plain": [
       "cost_function\n",
       "annual_peak_average                      0.918529\n",
       "carbon_emissions_total                   1.101925\n",
       "cost_total                               0.937401\n",
       "daily_one_minus_load_factor_average      1.011931\n",
       "daily_peak_average                       1.169201\n",
       "electricity_consumption_total            1.091983\n",
       "monthly_one_minus_load_factor_average    0.973369\n",
       "ramping_average                          1.358469\n",
       "zero_net_energy                          1.085516\n",
       "Name: District, dtype: float64"
      ]
     },
     "metadata": {},
     "output_type": "display_data"
    }
   ],
   "source": [
    "init = 50\n",
    "iter = int(500/init)\n",
    "ACG_parameters = dict(\n",
    "    loss_type='difference_logits_ratio', \n",
    "    batch_size=1,\n",
    "    nb_random_init=init, #5, lower values speed crafting\n",
    "    max_iter=iter, #iterations per restart\n",
    "    norm='inf', #->l2 ->l1 most restrictive \n",
    ")\n",
    "kpis, obs, bestilons = eval_untargeted_dynamic_distortion_attack(agent,\n",
    "                                          env,\n",
    "                                          ART_atk=ACG,\n",
    "                                          ART_atk_kwargs=ACG_parameters,\n",
    "                                          eps_candidates=[0.03,0.04,0.05,0.06,0.07],\n",
    "                                          time_steps=100,\n",
    "                                          mask=observation_masks['mask_time'].to_numpy())\n",
    "print(pd.Series(bestilons).describe())\n",
    "display(kpis)"
   ]
  },
  {
   "cell_type": "code",
   "execution_count": 19,
   "metadata": {},
   "outputs": [
    {
     "name": "stderr",
     "output_type": "stream",
     "text": [
      "100%|██████████| 100/100 [01:22<00:00,  1.21it/s]"
     ]
    },
    {
     "name": "stdout",
     "output_type": "stream",
     "text": [
      "The Adversarial success rate is: 0.97\n",
      "count    97.000000\n",
      "mean      0.031753\n",
      "std       0.005592\n",
      "min       0.030000\n",
      "25%       0.030000\n",
      "50%       0.030000\n",
      "75%       0.030000\n",
      "max       0.070000\n",
      "dtype: float64\n"
     ]
    },
    {
     "name": "stderr",
     "output_type": "stream",
     "text": [
      "\n"
     ]
    },
    {
     "data": {
      "text/plain": [
       "cost_function\n",
       "annual_peak_average                      0.918520\n",
       "carbon_emissions_total                   1.082488\n",
       "cost_total                               0.940333\n",
       "daily_one_minus_load_factor_average      1.010470\n",
       "daily_peak_average                       1.165014\n",
       "electricity_consumption_total            1.073211\n",
       "monthly_one_minus_load_factor_average    0.973278\n",
       "ramping_average                          1.223642\n",
       "zero_net_energy                          1.086073\n",
       "Name: District, dtype: float64"
      ]
     },
     "metadata": {},
     "output_type": "display_data"
    }
   ],
   "source": [
    "init = 100\n",
    "iter = int(500/init)\n",
    "ACG_parameters = dict(\n",
    "    loss_type='difference_logits_ratio', \n",
    "    batch_size=1,\n",
    "    nb_random_init=init, #5, lower values speed crafting\n",
    "    max_iter=iter, #iterations per restart\n",
    "    norm='inf', #->l2 ->l1 most restrictive \n",
    ")\n",
    "kpis, obs, bestilons = eval_untargeted_dynamic_distortion_attack(agent,\n",
    "                                          env,\n",
    "                                          ART_atk=ACG,\n",
    "                                          ART_atk_kwargs=ACG_parameters,\n",
    "                                          eps_candidates=[0.03,0.04,0.05,0.06,0.07],\n",
    "                                          time_steps=100,\n",
    "                                          mask=observation_masks['mask_time'].to_numpy())\n",
    "print(pd.Series(bestilons).describe())\n",
    "display(kpis)"
   ]
  },
  {
   "cell_type": "markdown",
   "metadata": {},
   "source": [
    "##### Let's try different compute budgets/inits for more timesteps, the max variation was 3/100. We'll also test the lower bound by making the min 0.0125"
   ]
  },
  {
   "cell_type": "code",
   "execution_count": 34,
   "metadata": {},
   "outputs": [
    {
     "name": "stderr",
     "output_type": "stream",
     "text": [
      "100%|██████████| 1000/1000 [29:12<00:00,  1.75s/it]"
     ]
    },
    {
     "name": "stdout",
     "output_type": "stream",
     "text": [
      "The Adversarial success rate is: 0.99\n",
      "The average distance between optinmal and adversarial actions is: 2.702000000000002\n",
      "count    990.000000\n",
      "mean       0.022611\n",
      "std        0.013041\n",
      "min        0.012500\n",
      "25%        0.012500\n",
      "50%        0.012500\n",
      "75%        0.025000\n",
      "max        0.070000\n",
      "dtype: float64\n"
     ]
    },
    {
     "name": "stderr",
     "output_type": "stream",
     "text": [
      "\n"
     ]
    },
    {
     "ename": "AttributeError",
     "evalue": "'numpy.ndarray' object has no attribute 'value_counts'",
     "output_type": "error",
     "traceback": [
      "\u001b[1;31m---------------------------------------------------------------------------\u001b[0m",
      "\u001b[1;31mAttributeError\u001b[0m                            Traceback (most recent call last)",
      "\u001b[1;32mc:\\Users\\Broda-Milian\\Documents\\CityLearn Examples\\test variable distortion.ipynb Cell 26\u001b[0m line \u001b[0;36m1\n\u001b[0;32m     <a href='vscode-notebook-cell:/c%3A/Users/Broda-Milian/Documents/CityLearn%20Examples/test%20variable%20distortion.ipynb#Y112sZmlsZQ%3D%3D?line=9'>10</a>\u001b[0m kpis, obs, bestilons \u001b[39m=\u001b[39m eval_untargeted_dynamic_distortion_attack(agent,\n\u001b[0;32m     <a href='vscode-notebook-cell:/c%3A/Users/Broda-Milian/Documents/CityLearn%20Examples/test%20variable%20distortion.ipynb#Y112sZmlsZQ%3D%3D?line=10'>11</a>\u001b[0m                                           env,\n\u001b[0;32m     <a href='vscode-notebook-cell:/c%3A/Users/Broda-Milian/Documents/CityLearn%20Examples/test%20variable%20distortion.ipynb#Y112sZmlsZQ%3D%3D?line=11'>12</a>\u001b[0m                                           ART_atk\u001b[39m=\u001b[39mACG,\n\u001b[1;32m   (...)\u001b[0m\n\u001b[0;32m     <a href='vscode-notebook-cell:/c%3A/Users/Broda-Milian/Documents/CityLearn%20Examples/test%20variable%20distortion.ipynb#Y112sZmlsZQ%3D%3D?line=14'>15</a>\u001b[0m                                           time_steps\u001b[39m=\u001b[39m\u001b[39m1000\u001b[39m,\n\u001b[0;32m     <a href='vscode-notebook-cell:/c%3A/Users/Broda-Milian/Documents/CityLearn%20Examples/test%20variable%20distortion.ipynb#Y112sZmlsZQ%3D%3D?line=15'>16</a>\u001b[0m                                           mask\u001b[39m=\u001b[39mobservation_masks[\u001b[39m'\u001b[39m\u001b[39mmask_time\u001b[39m\u001b[39m'\u001b[39m]\u001b[39m.\u001b[39mto_numpy())\n\u001b[0;32m     <a href='vscode-notebook-cell:/c%3A/Users/Broda-Milian/Documents/CityLearn%20Examples/test%20variable%20distortion.ipynb#Y112sZmlsZQ%3D%3D?line=16'>17</a>\u001b[0m \u001b[39mprint\u001b[39m(pd\u001b[39m.\u001b[39mSeries(bestilons)\u001b[39m.\u001b[39mdescribe())\n\u001b[1;32m---> <a href='vscode-notebook-cell:/c%3A/Users/Broda-Milian/Documents/CityLearn%20Examples/test%20variable%20distortion.ipynb#Y112sZmlsZQ%3D%3D?line=17'>18</a>\u001b[0m \u001b[39mprint\u001b[39m(\u001b[39m'\u001b[39m\u001b[39mEpsilon freqencies:\u001b[39m\u001b[39m\\n\u001b[39;00m\u001b[39m'\u001b[39m, bestilons\u001b[39m.\u001b[39;49mvalue_counts())\n\u001b[0;32m     <a href='vscode-notebook-cell:/c%3A/Users/Broda-Milian/Documents/CityLearn%20Examples/test%20variable%20distortion.ipynb#Y112sZmlsZQ%3D%3D?line=18'>19</a>\u001b[0m display(kpis)\n",
      "\u001b[1;31mAttributeError\u001b[0m: 'numpy.ndarray' object has no attribute 'value_counts'"
     ]
    }
   ],
   "source": [
    "init = 20\n",
    "iter = int(500/init)\n",
    "ACG_parameters = dict(\n",
    "    loss_type='difference_logits_ratio', \n",
    "    batch_size=1,\n",
    "    nb_random_init=init, #5, lower values speed crafting\n",
    "    max_iter=iter, #iterations per restart\n",
    "    norm='inf', #->l2 ->l1 most restrictive \n",
    ")\n",
    "kpis, obs, bestilons = eval_untargeted_dynamic_distortion_attack(agent,\n",
    "                                          env,\n",
    "                                          ART_atk=ACG,\n",
    "                                          ART_atk_kwargs=ACG_parameters,\n",
    "                                          eps_candidates=[0.0125, 0.025,0.038,0.05,0.06,0.07],\n",
    "                                          time_steps=1000,\n",
    "                                          mask=observation_masks['mask_time'].to_numpy())\n",
    "bestilons = pd.Series(bestilons)\n",
    "print(bestilons.describe())\n",
    "print('Epsilon freqencies:\\n', bestilons.value_counts())\n",
    "display(kpis)"
   ]
  },
  {
   "cell_type": "code",
   "execution_count": 35,
   "metadata": {},
   "outputs": [
    {
     "name": "stdout",
     "output_type": "stream",
     "text": [
      "count    990.000000\n",
      "mean       0.022611\n",
      "std        0.013041\n",
      "min        0.012500\n",
      "25%        0.012500\n",
      "50%        0.012500\n",
      "75%        0.025000\n",
      "max        0.070000\n",
      "dtype: float64\n",
      "Epsilon freqencies:\n",
      " 0.0125    509\n",
      "0.0250    272\n",
      "0.0380    134\n",
      "0.0500     47\n",
      "0.0600     18\n",
      "0.0700     10\n",
      "dtype: int64\n"
     ]
    },
    {
     "data": {
      "text/plain": [
       "cost_function\n",
       "annual_peak_average                      0.886363\n",
       "carbon_emissions_total                   0.939280\n",
       "cost_total                               0.831279\n",
       "daily_one_minus_load_factor_average      0.934081\n",
       "daily_peak_average                       0.922418\n",
       "electricity_consumption_total            0.955215\n",
       "monthly_one_minus_load_factor_average    0.919623\n",
       "ramping_average                          1.201153\n",
       "zero_net_energy                          1.067508\n",
       "Name: District, dtype: float64"
      ]
     },
     "metadata": {},
     "output_type": "display_data"
    }
   ],
   "source": [
    "bestilons = pd.Series(bestilons)\n",
    "print(bestilons.describe())\n",
    "print('Epsilon freqencies:\\n', bestilons.value_counts())\n",
    "display(kpis)"
   ]
  },
  {
   "cell_type": "code",
   "execution_count": 36,
   "metadata": {},
   "outputs": [
    {
     "name": "stderr",
     "output_type": "stream",
     "text": [
      "100%|██████████| 1000/1000 [27:57<00:00,  1.68s/it]"
     ]
    },
    {
     "name": "stdout",
     "output_type": "stream",
     "text": [
      "The Adversarial success rate is: 0.994\n",
      "The average distance between optinmal and adversarial actions is: 2.7079999999999997\n",
      "count    994.000000\n",
      "mean       0.022437\n",
      "std        0.013054\n",
      "min        0.012500\n",
      "25%        0.012500\n",
      "50%        0.012500\n",
      "75%        0.025000\n",
      "max        0.070000\n",
      "dtype: float64\n",
      "Epsilon freqencies:\n",
      " 0.0125    519\n",
      "0.0250    273\n",
      "0.0380    125\n",
      "0.0500     48\n",
      "0.0600     19\n",
      "0.0700     10\n",
      "dtype: int64\n"
     ]
    },
    {
     "name": "stderr",
     "output_type": "stream",
     "text": [
      "\n"
     ]
    },
    {
     "data": {
      "text/plain": [
       "cost_function\n",
       "annual_peak_average                      0.940681\n",
       "carbon_emissions_total                   0.944075\n",
       "cost_total                               0.832127\n",
       "daily_one_minus_load_factor_average      0.933295\n",
       "daily_peak_average                       0.938743\n",
       "electricity_consumption_total            0.956625\n",
       "monthly_one_minus_load_factor_average    0.936396\n",
       "ramping_average                          1.235662\n",
       "zero_net_energy                          1.067573\n",
       "Name: District, dtype: float64"
      ]
     },
     "metadata": {},
     "output_type": "display_data"
    }
   ],
   "source": [
    "init = 50\n",
    "iter = int(500/init)\n",
    "ACG_parameters = dict(\n",
    "    loss_type='difference_logits_ratio', \n",
    "    batch_size=1,\n",
    "    nb_random_init=init, #5, lower values speed crafting\n",
    "    max_iter=iter, #iterations per restart\n",
    "    norm='inf', #->l2 ->l1 most restrictive \n",
    ")\n",
    "kpis, obs, bestilons = eval_untargeted_dynamic_distortion_attack(agent,\n",
    "                                          env,\n",
    "                                          ART_atk=ACG,\n",
    "                                          ART_atk_kwargs=ACG_parameters,\n",
    "                                          eps_candidates=[0.0125, 0.025,0.038,0.05,0.06,0.07],\n",
    "                                          time_steps=1000,\n",
    "                                          mask=observation_masks['mask_time'].to_numpy())\n",
    "bestilons = pd.Series(bestilons)\n",
    "print(bestilons.describe())\n",
    "print('Epsilon freqencies:\\n', bestilons.value_counts())\n",
    "display(kpis)"
   ]
  },
  {
   "cell_type": "code",
   "execution_count": 38,
   "metadata": {},
   "outputs": [
    {
     "name": "stderr",
     "output_type": "stream",
     "text": [
      "100%|██████████| 1000/1000 [26:49<00:00,  1.61s/it]"
     ]
    },
    {
     "name": "stdout",
     "output_type": "stream",
     "text": [
      "The Adversarial success rate is: 0.993\n",
      "The average distance between optinmal and adversarial actions is: 2.669999999999999\n",
      "count    993.000000\n",
      "mean       0.022403\n",
      "std        0.013048\n",
      "min        0.012500\n",
      "25%        0.012500\n",
      "50%        0.012500\n",
      "75%        0.025000\n",
      "max        0.070000\n",
      "dtype: float64\n",
      "Epsilon freqencies:\n",
      " 0.0125    518\n",
      "0.0250    273\n",
      "0.0380    132\n",
      "0.0500     41\n",
      "0.0600     15\n",
      "0.0700     14\n",
      "dtype: int64\n"
     ]
    },
    {
     "name": "stderr",
     "output_type": "stream",
     "text": [
      "\n"
     ]
    },
    {
     "data": {
      "text/plain": [
       "cost_function\n",
       "annual_peak_average                      0.940683\n",
       "carbon_emissions_total                   0.942267\n",
       "cost_total                               0.833696\n",
       "daily_one_minus_load_factor_average      0.934346\n",
       "daily_peak_average                       0.932148\n",
       "electricity_consumption_total            0.956545\n",
       "monthly_one_minus_load_factor_average    0.931696\n",
       "ramping_average                          1.246792\n",
       "zero_net_energy                          1.061553\n",
       "Name: District, dtype: float64"
      ]
     },
     "metadata": {},
     "output_type": "display_data"
    }
   ],
   "source": [
    "init = 40\n",
    "iter = int(500/init)\n",
    "ACG_parameters = dict(\n",
    "    loss_type='difference_logits_ratio', \n",
    "    batch_size=1,\n",
    "    nb_random_init=init, #5, lower values speed crafting\n",
    "    max_iter=iter, #iterations per restart\n",
    "    norm='inf', #->l2 ->l1 most restrictive \n",
    ")\n",
    "kpis, obs, bestilons = eval_untargeted_dynamic_distortion_attack(agent,\n",
    "                                          env,\n",
    "                                          ART_atk=ACG,\n",
    "                                          ART_atk_kwargs=ACG_parameters,\n",
    "                                          eps_candidates=[0.0125, 0.025,0.038,0.05,0.06,0.07],\n",
    "                                          time_steps=1000,\n",
    "                                          mask=observation_masks['mask_time'].to_numpy())\n",
    "bestilons = pd.Series(bestilons)\n",
    "print(bestilons.describe())\n",
    "print('Epsilon freqencies:\\n', bestilons.value_counts())\n",
    "display(kpis)"
   ]
  },
  {
   "cell_type": "markdown",
   "metadata": {},
   "source": [
    "Over 1000 ts we see 50/10 performed best, so we'll try that for an episode"
   ]
  },
  {
   "cell_type": "code",
   "execution_count": 39,
   "metadata": {},
   "outputs": [
    {
     "name": "stderr",
     "output_type": "stream",
     "text": [
      "100%|█████████▉| 8758/8759 [4:15:35<00:01,  1.75s/it]  \n"
     ]
    },
    {
     "name": "stdout",
     "output_type": "stream",
     "text": [
      "The Adversarial success rate is: 0.9869848156182213\n",
      "The average distance between optinmal and adversarial actions is: 3.3164744833885145\n",
      "count    8645.000000\n",
      "mean        0.023854\n",
      "std         0.014210\n",
      "min         0.012500\n",
      "25%         0.012500\n",
      "50%         0.025000\n",
      "75%         0.025000\n",
      "max         0.070000\n",
      "dtype: float64\n"
     ]
    },
    {
     "data": {
      "text/plain": [
       "cost_function\n",
       "annual_peak_average                      1.000000\n",
       "carbon_emissions_total                   0.939415\n",
       "cost_total                               0.871591\n",
       "daily_one_minus_load_factor_average      1.165190\n",
       "daily_peak_average                       1.000811\n",
       "electricity_consumption_total            0.947866\n",
       "monthly_one_minus_load_factor_average    0.992565\n",
       "ramping_average                          1.342592\n",
       "zero_net_energy                          1.098120\n",
       "Name: District, dtype: float64"
      ]
     },
     "metadata": {},
     "output_type": "display_data"
    }
   ],
   "source": [
    "init = 50\n",
    "iter = int(500/init)\n",
    "ACG_parameters = dict(\n",
    "    loss_type='difference_logits_ratio', \n",
    "    batch_size=1,\n",
    "    nb_random_init=init, #5, lower values speed crafting\n",
    "    max_iter=iter, #iterations per restart\n",
    "    norm='inf', #->l2 ->l1 most restrictive \n",
    ")\n",
    "kpis, obs, bestilons = eval_untargeted_dynamic_distortion_attack(agent,\n",
    "                                          env,\n",
    "                                          ART_atk=ACG,\n",
    "                                          ART_atk_kwargs=ACG_parameters,\n",
    "                                          eps_candidates=[0.0125, 0.025,0.038,0.05,0.06,0.07],\n",
    "                                          time_steps=None,\n",
    "                                          mask=observation_masks['mask_time'].to_numpy())\n",
    "print(pd.Series(bestilons).describe())\n",
    "display(kpis)"
   ]
  },
  {
   "cell_type": "code",
   "execution_count": 40,
   "metadata": {},
   "outputs": [
    {
     "name": "stdout",
     "output_type": "stream",
     "text": [
      "Epsilon freqencies:\n",
      " 0.0125    4236\n",
      "0.0250    2317\n",
      "0.0380    1194\n",
      "0.0500     529\n",
      "0.0600     231\n",
      "0.0700     138\n",
      "dtype: int64\n"
     ]
    }
   ],
   "source": [
    "print('Epsilon freqencies:\\n', pd.Series(bestilons).value_counts())"
   ]
  },
  {
   "cell_type": "markdown",
   "metadata": {},
   "source": [
    "##### Let's try a full episode with our best candidate from the 100 ts experiment 40/12"
   ]
  },
  {
   "cell_type": "code",
   "execution_count": 20,
   "metadata": {},
   "outputs": [
    {
     "name": "stderr",
     "output_type": "stream",
     "text": [
      "100%|█████████▉| 8758/8759 [2:04:25<00:00,  1.17it/s]  \n"
     ]
    },
    {
     "name": "stdout",
     "output_type": "stream",
     "text": [
      "The Adversarial success rate is: 0.9868706473341705\n",
      "count    8644.000000\n",
      "mean        0.033147\n",
      "std         0.007984\n",
      "min         0.030000\n",
      "25%         0.030000\n",
      "50%         0.030000\n",
      "75%         0.030000\n",
      "max         0.070000\n",
      "dtype: float64\n"
     ]
    },
    {
     "data": {
      "text/plain": [
       "cost_function\n",
       "annual_peak_average                      1.000000\n",
       "carbon_emissions_total                   0.939149\n",
       "cost_total                               0.869627\n",
       "daily_one_minus_load_factor_average      1.164950\n",
       "daily_peak_average                       0.999718\n",
       "electricity_consumption_total            0.947923\n",
       "monthly_one_minus_load_factor_average    0.985544\n",
       "ramping_average                          1.339283\n",
       "zero_net_energy                          1.097721\n",
       "Name: District, dtype: float64"
      ]
     },
     "metadata": {},
     "output_type": "display_data"
    }
   ],
   "source": [
    "init = 40\n",
    "iter = int(500/init)\n",
    "ACG_parameters = dict(\n",
    "    loss_type='difference_logits_ratio', \n",
    "    batch_size=1,\n",
    "    nb_random_init=init, #5, lower values speed crafting\n",
    "    max_iter=iter, #iterations per restart\n",
    "    norm='inf', #->l2 ->l1 most restrictive \n",
    ")\n",
    "kpis, obs, bestilons = eval_untargeted_dynamic_distortion_attack(agent,\n",
    "                                          env,\n",
    "                                          ART_atk=ACG,\n",
    "                                          ART_atk_kwargs=ACG_parameters,\n",
    "                                          eps_candidates=[0.03,0.04,0.05,0.06,0.07],\n",
    "                                          time_steps=None,\n",
    "                                          mask=observation_masks['mask_time'].to_numpy())\n",
    "print(pd.Series(bestilons).describe())\n",
    "display(kpis)"
   ]
  },
  {
   "cell_type": "markdown",
   "metadata": {},
   "source": [
    "##### with the default 5 restarts and 100 iterations, an eps of 0.05 has an ASR of 0.923 and 0.04 has an asr of 0.866 (note that epsilon is constant). This shows that the additional restarts with fewer iterations inproved the search, with ans ASR of nearly 99%. This suggests that additional diversification provided by the random restarts is more important than the intensification provided by additional iterations. \n",
    "\n",
    "perhaps the initial stepsize is too small?"
   ]
  },
  {
   "cell_type": "code",
   "execution_count": null,
   "metadata": {},
   "outputs": [
    {
     "name": "stderr",
     "output_type": "stream",
     "text": [
      "100%|█████████▉| 8758/8759 [1:25:59<00:00,  1.70it/s]  \n"
     ]
    },
    {
     "name": "stdout",
     "output_type": "stream",
     "text": [
      "The Adversarial success rate is: 0.9227080716976824\n",
      "The average distance between optinmal and adversarial actions is: [3.21931727]\n"
     ]
    },
    {
     "data": {
      "text/plain": [
       "cost_function\n",
       "annual_peak_average                      1.018688\n",
       "carbon_emissions_total                   0.930952\n",
       "cost_total                               0.867422\n",
       "daily_one_minus_load_factor_average      1.453252\n",
       "daily_peak_average                       1.000841\n",
       "electricity_consumption_total            0.941739\n",
       "monthly_one_minus_load_factor_average    0.993985\n",
       "ramping_average                          1.331808\n",
       "zero_net_energy                          1.095370\n",
       "Name: District, dtype: float64"
      ]
     },
     "metadata": {},
     "output_type": "display_data"
    }
   ],
   "source": [
    "ACG_parameters = dict(\n",
    "    loss_type='difference_logits_ratio', \n",
    "    batch_size=1,\n",
    "    eps=0.05, #default 0.3, this seems to be the smallest effective value\n",
    "    eps_step=0.015, #0.1, default ration: eps:3*eps_step\n",
    "    nb_random_init=5, #5, lower values speed crafting\n",
    "    max_iter=100, #iterations per restart\n",
    "    norm='inf', #->l2 ->l1 most restrictive \n",
    ")\n",
    "attack = utils.define_attack(agent, env, ACG, **ACG_parameters)\n",
    "kpis_5e2, adv_obs_5e2 = utils.eval_untargeted_attack_with_action_distance(agent, env, attack, \n",
    "                                                                                 time_steps=env.time_steps-1, \n",
    "                                                                                 mask=observation_masks['mask_time'].to_numpy())\n",
    "display(kpis_5e2)"
   ]
  },
  {
   "cell_type": "code",
   "execution_count": null,
   "metadata": {},
   "outputs": [
    {
     "name": "stderr",
     "output_type": "stream",
     "text": [
      "100%|█████████▉| 8758/8759 [1:37:26<00:00,  1.50it/s]  \n"
     ]
    },
    {
     "name": "stdout",
     "output_type": "stream",
     "text": [
      "The Adversarial success rate is: 0.8664231076606919\n",
      "The average distance between optinmal and adversarial actions is: [2.9740838]\n"
     ]
    },
    {
     "data": {
      "text/plain": [
       "cost_function\n",
       "annual_peak_average                      1.018688\n",
       "carbon_emissions_total                   0.921534\n",
       "cost_total                               0.854414\n",
       "daily_one_minus_load_factor_average      1.381039\n",
       "daily_peak_average                       0.975951\n",
       "electricity_consumption_total            0.931798\n",
       "monthly_one_minus_load_factor_average    0.988122\n",
       "ramping_average                          1.321135\n",
       "zero_net_energy                          1.098077\n",
       "Name: District, dtype: float64"
      ]
     },
     "metadata": {},
     "output_type": "display_data"
    }
   ],
   "source": [
    "ACG_parameters = dict(\n",
    "    loss_type='difference_logits_ratio', \n",
    "    batch_size=1,\n",
    "    eps=0.04, #default 0.3, this seems to be the smallest effective value\n",
    "    eps_step=0.012, #0.1, default ration: eps:3*eps_step\n",
    "    nb_random_init=5, #5, lower values speed crafting\n",
    "    max_iter=100, #iterations per restart\n",
    "    norm='inf', #->l2 ->l1 most restrictive \n",
    ")\n",
    "attack = utils.define_attack(agent, env, ACG, **ACG_parameters)\n",
    "kpis_4e2, adv_obs_4e2 = utils.eval_untargeted_attack_with_action_distance(agent, env, attack, \n",
    "                                                                                 time_steps=env.time_steps-1, \n",
    "                                                                                 mask=observation_masks['mask_time'].to_numpy())\n",
    "display(kpis_4e2)"
   ]
  },
  {
   "cell_type": "markdown",
   "metadata": {},
   "source": [
    "Test a wider range of epsilons to find a lower bound, other trials have shown that 0.0125 is sometimes effective"
   ]
  },
  {
   "cell_type": "code",
   "execution_count": null,
   "metadata": {},
   "outputs": [],
   "source": [
    "init = 40\n",
    "iter = int(500/init)\n",
    "ACG_parameters = dict(\n",
    "    loss_type='difference_logits_ratio', \n",
    "    batch_size=1,\n",
    "    nb_random_init=init, #5, lower values speed crafting\n",
    "    max_iter=iter, #iterations per restart\n",
    "    norm='inf', #->l2 ->l1 most restrictive \n",
    ")\n",
    "kpis, obs, bestilons = eval_untargeted_dynamic_distortion_attack(agent,\n",
    "                                          env,\n",
    "                                          ART_atk=ACG,\n",
    "                                          ART_atk_kwargs=ACG_parameters,\n",
    "                                          eps_candidates=[0.0125, 0.025,0.038,0.05,0.06,0.07],\n",
    "                                          time_steps=None, #full episode\n",
    "                                          mask=observation_masks['mask_time'].to_numpy())\n",
    "bestilons = pd.Series(bestilons)\n",
    "print(bestilons.describe())\n",
    "print(bestilons.value_counts())\n",
    "display(kpis)"
   ]
  }
 ],
 "metadata": {
  "kernelspec": {
   "display_name": "CityLearnART",
   "language": "python",
   "name": "python3"
  },
  "language_info": {
   "codemirror_mode": {
    "name": "ipython",
    "version": 3
   },
   "file_extension": ".py",
   "mimetype": "text/x-python",
   "name": "python",
   "nbconvert_exporter": "python",
   "pygments_lexer": "ipython3",
   "version": "3.10.12"
  },
  "orig_nbformat": 4
 },
 "nbformat": 4,
 "nbformat_minor": 2
}
