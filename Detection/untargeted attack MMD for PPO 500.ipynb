{
 "cells": [
  {
   "cell_type": "markdown",
   "metadata": {},
   "source": [
    "Tutorial for MMD with the TorchDrift library: https://towardsai.net/p/machine-learning/drift-detection-using-torchdrift-for-tabular-and-time-series-data\n",
    "\n",
    "more documentation on TorchDrift MMD: https://torchdrift.org/notebooks/note_on_mmd.html"
   ]
  },
  {
   "cell_type": "code",
   "execution_count": 1,
   "metadata": {},
   "outputs": [],
   "source": [
    "RED = \"\\033[91m\"\n",
    "AUTO = \"\\033[0m\""
   ]
  },
  {
   "cell_type": "code",
   "execution_count": 2,
   "metadata": {},
   "outputs": [],
   "source": [
    "import pandas as pd\n",
    "import torch\n",
    "import numpy as np\n",
    "import os\n",
    "import torchdrift.detectors as detectors\n",
    "from joblib import Parallel, delayed"
   ]
  },
  {
   "cell_type": "code",
   "execution_count": 3,
   "metadata": {},
   "outputs": [],
   "source": [
    "baseline_path = os.path.join(os.getcwd(), '..','20 bin PPO 500 results/baseline_obs.csv')\n",
    "baseline_path = os.path.normpath(baseline_path) #resolve '..'\n",
    "df_baseline_obs = pd.read_csv(baseline_path, index_col=0, dtype='float32')\n",
    "df_baseline_obs.set_index(df_baseline_obs.index.astype(int), inplace=True) #line above makes the index a float32"
   ]
  },
  {
   "cell_type": "markdown",
   "metadata": {},
   "source": [
    "##### On the (Statistical) Detection of Adversarial Examples\n",
    "\n",
    "**Two-sample hypothesis testing** — As stated before, the test we chose is appropriate to handle high dimensional inputs and small sample sizes. We compute the biased estimate of MMD using a **Gaussian kernel**, and then apply **10 000 bootstrapping iterations** to estimate the distributions. Based on this, we compute the **pvalue** and compare it to the threshold, in our experiments **0.05**. For samples of **legitimate data, the observed p-value should always be very high**, whereas for sample sets containing adversarial examples, we expect it to be low—since they are sampled from a different distribution and thus the hypothesis should be rejected. The test is more likely to detect a difference in two distributions when it considers samples of large size (i.e., the sample contains more inputs from the distribution)."
   ]
  },
  {
   "cell_type": "code",
   "execution_count": 4,
   "metadata": {},
   "outputs": [],
   "source": [
    "BOOTSTRAP = 10_000\n",
    "PVAL = 0.05\n",
    "kernel = detectors.mmd.GaussianKernel()"
   ]
  },
  {
   "cell_type": "markdown",
   "metadata": {},
   "source": [
    "Load unperturbed observations from untargeted adversarial attack"
   ]
  },
  {
   "cell_type": "code",
   "execution_count": 5,
   "metadata": {},
   "outputs": [],
   "source": [
    "df_adv_obs = pd.read_csv(os.path.normpath(os.path.join(os.getcwd(), '..','20 bin PPO 500 results/adv_obs.csv')), #navigate to another folder in parent dir\n",
    "                        index_col=0,\n",
    "                        dtype='float32')\n",
    "df_adv_obs.set_index(df_adv_obs.index.astype(int), inplace=True) #all data is loaded as float32, but the index should be an int"
   ]
  },
  {
   "cell_type": "markdown",
   "metadata": {},
   "source": [
    "Load perturbed observations from untargeted adversarial attack (100% adversarial)"
   ]
  },
  {
   "cell_type": "code",
   "execution_count": 6,
   "metadata": {},
   "outputs": [],
   "source": [
    "df_adv_perturbed_obs = pd.read_csv(os.path.normpath(os.path.join(os.getcwd(), '..','20 bin PPO 500 results/adv_perturbed_obs.csv')), #navigate to another folder in parent dir\n",
    "                        index_col=0,\n",
    "                        dtype='float32')\n",
    "df_adv_perturbed_obs.set_index(df_adv_perturbed_obs.index.astype(int), inplace=True) #all data is loaded as float32, but the index should be an int"
   ]
  },
  {
   "cell_type": "markdown",
   "metadata": {},
   "source": [
    "Here we'll get the MMD between two full distrubtions during evaluation, the observations from the environment and the same observations once perturbed by ACG"
   ]
  },
  {
   "cell_type": "code",
   "execution_count": 9,
   "metadata": {},
   "outputs": [
    {
     "name": "stdout",
     "output_type": "stream",
     "text": [
      "mmd:0.00014674663543701172, p-value:1.0\n"
     ]
    }
   ],
   "source": [
    "result = detectors.kernel_mmd(torch.from_numpy(df_adv_obs.values).to('cuda'), #clean obs from adv trace\n",
    "                                  torch.from_numpy(df_adv_perturbed_obs.values).to('cuda'), #perturbed obs from adv trace\n",
    "                                  n_perm=BOOTSTRAP,\n",
    "                                  kernel=kernel)\n",
    "print(f'mmd:{result[0]}, p-value:{result[1]}')"
   ]
  },
  {
   "cell_type": "markdown",
   "metadata": {},
   "source": [
    "MMD sees no difference between the perturbed and unperturbed distributions! The MMD is smaller between these two distributaions than between segments of the baseline ditribution would it be different if the min/max normalization is undone?"
   ]
  },
  {
   "cell_type": "code",
   "execution_count": 7,
   "metadata": {},
   "outputs": [
    {
     "name": "stdout",
     "output_type": "stream",
     "text": [
      "mmd:0.0002, p-value:0.8951999545097351\n"
     ]
    }
   ],
   "source": [
    "result = detectors.kernel_mmd(torch.from_numpy(df_baseline_obs.values).to('cuda'), #clean obs from clean trace\n",
    "                                  torch.from_numpy(df_adv_perturbed_obs.values).to('cuda'),#perturbed obs from adv trace\n",
    "                                  n_perm=BOOTSTRAP,\n",
    "                                  kernel=kernel)\n",
    "print(f'mmd:{result[0]:.4f}, p-value:{result[1]}')"
   ]
  },
  {
   "cell_type": "code",
   "execution_count": 9,
   "metadata": {},
   "outputs": [],
   "source": [
    "df_bb_obs = pd.read_csv(os.path.normpath(os.path.join(os.getcwd(), '..','20 bin PPO 500 results/bb results/bb obs.csv')), #navigate to another folder in parent dir\n",
    "                        index_col=0,\n",
    "                        dtype='float32')\n",
    "df_bb_obs.set_index(df_bb_obs.index.astype(int), inplace=True) #all data is loaded as float32, but the index should be an int"
   ]
  },
  {
   "cell_type": "markdown",
   "metadata": {},
   "source": [
    "Load perturbed observations from untargeted adversarial attack (100% adversarial)"
   ]
  },
  {
   "cell_type": "code",
   "execution_count": 10,
   "metadata": {},
   "outputs": [],
   "source": [
    "df_bb_perturbed_obs = pd.read_csv(os.path.normpath(os.path.join(os.getcwd(), '..','20 bin PPO 500 results/bb results/clean obs.csv')), #navigate to another folder in parent dir\n",
    "                        index_col=0,\n",
    "                        dtype='float32')\n",
    "df_bb_perturbed_obs.set_index(df_bb_perturbed_obs.index.astype(int), inplace=True) #all data is loaded as float32, but the index should be an int"
   ]
  },
  {
   "cell_type": "markdown",
   "metadata": {},
   "source": [
    "Strange that bb is detected when ACG is not, given that the bb norm is smaller:"
   ]
  },
  {
   "cell_type": "code",
   "execution_count": 11,
   "metadata": {},
   "outputs": [
    {
     "name": "stdout",
     "output_type": "stream",
     "text": [
      "mmd:0.0006, p-value:0.0\n"
     ]
    }
   ],
   "source": [
    "result = detectors.kernel_mmd(torch.from_numpy(df_baseline_obs.values).to('cuda'), #clean obs from clean trace\n",
    "                                  torch.from_numpy(df_bb_perturbed_obs.values).to('cuda'),#perturbed obs from adv trace\n",
    "                                  n_perm=BOOTSTRAP,\n",
    "                                  kernel=kernel)\n",
    "print(f'mmd:{result[0]:.4f}, p-value:{result[1]}')"
   ]
  },
  {
   "cell_type": "code",
   "execution_count": 12,
   "metadata": {},
   "outputs": [
    {
     "name": "stdout",
     "output_type": "stream",
     "text": [
      "mmd:0.0006, p-value:0.0\n"
     ]
    }
   ],
   "source": [
    "result = detectors.kernel_mmd(torch.from_numpy(df_bb_obs.values).to('cuda'), #clean obs from clean trace\n",
    "                                  torch.from_numpy(df_bb_perturbed_obs.values).to('cuda'),#perturbed obs from adv trace\n",
    "                                  n_perm=BOOTSTRAP,\n",
    "                                  kernel=kernel)\n",
    "print(f'mmd:{result[0]:.4f}, p-value:{result[1]}')"
   ]
  },
  {
   "cell_type": "code",
   "execution_count": 16,
   "metadata": {},
   "outputs": [],
   "source": [
    "df_rebaseline = pd.read_csv(os.path.normpath(os.path.join(os.getcwd(), '..','20 bin PPO 500 results/rebaseline obs.csv')), #navigate to another folder in parent dir\n",
    "                        #index_col=0,\n",
    "                        dtype='float32')\n",
    "df_rebaseline.set_index(df_rebaseline.index.astype(int), inplace=True) #all data is loaded as float32, but the index should be an int"
   ]
  },
  {
   "cell_type": "code",
   "execution_count": 17,
   "metadata": {},
   "outputs": [
    {
     "name": "stdout",
     "output_type": "stream",
     "text": [
      "mmd:0.0006, p-value:0.0\n"
     ]
    }
   ],
   "source": [
    "result = detectors.kernel_mmd(torch.from_numpy(df_rebaseline.values).to('cuda'), #clean obs from clean trace\n",
    "                                  torch.from_numpy(df_bb_perturbed_obs.values).to('cuda'),#perturbed obs from adv trace\n",
    "                                  n_perm=BOOTSTRAP,\n",
    "                                  kernel=kernel)\n",
    "print(f'mmd:{result[0]:.4f}, p-value:{result[1]}')"
   ]
  },
  {
   "cell_type": "markdown",
   "metadata": {},
   "source": [
    "Since the previous action is part of the state, we can see if removing the electrical_storage_soc feature changes this result"
   ]
  },
  {
   "cell_type": "code",
   "execution_count": 20,
   "metadata": {},
   "outputs": [
    {
     "data": {
      "text/plain": [
       "25"
      ]
     },
     "execution_count": 20,
     "metadata": {},
     "output_type": "execute_result"
    }
   ],
   "source": [
    "df_baseline_obs.columns.get_loc('electrical_storage_soc')"
   ]
  },
  {
   "cell_type": "code",
   "execution_count": 27,
   "metadata": {},
   "outputs": [
    {
     "name": "stdout",
     "output_type": "stream",
     "text": [
      "mmd:0.0001, p-value:1.0\n"
     ]
    }
   ],
   "source": [
    "result = detectors.kernel_mmd(torch.from_numpy(df_baseline_obs.drop(columns='electrical_storage_soc').values).to('cuda'), #clean obs from clean trace\n",
    "                                  torch.from_numpy(df_bb_perturbed_obs.drop(columns='25').values).to('cuda'),#perturbed obs from adv trace\n",
    "                                  n_perm=BOOTSTRAP,\n",
    "                                  kernel=kernel)\n",
    "print(f'mmd:{result[0]:.4f}, p-value:{result[1]}')"
   ]
  },
  {
   "cell_type": "markdown",
   "metadata": {},
   "source": [
    "Without accounting for actions, these appear to be drawn from the same ditribution. So it seems that the actions taken are what separates the two and MMD is not detecting the actual adversarial perturbations"
   ]
  },
  {
   "cell_type": "code",
   "execution_count": null,
   "metadata": {},
   "outputs": [],
   "source": []
  }
 ],
 "metadata": {
  "kernelspec": {
   "display_name": "CityLearnART",
   "language": "python",
   "name": "python3"
  },
  "language_info": {
   "codemirror_mode": {
    "name": "ipython",
    "version": 3
   },
   "file_extension": ".py",
   "mimetype": "text/x-python",
   "name": "python",
   "nbconvert_exporter": "python",
   "pygments_lexer": "ipython3",
   "version": "3.10.12"
  }
 },
 "nbformat": 4,
 "nbformat_minor": 2
}
