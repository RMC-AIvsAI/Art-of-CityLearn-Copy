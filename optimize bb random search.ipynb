{
 "cells": [
  {
   "cell_type": "code",
   "execution_count": 8,
   "metadata": {},
   "outputs": [],
   "source": [
    "AGENT_NAME = '20 bin PPO 500 results/default_PPO_citylearn_challenge_2022_phase_2_Building_6_20_bins_500.zip'\n",
    "\n",
    "from stable_baselines3 import PPO\n",
    "import numpy as np\n",
    "import KBMproject.utilities as utils"
   ]
  },
  {
   "cell_type": "code",
   "execution_count": 4,
   "metadata": {},
   "outputs": [],
   "source": [
    "SIZE = 100_000"
   ]
  },
  {
   "cell_type": "markdown",
   "metadata": {},
   "source": [
    "##### Optimize _init_sample() function by vectorizing loop\n",
    "we find that the vectorized code is roughly 10x faster than producing the same number of samples in a loop"
   ]
  },
  {
   "cell_type": "code",
   "execution_count": 3,
   "metadata": {},
   "outputs": [
    {
     "name": "stdout",
     "output_type": "stream",
     "text": [
      "290 ms ± 1.41 ms per loop (mean ± std. dev. of 7 runs, 1 loop each)\n"
     ]
    }
   ],
   "source": [
    "%%timeit\n",
    "for _ in range(SIZE):\n",
    "   out = np.random.uniform(size=(1,31))"
   ]
  },
  {
   "cell_type": "code",
   "execution_count": 4,
   "metadata": {},
   "outputs": [
    {
     "name": "stdout",
     "output_type": "stream",
     "text": [
      "23.2 ms ± 479 µs per loop (mean ± std. dev. of 7 runs, 10 loops each)\n"
     ]
    }
   ],
   "source": [
    "%%timeit\n",
    "out2 = np.random.uniform(size=(SIZE,)+(1,31))"
   ]
  },
  {
   "cell_type": "code",
   "execution_count": 2,
   "metadata": {},
   "outputs": [],
   "source": [
    "from art.estimators.classification import PyTorchClassifier as classifier\n",
    "from torch.nn import CrossEntropyLoss\n",
    "\n",
    "agent = PPO.load(path=f\"{AGENT_NAME}\")\n",
    "\n",
    "policy = classifier(\n",
    "                    model=utils.extract_actor(agent),\n",
    "                    loss=CrossEntropyLoss(), \n",
    "                    nb_classes=agent.action_space[0].n,\n",
    "                    input_shape=agent.observation_space.shape,\n",
    "                    device_type='gpu',\n",
    "                    clip_values = (agent.observation_space.low.min(),agent.observation_space.high.max())\n",
    "                    )"
   ]
  },
  {
   "cell_type": "code",
   "execution_count": 5,
   "metadata": {},
   "outputs": [
    {
     "name": "stdout",
     "output_type": "stream",
     "text": [
      "1min 35s ± 3.19 s per loop (mean ± std. dev. of 7 runs, 1 loop each)\n"
     ]
    }
   ],
   "source": [
    "%%timeit\n",
    "for _ in range(SIZE):\n",
    "   rand_obs_loop = np.random.uniform(size=(1,31)).astype('float32')\n",
    "   rand_preds_loop = np.argmax(policy.predict(rand_obs_loop), axis=1)"
   ]
  },
  {
   "cell_type": "code",
   "execution_count": 6,
   "metadata": {},
   "outputs": [
    {
     "name": "stdout",
     "output_type": "stream",
     "text": [
      "829 ms ± 3.4 ms per loop (mean ± std. dev. of 7 runs, 1 loop each)\n"
     ]
    }
   ],
   "source": [
    "%%timeit\n",
    "rand_obs_vec = np.random.uniform(size=(SIZE,)+(1,31)).astype('float32')\n",
    "rand_preds_vec = np.argmax(policy.predict(rand_obs_vec), axis=2)\n",
    "target_samples = rand_obs_vec[rand_preds_vec == np.array([10])] #starting points of the correct class\n",
    "#check if target samples is empty -> attack failed\n",
    "target_norms = np.linalg.norm(target_samples - rand_obs_vec[0], ord=2) #using an observation as a placeholder for the initial sample\n",
    "starting_point = target_samples[np.argmin(target_norms)]# find the random obs colsest to the initial sample"
   ]
  },
  {
   "cell_type": "code",
   "execution_count": 7,
   "metadata": {},
   "outputs": [],
   "source": [
    "from KBMproject.mybb import BrendelBethgeAttack as mybba"
   ]
  },
  {
   "cell_type": "code",
   "execution_count": null,
   "metadata": {},
   "outputs": [],
   "source": []
  }
 ],
 "metadata": {
  "kernelspec": {
   "display_name": "CityLearnART",
   "language": "python",
   "name": "python3"
  },
  "language_info": {
   "codemirror_mode": {
    "name": "ipython",
    "version": 3
   },
   "file_extension": ".py",
   "mimetype": "text/x-python",
   "name": "python",
   "nbconvert_exporter": "python",
   "pygments_lexer": "ipython3",
   "version": "3.10.12"
  }
 },
 "nbformat": 4,
 "nbformat_minor": 2
}
