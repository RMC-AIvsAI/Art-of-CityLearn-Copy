{
 "cells": [
  {
   "cell_type": "markdown",
   "metadata": {},
   "source": [
    "# Copy instead of modifying to preserve attack parameters"
   ]
  },
  {
   "cell_type": "code",
   "execution_count": 1,
   "metadata": {},
   "outputs": [],
   "source": [
    "AGENT_NAME = r\"Karla\\Victims\\3-26-5_PPOc_citylearn_challenge_2022_phase_2_('Building_6',)_gSDE_norm_space_SolarPenaltyReward_deep_net_256_40000.zip\"\n",
    "DATASET_NAME = 'citylearn_challenge_2022_phase_2' #only action is electrical storage\n",
    "SURROGATE_PATH = r'Karla\\3-26-5 PPOc Karla results\\proxies\\imitator best.pth'\n",
    "#RUNS = 5\n",
    "TRIAL = 'bifurcation DL loss'\n",
    "SAVE_DIR = 'Karla\\3-26-5 PPOc Karla results\\imitator (best) fgm eps vs asr' + '/'"
   ]
  },
  {
   "cell_type": "code",
   "execution_count": 2,
   "metadata": {},
   "outputs": [],
   "source": [
    "from stable_baselines3 import PPO #SAC\n",
    "\n",
    "from citylearn.data import DataSet\n",
    "\n",
    "from art.estimators.classification import PyTorchClassifier as classifier\n",
    "from art.attacks.evasion import FastGradientMethod as FGM\n",
    "\n",
    "import pandas as pd\n",
    "import numpy as np\n",
    "#import os\n",
    "import torch\n",
    "#from torch.nn import CrossEntropyLoss\n",
    "\n",
    "import KBMproject.utilities as utils\n",
    "\n",
    "from joblib import Parallel, delayed\n",
    "\n",
    "%matplotlib inline"
   ]
  },
  {
   "cell_type": "code",
   "execution_count": 3,
   "metadata": {},
   "outputs": [],
   "source": [
    "schema = DataSet.get_schema(DATASET_NAME)"
   ]
  },
  {
   "cell_type": "code",
   "execution_count": 4,
   "metadata": {},
   "outputs": [],
   "source": [
    "testilons = np.arange(0.02, 0.21, 0.01)\n",
    "RUNS = len(testilons)"
   ]
  },
  {
   "cell_type": "markdown",
   "metadata": {},
   "source": [
    "Define RL agent"
   ]
  },
  {
   "cell_type": "code",
   "execution_count": 5,
   "metadata": {},
   "outputs": [],
   "source": [
    "agents = []\n",
    "for _ in range (RUNS):\n",
    "    agents.append(PPO.load(AGENT_NAME))"
   ]
  },
  {
   "cell_type": "markdown",
   "metadata": {},
   "source": [
    "Create environments"
   ]
  },
  {
   "cell_type": "code",
   "execution_count": 6,
   "metadata": {},
   "outputs": [],
   "source": [
    "envs = []\n",
    "for _ in range (RUNS):\n",
    "    envs.append(utils.make_continuous_env(schema=schema,  \n",
    "                                seed=42))"
   ]
  },
  {
   "cell_type": "code",
   "execution_count": 7,
   "metadata": {},
   "outputs": [],
   "source": [
    "cols = utils.make_continuous_env(schema=schema,  \n",
    "                                seed=42).observation_names"
   ]
  },
  {
   "cell_type": "code",
   "execution_count": 8,
   "metadata": {},
   "outputs": [],
   "source": [
    "imitator = torch.load(SURROGATE_PATH)"
   ]
  },
  {
   "cell_type": "code",
   "execution_count": 9,
   "metadata": {},
   "outputs": [
    {
     "name": "stdout",
     "output_type": "stream",
     "text": [
      "masked features:\n"
     ]
    },
    {
     "data": {
      "text/plain": [
       "['month_cos',\n",
       " 'month_sin',\n",
       " 'day_type_cos',\n",
       " 'day_type_sin',\n",
       " 'hour_cos',\n",
       " 'hour_sin']"
      ]
     },
     "execution_count": 9,
     "metadata": {},
     "output_type": "execute_result"
    }
   ],
   "source": [
    "observation_masks = np.ones(agents[0].observation_space.shape)\n",
    "observation_masks[0:6] = 0 #mask time features\n",
    "print('masked features:')\n",
    "cols[0][0:6]"
   ]
  },
  {
   "cell_type": "code",
   "execution_count": 10,
   "metadata": {},
   "outputs": [],
   "source": [
    "kwargs = dict(norm=np.inf,\n",
    "        targeted=True, #True for toggled attack\n",
    "        )\n",
    "attacks = []\n",
    "for run in range(RUNS):\n",
    "    attacks.append(FGM(estimator=classifier(\n",
    "                                        model=utils.RegressorLinearWrapper(imitator),\n",
    "                                        #loss=CrossEntropyLoss(),\n",
    "                                        loss=utils.CWLoss(),\n",
    "                                        nb_classes=2, \n",
    "                                        input_shape=agents[run].observation_space.shape,\n",
    "                                        device_type='gpu',\n",
    "                                        clip_values = (agents[run].observation_space.low.min(),\n",
    "                                                       agents[run].observation_space.high.max()),\n",
    "                                        ),\n",
    "                        eps=testilons[run],\n",
    "                        **kwargs))"
   ]
  },
  {
   "cell_type": "code",
   "execution_count": 11,
   "metadata": {},
   "outputs": [
    {
     "name": "stdout",
     "output_type": "stream",
     "text": [
      "CPU times: total: 4min 15s\n",
      "Wall time: 15min 36s\n"
     ]
    }
   ],
   "source": [
    "%%time\n",
    "%%capture\n",
    "results = Parallel(n_jobs=RUNS, verbose=10, prefer='threads')(delayed(\n",
    "    utils.eval_bifurcation_continuous_attack)(agent, env, attack) for agent, env, attack in zip(agents, envs, attacks)) \n"
   ]
  },
  {
   "cell_type": "markdown",
   "metadata": {},
   "source": [
    "Results is a list of tupples for each run, of the format(KPIs, observations, perturbed observations, epsilons)"
   ]
  },
  {
   "cell_type": "code",
   "execution_count": 12,
   "metadata": {},
   "outputs": [],
   "source": [
    "kpis = [results[i][0] for i in range(len(results))]\n",
    "df_kpis = pd.concat(kpis, axis='columns',keys=testilons)"
   ]
  },
  {
   "cell_type": "code",
   "execution_count": 13,
   "metadata": {},
   "outputs": [],
   "source": [
    "#df_kpis[['mean', 'std', 'variance']] = df_kpis.agg(['mean','std', 'var'], axis='columns')"
   ]
  },
  {
   "cell_type": "code",
   "execution_count": 14,
   "metadata": {},
   "outputs": [
    {
     "data": {
      "text/html": [
       "<div>\n",
       "<style scoped>\n",
       "    .dataframe tbody tr th:only-of-type {\n",
       "        vertical-align: middle;\n",
       "    }\n",
       "\n",
       "    .dataframe tbody tr th {\n",
       "        vertical-align: top;\n",
       "    }\n",
       "\n",
       "    .dataframe thead th {\n",
       "        text-align: right;\n",
       "    }\n",
       "</style>\n",
       "<table border=\"1\" class=\"dataframe\">\n",
       "  <thead>\n",
       "    <tr style=\"text-align: right;\">\n",
       "      <th></th>\n",
       "      <th>0.02</th>\n",
       "      <th>0.03</th>\n",
       "      <th>0.04</th>\n",
       "      <th>0.05</th>\n",
       "      <th>0.06</th>\n",
       "      <th>0.07</th>\n",
       "      <th>0.08</th>\n",
       "      <th>0.09</th>\n",
       "      <th>0.10</th>\n",
       "      <th>0.11</th>\n",
       "      <th>0.12</th>\n",
       "      <th>0.13</th>\n",
       "      <th>0.14</th>\n",
       "      <th>0.15</th>\n",
       "      <th>0.16</th>\n",
       "      <th>0.17</th>\n",
       "      <th>0.18</th>\n",
       "      <th>0.19</th>\n",
       "      <th>0.20</th>\n",
       "    </tr>\n",
       "    <tr>\n",
       "      <th>cost_function</th>\n",
       "      <th></th>\n",
       "      <th></th>\n",
       "      <th></th>\n",
       "      <th></th>\n",
       "      <th></th>\n",
       "      <th></th>\n",
       "      <th></th>\n",
       "      <th></th>\n",
       "      <th></th>\n",
       "      <th></th>\n",
       "      <th></th>\n",
       "      <th></th>\n",
       "      <th></th>\n",
       "      <th></th>\n",
       "      <th></th>\n",
       "      <th></th>\n",
       "      <th></th>\n",
       "      <th></th>\n",
       "      <th></th>\n",
       "    </tr>\n",
       "  </thead>\n",
       "  <tbody>\n",
       "    <tr>\n",
       "      <th>annual_peak_average</th>\n",
       "      <td>1.000000</td>\n",
       "      <td>1.000000</td>\n",
       "      <td>1.000000</td>\n",
       "      <td>0.997215</td>\n",
       "      <td>0.999757</td>\n",
       "      <td>1.050238</td>\n",
       "      <td>1.109659</td>\n",
       "      <td>1.260678</td>\n",
       "      <td>1.352241</td>\n",
       "      <td>1.462686</td>\n",
       "      <td>1.542433</td>\n",
       "      <td>1.600686</td>\n",
       "      <td>1.614529</td>\n",
       "      <td>1.586269</td>\n",
       "      <td>1.561921</td>\n",
       "      <td>1.764372</td>\n",
       "      <td>1.693401</td>\n",
       "      <td>1.370627</td>\n",
       "      <td>1.742406</td>\n",
       "    </tr>\n",
       "    <tr>\n",
       "      <th>carbon_emissions_total</th>\n",
       "      <td>0.882038</td>\n",
       "      <td>0.902290</td>\n",
       "      <td>0.931238</td>\n",
       "      <td>0.965014</td>\n",
       "      <td>0.999547</td>\n",
       "      <td>1.038416</td>\n",
       "      <td>1.078726</td>\n",
       "      <td>1.121718</td>\n",
       "      <td>1.165965</td>\n",
       "      <td>1.204268</td>\n",
       "      <td>1.229361</td>\n",
       "      <td>1.251298</td>\n",
       "      <td>1.257126</td>\n",
       "      <td>1.264448</td>\n",
       "      <td>1.276643</td>\n",
       "      <td>1.273948</td>\n",
       "      <td>1.270004</td>\n",
       "      <td>1.254261</td>\n",
       "      <td>1.248684</td>\n",
       "    </tr>\n",
       "    <tr>\n",
       "      <th>cost_total</th>\n",
       "      <td>0.810960</td>\n",
       "      <td>0.825170</td>\n",
       "      <td>0.851284</td>\n",
       "      <td>0.882379</td>\n",
       "      <td>0.911959</td>\n",
       "      <td>0.947048</td>\n",
       "      <td>0.985648</td>\n",
       "      <td>1.029785</td>\n",
       "      <td>1.073293</td>\n",
       "      <td>1.114691</td>\n",
       "      <td>1.141782</td>\n",
       "      <td>1.169678</td>\n",
       "      <td>1.182209</td>\n",
       "      <td>1.194961</td>\n",
       "      <td>1.209810</td>\n",
       "      <td>1.212965</td>\n",
       "      <td>1.211386</td>\n",
       "      <td>1.202990</td>\n",
       "      <td>1.200668</td>\n",
       "    </tr>\n",
       "    <tr>\n",
       "      <th>daily_one_minus_load_factor_average</th>\n",
       "      <td>1.061536</td>\n",
       "      <td>1.029208</td>\n",
       "      <td>1.003364</td>\n",
       "      <td>0.980066</td>\n",
       "      <td>0.964076</td>\n",
       "      <td>0.956914</td>\n",
       "      <td>0.958188</td>\n",
       "      <td>0.954960</td>\n",
       "      <td>0.955599</td>\n",
       "      <td>0.958727</td>\n",
       "      <td>0.959370</td>\n",
       "      <td>0.965913</td>\n",
       "      <td>0.969696</td>\n",
       "      <td>0.964642</td>\n",
       "      <td>0.967617</td>\n",
       "      <td>0.964893</td>\n",
       "      <td>0.962587</td>\n",
       "      <td>0.962683</td>\n",
       "      <td>0.966446</td>\n",
       "    </tr>\n",
       "    <tr>\n",
       "      <th>daily_peak_average</th>\n",
       "      <td>0.903235</td>\n",
       "      <td>0.938765</td>\n",
       "      <td>0.977427</td>\n",
       "      <td>1.053270</td>\n",
       "      <td>1.140195</td>\n",
       "      <td>1.220307</td>\n",
       "      <td>1.329314</td>\n",
       "      <td>1.484333</td>\n",
       "      <td>1.572980</td>\n",
       "      <td>1.673540</td>\n",
       "      <td>1.724495</td>\n",
       "      <td>1.766011</td>\n",
       "      <td>1.803628</td>\n",
       "      <td>1.813571</td>\n",
       "      <td>1.866762</td>\n",
       "      <td>1.880800</td>\n",
       "      <td>1.862136</td>\n",
       "      <td>1.846016</td>\n",
       "      <td>1.842676</td>\n",
       "    </tr>\n",
       "    <tr>\n",
       "      <th>electricity_consumption_total</th>\n",
       "      <td>0.897960</td>\n",
       "      <td>0.918668</td>\n",
       "      <td>0.947190</td>\n",
       "      <td>0.980092</td>\n",
       "      <td>1.014572</td>\n",
       "      <td>1.054111</td>\n",
       "      <td>1.095386</td>\n",
       "      <td>1.141434</td>\n",
       "      <td>1.188514</td>\n",
       "      <td>1.228142</td>\n",
       "      <td>1.256545</td>\n",
       "      <td>1.280309</td>\n",
       "      <td>1.284555</td>\n",
       "      <td>1.293222</td>\n",
       "      <td>1.304399</td>\n",
       "      <td>1.303809</td>\n",
       "      <td>1.293198</td>\n",
       "      <td>1.279800</td>\n",
       "      <td>1.275349</td>\n",
       "    </tr>\n",
       "    <tr>\n",
       "      <th>monthly_one_minus_load_factor_average</th>\n",
       "      <td>0.977648</td>\n",
       "      <td>0.975253</td>\n",
       "      <td>0.974548</td>\n",
       "      <td>0.979579</td>\n",
       "      <td>0.990508</td>\n",
       "      <td>0.993186</td>\n",
       "      <td>0.989386</td>\n",
       "      <td>1.004483</td>\n",
       "      <td>1.007434</td>\n",
       "      <td>1.010288</td>\n",
       "      <td>1.011452</td>\n",
       "      <td>1.016434</td>\n",
       "      <td>1.011499</td>\n",
       "      <td>1.015744</td>\n",
       "      <td>1.014686</td>\n",
       "      <td>1.016583</td>\n",
       "      <td>1.015634</td>\n",
       "      <td>1.017332</td>\n",
       "      <td>1.019428</td>\n",
       "    </tr>\n",
       "    <tr>\n",
       "      <th>ramping_average</th>\n",
       "      <td>1.220700</td>\n",
       "      <td>1.352045</td>\n",
       "      <td>1.511753</td>\n",
       "      <td>1.698680</td>\n",
       "      <td>1.887306</td>\n",
       "      <td>2.093086</td>\n",
       "      <td>2.348936</td>\n",
       "      <td>2.592592</td>\n",
       "      <td>2.843029</td>\n",
       "      <td>3.081927</td>\n",
       "      <td>3.245274</td>\n",
       "      <td>3.380171</td>\n",
       "      <td>3.394743</td>\n",
       "      <td>3.459415</td>\n",
       "      <td>3.531228</td>\n",
       "      <td>3.561658</td>\n",
       "      <td>3.501871</td>\n",
       "      <td>3.384042</td>\n",
       "      <td>3.349783</td>\n",
       "    </tr>\n",
       "    <tr>\n",
       "      <th>zero_net_energy</th>\n",
       "      <td>1.090012</td>\n",
       "      <td>1.095016</td>\n",
       "      <td>1.099767</td>\n",
       "      <td>1.104293</td>\n",
       "      <td>1.112879</td>\n",
       "      <td>1.120840</td>\n",
       "      <td>1.130864</td>\n",
       "      <td>1.138868</td>\n",
       "      <td>1.149627</td>\n",
       "      <td>1.161160</td>\n",
       "      <td>1.166742</td>\n",
       "      <td>1.170355</td>\n",
       "      <td>1.170070</td>\n",
       "      <td>1.170837</td>\n",
       "      <td>1.172102</td>\n",
       "      <td>1.173172</td>\n",
       "      <td>1.170801</td>\n",
       "      <td>1.164278</td>\n",
       "      <td>1.162565</td>\n",
       "    </tr>\n",
       "  </tbody>\n",
       "</table>\n",
       "</div>"
      ],
      "text/plain": [
       "                                           0.02      0.03      0.04      0.05  \\\n",
       "cost_function                                                                   \n",
       "annual_peak_average                    1.000000  1.000000  1.000000  0.997215   \n",
       "carbon_emissions_total                 0.882038  0.902290  0.931238  0.965014   \n",
       "cost_total                             0.810960  0.825170  0.851284  0.882379   \n",
       "daily_one_minus_load_factor_average    1.061536  1.029208  1.003364  0.980066   \n",
       "daily_peak_average                     0.903235  0.938765  0.977427  1.053270   \n",
       "electricity_consumption_total          0.897960  0.918668  0.947190  0.980092   \n",
       "monthly_one_minus_load_factor_average  0.977648  0.975253  0.974548  0.979579   \n",
       "ramping_average                        1.220700  1.352045  1.511753  1.698680   \n",
       "zero_net_energy                        1.090012  1.095016  1.099767  1.104293   \n",
       "\n",
       "                                           0.06      0.07      0.08      0.09  \\\n",
       "cost_function                                                                   \n",
       "annual_peak_average                    0.999757  1.050238  1.109659  1.260678   \n",
       "carbon_emissions_total                 0.999547  1.038416  1.078726  1.121718   \n",
       "cost_total                             0.911959  0.947048  0.985648  1.029785   \n",
       "daily_one_minus_load_factor_average    0.964076  0.956914  0.958188  0.954960   \n",
       "daily_peak_average                     1.140195  1.220307  1.329314  1.484333   \n",
       "electricity_consumption_total          1.014572  1.054111  1.095386  1.141434   \n",
       "monthly_one_minus_load_factor_average  0.990508  0.993186  0.989386  1.004483   \n",
       "ramping_average                        1.887306  2.093086  2.348936  2.592592   \n",
       "zero_net_energy                        1.112879  1.120840  1.130864  1.138868   \n",
       "\n",
       "                                           0.10      0.11      0.12      0.13  \\\n",
       "cost_function                                                                   \n",
       "annual_peak_average                    1.352241  1.462686  1.542433  1.600686   \n",
       "carbon_emissions_total                 1.165965  1.204268  1.229361  1.251298   \n",
       "cost_total                             1.073293  1.114691  1.141782  1.169678   \n",
       "daily_one_minus_load_factor_average    0.955599  0.958727  0.959370  0.965913   \n",
       "daily_peak_average                     1.572980  1.673540  1.724495  1.766011   \n",
       "electricity_consumption_total          1.188514  1.228142  1.256545  1.280309   \n",
       "monthly_one_minus_load_factor_average  1.007434  1.010288  1.011452  1.016434   \n",
       "ramping_average                        2.843029  3.081927  3.245274  3.380171   \n",
       "zero_net_energy                        1.149627  1.161160  1.166742  1.170355   \n",
       "\n",
       "                                           0.14      0.15      0.16      0.17  \\\n",
       "cost_function                                                                   \n",
       "annual_peak_average                    1.614529  1.586269  1.561921  1.764372   \n",
       "carbon_emissions_total                 1.257126  1.264448  1.276643  1.273948   \n",
       "cost_total                             1.182209  1.194961  1.209810  1.212965   \n",
       "daily_one_minus_load_factor_average    0.969696  0.964642  0.967617  0.964893   \n",
       "daily_peak_average                     1.803628  1.813571  1.866762  1.880800   \n",
       "electricity_consumption_total          1.284555  1.293222  1.304399  1.303809   \n",
       "monthly_one_minus_load_factor_average  1.011499  1.015744  1.014686  1.016583   \n",
       "ramping_average                        3.394743  3.459415  3.531228  3.561658   \n",
       "zero_net_energy                        1.170070  1.170837  1.172102  1.173172   \n",
       "\n",
       "                                           0.18      0.19      0.20  \n",
       "cost_function                                                        \n",
       "annual_peak_average                    1.693401  1.370627  1.742406  \n",
       "carbon_emissions_total                 1.270004  1.254261  1.248684  \n",
       "cost_total                             1.211386  1.202990  1.200668  \n",
       "daily_one_minus_load_factor_average    0.962587  0.962683  0.966446  \n",
       "daily_peak_average                     1.862136  1.846016  1.842676  \n",
       "electricity_consumption_total          1.293198  1.279800  1.275349  \n",
       "monthly_one_minus_load_factor_average  1.015634  1.017332  1.019428  \n",
       "ramping_average                        3.501871  3.384042  3.349783  \n",
       "zero_net_energy                        1.170801  1.164278  1.162565  "
      ]
     },
     "execution_count": 14,
     "metadata": {},
     "output_type": "execute_result"
    }
   ],
   "source": [
    "df_kpis"
   ]
  },
  {
   "cell_type": "code",
   "execution_count": 15,
   "metadata": {},
   "outputs": [],
   "source": [
    "df_kpis.to_csv(SAVE_DIR + f'{RUNS} run KPIs {TRIAL}.csv')"
   ]
  },
  {
   "cell_type": "markdown",
   "metadata": {},
   "source": [
    "FGSM using the same parameters in a whitebox attack has an ASR of 0.7.\n",
    "\n",
    "Increasing the number of restarts decreases the ASR, likely because of differences between the surrogate and vicitm models"
   ]
  },
  {
   "cell_type": "code",
   "execution_count": 16,
   "metadata": {},
   "outputs": [],
   "source": [
    "MAEs = [results[i][5] for i in range(len(results))]\n",
    "#print(f'For 5 runs of the random attack \\nthe mean ASR is: {np.mean(ASRs):.3f}\\nthe STD is: {np.std(ASRs):.3f}')"
   ]
  },
  {
   "cell_type": "code",
   "execution_count": 17,
   "metadata": {},
   "outputs": [
    {
     "data": {
      "text/plain": [
       "[0.04534847837548398,\n",
       " 0.06773820070319965,\n",
       " 0.08850850168803141,\n",
       " 0.10780556067672953,\n",
       " 0.12704726447320336,\n",
       " 0.14594184929056928,\n",
       " 0.1635075048886419,\n",
       " 0.18232714059432084,\n",
       " 0.20163446731839038,\n",
       " 0.22093515971341435,\n",
       " 0.23880122292870623,\n",
       " 0.25701897922328704,\n",
       " 0.2741419063377685,\n",
       " 0.2895434977107566,\n",
       " 0.3048166364809057,\n",
       " 0.3196210664951008,\n",
       " 0.33210452756512615,\n",
       " 0.34628245902396265,\n",
       " 0.35668057169608297]"
      ]
     },
     "execution_count": 17,
     "metadata": {},
     "output_type": "execute_result"
    }
   ],
   "source": [
    "MAEs"
   ]
  },
  {
   "cell_type": "code",
   "execution_count": 18,
   "metadata": {},
   "outputs": [],
   "source": [
    "pd.DataFrame({'MAEs':MAEs}, index=testilons,).to_csv(SAVE_DIR + f'MAE for varied epsilons {TRIAL}.csv')"
   ]
  },
  {
   "cell_type": "code",
   "execution_count": 19,
   "metadata": {},
   "outputs": [],
   "source": [
    "for run in range(RUNS):\n",
    "        pd.DataFrame(results[run][1],columns=cols,).to_csv(SAVE_DIR+f'run {run} obs {TRIAL}.csv',)\n",
    "        pd.DataFrame(results[run][2],columns=cols,).to_csv(SAVE_DIR+f'run {run} adv obs {TRIAL}.csv')"
   ]
  }
 ],
 "metadata": {
  "kernelspec": {
   "display_name": "CityLearnART",
   "language": "python",
   "name": "python3"
  },
  "language_info": {
   "codemirror_mode": {
    "name": "ipython",
    "version": 3
   },
   "file_extension": ".py",
   "mimetype": "text/x-python",
   "name": "python",
   "nbconvert_exporter": "python",
   "pygments_lexer": "ipython3",
   "version": "3.10.12"
  }
 },
 "nbformat": 4,
 "nbformat_minor": 2
}
