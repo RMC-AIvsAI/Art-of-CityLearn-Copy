{
 "cells": [
  {
   "cell_type": "code",
   "execution_count": 1,
   "metadata": {},
   "outputs": [],
   "source": [
    "AGENT_NAME = 'default_PPO_citylearn_challenge_2022_phase_2_Building_6_20_bins_0.zip'\n",
    "ADVERSARY_PATH = 'Models\\Adversary\\default_adversary_PPO_citylearn_challenge_2022_phase_2_Building_6_20_bins_default_rwd_480'\n",
    "DATASET_NAME = 'citylearn_challenge_2022_phase_2' #only action is electrical storage\n",
    "ATTACK = 'Optimal myBB uninit'\n",
    "INIT_DATA = 'baseline_obs'"
   ]
  },
  {
   "cell_type": "code",
   "execution_count": 2,
   "metadata": {},
   "outputs": [],
   "source": [
    "from stable_baselines3 import PPO\n",
    "\n",
    "from citylearn.data import DataSet\n",
    "\n",
    "from KBMproject.mybb import BrendelBethgeAttack as BBA\n",
    "\n",
    "import pandas as pd\n",
    "import numpy as np\n",
    "import os\n",
    "\n",
    "import KBMproject.utilities as utils\n",
    "\n",
    "%matplotlib inline"
   ]
  },
  {
   "cell_type": "markdown",
   "metadata": {},
   "source": [
    "Define RL agent"
   ]
  },
  {
   "cell_type": "code",
   "execution_count": 3,
   "metadata": {},
   "outputs": [
    {
     "name": "stdout",
     "output_type": "stream",
     "text": [
      "Model loaded from storage\n"
     ]
    }
   ],
   "source": [
    "agent = PPO.load(path=f\"{AGENT_NAME}\")\n",
    "print('Model loaded from storage')"
   ]
  },
  {
   "cell_type": "code",
   "execution_count": 4,
   "metadata": {},
   "outputs": [
    {
     "name": "stdout",
     "output_type": "stream",
     "text": [
      "Model loaded from storage\n"
     ]
    }
   ],
   "source": [
    "adv_path = os.path.join(os.getcwd(), '..',ADVERSARY_PATH) #get adversary from parent directory\n",
    "adv_path = os.path.normpath(adv_path) #resolve '..'\n",
    "adversary = PPO.load(path=adv_path)\n",
    "print('Model loaded from storage')"
   ]
  },
  {
   "cell_type": "code",
   "execution_count": 5,
   "metadata": {},
   "outputs": [],
   "source": [
    "env = utils.make_discrete_env(schema=DataSet.get_schema(DATASET_NAME),  \n",
    "                        action_bins=agent.action_space[0].n,\n",
    "                        seed=42)"
   ]
  },
  {
   "cell_type": "code",
   "execution_count": 6,
   "metadata": {},
   "outputs": [],
   "source": [
    "bline_kpi, bline_obs, bline_a = utils.eval_agent(env, agent)"
   ]
  },
  {
   "cell_type": "code",
   "execution_count": 7,
   "metadata": {},
   "outputs": [
    {
     "data": {
      "text/plain": [
       "cost_function\n",
       "annual_peak_average                      1.000000\n",
       "carbon_emissions_total                   0.880266\n",
       "cost_total                               0.810095\n",
       "daily_one_minus_load_factor_average      1.049464\n",
       "daily_peak_average                       0.901093\n",
       "electricity_consumption_total            0.892304\n",
       "monthly_one_minus_load_factor_average    0.985224\n",
       "ramping_average                          1.106025\n",
       "zero_net_energy                          1.095000\n",
       "Name: District, dtype: float64"
      ]
     },
     "metadata": {},
     "output_type": "display_data"
    }
   ],
   "source": [
    "display(bline_kpi)"
   ]
  },
  {
   "cell_type": "code",
   "execution_count": 15,
   "metadata": {},
   "outputs": [],
   "source": [
    "np.savetxt(f\"baseline obs.csv\", bline_obs, delimiter=\",\")\n",
    "np.savetxt(f\"baseline actions.csv\", bline_a, delimiter=\",\")"
   ]
  },
  {
   "cell_type": "code",
   "execution_count": 8,
   "metadata": {},
   "outputs": [],
   "source": [
    "observation_masks = pd.Series(1, index=env.observation_names[0]).to_frame(name='all')\n",
    "observation_masks['mask_time'] = observation_masks['all']\n",
    "observation_masks['mask_time'][observation_masks.index.str.contains('month|day|hour')] = 0"
   ]
  },
  {
   "cell_type": "code",
   "execution_count": 9,
   "metadata": {},
   "outputs": [
    {
     "name": "stderr",
     "output_type": "stream",
     "text": [
      "  1%|          | 55/8759 [04:07<8:54:37,  3.69s/it, ASR=1] WARNING:KBMproject.mybb:Failed to draw a random image that is adversarial, attack failed.\n",
      "  2%|▏         | 169/8759 [11:31<11:24:31,  4.78s/it, ASR=0.994]WARNING:KBMproject.mybb:Failed to draw a random image that is adversarial, attack failed.\n",
      "  4%|▍         | 380/8759 [26:00<10:09:14,  4.36s/it, ASR=0.995]WARNING:KBMproject.mybb:Failed to draw a random image that is adversarial, attack failed.\n",
      "  5%|▍         | 397/8759 [27:10<8:59:01,  3.87s/it, ASR=0.992] WARNING:KBMproject.mybb:Failed to draw a random image that is adversarial, attack failed.\n",
      "  7%|▋         | 587/8759 [39:47<8:18:45,  3.66s/it, ASR=0.993] WARNING:KBMproject.mybb:Failed to draw a random image that is adversarial, attack failed.\n",
      " 11%|█         | 925/8759 [1:02:21<8:46:14,  4.03s/it, ASR=0.995] WARNING:KBMproject.mybb:Failed to draw a random image that is adversarial, attack failed.\n",
      " 11%|█         | 951/8759 [1:04:11<8:23:10,  3.87s/it, ASR=0.994] WARNING:KBMproject.mybb:Failed to draw a random image that is adversarial, attack failed.\n",
      " 11%|█         | 963/8759 [1:05:00<7:52:53,  3.64s/it, ASR=0.993] WARNING:KBMproject.mybb:Failed to draw a random image that is adversarial, attack failed.\n",
      " 11%|█         | 972/8759 [1:05:38<8:02:13,  3.72s/it, ASR=0.992] WARNING:KBMproject.mybb:Failed to draw a random image that is adversarial, attack failed.\n",
      " 13%|█▎        | 1174/8759 [1:19:18<9:18:56,  4.42s/it, ASR=0.992] WARNING:KBMproject.mybb:Failed to draw a random image that is adversarial, attack failed.\n",
      " 18%|█▊        | 1536/8759 [1:43:39<7:17:46,  3.64s/it, ASR=0.993] WARNING:KBMproject.mybb:Failed to draw a random image that is adversarial, attack failed.\n",
      " 19%|█▉        | 1663/8759 [1:51:57<7:24:00,  3.75s/it, ASR=0.993] WARNING:KBMproject.mybb:Failed to draw a random image that is adversarial, attack failed.\n",
      " 20%|██        | 1791/8759 [2:00:19<6:59:29,  3.61s/it, ASR=0.993] WARNING:KBMproject.mybb:Failed to draw a random image that is adversarial, attack failed.\n",
      " 21%|██        | 1835/8759 [2:03:14<6:59:55,  3.64s/it, ASR=0.993] WARNING:KBMproject.mybb:Failed to draw a random image that is adversarial, attack failed.\n",
      " 24%|██▍       | 2145/8759 [2:24:02<7:29:42,  4.08s/it, ASR=0.993] WARNING:KBMproject.mybb:Failed to draw a random image that is adversarial, attack failed.\n",
      " 25%|██▍       | 2167/8759 [2:25:33<7:15:55,  3.97s/it, ASR=0.993] WARNING:KBMproject.mybb:Failed to draw a random image that is adversarial, attack failed.\n",
      " 25%|██▌       | 2215/8759 [2:29:00<7:03:52,  3.89s/it, ASR=0.993] WARNING:KBMproject.mybb:Failed to draw a random image that is adversarial, attack failed.\n",
      " 25%|██▌       | 2216/8759 [2:29:09<9:46:21,  5.38s/it, ASR=0.992]WARNING:KBMproject.mybb:Failed to draw a random image that is adversarial, attack failed.\n",
      " 26%|██▌       | 2240/8759 [2:31:00<8:14:35,  4.55s/it, ASR=0.992] WARNING:KBMproject.mybb:Failed to draw a random image that is adversarial, attack failed.\n",
      " 27%|██▋       | 2382/8759 [2:40:01<6:15:39,  3.53s/it, ASR=0.992] WARNING:KBMproject.mybb:Failed to draw a random image that is adversarial, attack failed.\n",
      " 28%|██▊       | 2418/8759 [2:42:32<7:16:53,  4.13s/it, ASR=0.992]WARNING:KBMproject.mybb:Failed to draw a random image that is adversarial, attack failed.\n",
      " 28%|██▊       | 2421/8759 [2:42:48<8:10:26,  4.64s/it, ASR=0.991]WARNING:KBMproject.mybb:Failed to draw a random image that is adversarial, attack failed.\n",
      " 31%|███       | 2674/8759 [2:59:23<7:13:29,  4.27s/it, ASR=0.992] WARNING:KBMproject.mybb:Failed to draw a random image that is adversarial, attack failed.\n",
      " 32%|███▏      | 2832/8759 [3:09:31<6:08:29,  3.73s/it, ASR=0.992]WARNING:KBMproject.mybb:Failed to draw a random image that is adversarial, attack failed.\n",
      " 34%|███▍      | 2985/8759 [3:19:39<6:18:19,  3.93s/it, ASR=0.992]WARNING:KBMproject.mybb:Failed to draw a random image that is adversarial, attack failed.\n",
      " 35%|███▍      | 3045/8759 [3:23:42<6:22:56,  4.02s/it, ASR=0.992]WARNING:KBMproject.mybb:Failed to draw a random image that is adversarial, attack failed.\n",
      " 37%|███▋      | 3246/8759 [3:36:32<5:57:55,  3.90s/it, ASR=0.992]WARNING:KBMproject.mybb:Failed to draw a random image that is adversarial, attack failed.\n",
      " 38%|███▊      | 3344/8759 [3:42:45<5:25:13,  3.60s/it, ASR=0.992]WARNING:KBMproject.mybb:Failed to draw a random image that is adversarial, attack failed.\n",
      " 40%|███▉      | 3478/8759 [3:51:17<5:19:35,  3.63s/it, ASR=0.992]WARNING:KBMproject.mybb:Failed to draw a random image that is adversarial, attack failed.\n",
      " 56%|█████▌    | 4897/8759 [5:22:25<3:50:33,  3.58s/it, ASR=0.994]WARNING:KBMproject.mybb:Failed to draw a random image that is adversarial, attack failed.\n",
      " 57%|█████▋    | 5006/8759 [5:29:24<4:14:48,  4.07s/it, ASR=0.994]WARNING:KBMproject.mybb:Failed to draw a random image that is adversarial, attack failed.\n",
      " 58%|█████▊    | 5082/8759 [5:34:44<4:35:09,  4.49s/it, ASR=0.994]WARNING:KBMproject.mybb:Failed to draw a random image that is adversarial, attack failed.\n",
      " 67%|██████▋   | 5829/8759 [6:22:04<2:52:52,  3.54s/it, ASR=0.995]WARNING:KBMproject.mybb:Failed to draw a random image that is adversarial, attack failed.\n",
      " 67%|██████▋   | 5840/8759 [6:22:56<3:12:54,  3.97s/it, ASR=0.994]WARNING:KBMproject.mybb:Failed to draw a random image that is adversarial, attack failed.\n",
      " 72%|███████▏  | 6333/8759 [6:54:13<2:49:58,  4.20s/it, ASR=0.995]WARNING:KBMproject.mybb:Failed to draw a random image that is adversarial, attack failed.\n",
      " 73%|███████▎  | 6368/8759 [6:56:34<2:42:31,  4.08s/it, ASR=0.995]WARNING:KBMproject.mybb:Failed to draw a random image that is adversarial, attack failed.\n",
      " 80%|████████  | 7044/8759 [7:40:08<1:49:44,  3.84s/it, ASR=0.995]WARNING:KBMproject.mybb:Failed to draw a random image that is adversarial, attack failed.\n",
      " 81%|████████▏ | 7123/8759 [7:45:22<1:46:23,  3.90s/it, ASR=0.995]WARNING:KBMproject.mybb:Failed to draw a random image that is adversarial, attack failed.\n",
      " 87%|████████▋ | 7662/8759 [8:19:45<1:05:36,  3.59s/it, ASR=0.995]WARNING:KBMproject.mybb:Failed to draw a random image that is adversarial, attack failed.\n",
      " 89%|████████▊ | 7752/8759 [8:25:53<1:07:11,  4.00s/it, ASR=0.995]WARNING:KBMproject.mybb:Failed to draw a random image that is adversarial, attack failed.\n",
      " 89%|████████▊ | 7759/8759 [8:26:26<1:05:40,  3.94s/it, ASR=0.995]WARNING:KBMproject.mybb:Failed to draw a random image that is adversarial, attack failed.\n",
      " 89%|████████▉ | 7815/8759 [8:30:10<1:00:22,  3.84s/it, ASR=0.995]WARNING:KBMproject.mybb:Failed to draw a random image that is adversarial, attack failed.\n",
      " 92%|█████████▏| 8046/8759 [8:45:24<44:25,  3.74s/it, ASR=0.995]  WARNING:KBMproject.mybb:Failed to draw a random image that is adversarial, attack failed.\n",
      " 93%|█████████▎| 8131/8759 [8:51:03<39:13,  3.75s/it, ASR=0.995]  WARNING:KBMproject.mybb:Failed to draw a random image that is adversarial, attack failed.\n",
      " 95%|█████████▌| 8322/8759 [9:03:34<31:12,  4.28s/it, ASR=0.995]WARNING:KBMproject.mybb:Failed to draw a random image that is adversarial, attack failed.\n",
      " 96%|█████████▋| 8437/8759 [9:11:19<20:39,  3.85s/it, ASR=0.995]WARNING:KBMproject.mybb:Failed to draw a random image that is adversarial, attack failed.\n",
      " 97%|█████████▋| 8523/8759 [9:16:54<15:14,  3.88s/it, ASR=0.995]WARNING:KBMproject.mybb:Failed to draw a random image that is adversarial, attack failed.\n",
      " 99%|█████████▉| 8659/8759 [9:25:54<06:57,  4.17s/it, ASR=0.995]WARNING:KBMproject.mybb:Failed to draw a random image that is adversarial, attack failed.\n",
      " 99%|█████████▉| 8700/8759 [9:28:36<03:51,  3.93s/it, ASR=0.994]WARNING:KBMproject.mybb:Failed to draw a random image that is adversarial, attack failed.\n",
      "100%|██████████| 8759/8759 [9:32:34<00:00,  3.92s/it, ASR=0.994]\n"
     ]
    },
    {
     "name": "stdout",
     "output_type": "stream",
     "text": [
      "CPU times: total: 9h 31min 59s\n",
      "Wall time: 9h 32min 35s\n"
     ]
    }
   ],
   "source": [
    "%%time\n",
    "import logging\n",
    "logging.basicConfig(level=logging.WARN)\n",
    "kwargs = dict(norm=np.inf,\n",
    "        targeted=True, #default false\n",
    "        overshoot= 1.1,\n",
    "        steps=1000,\n",
    "        lr=1e-3,\n",
    "        lr_decay=0.5,\n",
    "        lr_num_decay=20,\n",
    "        momentum=0.8,\n",
    "        binary_search_steps=10,\n",
    "        init_size=1_000_000, #default 100, finds sample matching the target class through iterative random search\n",
    "        batch_size=1000, \n",
    "        )\n",
    "kpi, obs, adv_obs, actions, targets, asr = utils.eval_targeted_attack(agent, adversary, \n",
    "                                                                        env=env, \n",
    "                                                                        ART_atk=utils.define_attack(agent, BBA, **kwargs),\n",
    "                                                                        mask=observation_masks['mask_time'].to_numpy(),\n",
    "                                                                        time_steps=None,\n",
    "                                                                        )"
   ]
  },
  {
   "cell_type": "code",
   "execution_count": 10,
   "metadata": {},
   "outputs": [
    {
     "data": {
      "text/plain": [
       "cost_function\n",
       "annual_peak_average                       1.814631\n",
       "carbon_emissions_total                    3.215463\n",
       "cost_total                                2.946462\n",
       "daily_one_minus_load_factor_average       0.961078\n",
       "daily_peak_average                        2.951621\n",
       "electricity_consumption_total             3.258326\n",
       "monthly_one_minus_load_factor_average     1.003112\n",
       "ramping_average                          17.333199\n",
       "zero_net_energy                           1.724915\n",
       "Name: District, dtype: float64"
      ]
     },
     "metadata": {},
     "output_type": "display_data"
    }
   ],
   "source": [
    "display(kpi)"
   ]
  },
  {
   "cell_type": "code",
   "execution_count": 11,
   "metadata": {},
   "outputs": [],
   "source": [
    "np.savetxt(f\"{ATTACK} targets.csv\", targets, delimiter=\",\")\n",
    "np.savetxt(f\"{ATTACK} actions.csv\", actions, delimiter=\",\")\n",
    "np.savetxt(f\"{ATTACK} adv obs.csv\", adv_obs, delimiter=\",\")\n",
    "np.savetxt(f\"{ATTACK} obs.csv\", obs, delimiter=\",\")"
   ]
  },
  {
   "cell_type": "code",
   "execution_count": 12,
   "metadata": {},
   "outputs": [],
   "source": [
    "df_kpis= pd.concat([bline_kpi, kpi], axis='columns')"
   ]
  },
  {
   "cell_type": "code",
   "execution_count": 13,
   "metadata": {},
   "outputs": [
    {
     "data": {
      "text/plain": [
       "<matplotlib.legend.Legend at 0x261c34fa5c0>"
      ]
     },
     "execution_count": 13,
     "metadata": {},
     "output_type": "execute_result"
    },
    {
     "data": {
      "image/png": "[encoded data removed]",
      "text/plain": [
       "<Figure size 640x480 with 1 Axes>"
      ]
     },
     "metadata": {},
     "output_type": "display_data"
    }
   ],
   "source": [
    "df_kpis.plot.barh(xlim=0.7).legend(bbox_to_anchor=(1.0, 1.05))"
   ]
  },
  {
   "cell_type": "code",
   "execution_count": 14,
   "metadata": {},
   "outputs": [],
   "source": [
    "df_kpis.to_csv('KPIs.csv')"
   ]
  },
  {
   "cell_type": "code",
   "execution_count": null,
   "metadata": {},
   "outputs": [],
   "source": []
  }
 ],
 "metadata": {
  "kernelspec": {
   "display_name": "CityLearnART",
   "language": "python",
   "name": "python3"
  },
  "language_info": {
   "codemirror_mode": {
    "name": "ipython",
    "version": 3
   },
   "file_extension": ".py",
   "mimetype": "text/x-python",
   "name": "python",
   "nbconvert_exporter": "python",
   "pygments_lexer": "ipython3",
   "version": "3.10.12"
  },
  "orig_nbformat": 4
 },
 "nbformat": 4,
 "nbformat_minor": 2
}
