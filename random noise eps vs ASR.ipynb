{
 "cells": [
  {
   "cell_type": "markdown",
   "metadata": {},
   "source": [
    "# Copy instead of modifying to preserve attack parameters"
   ]
  },
  {
   "cell_type": "code",
   "execution_count": 14,
   "metadata": {},
   "outputs": [],
   "source": [
    "AGENT_NAME = 'Models\\ATLA\\PPO agent 100 alts over 1000+200 2-3-21.zip'\n",
    "DATASET_NAME = 'citylearn_challenge_2022_phase_2' #only action is electrical storage\n",
    "#RUNS = 5\n",
    "TRIAL = 1\n",
    "SAVE_DIR = r'PPO agent 100 alts over 1000+200 2-3-21 results\\random noise eps vs ASR results' + '/'"
   ]
  },
  {
   "cell_type": "code",
   "execution_count": 2,
   "metadata": {},
   "outputs": [],
   "source": [
    "from stable_baselines3 import PPO\n",
    "\n",
    "from citylearn.data import DataSet\n",
    "\n",
    "import pandas as pd\n",
    "import numpy as np\n",
    "\n",
    "\n",
    "import KBMproject.utilities as utils\n",
    "\n",
    "from joblib import Parallel, delayed\n",
    "\n",
    "%matplotlib inline"
   ]
  },
  {
   "cell_type": "code",
   "execution_count": 3,
   "metadata": {},
   "outputs": [],
   "source": [
    "schema = DataSet.get_schema(DATASET_NAME)"
   ]
  },
  {
   "cell_type": "code",
   "execution_count": 4,
   "metadata": {},
   "outputs": [],
   "source": [
    "testilons = np.arange(0.02, 0.21, 0.01)\n",
    "RUNS = len(testilons)"
   ]
  },
  {
   "cell_type": "markdown",
   "metadata": {},
   "source": [
    "Define RL agent"
   ]
  },
  {
   "cell_type": "code",
   "execution_count": 5,
   "metadata": {},
   "outputs": [],
   "source": [
    "agents = []\n",
    "for _ in range (RUNS):\n",
    "    agents.append(PPO.load(AGENT_NAME))"
   ]
  },
  {
   "cell_type": "markdown",
   "metadata": {},
   "source": [
    "Create environments"
   ]
  },
  {
   "cell_type": "code",
   "execution_count": 6,
   "metadata": {},
   "outputs": [],
   "source": [
    "envs = []\n",
    "for _ in range (RUNS):\n",
    "    envs.append(utils.make_discrete_env(schema=schema,  \n",
    "                            action_bins=agents[0].action_space[0].n,\n",
    "                            seed=42))"
   ]
  },
  {
   "cell_type": "code",
   "execution_count": 7,
   "metadata": {},
   "outputs": [],
   "source": [
    "cols = utils.make_discrete_env(schema=schema,  \n",
    "                            action_bins=agents[0].action_space[0].n,\n",
    "                            seed=42).observation_names"
   ]
  },
  {
   "cell_type": "code",
   "execution_count": 8,
   "metadata": {},
   "outputs": [
    {
     "name": "stdout",
     "output_type": "stream",
     "text": [
      "masked features:\n"
     ]
    },
    {
     "data": {
      "text/plain": [
       "['month_cos',\n",
       " 'month_sin',\n",
       " 'day_type_cos',\n",
       " 'day_type_sin',\n",
       " 'hour_cos',\n",
       " 'hour_sin']"
      ]
     },
     "execution_count": 8,
     "metadata": {},
     "output_type": "execute_result"
    }
   ],
   "source": [
    "observation_masks = np.ones(agents[0].observation_space.shape)\n",
    "observation_masks[0:6] = 0 #mask time features\n",
    "print('masked features:')\n",
    "cols[0][0:6]"
   ]
  },
  {
   "cell_type": "code",
   "execution_count": 9,
   "metadata": {},
   "outputs": [
    {
     "name": "stdout",
     "output_type": "stream",
     "text": [
      "CPU times: total: 2min 32s\n",
      "Wall time: 11min 22s\n"
     ]
    }
   ],
   "source": [
    "%%time\n",
    "%%capture\n",
    "results = Parallel(n_jobs=RUNS, verbose=10, prefer='threads')(delayed(\n",
    "    utils.eval_rand_attack)(agent, env, eps) for agent, env, eps in zip(agents, envs, testilons)) \n"
   ]
  },
  {
   "cell_type": "markdown",
   "metadata": {},
   "source": [
    "Results is a list of tupples for each run, of the format(KPIs, observations, perturbed observations, epsilons)"
   ]
  },
  {
   "cell_type": "code",
   "execution_count": 10,
   "metadata": {},
   "outputs": [],
   "source": [
    "kpis = [results[i][0] for i in range(len(results))]\n",
    "df_kpis = pd.concat(kpis, axis='columns',keys=testilons)"
   ]
  },
  {
   "cell_type": "code",
   "execution_count": 11,
   "metadata": {},
   "outputs": [],
   "source": [
    "#df_kpis[['mean', 'std', 'variance']] = df_kpis.agg(['mean','std', 'var'], axis='columns')"
   ]
  },
  {
   "cell_type": "code",
   "execution_count": 12,
   "metadata": {},
   "outputs": [
    {
     "data": {
      "text/html": [
       "<div>\n",
       "<style scoped>\n",
       "    .dataframe tbody tr th:only-of-type {\n",
       "        vertical-align: middle;\n",
       "    }\n",
       "\n",
       "    .dataframe tbody tr th {\n",
       "        vertical-align: top;\n",
       "    }\n",
       "\n",
       "    .dataframe thead th {\n",
       "        text-align: right;\n",
       "    }\n",
       "</style>\n",
       "<table border=\"1\" class=\"dataframe\">\n",
       "  <thead>\n",
       "    <tr style=\"text-align: right;\">\n",
       "      <th></th>\n",
       "      <th>0.02</th>\n",
       "      <th>0.03</th>\n",
       "      <th>0.04</th>\n",
       "      <th>0.05</th>\n",
       "      <th>0.06</th>\n",
       "      <th>0.07</th>\n",
       "      <th>0.08</th>\n",
       "      <th>0.09</th>\n",
       "      <th>0.10</th>\n",
       "      <th>0.11</th>\n",
       "      <th>0.12</th>\n",
       "      <th>0.13</th>\n",
       "      <th>0.14</th>\n",
       "      <th>0.15</th>\n",
       "      <th>0.16</th>\n",
       "      <th>0.17</th>\n",
       "      <th>0.18</th>\n",
       "      <th>0.19</th>\n",
       "      <th>0.20</th>\n",
       "    </tr>\n",
       "    <tr>\n",
       "      <th>cost_function</th>\n",
       "      <th></th>\n",
       "      <th></th>\n",
       "      <th></th>\n",
       "      <th></th>\n",
       "      <th></th>\n",
       "      <th></th>\n",
       "      <th></th>\n",
       "      <th></th>\n",
       "      <th></th>\n",
       "      <th></th>\n",
       "      <th></th>\n",
       "      <th></th>\n",
       "      <th></th>\n",
       "      <th></th>\n",
       "      <th></th>\n",
       "      <th></th>\n",
       "      <th></th>\n",
       "      <th></th>\n",
       "      <th></th>\n",
       "    </tr>\n",
       "  </thead>\n",
       "  <tbody>\n",
       "    <tr>\n",
       "      <th>annual_peak_average</th>\n",
       "      <td>1.042875</td>\n",
       "      <td>1.042875</td>\n",
       "      <td>1.042875</td>\n",
       "      <td>1.042875</td>\n",
       "      <td>1.042875</td>\n",
       "      <td>1.042875</td>\n",
       "      <td>1.042875</td>\n",
       "      <td>1.042875</td>\n",
       "      <td>1.042875</td>\n",
       "      <td>1.042875</td>\n",
       "      <td>1.042875</td>\n",
       "      <td>0.938806</td>\n",
       "      <td>1.042875</td>\n",
       "      <td>0.932270</td>\n",
       "      <td>1.042875</td>\n",
       "      <td>1.042875</td>\n",
       "      <td>1.009986</td>\n",
       "      <td>1.009986</td>\n",
       "      <td>1.300127</td>\n",
       "    </tr>\n",
       "    <tr>\n",
       "      <th>carbon_emissions_total</th>\n",
       "      <td>0.893533</td>\n",
       "      <td>0.892528</td>\n",
       "      <td>0.894098</td>\n",
       "      <td>0.892676</td>\n",
       "      <td>0.893362</td>\n",
       "      <td>0.892589</td>\n",
       "      <td>0.893780</td>\n",
       "      <td>0.892408</td>\n",
       "      <td>0.893138</td>\n",
       "      <td>0.892371</td>\n",
       "      <td>0.894980</td>\n",
       "      <td>0.893062</td>\n",
       "      <td>0.892748</td>\n",
       "      <td>0.893269</td>\n",
       "      <td>0.892154</td>\n",
       "      <td>0.893455</td>\n",
       "      <td>0.894547</td>\n",
       "      <td>0.893679</td>\n",
       "      <td>0.894411</td>\n",
       "    </tr>\n",
       "    <tr>\n",
       "      <th>cost_total</th>\n",
       "      <td>0.803288</td>\n",
       "      <td>0.801791</td>\n",
       "      <td>0.803739</td>\n",
       "      <td>0.800628</td>\n",
       "      <td>0.803135</td>\n",
       "      <td>0.801149</td>\n",
       "      <td>0.802031</td>\n",
       "      <td>0.800832</td>\n",
       "      <td>0.801877</td>\n",
       "      <td>0.800729</td>\n",
       "      <td>0.802775</td>\n",
       "      <td>0.801351</td>\n",
       "      <td>0.801052</td>\n",
       "      <td>0.799831</td>\n",
       "      <td>0.798256</td>\n",
       "      <td>0.800065</td>\n",
       "      <td>0.800635</td>\n",
       "      <td>0.798445</td>\n",
       "      <td>0.800797</td>\n",
       "    </tr>\n",
       "    <tr>\n",
       "      <th>daily_one_minus_load_factor_average</th>\n",
       "      <td>1.028845</td>\n",
       "      <td>1.029023</td>\n",
       "      <td>1.031406</td>\n",
       "      <td>1.033628</td>\n",
       "      <td>1.026790</td>\n",
       "      <td>1.031051</td>\n",
       "      <td>1.029084</td>\n",
       "      <td>1.036343</td>\n",
       "      <td>1.027288</td>\n",
       "      <td>1.021681</td>\n",
       "      <td>1.020444</td>\n",
       "      <td>1.029489</td>\n",
       "      <td>1.026867</td>\n",
       "      <td>1.116876</td>\n",
       "      <td>1.022912</td>\n",
       "      <td>1.024533</td>\n",
       "      <td>1.028018</td>\n",
       "      <td>1.115700</td>\n",
       "      <td>1.023970</td>\n",
       "    </tr>\n",
       "    <tr>\n",
       "      <th>daily_peak_average</th>\n",
       "      <td>0.917629</td>\n",
       "      <td>0.919160</td>\n",
       "      <td>0.925961</td>\n",
       "      <td>0.918449</td>\n",
       "      <td>0.923137</td>\n",
       "      <td>0.921833</td>\n",
       "      <td>0.924508</td>\n",
       "      <td>0.918737</td>\n",
       "      <td>0.918348</td>\n",
       "      <td>0.921210</td>\n",
       "      <td>0.928157</td>\n",
       "      <td>0.920760</td>\n",
       "      <td>0.928104</td>\n",
       "      <td>0.920908</td>\n",
       "      <td>0.920697</td>\n",
       "      <td>0.919241</td>\n",
       "      <td>0.913960</td>\n",
       "      <td>0.917974</td>\n",
       "      <td>0.926489</td>\n",
       "    </tr>\n",
       "    <tr>\n",
       "      <th>electricity_consumption_total</th>\n",
       "      <td>0.907258</td>\n",
       "      <td>0.906459</td>\n",
       "      <td>0.907733</td>\n",
       "      <td>0.906908</td>\n",
       "      <td>0.907476</td>\n",
       "      <td>0.906905</td>\n",
       "      <td>0.908127</td>\n",
       "      <td>0.907011</td>\n",
       "      <td>0.907283</td>\n",
       "      <td>0.907172</td>\n",
       "      <td>0.909493</td>\n",
       "      <td>0.908078</td>\n",
       "      <td>0.907546</td>\n",
       "      <td>0.908559</td>\n",
       "      <td>0.906957</td>\n",
       "      <td>0.908527</td>\n",
       "      <td>0.909869</td>\n",
       "      <td>0.909016</td>\n",
       "      <td>0.909949</td>\n",
       "    </tr>\n",
       "    <tr>\n",
       "      <th>monthly_one_minus_load_factor_average</th>\n",
       "      <td>0.987542</td>\n",
       "      <td>0.987721</td>\n",
       "      <td>0.987294</td>\n",
       "      <td>0.981711</td>\n",
       "      <td>0.980945</td>\n",
       "      <td>0.986775</td>\n",
       "      <td>0.989473</td>\n",
       "      <td>0.982958</td>\n",
       "      <td>0.978747</td>\n",
       "      <td>0.982595</td>\n",
       "      <td>0.985580</td>\n",
       "      <td>0.983017</td>\n",
       "      <td>0.984916</td>\n",
       "      <td>0.984601</td>\n",
       "      <td>0.986055</td>\n",
       "      <td>0.984599</td>\n",
       "      <td>0.976182</td>\n",
       "      <td>0.983781</td>\n",
       "      <td>0.990219</td>\n",
       "    </tr>\n",
       "    <tr>\n",
       "      <th>ramping_average</th>\n",
       "      <td>1.113565</td>\n",
       "      <td>1.115423</td>\n",
       "      <td>1.116467</td>\n",
       "      <td>1.115488</td>\n",
       "      <td>1.116296</td>\n",
       "      <td>1.114102</td>\n",
       "      <td>1.119726</td>\n",
       "      <td>1.113795</td>\n",
       "      <td>1.114810</td>\n",
       "      <td>1.108789</td>\n",
       "      <td>1.122712</td>\n",
       "      <td>1.119892</td>\n",
       "      <td>1.121215</td>\n",
       "      <td>1.120157</td>\n",
       "      <td>1.116672</td>\n",
       "      <td>1.116370</td>\n",
       "      <td>1.119659</td>\n",
       "      <td>1.107117</td>\n",
       "      <td>1.124055</td>\n",
       "    </tr>\n",
       "    <tr>\n",
       "      <th>zero_net_energy</th>\n",
       "      <td>1.102841</td>\n",
       "      <td>1.102860</td>\n",
       "      <td>1.102881</td>\n",
       "      <td>1.103127</td>\n",
       "      <td>1.103135</td>\n",
       "      <td>1.103533</td>\n",
       "      <td>1.103556</td>\n",
       "      <td>1.103956</td>\n",
       "      <td>1.103459</td>\n",
       "      <td>1.103846</td>\n",
       "      <td>1.104469</td>\n",
       "      <td>1.104825</td>\n",
       "      <td>1.104607</td>\n",
       "      <td>1.104742</td>\n",
       "      <td>1.105609</td>\n",
       "      <td>1.104847</td>\n",
       "      <td>1.105017</td>\n",
       "      <td>1.105664</td>\n",
       "      <td>1.105373</td>\n",
       "    </tr>\n",
       "  </tbody>\n",
       "</table>\n",
       "</div>"
      ],
      "text/plain": [
       "                                           0.02      0.03      0.04      0.05  \\\n",
       "cost_function                                                                   \n",
       "annual_peak_average                    1.042875  1.042875  1.042875  1.042875   \n",
       "carbon_emissions_total                 0.893533  0.892528  0.894098  0.892676   \n",
       "cost_total                             0.803288  0.801791  0.803739  0.800628   \n",
       "daily_one_minus_load_factor_average    1.028845  1.029023  1.031406  1.033628   \n",
       "daily_peak_average                     0.917629  0.919160  0.925961  0.918449   \n",
       "electricity_consumption_total          0.907258  0.906459  0.907733  0.906908   \n",
       "monthly_one_minus_load_factor_average  0.987542  0.987721  0.987294  0.981711   \n",
       "ramping_average                        1.113565  1.115423  1.116467  1.115488   \n",
       "zero_net_energy                        1.102841  1.102860  1.102881  1.103127   \n",
       "\n",
       "                                           0.06      0.07      0.08      0.09  \\\n",
       "cost_function                                                                   \n",
       "annual_peak_average                    1.042875  1.042875  1.042875  1.042875   \n",
       "carbon_emissions_total                 0.893362  0.892589  0.893780  0.892408   \n",
       "cost_total                             0.803135  0.801149  0.802031  0.800832   \n",
       "daily_one_minus_load_factor_average    1.026790  1.031051  1.029084  1.036343   \n",
       "daily_peak_average                     0.923137  0.921833  0.924508  0.918737   \n",
       "electricity_consumption_total          0.907476  0.906905  0.908127  0.907011   \n",
       "monthly_one_minus_load_factor_average  0.980945  0.986775  0.989473  0.982958   \n",
       "ramping_average                        1.116296  1.114102  1.119726  1.113795   \n",
       "zero_net_energy                        1.103135  1.103533  1.103556  1.103956   \n",
       "\n",
       "                                           0.10      0.11      0.12      0.13  \\\n",
       "cost_function                                                                   \n",
       "annual_peak_average                    1.042875  1.042875  1.042875  0.938806   \n",
       "carbon_emissions_total                 0.893138  0.892371  0.894980  0.893062   \n",
       "cost_total                             0.801877  0.800729  0.802775  0.801351   \n",
       "daily_one_minus_load_factor_average    1.027288  1.021681  1.020444  1.029489   \n",
       "daily_peak_average                     0.918348  0.921210  0.928157  0.920760   \n",
       "electricity_consumption_total          0.907283  0.907172  0.909493  0.908078   \n",
       "monthly_one_minus_load_factor_average  0.978747  0.982595  0.985580  0.983017   \n",
       "ramping_average                        1.114810  1.108789  1.122712  1.119892   \n",
       "zero_net_energy                        1.103459  1.103846  1.104469  1.104825   \n",
       "\n",
       "                                           0.14      0.15      0.16      0.17  \\\n",
       "cost_function                                                                   \n",
       "annual_peak_average                    1.042875  0.932270  1.042875  1.042875   \n",
       "carbon_emissions_total                 0.892748  0.893269  0.892154  0.893455   \n",
       "cost_total                             0.801052  0.799831  0.798256  0.800065   \n",
       "daily_one_minus_load_factor_average    1.026867  1.116876  1.022912  1.024533   \n",
       "daily_peak_average                     0.928104  0.920908  0.920697  0.919241   \n",
       "electricity_consumption_total          0.907546  0.908559  0.906957  0.908527   \n",
       "monthly_one_minus_load_factor_average  0.984916  0.984601  0.986055  0.984599   \n",
       "ramping_average                        1.121215  1.120157  1.116672  1.116370   \n",
       "zero_net_energy                        1.104607  1.104742  1.105609  1.104847   \n",
       "\n",
       "                                           0.18      0.19      0.20  \n",
       "cost_function                                                        \n",
       "annual_peak_average                    1.009986  1.009986  1.300127  \n",
       "carbon_emissions_total                 0.894547  0.893679  0.894411  \n",
       "cost_total                             0.800635  0.798445  0.800797  \n",
       "daily_one_minus_load_factor_average    1.028018  1.115700  1.023970  \n",
       "daily_peak_average                     0.913960  0.917974  0.926489  \n",
       "electricity_consumption_total          0.909869  0.909016  0.909949  \n",
       "monthly_one_minus_load_factor_average  0.976182  0.983781  0.990219  \n",
       "ramping_average                        1.119659  1.107117  1.124055  \n",
       "zero_net_energy                        1.105017  1.105664  1.105373  "
      ]
     },
     "execution_count": 12,
     "metadata": {},
     "output_type": "execute_result"
    }
   ],
   "source": [
    "df_kpis"
   ]
  },
  {
   "cell_type": "code",
   "execution_count": 15,
   "metadata": {},
   "outputs": [],
   "source": [
    "df_kpis.to_csv(SAVE_DIR + f'{RUNS} run KPIs {TRIAL}.csv')"
   ]
  },
  {
   "cell_type": "markdown",
   "metadata": {},
   "source": [
    "FGSM using the same parameters in a whitebox attack has an ASR of 0.7.\n",
    "\n",
    "Increasing the number of restarts decreases the ASR, likely because of differences between the surrogate and vicitm models"
   ]
  },
  {
   "cell_type": "code",
   "execution_count": 16,
   "metadata": {},
   "outputs": [],
   "source": [
    "ASRs = [results[i][3] for i in range(len(results))]\n",
    "#print(f'For 5 runs of the random attack \\nthe mean ASR is: {np.mean(ASRs):.3f}\\nthe STD is: {np.std(ASRs):.3f}')"
   ]
  },
  {
   "cell_type": "code",
   "execution_count": 17,
   "metadata": {},
   "outputs": [
    {
     "data": {
      "text/plain": [
       "[0.06244292237442922,\n",
       " 0.0930365296803653,\n",
       " 0.12351598173515982,\n",
       " 0.1519406392694064,\n",
       " 0.18538812785388128,\n",
       " 0.20319634703196346,\n",
       " 0.22442922374429225,\n",
       " 0.24942922374429224,\n",
       " 0.26860730593607307,\n",
       " 0.2787671232876712,\n",
       " 0.3057077625570776,\n",
       " 0.3232876712328767,\n",
       " 0.3329908675799087,\n",
       " 0.35182648401826483,\n",
       " 0.37123287671232874,\n",
       " 0.37431506849315066,\n",
       " 0.39794520547945206,\n",
       " 0.4046803652968037,\n",
       " 0.42077625570776256]"
      ]
     },
     "execution_count": 17,
     "metadata": {},
     "output_type": "execute_result"
    }
   ],
   "source": [
    "ASRs"
   ]
  },
  {
   "cell_type": "code",
   "execution_count": 18,
   "metadata": {},
   "outputs": [],
   "source": [
    "pd.DataFrame({'ASRs':ASRs}, index=testilons,).to_csv(SAVE_DIR + f'ASR for varied epsilons {TRIAL}.csv')"
   ]
  },
  {
   "cell_type": "code",
   "execution_count": 19,
   "metadata": {},
   "outputs": [
    {
     "ename": "ValueError",
     "evalue": "Shape of passed values is (8759, 1), indices imply (8759, 31)",
     "output_type": "error",
     "traceback": [
      "\u001b[1;31m---------------------------------------------------------------------------\u001b[0m",
      "\u001b[1;31mValueError\u001b[0m                                Traceback (most recent call last)",
      "Cell \u001b[1;32mIn[19], line 3\u001b[0m\n\u001b[0;32m      1\u001b[0m \u001b[38;5;28;01mfor\u001b[39;00m run \u001b[38;5;129;01min\u001b[39;00m \u001b[38;5;28mrange\u001b[39m(RUNS):\n\u001b[0;32m      2\u001b[0m         pd\u001b[38;5;241m.\u001b[39mDataFrame(results[run][\u001b[38;5;241m1\u001b[39m],columns\u001b[38;5;241m=\u001b[39mcols,)\u001b[38;5;241m.\u001b[39mto_csv(SAVE_DIR\u001b[38;5;241m+\u001b[39m\u001b[38;5;124mf\u001b[39m\u001b[38;5;124m'\u001b[39m\u001b[38;5;124mrun \u001b[39m\u001b[38;5;132;01m{\u001b[39;00mrun\u001b[38;5;132;01m}\u001b[39;00m\u001b[38;5;124m obs \u001b[39m\u001b[38;5;132;01m{\u001b[39;00mTRIAL\u001b[38;5;132;01m}\u001b[39;00m\u001b[38;5;124m.csv\u001b[39m\u001b[38;5;124m'\u001b[39m,)\n\u001b[1;32m----> 3\u001b[0m         \u001b[43mpd\u001b[49m\u001b[38;5;241;43m.\u001b[39;49m\u001b[43mDataFrame\u001b[49m\u001b[43m(\u001b[49m\u001b[43mresults\u001b[49m\u001b[43m[\u001b[49m\u001b[43mrun\u001b[49m\u001b[43m]\u001b[49m\u001b[43m[\u001b[49m\u001b[38;5;241;43m2\u001b[39;49m\u001b[43m]\u001b[49m\u001b[43m,\u001b[49m\u001b[43mcolumns\u001b[49m\u001b[38;5;241;43m=\u001b[39;49m\u001b[43mcols\u001b[49m\u001b[43m,\u001b[49m\u001b[43m)\u001b[49m\u001b[38;5;241m.\u001b[39mto_csv(SAVE_DIR\u001b[38;5;241m+\u001b[39m\u001b[38;5;124mf\u001b[39m\u001b[38;5;124m'\u001b[39m\u001b[38;5;124mrun \u001b[39m\u001b[38;5;132;01m{\u001b[39;00mrun\u001b[38;5;132;01m}\u001b[39;00m\u001b[38;5;124m adv obs \u001b[39m\u001b[38;5;132;01m{\u001b[39;00mTRIAL\u001b[38;5;132;01m}\u001b[39;00m\u001b[38;5;124m.csv\u001b[39m\u001b[38;5;124m'\u001b[39m)\n",
      "File \u001b[1;32mc:\\Users\\kbrod\\anaconda3\\envs\\CityLearnART\\lib\\site-packages\\pandas\\core\\frame.py:672\u001b[0m, in \u001b[0;36mDataFrame.__init__\u001b[1;34m(self, data, index, columns, dtype, copy)\u001b[0m\n\u001b[0;32m    662\u001b[0m         mgr \u001b[38;5;241m=\u001b[39m dict_to_mgr(\n\u001b[0;32m    663\u001b[0m             \u001b[38;5;66;03m# error: Item \"ndarray\" of \"Union[ndarray, Series, Index]\" has no\u001b[39;00m\n\u001b[0;32m    664\u001b[0m             \u001b[38;5;66;03m# attribute \"name\"\u001b[39;00m\n\u001b[1;32m   (...)\u001b[0m\n\u001b[0;32m    669\u001b[0m             typ\u001b[38;5;241m=\u001b[39mmanager,\n\u001b[0;32m    670\u001b[0m         )\n\u001b[0;32m    671\u001b[0m     \u001b[38;5;28;01melse\u001b[39;00m:\n\u001b[1;32m--> 672\u001b[0m         mgr \u001b[38;5;241m=\u001b[39m \u001b[43mndarray_to_mgr\u001b[49m\u001b[43m(\u001b[49m\n\u001b[0;32m    673\u001b[0m \u001b[43m            \u001b[49m\u001b[43mdata\u001b[49m\u001b[43m,\u001b[49m\n\u001b[0;32m    674\u001b[0m \u001b[43m            \u001b[49m\u001b[43mindex\u001b[49m\u001b[43m,\u001b[49m\n\u001b[0;32m    675\u001b[0m \u001b[43m            \u001b[49m\u001b[43mcolumns\u001b[49m\u001b[43m,\u001b[49m\n\u001b[0;32m    676\u001b[0m \u001b[43m            \u001b[49m\u001b[43mdtype\u001b[49m\u001b[38;5;241;43m=\u001b[39;49m\u001b[43mdtype\u001b[49m\u001b[43m,\u001b[49m\n\u001b[0;32m    677\u001b[0m \u001b[43m            \u001b[49m\u001b[43mcopy\u001b[49m\u001b[38;5;241;43m=\u001b[39;49m\u001b[43mcopy\u001b[49m\u001b[43m,\u001b[49m\n\u001b[0;32m    678\u001b[0m \u001b[43m            \u001b[49m\u001b[43mtyp\u001b[49m\u001b[38;5;241;43m=\u001b[39;49m\u001b[43mmanager\u001b[49m\u001b[43m,\u001b[49m\n\u001b[0;32m    679\u001b[0m \u001b[43m        \u001b[49m\u001b[43m)\u001b[49m\n\u001b[0;32m    681\u001b[0m \u001b[38;5;66;03m# For data is list-like, or Iterable (will consume into list)\u001b[39;00m\n\u001b[0;32m    682\u001b[0m \u001b[38;5;28;01melif\u001b[39;00m is_list_like(data):\n",
      "File \u001b[1;32mc:\\Users\\kbrod\\anaconda3\\envs\\CityLearnART\\lib\\site-packages\\pandas\\core\\internals\\construction.py:324\u001b[0m, in \u001b[0;36mndarray_to_mgr\u001b[1;34m(values, index, columns, dtype, copy, typ)\u001b[0m\n\u001b[0;32m    319\u001b[0m \u001b[38;5;66;03m# _prep_ndarray ensures that values.ndim == 2 at this point\u001b[39;00m\n\u001b[0;32m    320\u001b[0m index, columns \u001b[38;5;241m=\u001b[39m _get_axes(\n\u001b[0;32m    321\u001b[0m     values\u001b[38;5;241m.\u001b[39mshape[\u001b[38;5;241m0\u001b[39m], values\u001b[38;5;241m.\u001b[39mshape[\u001b[38;5;241m1\u001b[39m], index\u001b[38;5;241m=\u001b[39mindex, columns\u001b[38;5;241m=\u001b[39mcolumns\n\u001b[0;32m    322\u001b[0m )\n\u001b[1;32m--> 324\u001b[0m \u001b[43m_check_values_indices_shape_match\u001b[49m\u001b[43m(\u001b[49m\u001b[43mvalues\u001b[49m\u001b[43m,\u001b[49m\u001b[43m \u001b[49m\u001b[43mindex\u001b[49m\u001b[43m,\u001b[49m\u001b[43m \u001b[49m\u001b[43mcolumns\u001b[49m\u001b[43m)\u001b[49m\n\u001b[0;32m    326\u001b[0m \u001b[38;5;28;01mif\u001b[39;00m typ \u001b[38;5;241m==\u001b[39m \u001b[38;5;124m\"\u001b[39m\u001b[38;5;124marray\u001b[39m\u001b[38;5;124m\"\u001b[39m:\n\u001b[0;32m    328\u001b[0m     \u001b[38;5;28;01mif\u001b[39;00m \u001b[38;5;28missubclass\u001b[39m(values\u001b[38;5;241m.\u001b[39mdtype\u001b[38;5;241m.\u001b[39mtype, \u001b[38;5;28mstr\u001b[39m):\n",
      "File \u001b[1;32mc:\\Users\\kbrod\\anaconda3\\envs\\CityLearnART\\lib\\site-packages\\pandas\\core\\internals\\construction.py:393\u001b[0m, in \u001b[0;36m_check_values_indices_shape_match\u001b[1;34m(values, index, columns)\u001b[0m\n\u001b[0;32m    391\u001b[0m passed \u001b[38;5;241m=\u001b[39m values\u001b[38;5;241m.\u001b[39mshape\n\u001b[0;32m    392\u001b[0m implied \u001b[38;5;241m=\u001b[39m (\u001b[38;5;28mlen\u001b[39m(index), \u001b[38;5;28mlen\u001b[39m(columns))\n\u001b[1;32m--> 393\u001b[0m \u001b[38;5;28;01mraise\u001b[39;00m \u001b[38;5;167;01mValueError\u001b[39;00m(\u001b[38;5;124mf\u001b[39m\u001b[38;5;124m\"\u001b[39m\u001b[38;5;124mShape of passed values is \u001b[39m\u001b[38;5;132;01m{\u001b[39;00mpassed\u001b[38;5;132;01m}\u001b[39;00m\u001b[38;5;124m, indices imply \u001b[39m\u001b[38;5;132;01m{\u001b[39;00mimplied\u001b[38;5;132;01m}\u001b[39;00m\u001b[38;5;124m\"\u001b[39m)\n",
      "\u001b[1;31mValueError\u001b[0m: Shape of passed values is (8759, 1), indices imply (8759, 31)"
     ]
    }
   ],
   "source": [
    "for run in range(RUNS):\n",
    "        pd.DataFrame(results[run][1],columns=cols,).to_csv(SAVE_DIR+f'run {run} obs {TRIAL}.csv',)\n",
    "        pd.DataFrame(results[run][2],columns=cols,).to_csv(SAVE_DIR+f'run {run} adv obs {TRIAL}.csv')"
   ]
  }
 ],
 "metadata": {
  "kernelspec": {
   "display_name": "CityLearnART",
   "language": "python",
   "name": "python3"
  },
  "language_info": {
   "codemirror_mode": {
    "name": "ipython",
    "version": 3
   },
   "file_extension": ".py",
   "mimetype": "text/x-python",
   "name": "python",
   "nbconvert_exporter": "python",
   "pygments_lexer": "ipython3",
   "version": "3.10.12"
  }
 },
 "nbformat": 4,
 "nbformat_minor": 2
}
