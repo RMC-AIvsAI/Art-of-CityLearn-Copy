{
 "cells": [
  {
   "cell_type": "code",
   "execution_count": 1,
   "metadata": {},
   "outputs": [],
   "source": [
    "AGENT_NAME = '20 bin PPO 500 results\\default_PPO_citylearn_challenge_2022_phase_2_Building_6_20_bins_500.zip'\n",
    "DATASET_NAME = 'citylearn_challenge_2022_phase_2' #only action is electrical storage\n",
    "SAVE_DIR = r'20 bin PPO 500 results' + '/'\n",
    "EPS = 0.05\n",
    "ATK_NAME = f'untageted_AC_5%_eps'"
   ]
  },
  {
   "cell_type": "code",
   "execution_count": 2,
   "metadata": {},
   "outputs": [],
   "source": [
    "from stable_baselines3 import PPO\n",
    "\n",
    "from citylearn.data import DataSet\n",
    "\n",
    "from art.attacks.evasion import AutoConjugateGradient as ACG\n",
    "#from KBMproject.mybb import BrendelBethgeAttack as BBA\n",
    "from art.estimators.classification import PyTorchClassifier as classifier\n",
    "from art.utils import to_categorical\n",
    "\n",
    "import pandas as pd\n",
    "import numpy as np\n",
    "import torch\n",
    "import torch.nn as nn\n",
    "from tqdm import tqdm\n",
    "\n",
    "import KBMproject.utilities as utils\n",
    "\n",
    "import json\n",
    "from tqdm import tqdm\n",
    "\n",
    "%matplotlib inline"
   ]
  },
  {
   "cell_type": "code",
   "execution_count": 3,
   "metadata": {},
   "outputs": [],
   "source": [
    "schema = DataSet.get_schema(DATASET_NAME)"
   ]
  },
  {
   "cell_type": "code",
   "execution_count": 4,
   "metadata": {},
   "outputs": [],
   "source": [
    "try: #try to load CityLearn schema\n",
    "    schema = DataSet.get_schema(DATASET_NAME)\n",
    "except: #load saved schema otherwise\n",
    "    with open(DATASET_NAME, 'r') as file:\n",
    "        schema = json.load(file)"
   ]
  },
  {
   "cell_type": "markdown",
   "metadata": {},
   "source": [
    "Define RL agent"
   ]
  },
  {
   "cell_type": "code",
   "execution_count": 5,
   "metadata": {},
   "outputs": [
    {
     "name": "stdout",
     "output_type": "stream",
     "text": [
      "== CURRENT SYSTEM INFO ==\n",
      "- OS: Windows-10-10.0.22631-SP0 10.0.22631\n",
      "- Python: 3.10.12\n",
      "- Stable-Baselines3: 1.8.0\n",
      "- PyTorch: 1.12.1\n",
      "- GPU Enabled: True\n",
      "- Numpy: 1.25.1\n",
      "- Gym: 0.21.0\n",
      "\n",
      "== SAVED MODEL SYSTEM INFO ==\n",
      "- OS: Windows-10-10.0.19045-SP0 10.0.19045\n",
      "- Python: 3.10.12\n",
      "- Stable-Baselines3: 1.8.0\n",
      "- PyTorch: 1.12.0\n",
      "- GPU Enabled: True\n",
      "- Numpy: 1.25.1\n",
      "- Gym: 0.21.0\n",
      "\n",
      "Model loaded from storage\n"
     ]
    }
   ],
   "source": [
    "agent = PPO.load(path=f\"{AGENT_NAME}\",\n",
    "                 print_system_info=True)\n",
    "print('Model loaded from storage')"
   ]
  },
  {
   "cell_type": "code",
   "execution_count": 6,
   "metadata": {},
   "outputs": [],
   "source": [
    "bins = agent.action_space[0].n\n",
    "env = utils.make_discrete_env(schema=schema,  \n",
    "                        action_bins=bins,\n",
    "                        seed=42)"
   ]
  },
  {
   "cell_type": "code",
   "execution_count": 7,
   "metadata": {},
   "outputs": [],
   "source": [
    "cols = env.observation_names"
   ]
  },
  {
   "cell_type": "code",
   "execution_count": 8,
   "metadata": {},
   "outputs": [],
   "source": [
    "observation_masks = np.ones(agent.observation_space.shape)\n",
    "observation_masks[0:6] = 0 #mask time features"
   ]
  },
  {
   "cell_type": "code",
   "execution_count": 9,
   "metadata": {},
   "outputs": [],
   "source": [
    "agent_classifier = classifier(\n",
    "        model=utils.extract_actor(agent),\n",
    "        loss=utils.CWLoss(), \n",
    "        nb_classes=agent.action_space[0].n,\n",
    "        input_shape=agent.observation_space.shape,\n",
    "        device_type='gpu',\n",
    "        clip_values = (agent.observation_space.low.min(),agent.observation_space.high.max()) #min and max values of each feature, brendle bethge attack only supports floats values and not array\n",
    "        )"
   ]
  },
  {
   "cell_type": "code",
   "execution_count": 10,
   "metadata": {},
   "outputs": [],
   "source": [
    "init = 50\n",
    "iter = int(1000/init)\n",
    "import logging\n",
    "logging.basicConfig(level=logging.WARN)\n",
    "kwargs = {\"loss_type\": 'difference_logits_ratio', \n",
    "          \"eps\": EPS, \n",
    "          \"eps_step\": 2*EPS, \n",
    "          \"batch_size\": 1, \n",
    "          \"nb_random_init\": init, \n",
    "          \"max_iter\": iter, \n",
    "          \"norm\": \"inf\", \n",
    "          \"verbose\": False}\n",
    "attack = ACG(estimator=agent_classifier, **kwargs,)"
   ]
  },
  {
   "cell_type": "code",
   "execution_count": 11,
   "metadata": {},
   "outputs": [
    {
     "name": "stderr",
     "output_type": "stream",
     "text": [
      "100%|█████████▉| 8758/8759 [52:21<00:00,  2.79it/s] ASR=0.957]  \n",
      "100%|██████████| 8759/8759 [52:21<00:00,  2.79it/s, ASR=0.957]\n"
     ]
    },
    {
     "name": "stdout",
     "output_type": "stream",
     "text": [
      "CPU times: total: 8min 27s\n",
      "Wall time: 52min 22s\n"
     ]
    }
   ],
   "source": [
    "%%time\n",
    "kpis, obs, adv_obs, asr = utils.eval_untargeted_attack(agent, \n",
    "                                                                        env, \n",
    "                                                                        attack,\n",
    "                                                                        time_steps=None,\n",
    "                                                                        mask=observation_masks)"
   ]
  },
  {
   "cell_type": "code",
   "execution_count": 12,
   "metadata": {},
   "outputs": [],
   "source": [
    "with open(SAVE_DIR+f'{ATK_NAME} parameters.json', 'w') as f:\n",
    "    json.dump(kwargs, f)"
   ]
  },
  {
   "cell_type": "code",
   "execution_count": 13,
   "metadata": {},
   "outputs": [
    {
     "data": {
      "text/plain": [
       "cost_function\n",
       "annual_peak_average                      1.264611\n",
       "carbon_emissions_total                   0.909828\n",
       "cost_total                               0.828607\n",
       "daily_one_minus_load_factor_average      1.160861\n",
       "daily_peak_average                       0.998033\n",
       "electricity_consumption_total            0.918737\n",
       "monthly_one_minus_load_factor_average    1.003955\n",
       "ramping_average                          1.326874\n",
       "zero_net_energy                          1.110196\n",
       "Name: District, dtype: float64"
      ]
     },
     "metadata": {},
     "output_type": "display_data"
    }
   ],
   "source": [
    "display(kpis)"
   ]
  },
  {
   "cell_type": "code",
   "execution_count": 14,
   "metadata": {},
   "outputs": [],
   "source": [
    "kpi = kpis"
   ]
  },
  {
   "cell_type": "code",
   "execution_count": 15,
   "metadata": {},
   "outputs": [
    {
     "name": "stdout",
     "output_type": "stream",
     "text": [
      "20 bin PPO 500 results/KPIs.csv updated\n"
     ]
    }
   ],
   "source": [
    "kpi_savename = SAVE_DIR+'KPIs.csv'\n",
    "try:\n",
    "    df_kpis = pd.read_csv(kpi_savename, index_col=0)\n",
    "    df_kpis[ATK_NAME] = kpi.values\n",
    "    df_kpis.to_csv(kpi_savename)\n",
    "    print(f'{kpi_savename} updated')\n",
    "except:\n",
    "    kpi.name = ATK_NAME\n",
    "    kpi.to_csv(kpi_savename)\n",
    "    print(f'{kpi_savename} created')"
   ]
  },
  {
   "cell_type": "code",
   "execution_count": 17,
   "metadata": {},
   "outputs": [],
   "source": [
    "df_obs = pd.DataFrame(obs)\n",
    "df_obs.columns = cols\n",
    "#df_obs['a'] = actions\n",
    "df_obs.to_csv(SAVE_DIR+ATK_NAME+' a-obs.csv')"
   ]
  },
  {
   "cell_type": "code",
   "execution_count": 18,
   "metadata": {},
   "outputs": [],
   "source": [
    "df_obs = pd.DataFrame(adv_obs)\n",
    "df_obs.columns = cols\n",
    "#df_obs['a'] = adv_actions\n",
    "df_obs.to_csv(SAVE_DIR+ATK_NAME+' adv a-obs.csv')"
   ]
  },
  {
   "cell_type": "code",
   "execution_count": 19,
   "metadata": {},
   "outputs": [
    {
     "name": "stdout",
     "output_type": "stream",
     "text": [
      "20 bin PPO 500 results/ASRs.csv created\n"
     ]
    }
   ],
   "source": [
    "asr_savename = SAVE_DIR+'ASRs.csv'\n",
    "try:\n",
    "    df_asrs = pd.read_csv(asr_savename)\n",
    "    df_asrs[ATK_NAME] = asr\n",
    "    df_asrs.to_csv(asr_savename)\n",
    "    print(f'{asr_savename} updated')\n",
    "except:\n",
    "    asr = pd.Series([asr])\n",
    "    asr.name = ATK_NAME\n",
    "    asr.to_csv(asr_savename)\n",
    "    print(f'{asr_savename} created')"
   ]
  },
  {
   "cell_type": "code",
   "execution_count": null,
   "metadata": {},
   "outputs": [],
   "source": []
  }
 ],
 "metadata": {
  "kernelspec": {
   "display_name": "CityLearnART",
   "language": "python",
   "name": "python3"
  },
  "language_info": {
   "codemirror_mode": {
    "name": "ipython",
    "version": 3
   },
   "file_extension": ".py",
   "mimetype": "text/x-python",
   "name": "python",
   "nbconvert_exporter": "python",
   "pygments_lexer": "ipython3",
   "version": "3.10.12"
  }
 },
 "nbformat": 4,
 "nbformat_minor": 2
}
