{
 "cells": [
  {
   "cell_type": "code",
   "execution_count": 1,
   "metadata": {},
   "outputs": [],
   "source": [
    "import pandas as pd"
   ]
  },
  {
   "cell_type": "markdown",
   "metadata": {},
   "source": [
    "##### General notes:\n",
    "- Solar generation is not normalized, with a max clean value of 0.04, so eps should be 0.0001 or something super small\n",
    "- I suspect there's a similar issue with net comsumption, since it seems to be the sum of solar generation and non shitable load (and the battery). from the analysis stuck on my rmc machine...\n",
    "- net_electricity_consumption 0.016, so eps should be ~0.03 of this.\n",
    "- Price is time based (difference if often 0), so perturbations are obvious, this is not the case for realtime pricing\n",
    "- Larger changes to SoC can result from attack actions"
   ]
  },
  {
   "cell_type": "markdown",
   "metadata": {},
   "source": [
    "##### Load data"
   ]
  },
  {
   "cell_type": "code",
   "execution_count": 2,
   "metadata": {},
   "outputs": [],
   "source": [
    "df_variation = pd.DataFrame({})\n",
    "df_variation['PPO_baseline'] = pd.read_csv('20 bin PPO 500 results/baseline_obs.csv',\n",
    "                                            index_col=0,\n",
    "                                            ).diff().abs().mean()\n",
    "df_variation['dynamic_uACG'] = pd.read_csv(r'20 bin PPO 500 results\\adv_perturbed_obs.csv',\n",
    "                                            index_col=0,\n",
    "                                            ).diff().abs().mean()\n",
    "s_load = pd.read_csv(r'20 bin PPO 500 results\\bb results\\bb obs.csv',\n",
    "                                  header=0,\n",
    "                                  index_col=0,\n",
    "                                  ).diff().abs().mean()\n",
    "s_load.index = df_variation.index\n",
    "df_variation['uBB'] = s_load\n",
    "\n",
    "df_variation['PPO_bifurcated_myPGD_05'] = pd.read_csv(r'20 bin PPO 500 results\\untargeted_binary_myPGD_05_adv_obs-a.csv',\n",
    "                                            index_col=0,\n",
    "                                            usecols = lambda x: x != 'a', #excludes a col\n",
    "                                            ).diff().abs().mean()\n",
    "df_variation['PPO_bifurcated_ACG_05'] = pd.read_csv(r'20 bin PPO 500 results\\binary classifier uACG results\\uACG DLloss 05 eps adv a-obs.csv',\n",
    "                                                                index_col=0,\n",
    "                                                                usecols = lambda x: x != 'a', #excludes a col\n",
    "                                                                ).diff().abs().mean() \n",
    "df_variation['PPO_myPGD_05'] = pd.read_csv(r'20 bin PPO 500 results\\untargeted_myPGD_05_adv_obs-a.csv',\n",
    "                                            index_col=0,\n",
    "                                            usecols = lambda x: x != 'a', #excludes a col\n",
    "                                            ).diff().abs().mean()\n",
    "df_variation['PPO_bifurcated_myPGD_03_mask_time'] = pd.read_csv(r'20 bin PPO 500 results\\untargeted_binary_myPGD_03_mask_time_adv_obs-a.csv',\n",
    "                                                                index_col=0,\n",
    "                                                                usecols = lambda x: x != 'a', #excludes a col\n",
    "                                                                ).diff().abs().mean()\n",
    "df_variation['PPO_bifurcated_myPGD_03_mask_time_time_scale_solar_and_consumption_eps'] = pd.read_csv(\n",
    "                                                                r'20 bin PPO 500 results\\untargeted_binary_myPGD_03_mask_time_scale_solar_and_consumption_eps_adv_obs-a.csv',\n",
    "                                                                index_col=0,\n",
    "                                                                usecols = lambda x: x != 'a', #excludes a col\n",
    "                                                                ).diff().abs().mean()\n",
    "df_variation['PPO_bifurcated_ACG_03_mask_solar_time_and_consumption_adv_obs'] = pd.read_csv(\n",
    "                                                                r'20 bin PPO 500 results\\binary classifier uACG results\\bifurcated_uACG_DLloss_03_mask_time_solar_and_consumption adv a-obs.csv',\n",
    "                                                                index_col=0,\n",
    "                                                                usecols = lambda x: x != 'a', #excludes a col\n",
    "                                                                ).diff().abs().mean()\n",
    "df_variation['SAC_baseline'] = pd.read_csv(r'default SAC 500 norm space results\\baseline_obs-a.csv',\n",
    "                                            index_col=0,\n",
    "                                            usecols = lambda x: x != 'a', #excludes a col\n",
    "                                            ).diff().abs().mean()                                          \n",
    "df_variation['SAC_bifurcated_myPGD_03_mask_time'] = pd.read_csv(r'default SAC 500 norm space results\\untargeted_binary_myPGD_03_mask_time_adv_obs-a.csv',\n",
    "                                                                index_col=0,\n",
    "                                                                usecols = lambda x: x != 'a', #excludes a col\n",
    "                                                                ).diff().abs().mean()\n",
    "df_variation['SAC_bifurcated_myPGD_03_mask_time_time_scale_solar_and_consumption_eps'] = pd.read_csv(\n",
    "                                                                r'default SAC 500 norm space results\\untargeted_binary_myPGD_03_mask_time_scale_solar_and_consumption_eps_adv_obs-a.csv',\n",
    "                                                                index_col=0,\n",
    "                                                                usecols = lambda x: x != 'a', #excludes a col\n",
    "                                                                ).diff().abs().mean()\n",
    "df_variation['SAC_bifurcated_myPGD_03_mask_solar_and_time_scale_consumption_eps_clipped_adv_obs'] = pd.read_csv(\n",
    "                                                                r'default SAC 500 norm space results\\untargeted_binary_myPGD_03_mask_solar_and_time_scale_consumption_eps_clipped_adv_obs_adv_obs-a.csv',\n",
    "                                                                index_col=0,\n",
    "                                                                usecols = lambda x: x != 'a', #excludes a col\n",
    "                                                                ).diff().abs().mean()               \n",
    "df_variation['SAC_bifurcated_ACG_03_mask_solar_time_and_consumption_adv_obs'] = pd.read_csv(\n",
    "                                                                r'default SAC 500 norm space results\\bifurcated_uACG_DLloss_03_mask_time_solar_and_consumption adv a-obs.csv',\n",
    "                                                                index_col=0,\n",
    "                                                                usecols = lambda x: x != 'a', #excludes a col\n",
    "                                                                ).diff().abs().mean()        \n",
    "df_variation['SAC_toggle_bifurcated_myPGD_03_mask_time'] = pd.read_csv(r'default SAC 500 norm space results\\toggle_binary_myPGD_03_mask_time_adv_obs-a.csv',\n",
    "                                                                index_col=0,\n",
    "                                                                usecols = lambda x: x != 'a', #excludes a col\n",
    "                                                                ).diff().abs().mean()      \n",
    "df_variation['SAC_toggle_bifurcated_myPGD_03_mask_solar_and_time_scale_consumption_eps_clipped_adv_obs'] = pd.read_csv(\n",
    "                                                                r'default SAC 500 norm space results\\toggle_binary_myPGD_03_mask_time_and_solar_scale_consumption_eps_clipped_adv_obs-a.csv',\n",
    "                                                                index_col=0,\n",
    "                                                                usecols = lambda x: x != 'a', #excludes a col\n",
    "                                                                ).diff().abs().mean() "
   ]
  },
  {
   "cell_type": "markdown",
   "metadata": {},
   "source": [
    "Load the spread for non prediction or temporal observations"
   ]
  },
  {
   "cell_type": "code",
   "execution_count": 3,
   "metadata": {},
   "outputs": [],
   "source": [
    "obs_spread = pd.read_csv('citylearn_challenge_2022_phase_2 spread.csv',\n",
    "                            index_col=0)"
   ]
  },
  {
   "cell_type": "markdown",
   "metadata": {},
   "source": [
    "##### Analyze Dynamic uACG"
   ]
  },
  {
   "cell_type": "markdown",
   "metadata": {},
   "source": [
    "Notice how bother SoC's and net consumption's variation are orders of magnitude above the others, perhaps the epsilon should be reduced? Or is the net consumption just affected by the SoC/the attack? The only features with significant variations are related to the agent's actions which the attack is meant to change"
   ]
  },
  {
   "cell_type": "code",
   "execution_count": 4,
   "metadata": {},
   "outputs": [
    {
     "data": {
      "text/plain": [
       "solar_generation                              0.025049\n",
       "electricity_pricing_predicted_12h             0.023835\n",
       "net_electricity_consumption                   0.023731\n",
       "electricity_pricing_predicted_6h              0.023526\n",
       "electricity_pricing                           0.023397\n",
       "electricity_pricing_predicted_24h             0.022813\n",
       "month_cos                                     0.019033\n",
       "month_sin                                     0.018465\n",
       "day_type_cos                                  0.018446\n",
       "day_type_sin                                  0.018290\n",
       "direct_solar_irradiance_predicted_12h         0.015714\n",
       "direct_solar_irradiance_predicted_24h         0.015415\n",
       "direct_solar_irradiance_predicted_6h          0.015133\n",
       "direct_solar_irradiance                       0.015064\n",
       "diffuse_solar_irradiance_predicted_12h        0.014216\n",
       "outdoor_dry_bulb_temperature                  0.013410\n",
       "diffuse_solar_irradiance                      0.013381\n",
       "diffuse_solar_irradiance_predicted_6h         0.013195\n",
       "carbon_intensity                              0.013113\n",
       "diffuse_solar_irradiance_predicted_24h        0.013112\n",
       "outdoor_dry_bulb_temperature_predicted_12h    0.013105\n",
       "outdoor_dry_bulb_temperature_predicted_6h     0.012901\n",
       "outdoor_dry_bulb_temperature_predicted_24h    0.012749\n",
       "electrical_storage_soc                        0.012252\n",
       "outdoor_relative_humidity                     0.009787\n",
       "outdoor_relative_humidity_predicted_24h       0.009443\n",
       "outdoor_relative_humidity_predicted_12h       0.009310\n",
       "outdoor_relative_humidity_predicted_6h        0.009304\n",
       "non_shiftable_load                            0.008961\n",
       "hour_cos                                      0.001416\n",
       "hour_sin                                      0.001126\n",
       "dtype: float64"
      ]
     },
     "execution_count": 4,
     "metadata": {},
     "output_type": "execute_result"
    }
   ],
   "source": [
    "abs(df_variation['dynamic_uACG'] - df_variation['PPO_baseline']).sort_values(ascending=False)"
   ]
  },
  {
   "cell_type": "markdown",
   "metadata": {},
   "source": [
    "Relative change in feature variation from attack:"
   ]
  },
  {
   "cell_type": "code",
   "execution_count": 5,
   "metadata": {},
   "outputs": [
    {
     "data": {
      "text/plain": [
       "solar_generation                              98.063482\n",
       "month_cos                                     84.346173\n",
       "month_sin                                     81.857822\n",
       "net_electricity_consumption                   37.835382\n",
       "day_type_cos                                   2.819895\n",
       "day_type_sin                                   2.529823\n",
       "outdoor_dry_bulb_temperature                   1.509344\n",
       "outdoor_dry_bulb_temperature_predicted_12h     1.497756\n",
       "outdoor_dry_bulb_temperature_predicted_6h      1.489966\n",
       "carbon_intensity                               1.489269\n",
       "outdoor_dry_bulb_temperature_predicted_24h     1.484286\n",
       "electricity_pricing_predicted_12h              1.328781\n",
       "electricity_pricing_predicted_6h               1.324514\n",
       "electricity_pricing                            1.322741\n",
       "electricity_pricing_predicted_24h              1.314687\n",
       "diffuse_solar_irradiance_predicted_12h         1.225630\n",
       "direct_solar_irradiance_predicted_12h          1.223749\n",
       "direct_solar_irradiance_predicted_24h          1.219454\n",
       "direct_solar_irradiance_predicted_6h           1.215486\n",
       "direct_solar_irradiance                        1.214457\n",
       "diffuse_solar_irradiance                       1.212312\n",
       "diffuse_solar_irradiance_predicted_6h          1.209363\n",
       "diffuse_solar_irradiance_predicted_24h         1.208041\n",
       "outdoor_relative_humidity                      1.199247\n",
       "outdoor_relative_humidity_predicted_24h        1.192255\n",
       "outdoor_relative_humidity_predicted_12h        1.189533\n",
       "outdoor_relative_humidity_predicted_6h         1.189393\n",
       "electrical_storage_soc                         1.150028\n",
       "non_shiftable_load                             1.148697\n",
       "hour_cos                                       1.016987\n",
       "hour_sin                                       1.013513\n",
       "dtype: float64"
      ]
     },
     "execution_count": 5,
     "metadata": {},
     "output_type": "execute_result"
    }
   ],
   "source": [
    "abs(df_variation['dynamic_uACG']/df_variation['PPO_baseline']).sort_values(ascending=False)"
   ]
  },
  {
   "cell_type": "code",
   "execution_count": 6,
   "metadata": {},
   "outputs": [],
   "source": [
    "df_net_consumption = pd.DataFrame({})\n",
    "df_net_consumption['PPO_baseline'] = pd.read_csv('20 bin PPO 500 results/baseline_obs.csv',\n",
    "                                            usecols=['net_electricity_consumption']\n",
    "                                            )\n",
    "df_net_consumption['dynamic_uACG'] = pd.read_csv(r'20 bin PPO 500 results\\adv_perturbed_obs.csv',\n",
    "                                            usecols=['net_electricity_consumption']\n",
    "                                            )"
   ]
  },
  {
   "cell_type": "code",
   "execution_count": 7,
   "metadata": {},
   "outputs": [
    {
     "data": {
      "text/plain": [
       "<Axes: >"
      ]
     },
     "execution_count": 7,
     "metadata": {},
     "output_type": "execute_result"
    },
    {
     "data": {
      "image/png": "[encoded data removed]",
      "text/plain": [
       "<Figure size 640x480 with 1 Axes>"
      ]
     },
     "metadata": {},
     "output_type": "display_data"
    }
   ],
   "source": [
    "df_net_consumption.iloc[:24*7,:].plot.line()"
   ]
  },
  {
   "cell_type": "code",
   "execution_count": 8,
   "metadata": {},
   "outputs": [],
   "source": [
    "df_solar_gen = pd.DataFrame({})\n",
    "df_solar_gen['PPO_baseline'] = pd.read_csv('20 bin PPO 500 results/baseline_obs.csv',\n",
    "                                            usecols=['solar_generation']\n",
    "                                            )\n",
    "df_solar_gen['dynamic_uACG'] = pd.read_csv(r'20 bin PPO 500 results\\adv_perturbed_obs.csv',\n",
    "                                            usecols=['solar_generation']\n",
    "                                            )"
   ]
  },
  {
   "cell_type": "markdown",
   "metadata": {},
   "source": [
    "Attack disrupts the periocity of solar power generation, and aloows negative values which are non-sensical. Because this feature is poorly normalized (the observed clean values are far from 1) $\\epsilon$ should be reduced accordingly. However, the attack further needs to clamp features in the observation space [0,1]. In theory ART should do this as it's passed the observation space, however this is not the case...this will need to be cliped.clamped in my code and myPGD"
   ]
  },
  {
   "cell_type": "code",
   "execution_count": 9,
   "metadata": {},
   "outputs": [
    {
     "data": {
      "text/plain": [
       "<Axes: >"
      ]
     },
     "execution_count": 9,
     "metadata": {},
     "output_type": "execute_result"
    },
    {
     "data": {
      "image/png": "[encoded data removed]",
      "text/plain": [
       "<Figure size 640x480 with 1 Axes>"
      ]
     },
     "metadata": {},
     "output_type": "display_data"
    }
   ],
   "source": [
    "df_solar_gen.iloc[:24*7,:].plot.line()"
   ]
  },
  {
   "cell_type": "markdown",
   "metadata": {},
   "source": [
    "For the graph above, note how no variation is great than 0.07, however the observation peaks at like 0.005. Because the feature is often abserved near 0, perturbations are making it negative. Apparently poor normalization is a defence mechanism!"
   ]
  },
  {
   "cell_type": "code",
   "execution_count": 10,
   "metadata": {},
   "outputs": [
    {
     "name": "stdout",
     "output_type": "stream",
     "text": [
      "The peak value for solar generation during a clean baseline episode: 0.004\n"
     ]
    }
   ],
   "source": [
    "print(f'The peak value for solar generation during a clean baseline episode: {df_solar_gen[\"PPO_baseline\"].max()}')"
   ]
  },
  {
   "cell_type": "code",
   "execution_count": 11,
   "metadata": {},
   "outputs": [
    {
     "data": {
      "text/html": [
       "<div>\n",
       "<style scoped>\n",
       "    .dataframe tbody tr th:only-of-type {\n",
       "        vertical-align: middle;\n",
       "    }\n",
       "\n",
       "    .dataframe tbody tr th {\n",
       "        vertical-align: top;\n",
       "    }\n",
       "\n",
       "    .dataframe thead th {\n",
       "        text-align: right;\n",
       "    }\n",
       "</style>\n",
       "<table border=\"1\" class=\"dataframe\">\n",
       "  <thead>\n",
       "    <tr style=\"text-align: right;\">\n",
       "      <th></th>\n",
       "      <th>net_electricity_consumption</th>\n",
       "    </tr>\n",
       "  </thead>\n",
       "  <tbody>\n",
       "    <tr>\n",
       "      <th>count</th>\n",
       "      <td>8759.000000</td>\n",
       "    </tr>\n",
       "    <tr>\n",
       "      <th>mean</th>\n",
       "      <td>0.988657</td>\n",
       "    </tr>\n",
       "    <tr>\n",
       "      <th>std</th>\n",
       "      <td>0.001271</td>\n",
       "    </tr>\n",
       "    <tr>\n",
       "      <th>min</th>\n",
       "      <td>0.984415</td>\n",
       "    </tr>\n",
       "    <tr>\n",
       "      <th>25%</th>\n",
       "      <td>0.987880</td>\n",
       "    </tr>\n",
       "    <tr>\n",
       "      <th>50%</th>\n",
       "      <td>0.988587</td>\n",
       "    </tr>\n",
       "    <tr>\n",
       "      <th>75%</th>\n",
       "      <td>0.989420</td>\n",
       "    </tr>\n",
       "    <tr>\n",
       "      <th>max</th>\n",
       "      <td>0.995658</td>\n",
       "    </tr>\n",
       "  </tbody>\n",
       "</table>\n",
       "</div>"
      ],
      "text/plain": [
       "       net_electricity_consumption\n",
       "count                  8759.000000\n",
       "mean                      0.988657\n",
       "std                       0.001271\n",
       "min                       0.984415\n",
       "25%                       0.987880\n",
       "50%                       0.988587\n",
       "75%                       0.989420\n",
       "max                       0.995658"
      ]
     },
     "execution_count": 11,
     "metadata": {},
     "output_type": "execute_result"
    }
   ],
   "source": [
    "pd.read_csv('20 bin PPO 500 results/baseline_obs.csv',\n",
    "                                            usecols=['net_electricity_consumption']\n",
    "                                            ).describe()"
   ]
  },
  {
   "cell_type": "markdown",
   "metadata": {},
   "source": [
    "note that net_electricity_consumption does not go below 0.984415 so the actual variation is:"
   ]
  },
  {
   "cell_type": "code",
   "execution_count": 12,
   "metadata": {},
   "outputs": [
    {
     "data": {
      "text/plain": [
       "0.01558499999999996"
      ]
     },
     "execution_count": 12,
     "metadata": {},
     "output_type": "execute_result"
    }
   ],
   "source": [
    "1 - 0.984415"
   ]
  },
  {
   "cell_type": "markdown",
   "metadata": {},
   "source": [
    "This is far from [0,1]"
   ]
  },
  {
   "cell_type": "markdown",
   "metadata": {},
   "source": [
    "The result above indicates ineffective min-max normalization"
   ]
  },
  {
   "cell_type": "markdown",
   "metadata": {},
   "source": [
    "##### Analyze uBB"
   ]
  },
  {
   "cell_type": "code",
   "execution_count": 13,
   "metadata": {},
   "outputs": [
    {
     "data": {
      "text/plain": [
       "month_sin                                     0.031792\n",
       "month_cos                                     0.031749\n",
       "day_type_cos                                  0.031031\n",
       "day_type_sin                                  0.029450\n",
       "electricity_pricing_predicted_24h             0.023513\n",
       "electricity_pricing                           0.022821\n",
       "electricity_pricing_predicted_12h             0.022775\n",
       "net_electricity_consumption                   0.021704\n",
       "carbon_intensity                              0.020671\n",
       "electricity_pricing_predicted_6h              0.020620\n",
       "solar_generation                              0.020420\n",
       "outdoor_dry_bulb_temperature_predicted_12h    0.019681\n",
       "outdoor_dry_bulb_temperature_predicted_6h     0.019672\n",
       "outdoor_dry_bulb_temperature                  0.019347\n",
       "outdoor_dry_bulb_temperature_predicted_24h    0.018894\n",
       "outdoor_relative_humidity                     0.016361\n",
       "outdoor_relative_humidity_predicted_12h       0.016150\n",
       "outdoor_relative_humidity_predicted_24h       0.015632\n",
       "direct_solar_irradiance_predicted_6h          0.015345\n",
       "outdoor_relative_humidity_predicted_6h        0.015165\n",
       "diffuse_solar_irradiance_predicted_12h        0.014167\n",
       "diffuse_solar_irradiance_predicted_6h         0.014131\n",
       "direct_solar_irradiance                       0.013901\n",
       "direct_solar_irradiance_predicted_24h         0.013671\n",
       "direct_solar_irradiance_predicted_12h         0.013314\n",
       "diffuse_solar_irradiance                      0.012573\n",
       "diffuse_solar_irradiance_predicted_24h        0.012386\n",
       "non_shiftable_load                            0.012330\n",
       "electrical_storage_soc                        0.010158\n",
       "hour_sin                                      0.004064\n",
       "hour_cos                                      0.003772\n",
       "dtype: float64"
      ]
     },
     "execution_count": 13,
     "metadata": {},
     "output_type": "execute_result"
    }
   ],
   "source": [
    "abs(df_variation['uBB'] - df_variation['PPO_baseline']).sort_values(ascending=False)"
   ]
  },
  {
   "cell_type": "markdown",
   "metadata": {},
   "source": [
    "Relative change in feature variation from attack:"
   ]
  },
  {
   "cell_type": "code",
   "execution_count": 14,
   "metadata": {},
   "outputs": [
    {
     "data": {
      "text/plain": [
       "month_sin                                     140.215572\n",
       "month_cos                                     140.027826\n",
       "solar_generation                               80.124628\n",
       "net_electricity_consumption                    34.689125\n",
       "day_type_cos                                    4.061501\n",
       "day_type_sin                                    3.463318\n",
       "carbon_intensity                                1.771262\n",
       "outdoor_dry_bulb_temperature_predicted_12h      1.747533\n",
       "outdoor_dry_bulb_temperature_predicted_6h       1.747132\n",
       "outdoor_dry_bulb_temperature                    1.734845\n",
       "outdoor_dry_bulb_temperature_predicted_24h      1.717709\n",
       "outdoor_relative_humidity                       1.333088\n",
       "outdoor_relative_humidity_predicted_12h         1.328765\n",
       "electricity_pricing_predicted_24h               1.324340\n",
       "outdoor_relative_humidity_predicted_24h         1.318245\n",
       "electricity_pricing                             1.314801\n",
       "electricity_pricing_predicted_12h               1.314158\n",
       "outdoor_relative_humidity_predicted_6h          1.308701\n",
       "electricity_pricing_predicted_6h                1.284441\n",
       "diffuse_solar_irradiance_predicted_12h          1.224865\n",
       "diffuse_solar_irradiance_predicted_6h           1.224226\n",
       "direct_solar_irradiance_predicted_6h            1.218498\n",
       "non_shiftable_load                              1.204603\n",
       "diffuse_solar_irradiance                        1.199494\n",
       "direct_solar_irradiance                         1.197902\n",
       "diffuse_solar_irradiance_predicted_24h          1.196531\n",
       "direct_solar_irradiance_predicted_24h           1.194635\n",
       "direct_solar_irradiance_predicted_12h           1.189574\n",
       "electrical_storage_soc                          1.124383\n",
       "hour_sin                                        1.048773\n",
       "hour_cos                                        1.045263\n",
       "dtype: float64"
      ]
     },
     "execution_count": 14,
     "metadata": {},
     "output_type": "execute_result"
    }
   ],
   "source": [
    "abs(df_variation['uBB']/df_variation['PPO_baseline']).sort_values(ascending=False)"
   ]
  },
  {
   "cell_type": "markdown",
   "metadata": {},
   "source": [
    "##### Analyze bifurcated myPDG $\\epsilon = 0.05$ for the discrete PPO"
   ]
  },
  {
   "cell_type": "code",
   "execution_count": 15,
   "metadata": {},
   "outputs": [
    {
     "data": {
      "text/plain": [
       "month_sin                                     0.040764\n",
       "month_cos                                     0.039204\n",
       "day_type_cos                                  0.039117\n",
       "day_type_sin                                  0.037345\n",
       "electricity_pricing_predicted_6h              0.036479\n",
       "electricity_pricing_predicted_12h             0.033139\n",
       "net_electricity_consumption                   0.032049\n",
       "electricity_pricing_predicted_24h             0.031874\n",
       "carbon_intensity                              0.026065\n",
       "outdoor_dry_bulb_temperature_predicted_12h    0.025762\n",
       "direct_solar_irradiance_predicted_12h         0.025744\n",
       "electricity_pricing                           0.025039\n",
       "outdoor_dry_bulb_temperature_predicted_6h     0.024767\n",
       "direct_solar_irradiance_predicted_6h          0.024701\n",
       "solar_generation                              0.024312\n",
       "direct_solar_irradiance                       0.024029\n",
       "direct_solar_irradiance_predicted_24h         0.023636\n",
       "outdoor_relative_humidity                     0.023144\n",
       "outdoor_dry_bulb_temperature_predicted_24h    0.022949\n",
       "diffuse_solar_irradiance_predicted_12h        0.021531\n",
       "outdoor_relative_humidity_predicted_12h       0.020949\n",
       "electrical_storage_soc                        0.020923\n",
       "outdoor_dry_bulb_temperature                  0.020584\n",
       "outdoor_relative_humidity_predicted_6h        0.019605\n",
       "diffuse_solar_irradiance_predicted_6h         0.018506\n",
       "outdoor_relative_humidity_predicted_24h       0.016619\n",
       "non_shiftable_load                            0.014984\n",
       "diffuse_solar_irradiance                      0.011240\n",
       "diffuse_solar_irradiance_predicted_24h        0.010153\n",
       "hour_sin                                      0.007914\n",
       "hour_cos                                      0.001871\n",
       "dtype: float64"
      ]
     },
     "execution_count": 15,
     "metadata": {},
     "output_type": "execute_result"
    }
   ],
   "source": [
    "abs(df_variation['PPO_bifurcated_myPGD_05'] - df_variation['PPO_baseline']).sort_values(ascending=False)"
   ]
  },
  {
   "cell_type": "code",
   "execution_count": 16,
   "metadata": {},
   "outputs": [
    {
     "data": {
      "text/plain": [
       "month_sin                                     179.503759\n",
       "month_cos                                     172.676258\n",
       "solar_generation                               95.206818\n",
       "net_electricity_consumption                    50.746418\n",
       "day_type_cos                                    4.859319\n",
       "day_type_sin                                    4.123630\n",
       "outdoor_dry_bulb_temperature_predicted_12h      1.978510\n",
       "carbon_intensity                                1.972529\n",
       "outdoor_dry_bulb_temperature_predicted_6h       1.940606\n",
       "outdoor_dry_bulb_temperature_predicted_24h      1.871743\n",
       "outdoor_dry_bulb_temperature                    1.781864\n",
       "electricity_pricing_predicted_6h                1.503196\n",
       "outdoor_relative_humidity                       1.471197\n",
       "electricity_pricing_predicted_12h               1.457127\n",
       "electricity_pricing_predicted_24h               1.439675\n",
       "outdoor_relative_humidity_predicted_12h         1.426459\n",
       "outdoor_relative_humidity_predicted_6h          1.399093\n",
       "direct_solar_irradiance_predicted_12h           1.366562\n",
       "direct_solar_irradiance_predicted_6h            1.351724\n",
       "electricity_pricing                             1.345392\n",
       "direct_solar_irradiance                         1.342091\n",
       "diffuse_solar_irradiance_predicted_12h          1.341742\n",
       "outdoor_relative_humidity_predicted_24h         1.338351\n",
       "direct_solar_irradiance_predicted_24h           1.336497\n",
       "diffuse_solar_irradiance_predicted_6h           1.293646\n",
       "electrical_storage_soc                          1.256200\n",
       "non_shiftable_load                              1.248642\n",
       "diffuse_solar_irradiance                        1.178336\n",
       "diffuse_solar_irradiance_predicted_24h          1.161094\n",
       "hour_sin                                        1.094973\n",
       "hour_cos                                        0.977548\n",
       "dtype: float64"
      ]
     },
     "execution_count": 16,
     "metadata": {},
     "output_type": "execute_result"
    }
   ],
   "source": [
    "abs(df_variation['PPO_bifurcated_myPGD_05']/df_variation['PPO_baseline']).sort_values(ascending=False)"
   ]
  },
  {
   "cell_type": "markdown",
   "metadata": {},
   "source": [
    "##### Analyze myPDG $\\epsilon = 0.05$ for the discrete PPO"
   ]
  },
  {
   "cell_type": "markdown",
   "metadata": {},
   "source": [
    "Deviation in mean feature variation from baseline"
   ]
  },
  {
   "cell_type": "code",
   "execution_count": 17,
   "metadata": {},
   "outputs": [
    {
     "data": {
      "text/plain": [
       "electricity_pricing                           0.035087\n",
       "day_type_sin                                  0.034570\n",
       "electricity_pricing_predicted_6h              0.034067\n",
       "solar_generation                              0.033933\n",
       "net_electricity_consumption                   0.033920\n",
       "day_type_cos                                  0.031529\n",
       "electricity_pricing_predicted_24h             0.029497\n",
       "carbon_intensity                              0.024212\n",
       "direct_solar_irradiance_predicted_24h         0.023872\n",
       "electricity_pricing_predicted_12h             0.023142\n",
       "direct_solar_irradiance_predicted_6h          0.022577\n",
       "outdoor_relative_humidity_predicted_24h       0.021040\n",
       "direct_solar_irradiance                       0.019921\n",
       "outdoor_relative_humidity_predicted_6h        0.019059\n",
       "outdoor_relative_humidity_predicted_12h       0.018673\n",
       "direct_solar_irradiance_predicted_12h         0.018456\n",
       "diffuse_solar_irradiance_predicted_6h         0.017992\n",
       "diffuse_solar_irradiance_predicted_12h        0.017673\n",
       "outdoor_dry_bulb_temperature_predicted_6h     0.016407\n",
       "outdoor_dry_bulb_temperature_predicted_24h    0.015319\n",
       "diffuse_solar_irradiance_predicted_24h        0.014732\n",
       "outdoor_dry_bulb_temperature_predicted_12h    0.013238\n",
       "outdoor_relative_humidity                     0.012876\n",
       "outdoor_dry_bulb_temperature                  0.012645\n",
       "electrical_storage_soc                        0.011153\n",
       "non_shiftable_load                            0.010255\n",
       "hour_cos                                      0.008662\n",
       "diffuse_solar_irradiance                      0.008530\n",
       "month_sin                                     0.006790\n",
       "hour_sin                                      0.005287\n",
       "month_cos                                     0.004754\n",
       "dtype: float64"
      ]
     },
     "execution_count": 17,
     "metadata": {},
     "output_type": "execute_result"
    }
   ],
   "source": [
    "abs(df_variation['PPO_myPGD_05'] - df_variation['PPO_baseline']).sort_values(ascending=False)"
   ]
  },
  {
   "cell_type": "markdown",
   "metadata": {},
   "source": [
    "Relative change in feature variation from attack:"
   ]
  },
  {
   "cell_type": "code",
   "execution_count": 18,
   "metadata": {},
   "outputs": [
    {
     "data": {
      "text/plain": [
       "solar_generation                              132.488908\n",
       "net_electricity_consumption                    53.650704\n",
       "month_sin                                      30.735002\n",
       "month_cos                                      21.818127\n",
       "day_type_cos                                    4.110653\n",
       "day_type_sin                                    3.891518\n",
       "carbon_intensity                                1.903360\n",
       "outdoor_dry_bulb_temperature_predicted_6h       1.623137\n",
       "outdoor_dry_bulb_temperature_predicted_24h      1.581909\n",
       "outdoor_dry_bulb_temperature_predicted_12h      1.502788\n",
       "electricity_pricing                             1.483989\n",
       "outdoor_dry_bulb_temperature                    1.480292\n",
       "electricity_pricing_predicted_6h                1.469920\n",
       "outdoor_relative_humidity_predicted_24h         1.428345\n",
       "electricity_pricing_predicted_24h               1.406881\n",
       "outdoor_relative_humidity_predicted_6h          1.387962\n",
       "outdoor_relative_humidity_predicted_12h         1.380132\n",
       "direct_solar_irradiance_predicted_24h           1.339854\n",
       "direct_solar_irradiance_predicted_6h            1.321480\n",
       "electricity_pricing_predicted_12h               1.319227\n",
       "diffuse_solar_irradiance_predicted_6h           1.285480\n",
       "direct_solar_irradiance                         1.283611\n",
       "diffuse_solar_irradiance_predicted_12h          1.280509\n",
       "direct_solar_irradiance_predicted_12h           1.262788\n",
       "outdoor_relative_humidity                       1.262142\n",
       "diffuse_solar_irradiance_predicted_24h          1.233742\n",
       "non_shiftable_load                              1.170164\n",
       "electrical_storage_soc                          1.136567\n",
       "diffuse_solar_irradiance                        1.135341\n",
       "hour_cos                                        1.103934\n",
       "hour_sin                                        1.063446\n",
       "dtype: float64"
      ]
     },
     "execution_count": 18,
     "metadata": {},
     "output_type": "execute_result"
    }
   ],
   "source": [
    "abs(df_variation['PPO_myPGD_05']/df_variation['PPO_baseline']).sort_values(ascending=False)"
   ]
  },
  {
   "cell_type": "markdown",
   "metadata": {},
   "source": [
    "##### Analyze bifurcated myPDG $\\epsilon = 0.03$ with time mask for the discrete PPO"
   ]
  },
  {
   "cell_type": "code",
   "execution_count": 19,
   "metadata": {},
   "outputs": [
    {
     "data": {
      "text/plain": [
       "electricity_pricing_predicted_6h              0.023301\n",
       "net_electricity_consumption                   0.021438\n",
       "electricity_pricing_predicted_12h             0.020734\n",
       "electricity_pricing_predicted_24h             0.020316\n",
       "electricity_pricing                           0.016575\n",
       "solar_generation                              0.016134\n",
       "direct_solar_irradiance_predicted_12h         0.015861\n",
       "direct_solar_irradiance                       0.015043\n",
       "direct_solar_irradiance_predicted_6h          0.014823\n",
       "direct_solar_irradiance_predicted_24h         0.014809\n",
       "outdoor_dry_bulb_temperature_predicted_12h    0.014266\n",
       "carbon_intensity                              0.014057\n",
       "outdoor_dry_bulb_temperature_predicted_6h     0.013803\n",
       "diffuse_solar_irradiance_predicted_12h        0.013279\n",
       "outdoor_dry_bulb_temperature_predicted_24h    0.013091\n",
       "outdoor_dry_bulb_temperature                  0.011793\n",
       "diffuse_solar_irradiance_predicted_6h         0.011577\n",
       "electrical_storage_soc                        0.011445\n",
       "outdoor_relative_humidity                     0.011281\n",
       "outdoor_relative_humidity_predicted_12h       0.010528\n",
       "outdoor_relative_humidity_predicted_6h        0.010093\n",
       "outdoor_relative_humidity_predicted_24h       0.008601\n",
       "non_shiftable_load                            0.008142\n",
       "diffuse_solar_irradiance                      0.007465\n",
       "diffuse_solar_irradiance_predicted_24h        0.006762\n",
       "month_sin                                     0.000000\n",
       "hour_sin                                      0.000000\n",
       "hour_cos                                      0.000000\n",
       "day_type_sin                                  0.000000\n",
       "day_type_cos                                  0.000000\n",
       "month_cos                                     0.000000\n",
       "dtype: float64"
      ]
     },
     "execution_count": 19,
     "metadata": {},
     "output_type": "execute_result"
    }
   ],
   "source": [
    "abs(df_variation['PPO_bifurcated_myPGD_03_mask_time'] - df_variation['PPO_baseline']).sort_values(ascending=False)"
   ]
  },
  {
   "cell_type": "markdown",
   "metadata": {},
   "source": [
    "Relative change in feature variation from attack:"
   ]
  },
  {
   "cell_type": "code",
   "execution_count": 20,
   "metadata": {},
   "outputs": [
    {
     "data": {
      "text/plain": [
       "solar_generation                              63.518776\n",
       "net_electricity_consumption                   34.276677\n",
       "outdoor_dry_bulb_temperature_predicted_12h     1.541833\n",
       "carbon_intensity                               1.524493\n",
       "outdoor_dry_bulb_temperature_predicted_6h      1.524230\n",
       "outdoor_dry_bulb_temperature_predicted_24h     1.497293\n",
       "outdoor_dry_bulb_temperature                   1.447954\n",
       "electricity_pricing_predicted_6h               1.321416\n",
       "electricity_pricing_predicted_12h              1.286002\n",
       "electricity_pricing_predicted_24h              1.280237\n",
       "outdoor_relative_humidity                      1.229675\n",
       "electricity_pricing                            1.228635\n",
       "direct_solar_irradiance_predicted_12h          1.225841\n",
       "outdoor_relative_humidity_predicted_12h        1.214322\n",
       "direct_solar_irradiance                        1.214164\n",
       "direct_solar_irradiance_predicted_6h           1.211061\n",
       "direct_solar_irradiance_predicted_24h          1.210836\n",
       "diffuse_solar_irradiance_predicted_12h         1.210769\n",
       "outdoor_relative_humidity_predicted_6h         1.205451\n",
       "diffuse_solar_irradiance_predicted_6h          1.183703\n",
       "outdoor_relative_humidity_predicted_24h        1.175111\n",
       "electrical_storage_soc                         1.140143\n",
       "non_shiftable_load                             1.135105\n",
       "diffuse_solar_irradiance                       1.118440\n",
       "diffuse_solar_irradiance_predicted_24h         1.107283\n",
       "month_sin                                      1.000000\n",
       "hour_sin                                       1.000000\n",
       "hour_cos                                       1.000000\n",
       "day_type_sin                                   1.000000\n",
       "day_type_cos                                   1.000000\n",
       "month_cos                                      1.000000\n",
       "dtype: float64"
      ]
     },
     "execution_count": 20,
     "metadata": {},
     "output_type": "execute_result"
    }
   ],
   "source": [
    "abs(df_variation['PPO_bifurcated_myPGD_03_mask_time']/df_variation['PPO_baseline']).sort_values(ascending=False)"
   ]
  },
  {
   "cell_type": "markdown",
   "metadata": {},
   "source": [
    "##### Analyze bifurcated myPDG $\\epsilon = 0.03$ with time mask for the discrete SAC"
   ]
  },
  {
   "cell_type": "code",
   "execution_count": 21,
   "metadata": {},
   "outputs": [
    {
     "data": {
      "text/plain": [
       "electrical_storage_soc                        0.048745\n",
       "net_electricity_consumption                   0.023921\n",
       "electricity_pricing_predicted_24h             0.023265\n",
       "electricity_pricing                           0.023165\n",
       "electricity_pricing_predicted_6h              0.022468\n",
       "electricity_pricing_predicted_12h             0.021937\n",
       "solar_generation                              0.018538\n",
       "direct_solar_irradiance_predicted_12h         0.015350\n",
       "direct_solar_irradiance_predicted_6h          0.014859\n",
       "direct_solar_irradiance                       0.014187\n",
       "direct_solar_irradiance_predicted_24h         0.013893\n",
       "outdoor_dry_bulb_temperature_predicted_6h     0.013788\n",
       "outdoor_dry_bulb_temperature_predicted_24h    0.013710\n",
       "diffuse_solar_irradiance_predicted_12h        0.013647\n",
       "outdoor_dry_bulb_temperature_predicted_12h    0.013603\n",
       "diffuse_solar_irradiance_predicted_6h         0.012983\n",
       "carbon_intensity                              0.012918\n",
       "outdoor_dry_bulb_temperature                  0.012702\n",
       "diffuse_solar_irradiance                      0.011323\n",
       "diffuse_solar_irradiance_predicted_24h        0.011305\n",
       "outdoor_relative_humidity_predicted_24h       0.011173\n",
       "outdoor_relative_humidity_predicted_6h        0.011018\n",
       "outdoor_relative_humidity                     0.010779\n",
       "outdoor_relative_humidity_predicted_12h       0.010525\n",
       "non_shiftable_load                            0.007981\n",
       "month_sin                                     0.000000\n",
       "hour_sin                                      0.000000\n",
       "hour_cos                                      0.000000\n",
       "day_type_sin                                  0.000000\n",
       "day_type_cos                                  0.000000\n",
       "month_cos                                     0.000000\n",
       "dtype: float64"
      ]
     },
     "execution_count": 21,
     "metadata": {},
     "output_type": "execute_result"
    }
   ],
   "source": [
    "abs(df_variation['SAC_bifurcated_myPGD_03_mask_time'] - df_variation['SAC_baseline']).sort_values(ascending=False)"
   ]
  },
  {
   "cell_type": "markdown",
   "metadata": {},
   "source": [
    "Relative change in feature variation from attack:"
   ]
  },
  {
   "cell_type": "code",
   "execution_count": 22,
   "metadata": {},
   "outputs": [
    {
     "data": {
      "text/plain": [
       "solar_generation                              72.834828\n",
       "net_electricity_consumption                   38.300434\n",
       "electrical_storage_soc                         1.756495\n",
       "outdoor_dry_bulb_temperature_predicted_6h      1.523665\n",
       "outdoor_dry_bulb_temperature_predicted_24h     1.520803\n",
       "outdoor_dry_bulb_temperature_predicted_12h     1.516681\n",
       "outdoor_dry_bulb_temperature                   1.482453\n",
       "carbon_intensity                               1.481979\n",
       "electricity_pricing_predicted_24h              1.320922\n",
       "electricity_pricing                            1.319542\n",
       "electricity_pricing_predicted_6h               1.309930\n",
       "electricity_pricing_predicted_12h              1.302604\n",
       "outdoor_relative_humidity_predicted_24h        1.227469\n",
       "outdoor_relative_humidity_predicted_6h         1.224295\n",
       "outdoor_relative_humidity                      1.219446\n",
       "direct_solar_irradiance_predicted_12h          1.218568\n",
       "diffuse_solar_irradiance_predicted_12h         1.216599\n",
       "outdoor_relative_humidity_predicted_12h        1.214269\n",
       "direct_solar_irradiance_predicted_6h           1.211580\n",
       "diffuse_solar_irradiance_predicted_6h          1.206009\n",
       "direct_solar_irradiance                        1.201976\n",
       "direct_solar_irradiance_predicted_24h          1.197795\n",
       "diffuse_solar_irradiance                       1.179656\n",
       "diffuse_solar_irradiance_predicted_24h         1.179371\n",
       "non_shiftable_load                             1.132440\n",
       "month_sin                                      1.000000\n",
       "hour_sin                                       1.000000\n",
       "hour_cos                                       1.000000\n",
       "day_type_sin                                   1.000000\n",
       "day_type_cos                                   1.000000\n",
       "month_cos                                      1.000000\n",
       "dtype: float64"
      ]
     },
     "execution_count": 22,
     "metadata": {},
     "output_type": "execute_result"
    }
   ],
   "source": [
    "abs(df_variation['SAC_bifurcated_myPGD_03_mask_time']/df_variation['SAC_baseline']).sort_values(ascending=False)"
   ]
  },
  {
   "cell_type": "markdown",
   "metadata": {},
   "source": [
    "##### Analyze bifurcated myPGD $\\epsilon = 0.03$ with time mask and scaling $\\epsilon$ for solar generation and net consumption for the discrete PPO"
   ]
  },
  {
   "cell_type": "code",
   "execution_count": 23,
   "metadata": {},
   "outputs": [
    {
     "data": {
      "text/plain": [
       "electrical_storage_soc                        0.028774\n",
       "electricity_pricing_predicted_6h              0.023193\n",
       "electricity_pricing_predicted_12h             0.020686\n",
       "electricity_pricing_predicted_24h             0.020037\n",
       "electricity_pricing                           0.016452\n",
       "direct_solar_irradiance_predicted_12h         0.015801\n",
       "direct_solar_irradiance_predicted_6h          0.015136\n",
       "direct_solar_irradiance                       0.015064\n",
       "direct_solar_irradiance_predicted_24h         0.014737\n",
       "outdoor_dry_bulb_temperature_predicted_12h    0.014434\n",
       "carbon_intensity                              0.014079\n",
       "outdoor_dry_bulb_temperature_predicted_6h     0.014020\n",
       "diffuse_solar_irradiance_predicted_12h        0.013172\n",
       "outdoor_dry_bulb_temperature_predicted_24h    0.012996\n",
       "diffuse_solar_irradiance_predicted_6h         0.011757\n",
       "outdoor_dry_bulb_temperature                  0.011663\n",
       "outdoor_relative_humidity                     0.011353\n",
       "outdoor_relative_humidity_predicted_12h       0.010749\n",
       "outdoor_relative_humidity_predicted_6h        0.009951\n",
       "outdoor_relative_humidity_predicted_24h       0.008583\n",
       "non_shiftable_load                            0.008165\n",
       "diffuse_solar_irradiance                      0.007568\n",
       "diffuse_solar_irradiance_predicted_24h        0.006720\n",
       "solar_generation                              0.000552\n",
       "net_electricity_consumption                   0.000250\n",
       "month_sin                                     0.000000\n",
       "hour_sin                                      0.000000\n",
       "hour_cos                                      0.000000\n",
       "day_type_sin                                  0.000000\n",
       "day_type_cos                                  0.000000\n",
       "month_cos                                     0.000000\n",
       "dtype: float64"
      ]
     },
     "execution_count": 23,
     "metadata": {},
     "output_type": "execute_result"
    }
   ],
   "source": [
    "abs(df_variation['PPO_bifurcated_myPGD_03_mask_time_time_scale_solar_and_consumption_eps'] - df_variation['SAC_baseline']).sort_values(ascending=False)"
   ]
  },
  {
   "cell_type": "markdown",
   "metadata": {},
   "source": [
    "Relative change in feature variation from attack:"
   ]
  },
  {
   "cell_type": "code",
   "execution_count": 24,
   "metadata": {},
   "outputs": [
    {
     "data": {
      "text/plain": [
       "solar_generation                              3.140814\n",
       "outdoor_dry_bulb_temperature_predicted_12h    1.548234\n",
       "outdoor_dry_bulb_temperature_predicted_6h     1.532460\n",
       "carbon_intensity                              1.525301\n",
       "outdoor_dry_bulb_temperature_predicted_24h    1.493689\n",
       "outdoor_dry_bulb_temperature                  1.443014\n",
       "net_electricity_consumption                   1.383437\n",
       "electricity_pricing_predicted_6h              1.319928\n",
       "electricity_pricing_predicted_12h             1.285347\n",
       "electricity_pricing_predicted_24h             1.276394\n",
       "outdoor_relative_humidity                     1.231131\n",
       "electricity_pricing                           1.226946\n",
       "direct_solar_irradiance_predicted_12h         1.224984\n",
       "outdoor_relative_humidity_predicted_12h       1.218832\n",
       "direct_solar_irradiance_predicted_6h          1.215530\n",
       "direct_solar_irradiance                       1.214467\n",
       "direct_solar_irradiance_predicted_24h         1.209803\n",
       "diffuse_solar_irradiance_predicted_12h        1.209068\n",
       "outdoor_relative_humidity_predicted_6h        1.202577\n",
       "diffuse_solar_irradiance_predicted_6h         1.186550\n",
       "outdoor_relative_humidity_predicted_24h       1.174745\n",
       "electrical_storage_soc                        1.141322\n",
       "non_shiftable_load                            1.135492\n",
       "diffuse_solar_irradiance                      1.120085\n",
       "diffuse_solar_irradiance_predicted_24h        1.106630\n",
       "month_sin                                     1.000000\n",
       "hour_sin                                      1.000000\n",
       "hour_cos                                      1.000000\n",
       "day_type_sin                                  1.000000\n",
       "day_type_cos                                  1.000000\n",
       "month_cos                                     1.000000\n",
       "dtype: float64"
      ]
     },
     "execution_count": 24,
     "metadata": {},
     "output_type": "execute_result"
    }
   ],
   "source": [
    "abs(df_variation['PPO_bifurcated_myPGD_03_mask_time_time_scale_solar_and_consumption_eps']/df_variation['PPO_baseline']).sort_values(ascending=False)"
   ]
  },
  {
   "cell_type": "markdown",
   "metadata": {},
   "source": [
    "Is the relative variation in solar generation from pertubations at night increasing the mean difference? plot"
   ]
  },
  {
   "cell_type": "code",
   "execution_count": 25,
   "metadata": {},
   "outputs": [],
   "source": [
    "df_solar_gen['PPO_bifurcated_myPGD_03_mask_time_time_scale_solar_and_consumption_eps'] = pd.read_csv(r'20 bin PPO 500 results\\untargeted_binary_myPGD_03_mask_time_scale_solar_and_consumption_eps_adv_obs-a.csv',\n",
    "                                            usecols=['solar_generation']\n",
    "                                            )"
   ]
  },
  {
   "cell_type": "code",
   "execution_count": 26,
   "metadata": {},
   "outputs": [
    {
     "data": {
      "text/plain": [
       "<Axes: >"
      ]
     },
     "execution_count": 26,
     "metadata": {},
     "output_type": "execute_result"
    },
    {
     "data": {
      "image/png": "[encoded data removed]",
      "text/plain": [
       "<Figure size 640x480 with 1 Axes>"
      ]
     },
     "metadata": {},
     "output_type": "display_data"
    }
   ],
   "source": [
    "df_solar_gen.iloc[:24*7,[0,2]].plot.line()"
   ]
  },
  {
   "cell_type": "markdown",
   "metadata": {},
   "source": [
    "Perturbations are still made at night and are negative, but now they are on a similar scale. Attacker could check if this feature is 0 and assign an $\\epsilon$ appropriately"
   ]
  },
  {
   "cell_type": "markdown",
   "metadata": {},
   "source": [
    "##### Analyze bifurcated myPDG $\\epsilon = 0.03$ with time mask and scaling $\\epsilon$ for solar generation and net consumption for the SAC"
   ]
  },
  {
   "cell_type": "code",
   "execution_count": 27,
   "metadata": {},
   "outputs": [
    {
     "data": {
      "text/plain": [
       "electrical_storage_soc                        0.034473\n",
       "electricity_pricing                           0.022663\n",
       "electricity_pricing_predicted_24h             0.022332\n",
       "electricity_pricing_predicted_12h             0.022000\n",
       "electricity_pricing_predicted_6h              0.021644\n",
       "direct_solar_irradiance_predicted_12h         0.015122\n",
       "direct_solar_irradiance                       0.014420\n",
       "direct_solar_irradiance_predicted_6h          0.014256\n",
       "outdoor_dry_bulb_temperature_predicted_12h    0.014211\n",
       "outdoor_dry_bulb_temperature_predicted_24h    0.013790\n",
       "direct_solar_irradiance_predicted_24h         0.013751\n",
       "outdoor_dry_bulb_temperature_predicted_6h     0.013572\n",
       "diffuse_solar_irradiance_predicted_12h        0.013324\n",
       "carbon_intensity                              0.012717\n",
       "diffuse_solar_irradiance_predicted_6h         0.012702\n",
       "outdoor_dry_bulb_temperature                  0.012592\n",
       "diffuse_solar_irradiance_predicted_24h        0.011389\n",
       "diffuse_solar_irradiance                      0.011183\n",
       "outdoor_relative_humidity_predicted_6h        0.010760\n",
       "outdoor_relative_humidity_predicted_12h       0.010457\n",
       "outdoor_relative_humidity                     0.010304\n",
       "outdoor_relative_humidity_predicted_24h       0.010019\n",
       "non_shiftable_load                            0.007140\n",
       "solar_generation                              0.000673\n",
       "net_electricity_consumption                   0.000641\n",
       "month_sin                                     0.000000\n",
       "hour_sin                                      0.000000\n",
       "hour_cos                                      0.000000\n",
       "day_type_sin                                  0.000000\n",
       "day_type_cos                                  0.000000\n",
       "month_cos                                     0.000000\n",
       "dtype: float64"
      ]
     },
     "execution_count": 27,
     "metadata": {},
     "output_type": "execute_result"
    }
   ],
   "source": [
    "abs(df_variation['SAC_bifurcated_myPGD_03_mask_time_time_scale_solar_and_consumption_eps'] - df_variation['SAC_baseline']).sort_values(ascending=False)"
   ]
  },
  {
   "cell_type": "markdown",
   "metadata": {},
   "source": [
    "Relative change in feature variation from attack:"
   ]
  },
  {
   "cell_type": "code",
   "execution_count": 28,
   "metadata": {},
   "outputs": [
    {
     "data": {
      "text/plain": [
       "solar_generation                              3.606673\n",
       "net_electricity_consumption                   1.999451\n",
       "outdoor_dry_bulb_temperature_predicted_12h    1.539753\n",
       "electrical_storage_soc                        1.535006\n",
       "outdoor_dry_bulb_temperature_predicted_24h    1.523820\n",
       "outdoor_dry_bulb_temperature_predicted_6h     1.515447\n",
       "outdoor_dry_bulb_temperature                  1.478285\n",
       "carbon_intensity                              1.474470\n",
       "electricity_pricing                           1.312618\n",
       "electricity_pricing_predicted_24h             1.308049\n",
       "electricity_pricing_predicted_12h             1.303476\n",
       "electricity_pricing_predicted_6h              1.298558\n",
       "outdoor_relative_humidity_predicted_6h        1.219039\n",
       "direct_solar_irradiance_predicted_12h         1.215322\n",
       "outdoor_relative_humidity_predicted_12h       1.212871\n",
       "diffuse_solar_irradiance_predicted_12h        1.211485\n",
       "outdoor_relative_humidity                     1.209783\n",
       "direct_solar_irradiance                       1.205288\n",
       "outdoor_relative_humidity_predicted_24h       1.203976\n",
       "direct_solar_irradiance_predicted_6h          1.202991\n",
       "diffuse_solar_irradiance_predicted_6h         1.201540\n",
       "direct_solar_irradiance_predicted_24h         1.195766\n",
       "diffuse_solar_irradiance_predicted_24h        1.180701\n",
       "diffuse_solar_irradiance                      1.177431\n",
       "non_shiftable_load                            1.118485\n",
       "month_sin                                     1.000000\n",
       "hour_sin                                      1.000000\n",
       "hour_cos                                      1.000000\n",
       "day_type_sin                                  1.000000\n",
       "day_type_cos                                  1.000000\n",
       "month_cos                                     1.000000\n",
       "dtype: float64"
      ]
     },
     "execution_count": 28,
     "metadata": {},
     "output_type": "execute_result"
    }
   ],
   "source": [
    "abs(df_variation['SAC_bifurcated_myPGD_03_mask_time_time_scale_solar_and_consumption_eps']/df_variation['SAC_baseline']).sort_values(ascending=False)"
   ]
  },
  {
   "cell_type": "markdown",
   "metadata": {},
   "source": [
    "Variation in net consumption might be related to SoC, which is the attacks goal, but the absolute variation in solar generation is still too high. Similar to the descrete PPO  plot aboveabove"
   ]
  },
  {
   "cell_type": "markdown",
   "metadata": {},
   "source": [
    "##### Analyze SAC bifurcated myPDG $\\epsilon = 0.03$ with:\n",
    "- solar generation and time mask\n",
    "- scaling $\\epsilon$ for net consumption, and\n",
    "- clipped adversarial observations\n",
    "\n",
    "This attack has the smallest variations with a (kinda) significant adversarial regret, and should be used for further analysis:\n",
    "- time plots of clean and adversarial non-prediction features\n",
    "- prediction accuracy"
   ]
  },
  {
   "cell_type": "code",
   "execution_count": 29,
   "metadata": {},
   "outputs": [
    {
     "data": {
      "text/plain": [
       "electricity_pricing                           0.015184\n",
       "electricity_pricing_predicted_24h             0.015122\n",
       "electricity_pricing_predicted_6h              0.014678\n",
       "electricity_pricing_predicted_12h             0.014041\n",
       "outdoor_dry_bulb_temperature_predicted_12h    0.014010\n",
       "outdoor_dry_bulb_temperature_predicted_24h    0.013615\n",
       "outdoor_dry_bulb_temperature_predicted_6h     0.013467\n",
       "outdoor_dry_bulb_temperature                  0.012792\n",
       "carbon_intensity                              0.012507\n",
       "outdoor_relative_humidity_predicted_6h        0.010646\n",
       "outdoor_relative_humidity_predicted_12h       0.010005\n",
       "outdoor_relative_humidity_predicted_24h       0.009926\n",
       "outdoor_relative_humidity                     0.009741\n",
       "direct_solar_irradiance_predicted_12h         0.007165\n",
       "direct_solar_irradiance_predicted_6h          0.006906\n",
       "direct_solar_irradiance_predicted_24h         0.006765\n",
       "direct_solar_irradiance                       0.006465\n",
       "diffuse_solar_irradiance_predicted_12h        0.006388\n",
       "diffuse_solar_irradiance_predicted_6h         0.005969\n",
       "non_shiftable_load                            0.005394\n",
       "diffuse_solar_irradiance_predicted_24h        0.005184\n",
       "diffuse_solar_irradiance                      0.004594\n",
       "electrical_storage_soc                        0.004487\n",
       "net_electricity_consumption                   0.000329\n",
       "month_sin                                     0.000000\n",
       "hour_sin                                      0.000000\n",
       "solar_generation                              0.000000\n",
       "hour_cos                                      0.000000\n",
       "day_type_sin                                  0.000000\n",
       "day_type_cos                                  0.000000\n",
       "month_cos                                     0.000000\n",
       "dtype: float64"
      ]
     },
     "execution_count": 29,
     "metadata": {},
     "output_type": "execute_result"
    }
   ],
   "source": [
    "abs(df_variation['SAC_bifurcated_myPGD_03_mask_solar_and_time_scale_consumption_eps_clipped_adv_obs'] - df_variation['SAC_baseline']).sort_values(ascending=False)"
   ]
  },
  {
   "cell_type": "code",
   "execution_count": 30,
   "metadata": {},
   "outputs": [
    {
     "data": {
      "text/html": [
       "<div>\n",
       "<style scoped>\n",
       "    .dataframe tbody tr th:only-of-type {\n",
       "        vertical-align: middle;\n",
       "    }\n",
       "\n",
       "    .dataframe tbody tr th {\n",
       "        vertical-align: top;\n",
       "    }\n",
       "\n",
       "    .dataframe thead th {\n",
       "        text-align: right;\n",
       "    }\n",
       "</style>\n",
       "<table border=\"1\" class=\"dataframe\">\n",
       "  <thead>\n",
       "    <tr style=\"text-align: right;\">\n",
       "      <th></th>\n",
       "      <th>spread</th>\n",
       "    </tr>\n",
       "  </thead>\n",
       "  <tbody>\n",
       "    <tr>\n",
       "      <th>outdoor_dry_bulb_temperature</th>\n",
       "      <td>26.600000</td>\n",
       "    </tr>\n",
       "    <tr>\n",
       "      <th>outdoor_dry_bulb_temperature_predicted_6h</th>\n",
       "      <td>26.600000</td>\n",
       "    </tr>\n",
       "    <tr>\n",
       "      <th>outdoor_dry_bulb_temperature_predicted_12h</th>\n",
       "      <td>26.600000</td>\n",
       "    </tr>\n",
       "    <tr>\n",
       "      <th>outdoor_dry_bulb_temperature_predicted_24h</th>\n",
       "      <td>26.600000</td>\n",
       "    </tr>\n",
       "    <tr>\n",
       "      <th>outdoor_relative_humidity</th>\n",
       "      <td>90.000000</td>\n",
       "    </tr>\n",
       "    <tr>\n",
       "      <th>outdoor_relative_humidity_predicted_6h</th>\n",
       "      <td>90.000000</td>\n",
       "    </tr>\n",
       "    <tr>\n",
       "      <th>outdoor_relative_humidity_predicted_12h</th>\n",
       "      <td>90.000000</td>\n",
       "    </tr>\n",
       "    <tr>\n",
       "      <th>outdoor_relative_humidity_predicted_24h</th>\n",
       "      <td>90.000000</td>\n",
       "    </tr>\n",
       "    <tr>\n",
       "      <th>diffuse_solar_irradiance</th>\n",
       "      <td>1017.000000</td>\n",
       "    </tr>\n",
       "    <tr>\n",
       "      <th>diffuse_solar_irradiance_predicted_6h</th>\n",
       "      <td>1017.000000</td>\n",
       "    </tr>\n",
       "    <tr>\n",
       "      <th>diffuse_solar_irradiance_predicted_12h</th>\n",
       "      <td>1017.000000</td>\n",
       "    </tr>\n",
       "    <tr>\n",
       "      <th>diffuse_solar_irradiance_predicted_24h</th>\n",
       "      <td>1017.000000</td>\n",
       "    </tr>\n",
       "    <tr>\n",
       "      <th>direct_solar_irradiance</th>\n",
       "      <td>953.000000</td>\n",
       "    </tr>\n",
       "    <tr>\n",
       "      <th>direct_solar_irradiance_predicted_6h</th>\n",
       "      <td>953.000000</td>\n",
       "    </tr>\n",
       "    <tr>\n",
       "      <th>direct_solar_irradiance_predicted_12h</th>\n",
       "      <td>953.000000</td>\n",
       "    </tr>\n",
       "    <tr>\n",
       "      <th>direct_solar_irradiance_predicted_24h</th>\n",
       "      <td>953.000000</td>\n",
       "    </tr>\n",
       "    <tr>\n",
       "      <th>carbon_intensity</th>\n",
       "      <td>0.211413</td>\n",
       "    </tr>\n",
       "    <tr>\n",
       "      <th>non_shiftable_load</th>\n",
       "      <td>6.790633</td>\n",
       "    </tr>\n",
       "    <tr>\n",
       "      <th>solar_generation</th>\n",
       "      <td>880.270800</td>\n",
       "    </tr>\n",
       "    <tr>\n",
       "      <th>electrical_storage_soc</th>\n",
       "      <td>1.000000</td>\n",
       "    </tr>\n",
       "    <tr>\n",
       "      <th>net_electricity_consumption</th>\n",
       "      <td>895.907500</td>\n",
       "    </tr>\n",
       "    <tr>\n",
       "      <th>electricity_pricing</th>\n",
       "      <td>0.330000</td>\n",
       "    </tr>\n",
       "    <tr>\n",
       "      <th>electricity_pricing_predicted_6h</th>\n",
       "      <td>0.330000</td>\n",
       "    </tr>\n",
       "    <tr>\n",
       "      <th>electricity_pricing_predicted_12h</th>\n",
       "      <td>0.330000</td>\n",
       "    </tr>\n",
       "    <tr>\n",
       "      <th>electricity_pricing_predicted_24h</th>\n",
       "      <td>0.330000</td>\n",
       "    </tr>\n",
       "  </tbody>\n",
       "</table>\n",
       "</div>"
      ],
      "text/plain": [
       "                                                 spread\n",
       "outdoor_dry_bulb_temperature                  26.600000\n",
       "outdoor_dry_bulb_temperature_predicted_6h     26.600000\n",
       "outdoor_dry_bulb_temperature_predicted_12h    26.600000\n",
       "outdoor_dry_bulb_temperature_predicted_24h    26.600000\n",
       "outdoor_relative_humidity                     90.000000\n",
       "outdoor_relative_humidity_predicted_6h        90.000000\n",
       "outdoor_relative_humidity_predicted_12h       90.000000\n",
       "outdoor_relative_humidity_predicted_24h       90.000000\n",
       "diffuse_solar_irradiance                    1017.000000\n",
       "diffuse_solar_irradiance_predicted_6h       1017.000000\n",
       "diffuse_solar_irradiance_predicted_12h      1017.000000\n",
       "diffuse_solar_irradiance_predicted_24h      1017.000000\n",
       "direct_solar_irradiance                      953.000000\n",
       "direct_solar_irradiance_predicted_6h         953.000000\n",
       "direct_solar_irradiance_predicted_12h        953.000000\n",
       "direct_solar_irradiance_predicted_24h        953.000000\n",
       "carbon_intensity                               0.211413\n",
       "non_shiftable_load                             6.790633\n",
       "solar_generation                             880.270800\n",
       "electrical_storage_soc                         1.000000\n",
       "net_electricity_consumption                  895.907500\n",
       "electricity_pricing                            0.330000\n",
       "electricity_pricing_predicted_6h               0.330000\n",
       "electricity_pricing_predicted_12h              0.330000\n",
       "electricity_pricing_predicted_24h              0.330000"
      ]
     },
     "execution_count": 30,
     "metadata": {},
     "output_type": "execute_result"
    }
   ],
   "source": [
    "obs_spread"
   ]
  },
  {
   "cell_type": "markdown",
   "metadata": {},
   "source": [
    "variation difference with units"
   ]
  },
  {
   "cell_type": "code",
   "execution_count": 31,
   "metadata": {},
   "outputs": [
    {
     "data": {
      "text/html": [
       "<div>\n",
       "<style scoped>\n",
       "    .dataframe tbody tr th:only-of-type {\n",
       "        vertical-align: middle;\n",
       "    }\n",
       "\n",
       "    .dataframe tbody tr th {\n",
       "        vertical-align: top;\n",
       "    }\n",
       "\n",
       "    .dataframe thead th {\n",
       "        text-align: right;\n",
       "    }\n",
       "</style>\n",
       "<table border=\"1\" class=\"dataframe\">\n",
       "  <thead>\n",
       "    <tr style=\"text-align: right;\">\n",
       "      <th></th>\n",
       "      <th>spread</th>\n",
       "    </tr>\n",
       "  </thead>\n",
       "  <tbody>\n",
       "    <tr>\n",
       "      <th>carbon_intensity</th>\n",
       "      <td>0.002644</td>\n",
       "    </tr>\n",
       "    <tr>\n",
       "      <th>day_type_cos</th>\n",
       "      <td>NaN</td>\n",
       "    </tr>\n",
       "    <tr>\n",
       "      <th>day_type_sin</th>\n",
       "      <td>NaN</td>\n",
       "    </tr>\n",
       "    <tr>\n",
       "      <th>diffuse_solar_irradiance</th>\n",
       "      <td>4.672507</td>\n",
       "    </tr>\n",
       "    <tr>\n",
       "      <th>diffuse_solar_irradiance_predicted_12h</th>\n",
       "      <td>6.496882</td>\n",
       "    </tr>\n",
       "    <tr>\n",
       "      <th>diffuse_solar_irradiance_predicted_24h</th>\n",
       "      <td>5.272457</td>\n",
       "    </tr>\n",
       "    <tr>\n",
       "      <th>diffuse_solar_irradiance_predicted_6h</th>\n",
       "      <td>6.070125</td>\n",
       "    </tr>\n",
       "    <tr>\n",
       "      <th>direct_solar_irradiance</th>\n",
       "      <td>6.160794</td>\n",
       "    </tr>\n",
       "    <tr>\n",
       "      <th>direct_solar_irradiance_predicted_12h</th>\n",
       "      <td>6.828443</td>\n",
       "    </tr>\n",
       "    <tr>\n",
       "      <th>direct_solar_irradiance_predicted_24h</th>\n",
       "      <td>6.446946</td>\n",
       "    </tr>\n",
       "    <tr>\n",
       "      <th>direct_solar_irradiance_predicted_6h</th>\n",
       "      <td>6.581709</td>\n",
       "    </tr>\n",
       "    <tr>\n",
       "      <th>electrical_storage_soc</th>\n",
       "      <td>0.004487</td>\n",
       "    </tr>\n",
       "    <tr>\n",
       "      <th>electricity_pricing</th>\n",
       "      <td>0.005011</td>\n",
       "    </tr>\n",
       "    <tr>\n",
       "      <th>electricity_pricing_predicted_12h</th>\n",
       "      <td>0.004634</td>\n",
       "    </tr>\n",
       "    <tr>\n",
       "      <th>electricity_pricing_predicted_24h</th>\n",
       "      <td>0.004990</td>\n",
       "    </tr>\n",
       "    <tr>\n",
       "      <th>electricity_pricing_predicted_6h</th>\n",
       "      <td>0.004844</td>\n",
       "    </tr>\n",
       "    <tr>\n",
       "      <th>hour_cos</th>\n",
       "      <td>NaN</td>\n",
       "    </tr>\n",
       "    <tr>\n",
       "      <th>hour_sin</th>\n",
       "      <td>NaN</td>\n",
       "    </tr>\n",
       "    <tr>\n",
       "      <th>month_cos</th>\n",
       "      <td>NaN</td>\n",
       "    </tr>\n",
       "    <tr>\n",
       "      <th>month_sin</th>\n",
       "      <td>NaN</td>\n",
       "    </tr>\n",
       "    <tr>\n",
       "      <th>net_electricity_consumption</th>\n",
       "      <td>0.294347</td>\n",
       "    </tr>\n",
       "    <tr>\n",
       "      <th>non_shiftable_load</th>\n",
       "      <td>0.036628</td>\n",
       "    </tr>\n",
       "    <tr>\n",
       "      <th>outdoor_dry_bulb_temperature</th>\n",
       "      <td>0.340272</td>\n",
       "    </tr>\n",
       "    <tr>\n",
       "      <th>outdoor_dry_bulb_temperature_predicted_12h</th>\n",
       "      <td>0.372666</td>\n",
       "    </tr>\n",
       "    <tr>\n",
       "      <th>outdoor_dry_bulb_temperature_predicted_24h</th>\n",
       "      <td>0.362147</td>\n",
       "    </tr>\n",
       "    <tr>\n",
       "      <th>outdoor_dry_bulb_temperature_predicted_6h</th>\n",
       "      <td>0.358212</td>\n",
       "    </tr>\n",
       "    <tr>\n",
       "      <th>outdoor_relative_humidity</th>\n",
       "      <td>0.876697</td>\n",
       "    </tr>\n",
       "    <tr>\n",
       "      <th>outdoor_relative_humidity_predicted_12h</th>\n",
       "      <td>0.900480</td>\n",
       "    </tr>\n",
       "    <tr>\n",
       "      <th>outdoor_relative_humidity_predicted_24h</th>\n",
       "      <td>0.893332</td>\n",
       "    </tr>\n",
       "    <tr>\n",
       "      <th>outdoor_relative_humidity_predicted_6h</th>\n",
       "      <td>0.958143</td>\n",
       "    </tr>\n",
       "    <tr>\n",
       "      <th>solar_generation</th>\n",
       "      <td>0.000000</td>\n",
       "    </tr>\n",
       "  </tbody>\n",
       "</table>\n",
       "</div>"
      ],
      "text/plain": [
       "                                              spread\n",
       "carbon_intensity                            0.002644\n",
       "day_type_cos                                     NaN\n",
       "day_type_sin                                     NaN\n",
       "diffuse_solar_irradiance                    4.672507\n",
       "diffuse_solar_irradiance_predicted_12h      6.496882\n",
       "diffuse_solar_irradiance_predicted_24h      5.272457\n",
       "diffuse_solar_irradiance_predicted_6h       6.070125\n",
       "direct_solar_irradiance                     6.160794\n",
       "direct_solar_irradiance_predicted_12h       6.828443\n",
       "direct_solar_irradiance_predicted_24h       6.446946\n",
       "direct_solar_irradiance_predicted_6h        6.581709\n",
       "electrical_storage_soc                      0.004487\n",
       "electricity_pricing                         0.005011\n",
       "electricity_pricing_predicted_12h           0.004634\n",
       "electricity_pricing_predicted_24h           0.004990\n",
       "electricity_pricing_predicted_6h            0.004844\n",
       "hour_cos                                         NaN\n",
       "hour_sin                                         NaN\n",
       "month_cos                                        NaN\n",
       "month_sin                                        NaN\n",
       "net_electricity_consumption                 0.294347\n",
       "non_shiftable_load                          0.036628\n",
       "outdoor_dry_bulb_temperature                0.340272\n",
       "outdoor_dry_bulb_temperature_predicted_12h  0.372666\n",
       "outdoor_dry_bulb_temperature_predicted_24h  0.362147\n",
       "outdoor_dry_bulb_temperature_predicted_6h   0.358212\n",
       "outdoor_relative_humidity                   0.876697\n",
       "outdoor_relative_humidity_predicted_12h     0.900480\n",
       "outdoor_relative_humidity_predicted_24h     0.893332\n",
       "outdoor_relative_humidity_predicted_6h      0.958143\n",
       "solar_generation                            0.000000"
      ]
     },
     "execution_count": 31,
     "metadata": {},
     "output_type": "execute_result"
    }
   ],
   "source": [
    "(abs(df_variation['SAC_bifurcated_myPGD_03_mask_solar_and_time_scale_consumption_eps_clipped_adv_obs'] - df_variation['SAC_baseline']).mul(obs_spread.T)).T"
   ]
  },
  {
   "cell_type": "markdown",
   "metadata": {},
   "source": [
    "Relative change in feature variation from attack:"
   ]
  },
  {
   "cell_type": "code",
   "execution_count": 32,
   "metadata": {},
   "outputs": [
    {
     "data": {
      "text/plain": [
       "outdoor_dry_bulb_temperature_predicted_12h    1.532128\n",
       "outdoor_dry_bulb_temperature_predicted_24h    1.517167\n",
       "net_electricity_consumption                   1.512310\n",
       "outdoor_dry_bulb_temperature_predicted_6h     1.511448\n",
       "outdoor_dry_bulb_temperature                  1.485889\n",
       "carbon_intensity                              1.466645\n",
       "outdoor_relative_humidity_predicted_6h        1.216715\n",
       "electricity_pricing                           1.209447\n",
       "electricity_pricing_predicted_24h             1.208588\n",
       "outdoor_relative_humidity_predicted_12h       1.203683\n",
       "electricity_pricing_predicted_6h              1.202466\n",
       "outdoor_relative_humidity_predicted_24h       1.202082\n",
       "outdoor_relative_humidity                     1.198319\n",
       "electricity_pricing_predicted_12h             1.193685\n",
       "direct_solar_irradiance_predicted_12h         1.102023\n",
       "diffuse_solar_irradiance_predicted_12h        1.101394\n",
       "direct_solar_irradiance_predicted_6h          1.098340\n",
       "direct_solar_irradiance_predicted_24h         1.096310\n",
       "diffuse_solar_irradiance_predicted_6h         1.094707\n",
       "direct_solar_irradiance                       1.092035\n",
       "non_shiftable_load                            1.089505\n",
       "diffuse_solar_irradiance_predicted_24h        1.082258\n",
       "diffuse_solar_irradiance                      1.072898\n",
       "electrical_storage_soc                        1.069637\n",
       "month_sin                                     1.000000\n",
       "solar_generation                              1.000000\n",
       "hour_sin                                      1.000000\n",
       "hour_cos                                      1.000000\n",
       "day_type_sin                                  1.000000\n",
       "day_type_cos                                  1.000000\n",
       "month_cos                                     1.000000\n",
       "dtype: float64"
      ]
     },
     "execution_count": 32,
     "metadata": {},
     "output_type": "execute_result"
    }
   ],
   "source": [
    "abs(df_variation['SAC_bifurcated_myPGD_03_mask_solar_and_time_scale_consumption_eps_clipped_adv_obs']/df_variation['SAC_baseline']).sort_values(ascending=False)"
   ]
  },
  {
   "cell_type": "markdown",
   "metadata": {},
   "source": [
    "##### Analyze bifurcated ACG $\\epsilon = 0.03$ masking time, solar generation and net consumption for the SAC"
   ]
  },
  {
   "cell_type": "code",
   "execution_count": 42,
   "metadata": {},
   "outputs": [
    {
     "data": {
      "text/plain": [
       "direct_solar_irradiance                       0.031151\n",
       "electricity_pricing_predicted_6h              0.027009\n",
       "direct_solar_irradiance_predicted_24h         0.024687\n",
       "month_cos                                     0.020927\n",
       "month_sin                                     0.020689\n",
       "diffuse_solar_irradiance_predicted_12h        0.018411\n",
       "direct_solar_irradiance_predicted_12h         0.017160\n",
       "net_electricity_consumption                   0.016232\n",
       "hour_sin                                      0.015984\n",
       "outdoor_dry_bulb_temperature_predicted_24h    0.015070\n",
       "electricity_pricing_predicted_24h             0.014834\n",
       "outdoor_dry_bulb_temperature                  0.014525\n",
       "electricity_pricing                           0.013948\n",
       "day_type_cos                                  0.013930\n",
       "outdoor_dry_bulb_temperature_predicted_6h     0.013464\n",
       "solar_generation                              0.013223\n",
       "outdoor_dry_bulb_temperature_predicted_12h    0.012910\n",
       "carbon_intensity                              0.012379\n",
       "diffuse_solar_irradiance                      0.011798\n",
       "diffuse_solar_irradiance_predicted_24h        0.011331\n",
       "non_shiftable_load                            0.011002\n",
       "day_type_sin                                  0.010901\n",
       "hour_cos                                      0.010592\n",
       "outdoor_relative_humidity                     0.010246\n",
       "electricity_pricing_predicted_12h             0.009031\n",
       "diffuse_solar_irradiance_predicted_6h         0.005825\n",
       "outdoor_relative_humidity_predicted_12h       0.005389\n",
       "outdoor_relative_humidity_predicted_6h        0.005006\n",
       "outdoor_relative_humidity_predicted_24h       0.004327\n",
       "electrical_storage_soc                        0.004085\n",
       "direct_solar_irradiance_predicted_6h          0.002068\n",
       "dtype: float64"
      ]
     },
     "execution_count": 42,
     "metadata": {},
     "output_type": "execute_result"
    }
   ],
   "source": [
    "abs(df_variation['PPO_bifurcated_ACG_03_mask_solar_time_and_consumption_adv_obs'] - df_variation['PPO_baseline']).sort_values(ascending=False)"
   ]
  },
  {
   "cell_type": "markdown",
   "metadata": {},
   "source": [
    "Relative change in feature variation from attack:"
   ]
  },
  {
   "cell_type": "code",
   "execution_count": 41,
   "metadata": {},
   "outputs": [
    {
     "data": {
      "text/plain": [
       "month_cos                                     92.639721\n",
       "month_sin                                     91.597536\n",
       "solar_generation                              52.240028\n",
       "net_electricity_consumption                   26.195630\n",
       "day_type_cos                                   2.374356\n",
       "day_type_sin                                   1.911766\n",
       "outdoor_dry_bulb_temperature_predicted_24h     1.572442\n",
       "outdoor_dry_bulb_temperature                   1.551695\n",
       "outdoor_dry_bulb_temperature_predicted_6h      1.511352\n",
       "outdoor_dry_bulb_temperature_predicted_12h     1.490354\n",
       "carbon_intensity                               1.461884\n",
       "direct_solar_irradiance                        1.443490\n",
       "electricity_pricing_predicted_6h               1.372558\n",
       "direct_solar_irradiance_predicted_24h          1.351465\n",
       "outdoor_relative_humidity                      1.208600\n",
       "electricity_pricing_predicted_24h              1.204616\n",
       "electricity_pricing                            1.192395\n",
       "diffuse_solar_irradiance                       1.187189\n",
       "non_shiftable_load                             1.182564\n",
       "diffuse_solar_irradiance_predicted_24h         1.179779\n",
       "hour_cos                                       1.127092\n",
       "electricity_pricing_predicted_12h              1.124568\n",
       "outdoor_relative_humidity_predicted_12h        1.109711\n",
       "outdoor_relative_humidity_predicted_6h         1.101905\n",
       "outdoor_relative_humidity_predicted_24h        1.088092\n",
       "electrical_storage_soc                         1.050021\n",
       "direct_solar_irradiance_predicted_6h           0.970553\n",
       "diffuse_solar_irradiance_predicted_6h          0.907579\n",
       "hour_sin                                       0.808165\n",
       "direct_solar_irradiance_predicted_12h          0.755661\n",
       "diffuse_solar_irradiance_predicted_12h         0.707774\n",
       "dtype: float64"
      ]
     },
     "execution_count": 41,
     "metadata": {},
     "output_type": "execute_result"
    }
   ],
   "source": [
    "abs(df_variation['PPO_bifurcated_ACG_03_mask_solar_time_and_consumption_adv_obs']/df_variation['PPO_baseline']).sort_values(ascending=False)"
   ]
  },
  {
   "cell_type": "markdown",
   "metadata": {},
   "source": [
    "Smaller adv regret and variation in net consumption, suggesting the two are related"
   ]
  },
  {
   "cell_type": "markdown",
   "metadata": {},
   "source": [
    "##### Analyze bifurcated ACG $\\epsilon = 0.03$ masking time, solar generation and net consumption for the SAC"
   ]
  },
  {
   "cell_type": "code",
   "execution_count": 35,
   "metadata": {},
   "outputs": [
    {
     "data": {
      "text/plain": [
       "electrical_storage_soc                        0.031232\n",
       "month_sin                                     0.021557\n",
       "month_cos                                     0.021363\n",
       "day_type_cos                                  0.020889\n",
       "day_type_sin                                  0.019043\n",
       "net_electricity_consumption                   0.016889\n",
       "electricity_pricing                           0.016127\n",
       "electricity_pricing_predicted_24h             0.016098\n",
       "electricity_pricing_predicted_12h             0.015981\n",
       "electricity_pricing_predicted_6h              0.015946\n",
       "outdoor_dry_bulb_temperature_predicted_6h     0.014207\n",
       "outdoor_dry_bulb_temperature_predicted_12h    0.013856\n",
       "outdoor_dry_bulb_temperature                  0.013462\n",
       "outdoor_dry_bulb_temperature_predicted_24h    0.013156\n",
       "carbon_intensity                              0.012661\n",
       "solar_generation                              0.012432\n",
       "outdoor_relative_humidity_predicted_24h       0.010091\n",
       "outdoor_relative_humidity_predicted_6h        0.009991\n",
       "outdoor_relative_humidity                     0.009462\n",
       "outdoor_relative_humidity_predicted_12h       0.009309\n",
       "direct_solar_irradiance_predicted_6h          0.007556\n",
       "direct_solar_irradiance_predicted_12h         0.007505\n",
       "non_shiftable_load                            0.007489\n",
       "direct_solar_irradiance_predicted_24h         0.007456\n",
       "direct_solar_irradiance                       0.007191\n",
       "diffuse_solar_irradiance_predicted_6h         0.006758\n",
       "diffuse_solar_irradiance_predicted_12h        0.006568\n",
       "diffuse_solar_irradiance                      0.006120\n",
       "diffuse_solar_irradiance_predicted_24h        0.005590\n",
       "hour_cos                                      0.000495\n",
       "hour_sin                                      0.000350\n",
       "dtype: float64"
      ]
     },
     "execution_count": 35,
     "metadata": {},
     "output_type": "execute_result"
    }
   ],
   "source": [
    "abs(df_variation['SAC_bifurcated_ACG_03_mask_solar_time_and_consumption_adv_obs'] - df_variation['SAC_baseline']).sort_values(ascending=False)"
   ]
  },
  {
   "cell_type": "markdown",
   "metadata": {},
   "source": [
    "Relative change in feature variation from attack:"
   ]
  },
  {
   "cell_type": "code",
   "execution_count": 36,
   "metadata": {},
   "outputs": [
    {
     "data": {
      "text/plain": [
       "month_sin                                     95.399251\n",
       "month_cos                                     94.549478\n",
       "solar_generation                              49.172108\n",
       "net_electricity_consumption                   27.335275\n",
       "day_type_cos                                   3.060877\n",
       "day_type_sin                                   2.592782\n",
       "outdoor_dry_bulb_temperature_predicted_6h      1.539575\n",
       "outdoor_dry_bulb_temperature_predicted_12h     1.526275\n",
       "outdoor_dry_bulb_temperature                   1.511335\n",
       "outdoor_dry_bulb_temperature_predicted_24h     1.499744\n",
       "electrical_storage_soc                         1.484707\n",
       "carbon_intensity                               1.472401\n",
       "electricity_pricing                            1.222451\n",
       "electricity_pricing_predicted_24h              1.222061\n",
       "electricity_pricing_predicted_12h              1.220450\n",
       "electricity_pricing_predicted_6h               1.219957\n",
       "outdoor_relative_humidity_predicted_24h        1.205447\n",
       "outdoor_relative_humidity_predicted_6h         1.203390\n",
       "outdoor_relative_humidity                      1.192637\n",
       "outdoor_relative_humidity_predicted_12h        1.189516\n",
       "non_shiftable_load                             1.124267\n",
       "direct_solar_irradiance_predicted_6h           1.107595\n",
       "diffuse_solar_irradiance_predicted_6h          1.107236\n",
       "direct_solar_irradiance_predicted_12h          1.106862\n",
       "direct_solar_irradiance_predicted_24h          1.106143\n",
       "diffuse_solar_irradiance_predicted_12h         1.104243\n",
       "direct_solar_irradiance                        1.102376\n",
       "diffuse_solar_irradiance                       1.097107\n",
       "diffuse_solar_irradiance_predicted_24h         1.088691\n",
       "hour_sin                                       0.995801\n",
       "hour_cos                                       0.994055\n",
       "dtype: float64"
      ]
     },
     "execution_count": 36,
     "metadata": {},
     "output_type": "execute_result"
    }
   ],
   "source": [
    "abs(df_variation['SAC_bifurcated_ACG_03_mask_solar_time_and_consumption_adv_obs']/df_variation['SAC_baseline']).sort_values(ascending=False)"
   ]
  },
  {
   "cell_type": "markdown",
   "metadata": {},
   "source": [
    "##### Analyze toggle bifurcated myPGD $\\epsilon = 0.03$ masking time"
   ]
  },
  {
   "cell_type": "code",
   "execution_count": 37,
   "metadata": {},
   "outputs": [
    {
     "data": {
      "text/plain": [
       "electrical_storage_soc                        0.131929\n",
       "solar_generation                              0.040405\n",
       "net_electricity_consumption                   0.033276\n",
       "electricity_pricing_predicted_12h             0.030735\n",
       "electricity_pricing_predicted_24h             0.030219\n",
       "electricity_pricing_predicted_6h              0.030172\n",
       "electricity_pricing                           0.029900\n",
       "direct_solar_irradiance_predicted_12h         0.019679\n",
       "direct_solar_irradiance                       0.019455\n",
       "direct_solar_irradiance_predicted_6h          0.019377\n",
       "direct_solar_irradiance_predicted_24h         0.019024\n",
       "outdoor_dry_bulb_temperature                  0.018838\n",
       "diffuse_solar_irradiance_predicted_12h        0.018290\n",
       "outdoor_dry_bulb_temperature_predicted_12h    0.018279\n",
       "outdoor_dry_bulb_temperature_predicted_6h     0.018272\n",
       "diffuse_solar_irradiance_predicted_6h         0.018160\n",
       "outdoor_dry_bulb_temperature_predicted_24h    0.017981\n",
       "diffuse_solar_irradiance                      0.017311\n",
       "carbon_intensity                              0.017230\n",
       "diffuse_solar_irradiance_predicted_24h        0.016922\n",
       "non_shiftable_load                            0.016030\n",
       "outdoor_relative_humidity_predicted_24h       0.014615\n",
       "outdoor_relative_humidity                     0.014285\n",
       "outdoor_relative_humidity_predicted_6h        0.013909\n",
       "outdoor_relative_humidity_predicted_12h       0.013369\n",
       "month_sin                                     0.000000\n",
       "hour_sin                                      0.000000\n",
       "hour_cos                                      0.000000\n",
       "day_type_sin                                  0.000000\n",
       "day_type_cos                                  0.000000\n",
       "month_cos                                     0.000000\n",
       "dtype: float64"
      ]
     },
     "execution_count": 37,
     "metadata": {},
     "output_type": "execute_result"
    }
   ],
   "source": [
    "abs(df_variation['SAC_toggle_bifurcated_myPGD_03_mask_time'] - df_variation['SAC_baseline']).sort_values(ascending=False)"
   ]
  },
  {
   "cell_type": "code",
   "execution_count": 38,
   "metadata": {},
   "outputs": [
    {
     "data": {
      "text/plain": [
       "solar_generation                              157.568528\n",
       "net_electricity_consumption                    52.888512\n",
       "electrical_storage_soc                          3.047484\n",
       "outdoor_dry_bulb_temperature                    1.715516\n",
       "outdoor_dry_bulb_temperature_predicted_12h      1.694257\n",
       "outdoor_dry_bulb_temperature_predicted_6h       1.693934\n",
       "outdoor_dry_bulb_temperature_predicted_24h      1.683035\n",
       "carbon_intensity                                1.642877\n",
       "electricity_pricing_predicted_12h               1.423959\n",
       "electricity_pricing_predicted_24h               1.416842\n",
       "electricity_pricing_predicted_6h                1.416194\n",
       "electricity_pricing                             1.412437\n",
       "outdoor_relative_humidity_predicted_24h         1.297549\n",
       "outdoor_relative_humidity                       1.290824\n",
       "diffuse_solar_irradiance_predicted_12h          1.290303\n",
       "diffuse_solar_irradiance_predicted_6h           1.288152\n",
       "outdoor_relative_humidity_predicted_6h          1.283131\n",
       "direct_solar_irradiance_predicted_12h           1.280204\n",
       "direct_solar_irradiance                         1.276969\n",
       "direct_solar_irradiance_predicted_6h            1.275914\n",
       "diffuse_solar_irradiance                        1.274668\n",
       "outdoor_relative_humidity_predicted_12h         1.272168\n",
       "direct_solar_irradiance_predicted_24h           1.270833\n",
       "diffuse_solar_irradiance_predicted_24h          1.268492\n",
       "non_shiftable_load                              1.265998\n",
       "month_sin                                       1.000000\n",
       "hour_sin                                        1.000000\n",
       "hour_cos                                        1.000000\n",
       "day_type_sin                                    1.000000\n",
       "day_type_cos                                    1.000000\n",
       "month_cos                                       1.000000\n",
       "dtype: float64"
      ]
     },
     "execution_count": 38,
     "metadata": {},
     "output_type": "execute_result"
    }
   ],
   "source": [
    "abs(df_variation['SAC_toggle_bifurcated_myPGD_03_mask_time']/df_variation['SAC_baseline']).sort_values(ascending=False)"
   ]
  },
  {
   "cell_type": "markdown",
   "metadata": {},
   "source": [
    "##### Analyze toggle bifurcated myPGD $\\epsilon = 0.03$ masking time, solar generation and net consumption for the SAC\n",
    "\n",
    "This has a lower adv regret than the corresponding bifurcation attack"
   ]
  },
  {
   "cell_type": "code",
   "execution_count": 39,
   "metadata": {},
   "outputs": [
    {
     "data": {
      "text/plain": [
       "electricity_pricing_predicted_12h             0.021478\n",
       "electricity_pricing_predicted_6h              0.020949\n",
       "electricity_pricing_predicted_24h             0.020512\n",
       "electricity_pricing                           0.020388\n",
       "electrical_storage_soc                        0.019690\n",
       "outdoor_dry_bulb_temperature                  0.019293\n",
       "outdoor_dry_bulb_temperature_predicted_6h     0.019011\n",
       "outdoor_dry_bulb_temperature_predicted_12h    0.018987\n",
       "outdoor_dry_bulb_temperature_predicted_24h    0.018608\n",
       "carbon_intensity                              0.017510\n",
       "outdoor_relative_humidity                     0.014752\n",
       "outdoor_relative_humidity_predicted_24h       0.014301\n",
       "outdoor_relative_humidity_predicted_12h       0.013943\n",
       "outdoor_relative_humidity_predicted_6h        0.013787\n",
       "non_shiftable_load                            0.013104\n",
       "direct_solar_irradiance                       0.010380\n",
       "direct_solar_irradiance_predicted_6h          0.010024\n",
       "direct_solar_irradiance_predicted_12h         0.009932\n",
       "direct_solar_irradiance_predicted_24h         0.009613\n",
       "diffuse_solar_irradiance_predicted_12h        0.009100\n",
       "diffuse_solar_irradiance_predicted_6h         0.008733\n",
       "diffuse_solar_irradiance                      0.008567\n",
       "diffuse_solar_irradiance_predicted_24h        0.008300\n",
       "net_electricity_consumption                   0.000620\n",
       "month_sin                                     0.000000\n",
       "solar_generation                              0.000000\n",
       "hour_sin                                      0.000000\n",
       "hour_cos                                      0.000000\n",
       "day_type_sin                                  0.000000\n",
       "day_type_cos                                  0.000000\n",
       "month_cos                                     0.000000\n",
       "dtype: float64"
      ]
     },
     "execution_count": 39,
     "metadata": {},
     "output_type": "execute_result"
    }
   ],
   "source": [
    "abs(df_variation['SAC_toggle_bifurcated_myPGD_03_mask_solar_and_time_scale_consumption_eps_clipped_adv_obs'] - df_variation['SAC_baseline']).sort_values(ascending=False)"
   ]
  },
  {
   "cell_type": "code",
   "execution_count": 40,
   "metadata": {},
   "outputs": [
    {
     "data": {
      "text/plain": [
       "net_electricity_consumption                   1.966402\n",
       "outdoor_dry_bulb_temperature                  1.732828\n",
       "outdoor_dry_bulb_temperature_predicted_6h     1.722023\n",
       "outdoor_dry_bulb_temperature_predicted_12h    1.721160\n",
       "outdoor_dry_bulb_temperature_predicted_24h    1.706864\n",
       "carbon_intensity                              1.653330\n",
       "electrical_storage_soc                        1.305578\n",
       "outdoor_relative_humidity                     1.300344\n",
       "electricity_pricing_predicted_12h             1.296264\n",
       "outdoor_relative_humidity_predicted_24h       1.291158\n",
       "electricity_pricing_predicted_6h              1.288977\n",
       "outdoor_relative_humidity_predicted_12h       1.283842\n",
       "electricity_pricing_predicted_24h             1.282939\n",
       "electricity_pricing                           1.281231\n",
       "outdoor_relative_humidity_predicted_6h        1.280654\n",
       "non_shiftable_load                            1.217446\n",
       "direct_solar_irradiance                       1.147777\n",
       "diffuse_solar_irradiance_predicted_12h        1.144437\n",
       "direct_solar_irradiance_predicted_6h          1.142728\n",
       "direct_solar_irradiance_predicted_12h         1.141411\n",
       "diffuse_solar_irradiance_predicted_6h         1.138563\n",
       "direct_solar_irradiance_predicted_24h         1.136860\n",
       "diffuse_solar_irradiance                      1.135925\n",
       "diffuse_solar_irradiance_predicted_24h        1.131690\n",
       "month_sin                                     1.000000\n",
       "solar_generation                              1.000000\n",
       "hour_sin                                      1.000000\n",
       "hour_cos                                      1.000000\n",
       "day_type_sin                                  1.000000\n",
       "day_type_cos                                  1.000000\n",
       "month_cos                                     1.000000\n",
       "dtype: float64"
      ]
     },
     "execution_count": 40,
     "metadata": {},
     "output_type": "execute_result"
    }
   ],
   "source": [
    "abs(df_variation['SAC_toggle_bifurcated_myPGD_03_mask_solar_and_time_scale_consumption_eps_clipped_adv_obs']/df_variation['SAC_baseline']).sort_values(ascending=False)"
   ]
  },
  {
   "cell_type": "code",
   "execution_count": null,
   "metadata": {},
   "outputs": [],
   "source": []
  }
 ],
 "metadata": {
  "kernelspec": {
   "display_name": "CityLearnART",
   "language": "python",
   "name": "python3"
  },
  "language_info": {
   "codemirror_mode": {
    "name": "ipython",
    "version": 3
   },
   "file_extension": ".py",
   "mimetype": "text/x-python",
   "name": "python",
   "nbconvert_exporter": "python",
   "pygments_lexer": "ipython3",
   "version": "3.10.12"
  }
 },
 "nbformat": 4,
 "nbformat_minor": 2
}
