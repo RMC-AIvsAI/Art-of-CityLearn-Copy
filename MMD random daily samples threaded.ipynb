{
 "cells": [
  {
   "cell_type": "markdown",
   "metadata": {},
   "source": [
    "Tutorial for MMD with the TorchDrift library: https://towardsai.net/p/machine-learning/drift-detection-using-torchdrift-for-tabular-and-time-series-data\n",
    "\n",
    "more documentation on TorchDrift MMD: https://torchdrift.org/notebooks/note_on_mmd.html"
   ]
  },
  {
   "cell_type": "code",
   "execution_count": 1,
   "metadata": {},
   "outputs": [],
   "source": [
    "import pandas as pd\n",
    "import torch\n",
    "import torchdrift.detectors as detectors\n",
    "from joblib import Parallel, delayed\n",
    "from tqdm import tqdm\n",
    "import numpy as np"
   ]
  },
  {
   "cell_type": "code",
   "execution_count": 2,
   "metadata": {},
   "outputs": [],
   "source": [
    "SAMPLE = r'20 bin PPO 500 results\\baseline_obs.csv'\n",
    "SAVE_DIR = r'20 bin PPO 500 results' + '/'\n",
    "SAVE_NAME = 'MMD_baseline_random_daily_samples'\n",
    "REPETITIONS = 80\n",
    "JOBS = 4 #juuuust enough VRAM for 5, 4 uses ~10 GB"
   ]
  },
  {
   "cell_type": "markdown",
   "metadata": {},
   "source": [
    "##### On the (Statistical) Detection of Adversarial Examples\n",
    "\n",
    "**Two-sample hypothesis testing** — As stated before, the test we chose is appropriate to handle high dimensional inputs and small sample sizes. We compute the biased estimate of MMD using a **Gaussian kernel**, and then apply **10 000 bootstrapping iterations** to estimate the distributions. Based on this, we compute the **pvalue** and compare it to the threshold, in our experiments **0.05**. For samples of **legitimate data, the observed p-value should always be very high**, whereas for sample sets containing adversarial examples, we expect it to be low—since they are sampled from a different distribution and thus the hypothesis should be rejected. The test is more likely to detect a difference in two distributions when it considers samples of large size (i.e., the sample contains more inputs from the distribution)."
   ]
  },
  {
   "cell_type": "code",
   "execution_count": 3,
   "metadata": {},
   "outputs": [],
   "source": [
    "BOOTSTRAP = 10_000\n",
    "PVAL = 0.05\n",
    "kernel = detectors.mmd.GaussianKernel()"
   ]
  },
  {
   "cell_type": "markdown",
   "metadata": {},
   "source": [
    "Because our dataset is a time series, we will use MMD on different time segments rather than shuffling the dataset"
   ]
  },
  {
   "cell_type": "markdown",
   "metadata": {},
   "source": [
    "Load unperturbed observations from untargeted adversarial attack"
   ]
  },
  {
   "cell_type": "code",
   "execution_count": 4,
   "metadata": {},
   "outputs": [],
   "source": [
    "df_obs = pd.read_csv(SAMPLE, \n",
    "                        index_col=0,\n",
    "                        dtype='float32',\n",
    "                        )\n",
    "df_obs.set_index(df_obs.index.astype(int), inplace=True) #all data is loaded as float32, but the index should be an int"
   ]
  },
  {
   "cell_type": "markdown",
   "metadata": {},
   "source": [
    "Remove actions if stored in df"
   ]
  },
  {
   "cell_type": "code",
   "execution_count": 5,
   "metadata": {},
   "outputs": [],
   "source": [
    "if 'a' in df_obs.columns:\n",
    "    df_obs.drop(columns=['a'], inplace=True)\n",
    "elif 'actions' in df_obs.columns:\n",
    "    df_obs.drop(columns=['actions'], inplace=True)"
   ]
  },
  {
   "cell_type": "code",
   "execution_count": 6,
   "metadata": {},
   "outputs": [],
   "source": [
    "def process_func(df_obs):\n",
    "    samples_per_day = 24\n",
    "\n",
    "    # Split the DataFrame into two equal parts day by day\n",
    "    df1 = pd.DataFrame()\n",
    "    df2 = pd.DataFrame()\n",
    "\n",
    "    for i in range(0, len(df_obs), samples_per_day):\n",
    "        daily_samples = df_obs.iloc[i:i+samples_per_day]\n",
    "        daily_samples = daily_samples.sample(frac=1)  # shuffle the daily samples\n",
    "        df1 = df1.append(daily_samples.iloc[:samples_per_day//2])\n",
    "        df2 = df2.append(daily_samples.iloc[samples_per_day//2:])\n",
    "\n",
    "    df1 = df1.reset_index(drop=True)\n",
    "    df2 = df2.reset_index(drop=True)\n",
    "    \n",
    "    #compute MMD\n",
    "    result = detectors.kernel_mmd(torch.from_numpy(df1.values).to('cuda'), \n",
    "                                  torch.from_numpy(df2.values).to('cuda'), \n",
    "                                  n_perm=BOOTSTRAP,\n",
    "                                  kernel=kernel)\n",
    "    \n",
    "    #convert cuda tensors to numpy\n",
    "    cpu_result = [tensor.item() for tensor in result]\n",
    "    return cpu_result"
   ]
  },
  {
   "cell_type": "code",
   "execution_count": 7,
   "metadata": {},
   "outputs": [
    {
     "name": "stderr",
     "output_type": "stream",
     "text": [
      "100%|██████████| 80/80 [55:41<00:00, 41.77s/it]\n"
     ]
    }
   ],
   "source": [
    "result = Parallel(n_jobs=JOBS,\n",
    "                  prefer='threads',\n",
    "                  )(delayed(process_func)(df_obs) for _ in tqdm(range(REPETITIONS)))"
   ]
  },
  {
   "cell_type": "code",
   "execution_count": 8,
   "metadata": {},
   "outputs": [
    {
     "name": "stdout",
     "output_type": "stream",
     "text": [
      "20 bin PPO 500 results/MMDs.csv updated\n"
     ]
    }
   ],
   "source": [
    "mmd_savename = SAVE_DIR+'MMDs.csv'\n",
    "try:\n",
    "    df_mmd = pd.read_csv(mmd_savename,\n",
    "                         index_col=0)\n",
    "    df_mmd = df_mmd.append(\n",
    "            pd.DataFrame(result,\n",
    "                         columns=df_mmd.columns,\n",
    "                         index=[SAVE_NAME + f'_{i}' for i in range(len(result))],\n",
    "                         ),\n",
    "            )\n",
    "    #df_mmd.loc[ATK_NAME] = cpu_result\n",
    "    df_mmd.to_csv(mmd_savename)\n",
    "    print(f'{mmd_savename} updated')\n",
    "except:\n",
    "    df_mmd = pd.DataFrame(result,\n",
    "                      columns=['MMD','p_value'],\n",
    "                      index=[SAVE_NAME + f'_{i}' for i in range(len(result))])\n",
    "    df_mmd.to_csv(mmd_savename)\n",
    "    print(f'{mmd_savename} created')"
   ]
  },
  {
   "cell_type": "code",
   "execution_count": null,
   "metadata": {},
   "outputs": [],
   "source": []
  }
 ],
 "metadata": {
  "kernelspec": {
   "display_name": "CityLearnART",
   "language": "python",
   "name": "python3"
  },
  "language_info": {
   "codemirror_mode": {
    "name": "ipython",
    "version": 3
   },
   "file_extension": ".py",
   "mimetype": "text/x-python",
   "name": "python",
   "nbconvert_exporter": "python",
   "pygments_lexer": "ipython3",
   "version": "3.10.12"
  }
 },
 "nbformat": 4,
 "nbformat_minor": 2
}
