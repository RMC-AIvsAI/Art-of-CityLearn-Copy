{
 "cells": [
  {
   "cell_type": "markdown",
   "metadata": {},
   "source": [
    "# Copy instead of modifying to preserve attack parameters"
   ]
  },
  {
   "cell_type": "code",
   "execution_count": 17,
   "metadata": {},
   "outputs": [],
   "source": [
    "AGENT_NAME = '20 bin PPO 500 results/default_PPO_citylearn_challenge_2022_phase_2_Building_6_20_bins_500.zip'\n",
    "DATASET_NAME = 'citylearn_challenge_2022_phase_2' #only action is electrical storage\n",
    "SURROGATE_PATH = '20 bin PPO 500 results/surrogates/imitator.pth'\n",
    "#RUNS = 5\n",
    "TRIAL = 1\n",
    "SAVE_DIR = '20 bin PPO 500 results/imitator fgm restarts vs asr' + '/'"
   ]
  },
  {
   "cell_type": "code",
   "execution_count": 18,
   "metadata": {},
   "outputs": [],
   "source": [
    "from stable_baselines3 import PPO\n",
    "\n",
    "from citylearn.data import DataSet\n",
    "\n",
    "from art.estimators.classification import PyTorchClassifier as classifier\n",
    "from art.attacks.evasion import FastGradientMethod as FGM\n",
    "\n",
    "import pandas as pd\n",
    "import numpy as np\n",
    "import os\n",
    "import torch\n",
    "from torch.nn import CrossEntropyLoss\n",
    "\n",
    "import KBMproject.utilities as utils\n",
    "\n",
    "from joblib import Parallel, delayed\n",
    "\n",
    "%matplotlib inline"
   ]
  },
  {
   "cell_type": "code",
   "execution_count": 19,
   "metadata": {},
   "outputs": [],
   "source": [
    "schema = DataSet.get_schema(DATASET_NAME)"
   ]
  },
  {
   "cell_type": "code",
   "execution_count": 20,
   "metadata": {},
   "outputs": [],
   "source": [
    "restarts = np.arange(0, 6,dtype='int64')\n",
    "RUNS = len(restarts)"
   ]
  },
  {
   "cell_type": "markdown",
   "metadata": {},
   "source": [
    "Define RL agent"
   ]
  },
  {
   "cell_type": "code",
   "execution_count": 21,
   "metadata": {},
   "outputs": [],
   "source": [
    "agents = []\n",
    "for _ in range (RUNS):\n",
    "    agents.append(PPO.load(AGENT_NAME))"
   ]
  },
  {
   "cell_type": "markdown",
   "metadata": {},
   "source": [
    "Create environments"
   ]
  },
  {
   "cell_type": "code",
   "execution_count": 22,
   "metadata": {},
   "outputs": [],
   "source": [
    "envs = []\n",
    "for _ in range (RUNS):\n",
    "    envs.append(utils.make_discrete_env(schema=schema,  \n",
    "                            action_bins=agents[0].action_space[0].n,\n",
    "                            seed=42))"
   ]
  },
  {
   "cell_type": "code",
   "execution_count": 23,
   "metadata": {},
   "outputs": [],
   "source": [
    "cols = utils.make_discrete_env(schema=schema,  \n",
    "                            action_bins=agents[0].action_space[0].n,\n",
    "                            seed=42).observation_names"
   ]
  },
  {
   "cell_type": "code",
   "execution_count": 24,
   "metadata": {},
   "outputs": [],
   "source": [
    "imitator = torch.load(SURROGATE_PATH)"
   ]
  },
  {
   "cell_type": "code",
   "execution_count": 25,
   "metadata": {},
   "outputs": [
    {
     "name": "stdout",
     "output_type": "stream",
     "text": [
      "masked features:\n"
     ]
    },
    {
     "data": {
      "text/plain": [
       "['month_cos',\n",
       " 'month_sin',\n",
       " 'day_type_cos',\n",
       " 'day_type_sin',\n",
       " 'hour_cos',\n",
       " 'hour_sin']"
      ]
     },
     "execution_count": 25,
     "metadata": {},
     "output_type": "execute_result"
    }
   ],
   "source": [
    "observation_masks = np.ones(agents[0].observation_space.shape)\n",
    "observation_masks[0:6] = 0 #mask time features\n",
    "print('masked features:')\n",
    "cols[0][0:6]"
   ]
  },
  {
   "cell_type": "code",
   "execution_count": 26,
   "metadata": {},
   "outputs": [],
   "source": [
    "kwargs = dict(norm=np.inf,\n",
    "              #minimal=True,\n",
    "              eps=0.2,\n",
    "              #eps_step=0.1,\n",
    "              #num_random_init=2,\n",
    "        )\n",
    "attacks =[]\n",
    "for run in range(RUNS):\n",
    "    attacks.append(FGM(estimator=classifier(\n",
    "                                        model=imitator,\n",
    "                                        loss=CrossEntropyLoss(), \n",
    "                                        nb_classes=agents[run].action_space[0].n, \n",
    "                                        input_shape=agents[run].observation_space.shape,\n",
    "                                        device_type='gpu',\n",
    "                                        clip_values = (agents[run].observation_space.low.min(),\n",
    "                                                       agents[run].observation_space.high.max()),\n",
    "                                        ),\n",
    "                        num_random_init=int(restarts[run]), #np.int64 is not an int....\n",
    "                        **kwargs))"
   ]
  },
  {
   "cell_type": "code",
   "execution_count": 27,
   "metadata": {},
   "outputs": [
    {
     "name": "stdout",
     "output_type": "stream",
     "text": [
      "CPU times: total: 21min 43s\n",
      "Wall time: 12min 45s\n"
     ]
    }
   ],
   "source": [
    "%%time\n",
    "%%capture\n",
    "results = Parallel(n_jobs=RUNS, verbose=10, prefer='threads')(delayed(\n",
    "    utils.eval_untargeted_attack)(agent, env, attack) for agent, env, attack in zip(agents, envs, attacks)) \n"
   ]
  },
  {
   "cell_type": "markdown",
   "metadata": {},
   "source": [
    "Results is a list of tupples for each run, of the format(KPIs, observations, perturbed observations, epsilons)"
   ]
  },
  {
   "cell_type": "code",
   "execution_count": 28,
   "metadata": {},
   "outputs": [],
   "source": [
    "kpis = [results[i][0] for i in range(len(results))]\n",
    "df_kpis = pd.concat(kpis, axis='columns',keys=restarts)"
   ]
  },
  {
   "cell_type": "code",
   "execution_count": 29,
   "metadata": {},
   "outputs": [],
   "source": [
    "#df_kpis[['mean', 'std', 'variance']] = df_kpis.agg(['mean','std', 'var'], axis='columns')"
   ]
  },
  {
   "cell_type": "code",
   "execution_count": 30,
   "metadata": {},
   "outputs": [
    {
     "data": {
      "text/html": [
       "<div>\n",
       "<style scoped>\n",
       "    .dataframe tbody tr th:only-of-type {\n",
       "        vertical-align: middle;\n",
       "    }\n",
       "\n",
       "    .dataframe tbody tr th {\n",
       "        vertical-align: top;\n",
       "    }\n",
       "\n",
       "    .dataframe thead th {\n",
       "        text-align: right;\n",
       "    }\n",
       "</style>\n",
       "<table border=\"1\" class=\"dataframe\">\n",
       "  <thead>\n",
       "    <tr style=\"text-align: right;\">\n",
       "      <th></th>\n",
       "      <th>0</th>\n",
       "      <th>1</th>\n",
       "      <th>2</th>\n",
       "      <th>3</th>\n",
       "      <th>4</th>\n",
       "      <th>5</th>\n",
       "    </tr>\n",
       "    <tr>\n",
       "      <th>cost_function</th>\n",
       "      <th></th>\n",
       "      <th></th>\n",
       "      <th></th>\n",
       "      <th></th>\n",
       "      <th></th>\n",
       "      <th></th>\n",
       "    </tr>\n",
       "  </thead>\n",
       "  <tbody>\n",
       "    <tr>\n",
       "      <th>annual_peak_average</th>\n",
       "      <td>1.214377</td>\n",
       "      <td>1.347728</td>\n",
       "      <td>1.128626</td>\n",
       "      <td>1.120856</td>\n",
       "      <td>1.234943</td>\n",
       "      <td>1.128626</td>\n",
       "    </tr>\n",
       "    <tr>\n",
       "      <th>carbon_emissions_total</th>\n",
       "      <td>0.980023</td>\n",
       "      <td>0.989053</td>\n",
       "      <td>0.994134</td>\n",
       "      <td>1.008053</td>\n",
       "      <td>1.005664</td>\n",
       "      <td>1.001577</td>\n",
       "    </tr>\n",
       "    <tr>\n",
       "      <th>cost_total</th>\n",
       "      <td>0.920987</td>\n",
       "      <td>0.931437</td>\n",
       "      <td>0.939575</td>\n",
       "      <td>0.956499</td>\n",
       "      <td>0.950518</td>\n",
       "      <td>0.945492</td>\n",
       "    </tr>\n",
       "    <tr>\n",
       "      <th>daily_one_minus_load_factor_average</th>\n",
       "      <td>1.024081</td>\n",
       "      <td>0.993278</td>\n",
       "      <td>0.982407</td>\n",
       "      <td>0.992717</td>\n",
       "      <td>1.008913</td>\n",
       "      <td>0.989586</td>\n",
       "    </tr>\n",
       "    <tr>\n",
       "      <th>daily_peak_average</th>\n",
       "      <td>1.187960</td>\n",
       "      <td>1.186423</td>\n",
       "      <td>1.176559</td>\n",
       "      <td>1.247385</td>\n",
       "      <td>1.226911</td>\n",
       "      <td>1.211588</td>\n",
       "    </tr>\n",
       "    <tr>\n",
       "      <th>electricity_consumption_total</th>\n",
       "      <td>0.980652</td>\n",
       "      <td>0.990049</td>\n",
       "      <td>0.995474</td>\n",
       "      <td>1.009732</td>\n",
       "      <td>1.004492</td>\n",
       "      <td>1.000062</td>\n",
       "    </tr>\n",
       "    <tr>\n",
       "      <th>monthly_one_minus_load_factor_average</th>\n",
       "      <td>1.007598</td>\n",
       "      <td>1.002795</td>\n",
       "      <td>0.996126</td>\n",
       "      <td>0.992103</td>\n",
       "      <td>1.010963</td>\n",
       "      <td>1.000502</td>\n",
       "    </tr>\n",
       "    <tr>\n",
       "      <th>ramping_average</th>\n",
       "      <td>1.676788</td>\n",
       "      <td>1.725470</td>\n",
       "      <td>1.742659</td>\n",
       "      <td>1.835353</td>\n",
       "      <td>1.800903</td>\n",
       "      <td>1.765366</td>\n",
       "    </tr>\n",
       "    <tr>\n",
       "      <th>zero_net_energy</th>\n",
       "      <td>1.123619</td>\n",
       "      <td>1.128610</td>\n",
       "      <td>1.129924</td>\n",
       "      <td>1.133969</td>\n",
       "      <td>1.131727</td>\n",
       "      <td>1.131166</td>\n",
       "    </tr>\n",
       "  </tbody>\n",
       "</table>\n",
       "</div>"
      ],
      "text/plain": [
       "                                              0         1         2         3  \\\n",
       "cost_function                                                                   \n",
       "annual_peak_average                    1.214377  1.347728  1.128626  1.120856   \n",
       "carbon_emissions_total                 0.980023  0.989053  0.994134  1.008053   \n",
       "cost_total                             0.920987  0.931437  0.939575  0.956499   \n",
       "daily_one_minus_load_factor_average    1.024081  0.993278  0.982407  0.992717   \n",
       "daily_peak_average                     1.187960  1.186423  1.176559  1.247385   \n",
       "electricity_consumption_total          0.980652  0.990049  0.995474  1.009732   \n",
       "monthly_one_minus_load_factor_average  1.007598  1.002795  0.996126  0.992103   \n",
       "ramping_average                        1.676788  1.725470  1.742659  1.835353   \n",
       "zero_net_energy                        1.123619  1.128610  1.129924  1.133969   \n",
       "\n",
       "                                              4         5  \n",
       "cost_function                                              \n",
       "annual_peak_average                    1.234943  1.128626  \n",
       "carbon_emissions_total                 1.005664  1.001577  \n",
       "cost_total                             0.950518  0.945492  \n",
       "daily_one_minus_load_factor_average    1.008913  0.989586  \n",
       "daily_peak_average                     1.226911  1.211588  \n",
       "electricity_consumption_total          1.004492  1.000062  \n",
       "monthly_one_minus_load_factor_average  1.010963  1.000502  \n",
       "ramping_average                        1.800903  1.765366  \n",
       "zero_net_energy                        1.131727  1.131166  "
      ]
     },
     "execution_count": 30,
     "metadata": {},
     "output_type": "execute_result"
    }
   ],
   "source": [
    "df_kpis"
   ]
  },
  {
   "cell_type": "code",
   "execution_count": 31,
   "metadata": {},
   "outputs": [],
   "source": [
    "df_kpis.to_csv(SAVE_DIR + f'{RUNS} run KPIs {TRIAL}.csv')"
   ]
  },
  {
   "cell_type": "markdown",
   "metadata": {},
   "source": [
    "FGSM using the same parameters in a whitebox attack has an ASR of 0.7.\n",
    "\n",
    "Increasing the number of restarts decreases the ASR, likely because of differences between the surrogate and vicitm models"
   ]
  },
  {
   "cell_type": "code",
   "execution_count": 32,
   "metadata": {},
   "outputs": [],
   "source": [
    "ASRs = [results[i][3] for i in range(len(results))]\n",
    "#print(f'For 5 runs of the random attack \\nthe mean ASR is: {np.mean(ASRs):.3f}\\nthe STD is: {np.std(ASRs):.3f}')"
   ]
  },
  {
   "cell_type": "code",
   "execution_count": 33,
   "metadata": {},
   "outputs": [],
   "source": [
    "pd.DataFrame({'ASRs':ASRs}, index=restarts,).to_csv(SAVE_DIR + 'ASR for varied epsilons.csv')"
   ]
  },
  {
   "cell_type": "code",
   "execution_count": 35,
   "metadata": {},
   "outputs": [
    {
     "data": {
      "text/plain": [
       "[0.8326292955816874,\n",
       " 0.8218974768809225,\n",
       " 0.8255508619705446,\n",
       " 0.8302317616166229,\n",
       " 0.8352551661148533,\n",
       " 0.8343418198424478]"
      ]
     },
     "execution_count": 35,
     "metadata": {},
     "output_type": "execute_result"
    }
   ],
   "source": [
    "ASRs"
   ]
  },
  {
   "cell_type": "code",
   "execution_count": 34,
   "metadata": {},
   "outputs": [],
   "source": [
    "for run in range(RUNS):\n",
    "        pd.DataFrame(results[run][1],columns=cols,).to_csv(SAVE_DIR+f'run {run} obs {TRIAL}.csv',)\n",
    "        pd.DataFrame(results[run][2],columns=cols,).to_csv(SAVE_DIR+f'run {run} adv obs {TRIAL}.csv')"
   ]
  }
 ],
 "metadata": {
  "kernelspec": {
   "display_name": "CityLearnART",
   "language": "python",
   "name": "python3"
  },
  "language_info": {
   "codemirror_mode": {
    "name": "ipython",
    "version": 3
   },
   "file_extension": ".py",
   "mimetype": "text/x-python",
   "name": "python",
   "nbconvert_exporter": "python",
   "pygments_lexer": "ipython3",
   "version": "3.10.12"
  }
 },
 "nbformat": 4,
 "nbformat_minor": 2
}
