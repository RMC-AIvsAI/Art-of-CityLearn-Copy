{
 "cells": [
  {
   "cell_type": "code",
   "execution_count": 2,
   "metadata": {},
   "outputs": [],
   "source": [
    "AGENT_NAME = 'default_PPO_citylearn_challenge_2022_phase_2_Building_6_20_bins_0'\n",
    "DATASET_NAME = 'citylearn_challenge_2022_phase_2' #only action is electrical storage"
   ]
  },
  {
   "cell_type": "code",
   "execution_count": 3,
   "metadata": {},
   "outputs": [],
   "source": [
    "from stable_baselines3 import PPO\n",
    "\n",
    "from citylearn.data import DataSet\n",
    "\n",
    "from art.attacks.evasion import AutoConjugateGradient as ACG\n",
    "\n",
    "\n",
    "import pandas as pd\n",
    "import numpy as np\n",
    "\n",
    "import KBMproject.utilities as utils\n",
    "from tqdm import tqdm\n",
    "from art.estimators.classification import PyTorchClassifier as classifier\n",
    "from torch.nn import CrossEntropyLoss\n",
    "\n",
    "%matplotlib inline"
   ]
  },
  {
   "cell_type": "code",
   "execution_count": 4,
   "metadata": {},
   "outputs": [],
   "source": [
    "schema = DataSet.get_schema(DATASET_NAME)"
   ]
  },
  {
   "cell_type": "markdown",
   "metadata": {},
   "source": [
    "Define RL agent"
   ]
  },
  {
   "cell_type": "code",
   "execution_count": 5,
   "metadata": {},
   "outputs": [
    {
     "name": "stdout",
     "output_type": "stream",
     "text": [
      "Model loaded from storage\n"
     ]
    }
   ],
   "source": [
    "try:\n",
    "    agent = PPO.load(path=f\"Models/Victim/{AGENT_NAME}\")\n",
    "    print('Model loaded from storage')\n",
    "except:\n",
    "    print(f'Model: {AGENT_NAME} not found')"
   ]
  },
  {
   "cell_type": "code",
   "execution_count": 6,
   "metadata": {},
   "outputs": [],
   "source": [
    "bins = agent.action_space[0].n\n",
    "env = utils.make_discrete_env(schema=schema,  \n",
    "                        action_bins=bins,\n",
    "                        seed=42)"
   ]
  },
  {
   "cell_type": "code",
   "execution_count": 7,
   "metadata": {},
   "outputs": [],
   "source": [
    "observation_masks = pd.read_csv('observation_masks.csv')"
   ]
  },
  {
   "cell_type": "code",
   "execution_count": 18,
   "metadata": {},
   "outputs": [
    {
     "name": "stderr",
     "output_type": "stream",
     "text": [
      "100%|█████████▉| 8758/8759 [1:25:59<00:00,  1.70it/s]  \n"
     ]
    },
    {
     "name": "stdout",
     "output_type": "stream",
     "text": [
      "The Adversarial success rate is: 0.9227080716976824\n",
      "The average distance between optinmal and adversarial actions is: [3.21931727]\n"
     ]
    },
    {
     "data": {
      "text/plain": [
       "cost_function\n",
       "annual_peak_average                      1.018688\n",
       "carbon_emissions_total                   0.930952\n",
       "cost_total                               0.867422\n",
       "daily_one_minus_load_factor_average      1.453252\n",
       "daily_peak_average                       1.000841\n",
       "electricity_consumption_total            0.941739\n",
       "monthly_one_minus_load_factor_average    0.993985\n",
       "ramping_average                          1.331808\n",
       "zero_net_energy                          1.095370\n",
       "Name: District, dtype: float64"
      ]
     },
     "metadata": {},
     "output_type": "display_data"
    }
   ],
   "source": [
    "ACG_parameters = dict(\n",
    "    loss_type='difference_logits_ratio', \n",
    "    batch_size=1,\n",
    "    eps=0.05, #default 0.3, this seems to be the smallest effective value\n",
    "    eps_step=0.015, #0.1, default ration: eps:3*eps_step\n",
    "    nb_random_init=5, #5, lower values speed crafting\n",
    "    max_iter=100, #iterations per restart\n",
    "    norm='inf', #->l2 ->l1 most restrictive \n",
    ")\n",
    "attack = utils.define_attack(agent, env, ACG, **ACG_parameters)\n",
    "kpis_5e2, adv_obs_5e2 = utils.eval_untargeted_attack_with_action_distance(agent, env, attack, \n",
    "                                                                                 time_steps=env.time_steps-1, \n",
    "                                                                                 mask=observation_masks['mask_time'].to_numpy())\n",
    "display(kpis_5e2)"
   ]
  },
  {
   "cell_type": "code",
   "execution_count": 19,
   "metadata": {},
   "outputs": [
    {
     "name": "stderr",
     "output_type": "stream",
     "text": [
      "100%|█████████▉| 8758/8759 [1:37:26<00:00,  1.50it/s]  \n"
     ]
    },
    {
     "name": "stdout",
     "output_type": "stream",
     "text": [
      "The Adversarial success rate is: 0.8664231076606919\n",
      "The average distance between optinmal and adversarial actions is: [2.9740838]\n"
     ]
    },
    {
     "data": {
      "text/plain": [
       "cost_function\n",
       "annual_peak_average                      1.018688\n",
       "carbon_emissions_total                   0.921534\n",
       "cost_total                               0.854414\n",
       "daily_one_minus_load_factor_average      1.381039\n",
       "daily_peak_average                       0.975951\n",
       "electricity_consumption_total            0.931798\n",
       "monthly_one_minus_load_factor_average    0.988122\n",
       "ramping_average                          1.321135\n",
       "zero_net_energy                          1.098077\n",
       "Name: District, dtype: float64"
      ]
     },
     "metadata": {},
     "output_type": "display_data"
    }
   ],
   "source": [
    "ACG_parameters = dict(\n",
    "    loss_type='difference_logits_ratio', \n",
    "    batch_size=1,\n",
    "    eps=0.04, #default 0.3, this seems to be the smallest effective value\n",
    "    eps_step=0.012, #0.1, default ration: eps:3*eps_step\n",
    "    nb_random_init=5, #5, lower values speed crafting\n",
    "    max_iter=100, #iterations per restart\n",
    "    norm='inf', #->l2 ->l1 most restrictive \n",
    ")\n",
    "attack = utils.define_attack(agent, env, ACG, **ACG_parameters)\n",
    "kpis_4e2, adv_obs_4e2 = utils.eval_untargeted_attack_with_action_distance(agent, env, attack, \n",
    "                                                                                 time_steps=env.time_steps-1, \n",
    "                                                                                 mask=observation_masks['mask_time'].to_numpy())\n",
    "display(kpis_4e2)"
   ]
  },
  {
   "cell_type": "code",
   "execution_count": null,
   "metadata": {},
   "outputs": [],
   "source": []
  }
 ],
 "metadata": {
  "kernelspec": {
   "display_name": "CityLearnART",
   "language": "python",
   "name": "python3"
  },
  "language_info": {
   "codemirror_mode": {
    "name": "ipython",
    "version": 3
   },
   "file_extension": ".py",
   "mimetype": "text/x-python",
   "name": "python",
   "nbconvert_exporter": "python",
   "pygments_lexer": "ipython3",
   "version": "3.10.12"
  },
  "orig_nbformat": 4
 },
 "nbformat": 4,
 "nbformat_minor": 2
}
