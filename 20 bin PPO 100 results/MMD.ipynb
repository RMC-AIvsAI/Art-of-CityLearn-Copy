{
 "cells": [
  {
   "cell_type": "code",
   "execution_count": 1,
   "metadata": {},
   "outputs": [],
   "source": [
    "import pandas as pd\n",
    "import torch\n",
    "import numpy as np\n",
    "import os\n",
    "import torchdrift.detectors as detectors\n",
    "from joblib import Parallel, delayed"
   ]
  },
  {
   "cell_type": "code",
   "execution_count": 2,
   "metadata": {},
   "outputs": [],
   "source": [
    "BOOTSTRAP = 10_000\n",
    "PVAL = 0.05\n",
    "kernel = detectors.mmd.GaussianKernel()"
   ]
  },
  {
   "cell_type": "code",
   "execution_count": 5,
   "metadata": {},
   "outputs": [],
   "source": [
    "baseline = torch.from_numpy(np.genfromtxt('baseline obs.csv',\n",
    "                     delimiter=',',\n",
    "                     dtype='float32'))\n",
    "opt_adv = torch.from_numpy(np.genfromtxt('Optimal myBB uninit adv obs.csv',\n",
    "                     delimiter=',',\n",
    "                     dtype='float32'))\n",
    "opt_clean = torch.from_numpy(np.genfromtxt('Optimal myBB uninit obs.csv',\n",
    "                     delimiter=',',\n",
    "                     dtype='float32'))\n",
    "help_adv = torch.from_numpy(np.genfromtxt('Helpful myBB uninit adv obs.csv',\n",
    "                     delimiter=',',\n",
    "                     dtype='float32'))\n",
    "help_clean = torch.from_numpy(np.genfromtxt('Helpful myBB uninit obs.csv',\n",
    "                     delimiter=',',\n",
    "                     dtype='float32'))"
   ]
  },
  {
   "cell_type": "markdown",
   "metadata": {},
   "source": [
    "MMD for Optimal attack"
   ]
  },
  {
   "cell_type": "code",
   "execution_count": 6,
   "metadata": {},
   "outputs": [
    {
     "name": "stdout",
     "output_type": "stream",
     "text": [
      "mmd:0.03796577453613281, p-value:0.0\n"
     ]
    }
   ],
   "source": [
    "result = detectors.kernel_mmd(opt_clean.to('cuda'), #clean obs from adv trace\n",
    "                                  opt_adv.to('cuda'), #perturbed obs from adv trace\n",
    "                                  n_perm=BOOTSTRAP,\n",
    "                                  kernel=kernel)\n",
    "print(f'mmd:{result[0]}, p-value:{result[1]}')"
   ]
  },
  {
   "cell_type": "markdown",
   "metadata": {},
   "source": [
    "MMD for helpful attack"
   ]
  },
  {
   "cell_type": "code",
   "execution_count": 7,
   "metadata": {},
   "outputs": [
    {
     "name": "stdout",
     "output_type": "stream",
     "text": [
      "mmd:0.007240653038024902, p-value:0.0\n"
     ]
    }
   ],
   "source": [
    "result = detectors.kernel_mmd(help_clean.to('cuda'), #clean obs from adv trace\n",
    "                                  help_adv.to('cuda'), #perturbed obs from adv trace\n",
    "                                  n_perm=BOOTSTRAP,\n",
    "                                  kernel=kernel)\n",
    "print(f'mmd:{result[0]}, p-value:{result[1]}')"
   ]
  },
  {
   "cell_type": "markdown",
   "metadata": {},
   "source": [
    "Optimal vs baseline"
   ]
  },
  {
   "cell_type": "code",
   "execution_count": 8,
   "metadata": {},
   "outputs": [
    {
     "name": "stdout",
     "output_type": "stream",
     "text": [
      "mmd:0.04525494575500488, p-value:0.0\n"
     ]
    }
   ],
   "source": [
    "result = detectors.kernel_mmd(baseline.to('cuda'), #clean obs from adv trace\n",
    "                                  opt_adv.to('cuda'), #perturbed obs from adv trace\n",
    "                                  n_perm=BOOTSTRAP,\n",
    "                                  kernel=kernel)\n",
    "print(f'mmd:{result[0]}, p-value:{result[1]}')"
   ]
  },
  {
   "cell_type": "markdown",
   "metadata": {},
   "source": [
    "Helpful vs baseline"
   ]
  },
  {
   "cell_type": "code",
   "execution_count": 9,
   "metadata": {},
   "outputs": [
    {
     "name": "stdout",
     "output_type": "stream",
     "text": [
      "mmd:0.00952911376953125, p-value:0.0\n"
     ]
    }
   ],
   "source": [
    "result = detectors.kernel_mmd(baseline.to('cuda'), #clean obs from adv trace\n",
    "                                  help_adv.to('cuda'), #perturbed obs from adv trace\n",
    "                                  n_perm=BOOTSTRAP,\n",
    "                                  kernel=kernel)\n",
    "print(f'mmd:{result[0]}, p-value:{result[1]}')"
   ]
  }
 ],
 "metadata": {
  "kernelspec": {
   "display_name": "CityLearnART",
   "language": "python",
   "name": "python3"
  },
  "language_info": {
   "codemirror_mode": {
    "name": "ipython",
    "version": 3
   },
   "file_extension": ".py",
   "mimetype": "text/x-python",
   "name": "python",
   "nbconvert_exporter": "python",
   "pygments_lexer": "ipython3",
   "version": "3.10.12"
  }
 },
 "nbformat": 4,
 "nbformat_minor": 2
}
