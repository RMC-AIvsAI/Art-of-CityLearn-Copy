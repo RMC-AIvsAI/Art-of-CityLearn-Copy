{
 "cells": [
  {
   "cell_type": "code",
   "execution_count": 1,
   "metadata": {},
   "outputs": [],
   "source": [
    "AGENT_NAME = 'default_PPO_citylearn_challenge_2022_phase_2_Building_6_20_bins_100.zip'\n",
    "ADVERSARY_PATH = '20 bin PPO 500 results\\default_PPO_citylearn_challenge_2022_phase_2_Building_6_20_bins_500.zip'\n",
    "DATASET_NAME = 'citylearn_challenge_2022_phase_2' #only action is electrical storage\n",
    "ATTACK = 'Helpful myBB uninit'\n",
    "INIT_DATA = 'baseline_obs'"
   ]
  },
  {
   "cell_type": "code",
   "execution_count": 2,
   "metadata": {},
   "outputs": [],
   "source": [
    "from stable_baselines3 import PPO\n",
    "\n",
    "from citylearn.data import DataSet\n",
    "\n",
    "from KBMproject.mybb import BrendelBethgeAttack as BBA\n",
    "\n",
    "import pandas as pd\n",
    "import numpy as np\n",
    "import os\n",
    "\n",
    "import KBMproject.utilities as utils\n",
    "\n",
    "%matplotlib inline"
   ]
  },
  {
   "cell_type": "markdown",
   "metadata": {},
   "source": [
    "Define RL agent"
   ]
  },
  {
   "cell_type": "code",
   "execution_count": 3,
   "metadata": {},
   "outputs": [
    {
     "name": "stdout",
     "output_type": "stream",
     "text": [
      "Model loaded from storage\n"
     ]
    }
   ],
   "source": [
    "agent = PPO.load(path=f\"{AGENT_NAME}\")\n",
    "print('Model loaded from storage')"
   ]
  },
  {
   "cell_type": "markdown",
   "metadata": {},
   "source": [
    "Here the adversary is a superior agent, who will improve the victim's policy. The purpose is to show how an abitrary policy can be induced on the victim"
   ]
  },
  {
   "cell_type": "code",
   "execution_count": 4,
   "metadata": {},
   "outputs": [
    {
     "name": "stdout",
     "output_type": "stream",
     "text": [
      "Model loaded from storage\n"
     ]
    }
   ],
   "source": [
    "adv_path = os.path.join(os.getcwd(), '..',ADVERSARY_PATH) #get adversary from parent directory\n",
    "adv_path = os.path.normpath(adv_path) #resolve '..'\n",
    "adversary = PPO.load(path=adv_path)\n",
    "print('Model loaded from storage')"
   ]
  },
  {
   "cell_type": "code",
   "execution_count": 5,
   "metadata": {},
   "outputs": [],
   "source": [
    "env = utils.make_discrete_env(schema=DataSet.get_schema(DATASET_NAME),  \n",
    "                        action_bins=agent.action_space[0].n,\n",
    "                        seed=42)"
   ]
  },
  {
   "cell_type": "code",
   "execution_count": 6,
   "metadata": {},
   "outputs": [],
   "source": [
    "bline_kpi, bline_obs, bline_a = utils.eval_agent(env, agent)"
   ]
  },
  {
   "cell_type": "code",
   "execution_count": 7,
   "metadata": {},
   "outputs": [
    {
     "data": {
      "text/plain": [
       "cost_function\n",
       "annual_peak_average                      1.000000\n",
       "carbon_emissions_total                   0.916063\n",
       "cost_total                               0.857677\n",
       "daily_one_minus_load_factor_average      1.191238\n",
       "daily_peak_average                       0.963433\n",
       "electricity_consumption_total            0.926614\n",
       "monthly_one_minus_load_factor_average    0.984828\n",
       "ramping_average                          1.196081\n",
       "zero_net_energy                          1.081240\n",
       "Name: District, dtype: float64"
      ]
     },
     "metadata": {},
     "output_type": "display_data"
    }
   ],
   "source": [
    "display(bline_kpi)"
   ]
  },
  {
   "cell_type": "code",
   "execution_count": 8,
   "metadata": {},
   "outputs": [],
   "source": [
    "# np.savetxt(f\"baseline obs.csv\", bline_obs, delimiter=\",\")\n",
    "# np.savetxt(f\"baseline actions.csv\", bline_a, delimiter=\",\")"
   ]
  },
  {
   "cell_type": "code",
   "execution_count": 9,
   "metadata": {},
   "outputs": [],
   "source": [
    "observation_masks = pd.Series(1, index=env.observation_names[0]).to_frame(name='all')\n",
    "observation_masks['mask_time'] = observation_masks['all']\n",
    "observation_masks['mask_time'][observation_masks.index.str.contains('month|day|hour')] = 0"
   ]
  },
  {
   "cell_type": "code",
   "execution_count": 10,
   "metadata": {},
   "outputs": [
    {
     "name": "stderr",
     "output_type": "stream",
     "text": [
      "100%|██████████| 8759/8759 [8:31:52<00:00,  3.51s/it, ASR=1]  \n"
     ]
    },
    {
     "name": "stdout",
     "output_type": "stream",
     "text": [
      "CPU times: total: 11h 24min 10s\n",
      "Wall time: 8h 31min 54s\n"
     ]
    }
   ],
   "source": [
    "%%time\n",
    "import logging\n",
    "logging.basicConfig(level=logging.WARN)\n",
    "kwargs = dict(norm=np.inf,\n",
    "        targeted=True, #default false\n",
    "        overshoot= 1.1,\n",
    "        steps=1000,\n",
    "        lr=1e-3,\n",
    "        lr_decay=0.5,\n",
    "        lr_num_decay=20,\n",
    "        momentum=0.8,\n",
    "        binary_search_steps=10,\n",
    "        init_size=1_500_000, #default 100, finds sample matching the target class through iterative random search\n",
    "        batch_size=1000, \n",
    "        )\n",
    "kpi, obs, adv_obs, actions, targets, asr = utils.eval_targeted_attack(agent, adversary, \n",
    "                                                                        env=env, \n",
    "                                                                        ART_atk=utils.define_attack(agent, BBA, **kwargs),\n",
    "                                                                        mask=observation_masks['mask_time'].to_numpy(),\n",
    "                                                                        time_steps=None,\n",
    "                                                                        )"
   ]
  },
  {
   "cell_type": "code",
   "execution_count": 11,
   "metadata": {},
   "outputs": [
    {
     "data": {
      "text/plain": [
       "cost_function\n",
       "annual_peak_average                      1.102271\n",
       "carbon_emissions_total                   0.869186\n",
       "cost_total                               0.787803\n",
       "daily_one_minus_load_factor_average      1.095762\n",
       "daily_peak_average                       0.894595\n",
       "electricity_consumption_total            0.879108\n",
       "monthly_one_minus_load_factor_average    0.988364\n",
       "ramping_average                          1.093749\n",
       "zero_net_energy                          1.107710\n",
       "Name: District, dtype: float64"
      ]
     },
     "metadata": {},
     "output_type": "display_data"
    }
   ],
   "source": [
    "display(kpi)"
   ]
  },
  {
   "cell_type": "code",
   "execution_count": 16,
   "metadata": {},
   "outputs": [
    {
     "data": {
      "text/plain": [
       "cost_function\n",
       "annual_peak_average                     -0.102271\n",
       "carbon_emissions_total                   0.046877\n",
       "cost_total                               0.069874\n",
       "daily_one_minus_load_factor_average      0.095476\n",
       "daily_peak_average                       0.068838\n",
       "electricity_consumption_total            0.047507\n",
       "monthly_one_minus_load_factor_average   -0.003537\n",
       "ramping_average                          0.102332\n",
       "zero_net_energy                         -0.026470\n",
       "Name: District, dtype: float64"
      ]
     },
     "metadata": {},
     "output_type": "display_data"
    }
   ],
   "source": [
    "display(bline_kpi - kpi)"
   ]
  },
  {
   "cell_type": "code",
   "execution_count": 12,
   "metadata": {},
   "outputs": [],
   "source": [
    "np.savetxt(f\"{ATTACK} targets.csv\", targets, delimiter=\",\")\n",
    "np.savetxt(f\"{ATTACK} actions.csv\", actions, delimiter=\",\")\n",
    "np.savetxt(f\"{ATTACK} adv obs.csv\", adv_obs, delimiter=\",\")\n",
    "np.savetxt(f\"{ATTACK} obs.csv\", obs, delimiter=\",\")"
   ]
  },
  {
   "cell_type": "code",
   "execution_count": 13,
   "metadata": {},
   "outputs": [],
   "source": [
    "df_kpis = pd.concat([bline_kpi, kpi], axis='columns')"
   ]
  },
  {
   "cell_type": "code",
   "execution_count": 18,
   "metadata": {},
   "outputs": [],
   "source": [
    "df_kpis.columns = ['trained_policy', 'induced_policy']"
   ]
  },
  {
   "cell_type": "code",
   "execution_count": 19,
   "metadata": {},
   "outputs": [
    {
     "data": {
      "text/plain": [
       "<matplotlib.legend.Legend at 0x2a27efdf880>"
      ]
     },
     "execution_count": 19,
     "metadata": {},
     "output_type": "execute_result"
    },
    {
     "data": {
      "image/png": "[encoded data removed]",
      "text/plain": [
       "<Figure size 640x480 with 1 Axes>"
      ]
     },
     "metadata": {},
     "output_type": "display_data"
    }
   ],
   "source": [
    "df_kpis.plot.barh(xlim=0.7).legend(bbox_to_anchor=(1.0, 1.05))"
   ]
  },
  {
   "cell_type": "code",
   "execution_count": 15,
   "metadata": {},
   "outputs": [],
   "source": [
    "df_kpis.to_csv('KPIs.csv')"
   ]
  },
  {
   "cell_type": "code",
   "execution_count": null,
   "metadata": {},
   "outputs": [],
   "source": []
  }
 ],
 "metadata": {
  "kernelspec": {
   "display_name": "CityLearnART",
   "language": "python",
   "name": "python3"
  },
  "language_info": {
   "codemirror_mode": {
    "name": "ipython",
    "version": 3
   },
   "file_extension": ".py",
   "mimetype": "text/x-python",
   "name": "python",
   "nbconvert_exporter": "python",
   "pygments_lexer": "ipython3",
   "version": "3.10.12"
  },
  "orig_nbformat": 4
 },
 "nbformat": 4,
 "nbformat_minor": 2
}
