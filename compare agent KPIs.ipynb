{
 "cells": [
  {
   "cell_type": "code",
   "execution_count": 1,
   "metadata": {},
   "outputs": [],
   "source": [
    "DATASET_NAME = 'citylearn_challenge_2022_phase_2' #only action is electrical storage"
   ]
  },
  {
   "cell_type": "code",
   "execution_count": 2,
   "metadata": {},
   "outputs": [],
   "source": [
    "from stable_baselines3 import PPO\n",
    "\n",
    "from citylearn.data import DataSet\n",
    "\n",
    "import pandas as pd\n",
    "import numpy as np\n",
    "\n",
    "import KBMproject.utilities as utils\n",
    "\n",
    "from joblib import Parallel, delayed\n",
    "\n",
    "%matplotlib inline"
   ]
  },
  {
   "cell_type": "markdown",
   "metadata": {},
   "source": [
    "select agents for comparison"
   ]
  },
  {
   "cell_type": "code",
   "execution_count": 3,
   "metadata": {},
   "outputs": [],
   "source": [
    "agents = dict(\n",
    "    eight='Models/Victim/default_PPO_citylearn_challenge_2022_phase_2_Building_6_8_bins_130.zip',\n",
    "    ten='Models/Victim/default_PPO_citylearn_challenge_2022_phase_2_Building_6_15_bins_200.zip',\n",
    "    fifteen='Models/Victim/default_PPO_citylearn_challenge_2022_phase_2_Building_6_15_bins_200.zip',\n",
    "    twenty='20 bin PPO 300 results/default_PPO_citylearn_challenge_2022_phase_2_Building_6_20_bins_0.zip',\n",
    "    twenty_four='Models/Victim/default_PPO_citylearn_challenge_2022_phase_2_Building_6_24_bins_300.zip',\n",
    ")\n",
    "for name, path in agents.items():\n",
    "    agents[name] = PPO.load(path=path)"
   ]
  },
  {
   "cell_type": "markdown",
   "metadata": {},
   "source": [
    "Each agent needs a separate env for parallelization, otherwise they all try to use the same one"
   ]
  },
  {
   "cell_type": "code",
   "execution_count": 9,
   "metadata": {},
   "outputs": [],
   "source": [
    "schema = DataSet.get_schema(DATASET_NAME)\n",
    "envs = dict()\n",
    "for name, agent in agents.items():\n",
    "    envs[name] = utils.make_discrete_env(schema=schema,  \n",
    "                            action_bins=agent.action_space[0].n,\n",
    "                            seed=42)"
   ]
  },
  {
   "cell_type": "code",
   "execution_count": 5,
   "metadata": {},
   "outputs": [
    {
     "name": "stdout",
     "output_type": "stream",
     "text": [
      "CPU times: total: 3min 43s\n",
      "Wall time: 2min 58s\n"
     ]
    }
   ],
   "source": [
    "%%time\n",
    "results = Parallel(n_jobs=len(agents), prefer='threads')(delayed(utils.eval_agent)(env,agent) for env, agent in zip(envs.values(), agents.values()))"
   ]
  },
  {
   "cell_type": "code",
   "execution_count": 6,
   "metadata": {},
   "outputs": [],
   "source": [
    "kpis = [results[i][0] for i in range(len(results))]"
   ]
  },
  {
   "cell_type": "code",
   "execution_count": 7,
   "metadata": {},
   "outputs": [],
   "source": [
    "df_kpis = pd.concat(kpis, axis='columns',keys=agents.keys())"
   ]
  },
  {
   "cell_type": "code",
   "execution_count": 8,
   "metadata": {},
   "outputs": [],
   "source": [
    "df_kpis.to_csv('bin_comparison_KPIs.csv')"
   ]
  },
  {
   "cell_type": "code",
   "execution_count": null,
   "metadata": {},
   "outputs": [],
   "source": []
  }
 ],
 "metadata": {
  "kernelspec": {
   "display_name": "CityLearnART",
   "language": "python",
   "name": "python3"
  },
  "language_info": {
   "codemirror_mode": {
    "name": "ipython",
    "version": 3
   },
   "file_extension": ".py",
   "mimetype": "text/x-python",
   "name": "python",
   "nbconvert_exporter": "python",
   "pygments_lexer": "ipython3",
   "version": "3.10.12"
  }
 },
 "nbformat": 4,
 "nbformat_minor": 2
}
